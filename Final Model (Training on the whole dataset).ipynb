{
 "cells": [
  {
   "cell_type": "markdown",
   "metadata": {},
   "source": [
    "### Import the Libraries and Dataset"
   ]
  },
  {
   "cell_type": "code",
   "execution_count": 1,
   "metadata": {
    "scrolled": false
   },
   "outputs": [
    {
     "data": {
      "text/html": [
       "<div>\n",
       "<style scoped>\n",
       "    .dataframe tbody tr th:only-of-type {\n",
       "        vertical-align: middle;\n",
       "    }\n",
       "\n",
       "    .dataframe tbody tr th {\n",
       "        vertical-align: top;\n",
       "    }\n",
       "\n",
       "    .dataframe thead th {\n",
       "        text-align: right;\n",
       "    }\n",
       "</style>\n",
       "<table border=\"1\" class=\"dataframe\">\n",
       "  <thead>\n",
       "    <tr style=\"text-align: right;\">\n",
       "      <th></th>\n",
       "      <th>Length ave. (nm)</th>\n",
       "      <th>Diameter ave. (nm)</th>\n",
       "      <th>BET (m2/g)</th>\n",
       "      <th>Purity (%)</th>\n",
       "      <th>Zave (batch)</th>\n",
       "      <th>PdI (batch)</th>\n",
       "      <th>Zave (12.5 ug/ml)</th>\n",
       "      <th>PdI  (12.5 ug/ml)</th>\n",
       "      <th>Zave  (200 ug/ml)</th>\n",
       "      <th>PdI  (200 ug/ml)</th>\n",
       "      <th>...</th>\n",
       "      <th>COOH mmol/g</th>\n",
       "      <th>Endotoxins (EU/mg)</th>\n",
       "      <th>Diameter min. (nm)</th>\n",
       "      <th>Diameter max. (nm)</th>\n",
       "      <th>Type_COOH</th>\n",
       "      <th>Type_NH2</th>\n",
       "      <th>Type_OH</th>\n",
       "      <th>Type_PRISTINE</th>\n",
       "      <th>% Total Impurities</th>\n",
       "      <th>Genotoxicity</th>\n",
       "    </tr>\n",
       "  </thead>\n",
       "  <tbody>\n",
       "    <tr>\n",
       "      <th>0</th>\n",
       "      <td>0.000000</td>\n",
       "      <td>0.198214</td>\n",
       "      <td>0.559322</td>\n",
       "      <td>0.934783</td>\n",
       "      <td>0.036390</td>\n",
       "      <td>0.349333</td>\n",
       "      <td>0.020378</td>\n",
       "      <td>0.234910</td>\n",
       "      <td>0.067882</td>\n",
       "      <td>0.306306</td>\n",
       "      <td>...</td>\n",
       "      <td>0.079208</td>\n",
       "      <td>0.34</td>\n",
       "      <td>0.332558</td>\n",
       "      <td>0.206494</td>\n",
       "      <td>0.0</td>\n",
       "      <td>0.0</td>\n",
       "      <td>0.0</td>\n",
       "      <td>1.0</td>\n",
       "      <td>0.134906</td>\n",
       "      <td>0</td>\n",
       "    </tr>\n",
       "    <tr>\n",
       "      <th>1</th>\n",
       "      <td>0.093822</td>\n",
       "      <td>0.283929</td>\n",
       "      <td>0.567797</td>\n",
       "      <td>1.000000</td>\n",
       "      <td>0.066958</td>\n",
       "      <td>0.730667</td>\n",
       "      <td>0.132460</td>\n",
       "      <td>0.375204</td>\n",
       "      <td>0.054205</td>\n",
       "      <td>0.570571</td>\n",
       "      <td>...</td>\n",
       "      <td>0.405941</td>\n",
       "      <td>0.42</td>\n",
       "      <td>0.390698</td>\n",
       "      <td>0.298701</td>\n",
       "      <td>0.0</td>\n",
       "      <td>0.0</td>\n",
       "      <td>1.0</td>\n",
       "      <td>0.0</td>\n",
       "      <td>0.075646</td>\n",
       "      <td>0</td>\n",
       "    </tr>\n",
       "    <tr>\n",
       "      <th>2</th>\n",
       "      <td>0.039432</td>\n",
       "      <td>0.342857</td>\n",
       "      <td>0.521186</td>\n",
       "      <td>1.000000</td>\n",
       "      <td>0.035861</td>\n",
       "      <td>0.413333</td>\n",
       "      <td>0.014556</td>\n",
       "      <td>0.097879</td>\n",
       "      <td>0.031408</td>\n",
       "      <td>0.357357</td>\n",
       "      <td>...</td>\n",
       "      <td>1.000000</td>\n",
       "      <td>0.50</td>\n",
       "      <td>0.372093</td>\n",
       "      <td>0.394805</td>\n",
       "      <td>1.0</td>\n",
       "      <td>0.0</td>\n",
       "      <td>0.0</td>\n",
       "      <td>0.0</td>\n",
       "      <td>0.048780</td>\n",
       "      <td>0</td>\n",
       "    </tr>\n",
       "    <tr>\n",
       "      <th>3</th>\n",
       "      <td>0.048716</td>\n",
       "      <td>0.796429</td>\n",
       "      <td>0.271186</td>\n",
       "      <td>0.923913</td>\n",
       "      <td>0.011777</td>\n",
       "      <td>0.026667</td>\n",
       "      <td>0.000000</td>\n",
       "      <td>0.000000</td>\n",
       "      <td>0.013171</td>\n",
       "      <td>0.000000</td>\n",
       "      <td>...</td>\n",
       "      <td>0.034653</td>\n",
       "      <td>0.48</td>\n",
       "      <td>0.872093</td>\n",
       "      <td>0.775325</td>\n",
       "      <td>0.0</td>\n",
       "      <td>0.0</td>\n",
       "      <td>0.0</td>\n",
       "      <td>1.0</td>\n",
       "      <td>0.219889</td>\n",
       "      <td>0</td>\n",
       "    </tr>\n",
       "    <tr>\n",
       "      <th>4</th>\n",
       "      <td>0.156550</td>\n",
       "      <td>0.387500</td>\n",
       "      <td>0.237288</td>\n",
       "      <td>0.934783</td>\n",
       "      <td>0.045124</td>\n",
       "      <td>0.024000</td>\n",
       "      <td>0.425036</td>\n",
       "      <td>0.365416</td>\n",
       "      <td>0.241641</td>\n",
       "      <td>0.822823</td>\n",
       "      <td>...</td>\n",
       "      <td>0.044554</td>\n",
       "      <td>0.52</td>\n",
       "      <td>0.444186</td>\n",
       "      <td>0.419481</td>\n",
       "      <td>0.0</td>\n",
       "      <td>0.0</td>\n",
       "      <td>1.0</td>\n",
       "      <td>0.0</td>\n",
       "      <td>0.190736</td>\n",
       "      <td>1</td>\n",
       "    </tr>\n",
       "  </tbody>\n",
       "</table>\n",
       "<p>5 rows × 35 columns</p>\n",
       "</div>"
      ],
      "text/plain": [
       "   Length ave. (nm)   Diameter ave. (nm)  BET (m2/g)  Purity (%)  \\\n",
       "0           0.000000            0.198214    0.559322    0.934783   \n",
       "1           0.093822            0.283929    0.567797    1.000000   \n",
       "2           0.039432            0.342857    0.521186    1.000000   \n",
       "3           0.048716            0.796429    0.271186    0.923913   \n",
       "4           0.156550            0.387500    0.237288    0.934783   \n",
       "\n",
       "   Zave (batch)  PdI (batch)  Zave (12.5 ug/ml)  PdI  (12.5 ug/ml)  \\\n",
       "0      0.036390     0.349333           0.020378           0.234910   \n",
       "1      0.066958     0.730667           0.132460           0.375204   \n",
       "2      0.035861     0.413333           0.014556           0.097879   \n",
       "3      0.011777     0.026667           0.000000           0.000000   \n",
       "4      0.045124     0.024000           0.425036           0.365416   \n",
       "\n",
       "   Zave  (200 ug/ml)  PdI  (200 ug/ml)  ...  COOH mmol/g  Endotoxins (EU/mg)  \\\n",
       "0           0.067882          0.306306  ...     0.079208                0.34   \n",
       "1           0.054205          0.570571  ...     0.405941                0.42   \n",
       "2           0.031408          0.357357  ...     1.000000                0.50   \n",
       "3           0.013171          0.000000  ...     0.034653                0.48   \n",
       "4           0.241641          0.822823  ...     0.044554                0.52   \n",
       "\n",
       "   Diameter min. (nm)  Diameter max. (nm)  Type_COOH  Type_NH2  Type_OH  \\\n",
       "0            0.332558            0.206494        0.0       0.0      0.0   \n",
       "1            0.390698            0.298701        0.0       0.0      1.0   \n",
       "2            0.372093            0.394805        1.0       0.0      0.0   \n",
       "3            0.872093            0.775325        0.0       0.0      0.0   \n",
       "4            0.444186            0.419481        0.0       0.0      1.0   \n",
       "\n",
       "   Type_PRISTINE  % Total Impurities  Genotoxicity  \n",
       "0            1.0            0.134906             0  \n",
       "1            0.0            0.075646             0  \n",
       "2            0.0            0.048780             0  \n",
       "3            1.0            0.219889             0  \n",
       "4            0.0            0.190736             1  \n",
       "\n",
       "[5 rows x 35 columns]"
      ]
     },
     "execution_count": 1,
     "metadata": {},
     "output_type": "execute_result"
    }
   ],
   "source": [
    "import pandas as pd\n",
    "import numpy as np\n",
    "\n",
    "df = pd.read_csv('pre-precessed_dataset.csv')\n",
    "codes = open('codes.txt','r').readlines()\n",
    "\n",
    "df.head()"
   ]
  },
  {
   "cell_type": "markdown",
   "metadata": {},
   "source": [
    "We will drop the columns that we do not need for our model"
   ]
  },
  {
   "cell_type": "code",
   "execution_count": 2,
   "metadata": {},
   "outputs": [],
   "source": [
    "all_columns = list(df.drop('Genotoxicity',axis=1).columns)\n",
    "keep = ['Purity (%)','Zave (12.5 ug/ml)','PdI (batch)','Type_OH']\n",
    "\n",
    "for i in all_columns:\n",
    "    if i not in keep:\n",
    "        df.drop(i,axis=1,inplace=True)"
   ]
  },
  {
   "cell_type": "code",
   "execution_count": 3,
   "metadata": {},
   "outputs": [
    {
     "data": {
      "text/html": [
       "<div>\n",
       "<style scoped>\n",
       "    .dataframe tbody tr th:only-of-type {\n",
       "        vertical-align: middle;\n",
       "    }\n",
       "\n",
       "    .dataframe tbody tr th {\n",
       "        vertical-align: top;\n",
       "    }\n",
       "\n",
       "    .dataframe thead th {\n",
       "        text-align: right;\n",
       "    }\n",
       "</style>\n",
       "<table border=\"1\" class=\"dataframe\">\n",
       "  <thead>\n",
       "    <tr style=\"text-align: right;\">\n",
       "      <th></th>\n",
       "      <th>Purity (%)</th>\n",
       "      <th>PdI (batch)</th>\n",
       "      <th>Zave (12.5 ug/ml)</th>\n",
       "      <th>Type_OH</th>\n",
       "      <th>Genotoxicity</th>\n",
       "    </tr>\n",
       "  </thead>\n",
       "  <tbody>\n",
       "    <tr>\n",
       "      <th>0</th>\n",
       "      <td>0.934783</td>\n",
       "      <td>0.349333</td>\n",
       "      <td>0.020378</td>\n",
       "      <td>0.0</td>\n",
       "      <td>0</td>\n",
       "    </tr>\n",
       "    <tr>\n",
       "      <th>1</th>\n",
       "      <td>1.000000</td>\n",
       "      <td>0.730667</td>\n",
       "      <td>0.132460</td>\n",
       "      <td>1.0</td>\n",
       "      <td>0</td>\n",
       "    </tr>\n",
       "    <tr>\n",
       "      <th>2</th>\n",
       "      <td>1.000000</td>\n",
       "      <td>0.413333</td>\n",
       "      <td>0.014556</td>\n",
       "      <td>0.0</td>\n",
       "      <td>0</td>\n",
       "    </tr>\n",
       "    <tr>\n",
       "      <th>3</th>\n",
       "      <td>0.923913</td>\n",
       "      <td>0.026667</td>\n",
       "      <td>0.000000</td>\n",
       "      <td>0.0</td>\n",
       "      <td>0</td>\n",
       "    </tr>\n",
       "    <tr>\n",
       "      <th>4</th>\n",
       "      <td>0.934783</td>\n",
       "      <td>0.024000</td>\n",
       "      <td>0.425036</td>\n",
       "      <td>1.0</td>\n",
       "      <td>1</td>\n",
       "    </tr>\n",
       "  </tbody>\n",
       "</table>\n",
       "</div>"
      ],
      "text/plain": [
       "   Purity (%)  PdI (batch)  Zave (12.5 ug/ml)  Type_OH  Genotoxicity\n",
       "0    0.934783     0.349333           0.020378      0.0             0\n",
       "1    1.000000     0.730667           0.132460      1.0             0\n",
       "2    1.000000     0.413333           0.014556      0.0             0\n",
       "3    0.923913     0.026667           0.000000      0.0             0\n",
       "4    0.934783     0.024000           0.425036      1.0             1"
      ]
     },
     "execution_count": 3,
     "metadata": {},
     "output_type": "execute_result"
    }
   ],
   "source": [
    "df.head()"
   ]
  },
  {
   "cell_type": "markdown",
   "metadata": {},
   "source": [
    "### Instantiate and fit a Logistic Regression classifier"
   ]
  },
  {
   "cell_type": "markdown",
   "metadata": {},
   "source": [
    "The hyperparameter values were obtained from the final result of the \"RFE for RF and LR.ipynb\" notebook."
   ]
  },
  {
   "cell_type": "code",
   "execution_count": 4,
   "metadata": {},
   "outputs": [],
   "source": [
    "from sklearn.linear_model import LogisticRegression\n",
    "logmodel = LogisticRegression(C=1374.54, penalty='l1', random_state=42)"
   ]
  },
  {
   "cell_type": "markdown",
   "metadata": {},
   "source": [
    "### Extract the endpoint column"
   ]
  },
  {
   "cell_type": "code",
   "execution_count": 5,
   "metadata": {},
   "outputs": [],
   "source": [
    "labels = df.pop('Genotoxicity')"
   ]
  },
  {
   "cell_type": "code",
   "execution_count": 6,
   "metadata": {},
   "outputs": [
    {
     "data": {
      "text/html": [
       "<div>\n",
       "<style scoped>\n",
       "    .dataframe tbody tr th:only-of-type {\n",
       "        vertical-align: middle;\n",
       "    }\n",
       "\n",
       "    .dataframe tbody tr th {\n",
       "        vertical-align: top;\n",
       "    }\n",
       "\n",
       "    .dataframe thead th {\n",
       "        text-align: right;\n",
       "    }\n",
       "</style>\n",
       "<table border=\"1\" class=\"dataframe\">\n",
       "  <thead>\n",
       "    <tr style=\"text-align: right;\">\n",
       "      <th></th>\n",
       "      <th>Purity (%)</th>\n",
       "      <th>PdI (batch)</th>\n",
       "      <th>Zave (12.5 ug/ml)</th>\n",
       "      <th>Type_OH</th>\n",
       "    </tr>\n",
       "  </thead>\n",
       "  <tbody>\n",
       "    <tr>\n",
       "      <th>0</th>\n",
       "      <td>0.934783</td>\n",
       "      <td>0.349333</td>\n",
       "      <td>0.020378</td>\n",
       "      <td>0.0</td>\n",
       "    </tr>\n",
       "    <tr>\n",
       "      <th>1</th>\n",
       "      <td>1.000000</td>\n",
       "      <td>0.730667</td>\n",
       "      <td>0.132460</td>\n",
       "      <td>1.0</td>\n",
       "    </tr>\n",
       "    <tr>\n",
       "      <th>2</th>\n",
       "      <td>1.000000</td>\n",
       "      <td>0.413333</td>\n",
       "      <td>0.014556</td>\n",
       "      <td>0.0</td>\n",
       "    </tr>\n",
       "    <tr>\n",
       "      <th>3</th>\n",
       "      <td>0.923913</td>\n",
       "      <td>0.026667</td>\n",
       "      <td>0.000000</td>\n",
       "      <td>0.0</td>\n",
       "    </tr>\n",
       "    <tr>\n",
       "      <th>4</th>\n",
       "      <td>0.934783</td>\n",
       "      <td>0.024000</td>\n",
       "      <td>0.425036</td>\n",
       "      <td>1.0</td>\n",
       "    </tr>\n",
       "  </tbody>\n",
       "</table>\n",
       "</div>"
      ],
      "text/plain": [
       "   Purity (%)  PdI (batch)  Zave (12.5 ug/ml)  Type_OH\n",
       "0    0.934783     0.349333           0.020378      0.0\n",
       "1    1.000000     0.730667           0.132460      1.0\n",
       "2    1.000000     0.413333           0.014556      0.0\n",
       "3    0.923913     0.026667           0.000000      0.0\n",
       "4    0.934783     0.024000           0.425036      1.0"
      ]
     },
     "execution_count": 6,
     "metadata": {},
     "output_type": "execute_result"
    }
   ],
   "source": [
    "df.head()\n"
   ]
  },
  {
   "cell_type": "code",
   "execution_count": 7,
   "metadata": {},
   "outputs": [
    {
     "data": {
      "text/plain": [
       "0    0\n",
       "1    0\n",
       "2    0\n",
       "3    0\n",
       "4    1\n",
       "Name: Genotoxicity, dtype: int64"
      ]
     },
     "execution_count": 7,
     "metadata": {},
     "output_type": "execute_result"
    }
   ],
   "source": [
    "labels.head()"
   ]
  },
  {
   "cell_type": "markdown",
   "metadata": {},
   "source": [
    "### Train the model"
   ]
  },
  {
   "cell_type": "code",
   "execution_count": 8,
   "metadata": {},
   "outputs": [
    {
     "name": "stderr",
     "output_type": "stream",
     "text": [
      "c:\\users\\user\\desktop\\test-jupyter\\lib\\site-packages\\sklearn\\linear_model\\logistic.py:433: FutureWarning: Default solver will be changed to 'lbfgs' in 0.22. Specify a solver to silence this warning.\n",
      "  FutureWarning)\n"
     ]
    }
   ],
   "source": [
    "logmodel.fit(df,labels);"
   ]
  },
  {
   "cell_type": "markdown",
   "metadata": {},
   "source": [
    "### Confirmation on the training data"
   ]
  },
  {
   "cell_type": "code",
   "execution_count": 9,
   "metadata": {},
   "outputs": [],
   "source": [
    "predictions = logmodel.predict(df)"
   ]
  },
  {
   "cell_type": "code",
   "execution_count": 10,
   "metadata": {},
   "outputs": [],
   "source": [
    "from sklearn.metrics import (accuracy_score,matthews_corrcoef,\n",
    "                             classification_report, confusion_matrix)"
   ]
  },
  {
   "cell_type": "code",
   "execution_count": 11,
   "metadata": {},
   "outputs": [
    {
     "name": "stdout",
     "output_type": "stream",
     "text": [
      "Accuracy: 1.0\n"
     ]
    }
   ],
   "source": [
    "print('Accuracy:',accuracy_score(labels, predictions))"
   ]
  },
  {
   "cell_type": "code",
   "execution_count": 12,
   "metadata": {},
   "outputs": [
    {
     "name": "stdout",
     "output_type": "stream",
     "text": [
      "              precision    recall  f1-score   support\n",
      "\n",
      "           0       1.00      1.00      1.00         9\n",
      "           1       1.00      1.00      1.00         6\n",
      "\n",
      "   micro avg       1.00      1.00      1.00        15\n",
      "   macro avg       1.00      1.00      1.00        15\n",
      "weighted avg       1.00      1.00      1.00        15\n",
      "\n"
     ]
    }
   ],
   "source": [
    "print(classification_report(labels,predictions))"
   ]
  },
  {
   "cell_type": "code",
   "execution_count": 13,
   "metadata": {},
   "outputs": [
    {
     "name": "stdout",
     "output_type": "stream",
     "text": [
      "Confusion Matrix:\n",
      "9 | 0\n",
      "-----\n",
      "0 | 6\n"
     ]
    }
   ],
   "source": [
    "cm = confusion_matrix(labels,predictions)\n",
    "print('Confusion Matrix:')\n",
    "print(cm[0][0],'|',cm[0][1])\n",
    "print('-----')\n",
    "print(cm[1][0],'|',cm[1][1])"
   ]
  },
  {
   "cell_type": "code",
   "execution_count": 14,
   "metadata": {},
   "outputs": [
    {
     "name": "stdout",
     "output_type": "stream",
     "text": [
      "Specificity: 1.0\n",
      "Sensitivity: 1.0\n"
     ]
    }
   ],
   "source": [
    "tn, fp, fn, tp = cm.ravel()\n",
    "specificity = tn / (tn + fp)\n",
    "sensitivity = tp / (tp + fn)\n",
    "print('Specificity:',specificity)\n",
    "print('Sensitivity:',sensitivity)"
   ]
  },
  {
   "cell_type": "code",
   "execution_count": 15,
   "metadata": {},
   "outputs": [
    {
     "name": "stdout",
     "output_type": "stream",
     "text": [
      "-----------------------------------------------------------------\n",
      "  Sample                                    Prob(0)    Prob(1)\n",
      "-----------------------------------------------------------------\n",
      "NRCWE- 040                               [9.99999762e-01 2.37837760e-07]\n",
      "NRCWE- 041                               [9.99999987e-01 1.26910969e-08]\n",
      "NRCWE- 042                               [9.99999995e-01 5.39847077e-09]\n",
      "NRCWE- 043                               [0.99880152 0.00119848]\n",
      "NRCWE- 044                               [8.19148504e-04 9.99180851e-01]\n",
      "NRCWE- 045                               [0.00322846 0.99677154]\n",
      "NRCWE- 046                               [9.99979781e-01 2.02191966e-05]\n",
      "NRCWE- 047                               [9.99913974e-01 8.60262151e-05]\n",
      "NRCWE- 048                               [9.99999993e-01 6.66941101e-09]\n",
      "NRCWE- 049                               [1.00000000e+00 1.02229882e-14]\n",
      "NM-400                                   [6.61509705e-07 9.99999338e-01]\n",
      "NM-401                                   [0.99493427 0.00506573]\n",
      "NM-402                                   [9.51032728e-04 9.99048967e-01]\n",
      "NM-403                                   [2.27878516e-09 9.99999998e-01]\n",
      "NRCWE-006                                [0.00221067 0.99778933]\n"
     ]
    }
   ],
   "source": [
    "print('-----------------------------------------------------------------')\n",
    "print('  Sample                                    Prob(0)    Prob(1)')\n",
    "print('-----------------------------------------------------------------')\n",
    "for i in df.index:\n",
    "    print('{:40} {}'.format(codes[i][:-1],logmodel.predict_proba(np.array(df.loc[i]).reshape(1, -1))[0]));"
   ]
  },
  {
   "cell_type": "markdown",
   "metadata": {},
   "source": [
    "### Feature's Importance"
   ]
  },
  {
   "cell_type": "code",
   "execution_count": 16,
   "metadata": {},
   "outputs": [
    {
     "name": "stdout",
     "output_type": "stream",
     "text": [
      "Variable: Zave (12.5 ug/ml)    Importance: 15.84505\n",
      "Variable: Type_OH              Importance: 7.36088\n",
      "Variable: PdI (batch)          Importance: -26.38955\n",
      "Variable: Purity (%)           Importance: -30.73238\n"
     ]
    }
   ],
   "source": [
    "# Get numerical feature importances and feature names\n",
    "importances = list(logmodel.coef_.reshape(logmodel.coef_.shape[1]))\n",
    "feature_list = list(df.columns)\n",
    "\n",
    "# List of tuples with variable and importance\n",
    "feature_importances = [(feature, round(importance, 5)) for feature, importance in zip(feature_list, importances)]\n",
    "\n",
    "# Sort the feature importances by most important first\n",
    "feature_importances = sorted(feature_importances, key = lambda x: x[1], reverse = True)\n",
    "\n",
    "# Print out the feature and importances \n",
    "[print('Variable: {:20} Importance: {}'.format(*pair)) for pair in feature_importances];"
   ]
  },
  {
   "cell_type": "code",
   "execution_count": 17,
   "metadata": {},
   "outputs": [
    {
     "name": "stdout",
     "output_type": "stream",
     "text": [
      "Intercept: 22.37227\n"
     ]
    }
   ],
   "source": [
    "print('Intercept:',round(logmodel.intercept_[0],5))"
   ]
  },
  {
   "cell_type": "markdown",
   "metadata": {},
   "source": [
    "### Domain of Applicability"
   ]
  },
  {
   "cell_type": "code",
   "execution_count": 18,
   "metadata": {},
   "outputs": [
    {
     "name": "stdout",
     "output_type": "stream",
     "text": [
      "The Leverage threshold is: 0.8\n"
     ]
    }
   ],
   "source": [
    "test_names = [codes[i] for i in df.index]\n",
    "\n",
    "leverage_threshold = 3*df.shape[1]/df.shape[0]\n",
    "print('The Leverage threshold is:', round(leverage_threshold, 2))"
   ]
  },
  {
   "cell_type": "code",
   "execution_count": 19,
   "metadata": {},
   "outputs": [
    {
     "name": "stdout",
     "output_type": "stream",
     "text": [
      "Sample: NRCWE- 040                               Leverage Value:  0.16    Reliability: reliable            \n",
      "Sample: NRCWE- 041                               Leverage Value:  0.41    Reliability: reliable            \n",
      "Sample: NRCWE- 042                               Leverage Value:  0.19    Reliability: reliable            \n",
      "Sample: NRCWE- 043                               Leverage Value:  0.23    Reliability: reliable            \n",
      "Sample: NRCWE- 044                               Leverage Value:  0.46    Reliability: reliable            \n",
      "Sample: NRCWE- 045                               Leverage Value:  0.11    Reliability: reliable            \n",
      "Sample: NRCWE- 046                               Leverage Value:   0.2    Reliability: reliable            \n",
      "Sample: NRCWE- 047                               Leverage Value:  0.34    Reliability: reliable            \n",
      "Sample: NRCWE- 048                               Leverage Value:  0.18    Reliability: reliable            \n",
      "Sample: NRCWE- 049                               Leverage Value:  0.42    Reliability: reliable            \n",
      "Sample: NM-400                                   Leverage Value:  0.13    Reliability: reliable            \n",
      "Sample: NM-401                                   Leverage Value:  0.19    Reliability: reliable            \n",
      "Sample: NM-402                                   Leverage Value:  0.15    Reliability: reliable            \n",
      "Sample: NM-403                                   Leverage Value:  0.37    Reliability: reliable            \n",
      "Sample: NRCWE-006                                Leverage Value:  0.47    Reliability: reliable            \n"
     ]
    }
   ],
   "source": [
    "# Convert to numpy array\n",
    "np_labels = np.array(labels)\n",
    "np_df = np.array(df)\n",
    "\n",
    "from numpy.linalg import matrix_power\n",
    "H=list()\n",
    "reliability=list()\n",
    "for i in range(len(np_df)):\n",
    "    H.append(np_df[i].T@(matrix_power(np_df.T@np_df, -1))@np_df[i])\n",
    "    if H[i]<=leverage_threshold:\n",
    "        reliability.append('reliable')\n",
    "    else:\n",
    "        reliability.append('unreliable')\n",
    "\n",
    "LV = [(sample[:-1], round(l_val, 2),rely) for sample, l_val, rely in zip(test_names, H, reliability)]\n",
    "for i in range(len(np_df)):\n",
    "    [print('Sample: {:40} Leverage Value: {:5}    Reliability: {:20}'.format(LV[i][0],LV[i][1],LV[i][2]))];"
   ]
  },
  {
   "cell_type": "markdown",
   "metadata": {},
   "source": [
    "### Save the final model"
   ]
  },
  {
   "cell_type": "code",
   "execution_count": 20,
   "metadata": {},
   "outputs": [],
   "source": [
    "import joblib\n",
    "joblib.dump(logmodel, 'Final_model.sav');"
   ]
  }
 ],
 "metadata": {
  "kernelspec": {
   "display_name": "Python 3",
   "language": "python",
   "name": "python3"
  },
  "language_info": {
   "codemirror_mode": {
    "name": "ipython",
    "version": 3
   },
   "file_extension": ".py",
   "mimetype": "text/x-python",
   "name": "python",
   "nbconvert_exporter": "python",
   "pygments_lexer": "ipython3",
   "version": "3.6.7"
  }
 },
 "nbformat": 4,
 "nbformat_minor": 2
}
