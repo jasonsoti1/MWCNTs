{
 "cells": [
  {
   "cell_type": "markdown",
   "metadata": {},
   "source": [
    "### Import the Lirbraries and load the Dataset, Code names and models"
   ]
  },
  {
   "cell_type": "code",
   "execution_count": 1,
   "metadata": {},
   "outputs": [
    {
     "data": {
      "text/html": [
       "<div>\n",
       "<style scoped>\n",
       "    .dataframe tbody tr th:only-of-type {\n",
       "        vertical-align: middle;\n",
       "    }\n",
       "\n",
       "    .dataframe tbody tr th {\n",
       "        vertical-align: top;\n",
       "    }\n",
       "\n",
       "    .dataframe thead th {\n",
       "        text-align: right;\n",
       "    }\n",
       "</style>\n",
       "<table border=\"1\" class=\"dataframe\">\n",
       "  <thead>\n",
       "    <tr style=\"text-align: right;\">\n",
       "      <th></th>\n",
       "      <th>Length ave. (nm)</th>\n",
       "      <th>Diameter ave. (nm)</th>\n",
       "      <th>BET (m2/g)</th>\n",
       "      <th>Purity (%)</th>\n",
       "      <th>Zave (batch)</th>\n",
       "      <th>PdI (batch)</th>\n",
       "      <th>Zave (12.5 ug/ml)</th>\n",
       "      <th>PdI  (12.5 ug/ml)</th>\n",
       "      <th>Zave  (200 ug/ml)</th>\n",
       "      <th>PdI  (200 ug/ml)</th>\n",
       "      <th>...</th>\n",
       "      <th>COOH mmol/g</th>\n",
       "      <th>Endotoxins (EU/mg)</th>\n",
       "      <th>Diameter min. (nm)</th>\n",
       "      <th>Diameter max. (nm)</th>\n",
       "      <th>Type_COOH</th>\n",
       "      <th>Type_NH2</th>\n",
       "      <th>Type_OH</th>\n",
       "      <th>Type_PRISTINE</th>\n",
       "      <th>% Total Impurities</th>\n",
       "      <th>Genotoxicity</th>\n",
       "    </tr>\n",
       "  </thead>\n",
       "  <tbody>\n",
       "    <tr>\n",
       "      <th>0</th>\n",
       "      <td>0.000000</td>\n",
       "      <td>0.198214</td>\n",
       "      <td>0.559322</td>\n",
       "      <td>0.934783</td>\n",
       "      <td>0.036390</td>\n",
       "      <td>0.349333</td>\n",
       "      <td>0.020378</td>\n",
       "      <td>0.234910</td>\n",
       "      <td>0.067882</td>\n",
       "      <td>0.306306</td>\n",
       "      <td>...</td>\n",
       "      <td>0.079208</td>\n",
       "      <td>0.34</td>\n",
       "      <td>0.332558</td>\n",
       "      <td>0.206494</td>\n",
       "      <td>0</td>\n",
       "      <td>0</td>\n",
       "      <td>0</td>\n",
       "      <td>1</td>\n",
       "      <td>0.134906</td>\n",
       "      <td>0</td>\n",
       "    </tr>\n",
       "    <tr>\n",
       "      <th>1</th>\n",
       "      <td>0.093822</td>\n",
       "      <td>0.283929</td>\n",
       "      <td>0.567797</td>\n",
       "      <td>1.000000</td>\n",
       "      <td>0.066958</td>\n",
       "      <td>0.730667</td>\n",
       "      <td>0.132460</td>\n",
       "      <td>0.375204</td>\n",
       "      <td>0.054205</td>\n",
       "      <td>0.570571</td>\n",
       "      <td>...</td>\n",
       "      <td>0.405941</td>\n",
       "      <td>0.42</td>\n",
       "      <td>0.390698</td>\n",
       "      <td>0.298701</td>\n",
       "      <td>0</td>\n",
       "      <td>0</td>\n",
       "      <td>1</td>\n",
       "      <td>0</td>\n",
       "      <td>0.075646</td>\n",
       "      <td>0</td>\n",
       "    </tr>\n",
       "    <tr>\n",
       "      <th>2</th>\n",
       "      <td>0.039432</td>\n",
       "      <td>0.342857</td>\n",
       "      <td>0.521186</td>\n",
       "      <td>1.000000</td>\n",
       "      <td>0.035861</td>\n",
       "      <td>0.413333</td>\n",
       "      <td>0.014556</td>\n",
       "      <td>0.097879</td>\n",
       "      <td>0.031408</td>\n",
       "      <td>0.357357</td>\n",
       "      <td>...</td>\n",
       "      <td>1.000000</td>\n",
       "      <td>0.50</td>\n",
       "      <td>0.372093</td>\n",
       "      <td>0.394805</td>\n",
       "      <td>1</td>\n",
       "      <td>0</td>\n",
       "      <td>0</td>\n",
       "      <td>0</td>\n",
       "      <td>0.048780</td>\n",
       "      <td>0</td>\n",
       "    </tr>\n",
       "    <tr>\n",
       "      <th>3</th>\n",
       "      <td>0.048716</td>\n",
       "      <td>0.796429</td>\n",
       "      <td>0.271186</td>\n",
       "      <td>0.923913</td>\n",
       "      <td>0.011777</td>\n",
       "      <td>0.026667</td>\n",
       "      <td>0.000000</td>\n",
       "      <td>0.000000</td>\n",
       "      <td>0.013171</td>\n",
       "      <td>0.000000</td>\n",
       "      <td>...</td>\n",
       "      <td>0.034653</td>\n",
       "      <td>0.48</td>\n",
       "      <td>0.872093</td>\n",
       "      <td>0.775325</td>\n",
       "      <td>0</td>\n",
       "      <td>0</td>\n",
       "      <td>0</td>\n",
       "      <td>1</td>\n",
       "      <td>0.219889</td>\n",
       "      <td>0</td>\n",
       "    </tr>\n",
       "    <tr>\n",
       "      <th>4</th>\n",
       "      <td>0.156550</td>\n",
       "      <td>0.387500</td>\n",
       "      <td>0.237288</td>\n",
       "      <td>0.934783</td>\n",
       "      <td>0.045124</td>\n",
       "      <td>0.024000</td>\n",
       "      <td>0.425036</td>\n",
       "      <td>0.365416</td>\n",
       "      <td>0.241641</td>\n",
       "      <td>0.822823</td>\n",
       "      <td>...</td>\n",
       "      <td>0.044554</td>\n",
       "      <td>0.52</td>\n",
       "      <td>0.444186</td>\n",
       "      <td>0.419481</td>\n",
       "      <td>0</td>\n",
       "      <td>0</td>\n",
       "      <td>1</td>\n",
       "      <td>0</td>\n",
       "      <td>0.190736</td>\n",
       "      <td>1</td>\n",
       "    </tr>\n",
       "  </tbody>\n",
       "</table>\n",
       "<p>5 rows × 24 columns</p>\n",
       "</div>"
      ],
      "text/plain": [
       "   Length ave. (nm)   Diameter ave. (nm)  BET (m2/g)  Purity (%)  \\\n",
       "0           0.000000            0.198214    0.559322    0.934783   \n",
       "1           0.093822            0.283929    0.567797    1.000000   \n",
       "2           0.039432            0.342857    0.521186    1.000000   \n",
       "3           0.048716            0.796429    0.271186    0.923913   \n",
       "4           0.156550            0.387500    0.237288    0.934783   \n",
       "\n",
       "   Zave (batch)  PdI (batch)  Zave (12.5 ug/ml)  PdI  (12.5 ug/ml)  \\\n",
       "0      0.036390     0.349333           0.020378           0.234910   \n",
       "1      0.066958     0.730667           0.132460           0.375204   \n",
       "2      0.035861     0.413333           0.014556           0.097879   \n",
       "3      0.011777     0.026667           0.000000           0.000000   \n",
       "4      0.045124     0.024000           0.425036           0.365416   \n",
       "\n",
       "   Zave  (200 ug/ml)  PdI  (200 ug/ml)  ...  COOH mmol/g  Endotoxins (EU/mg)  \\\n",
       "0           0.067882          0.306306  ...     0.079208                0.34   \n",
       "1           0.054205          0.570571  ...     0.405941                0.42   \n",
       "2           0.031408          0.357357  ...     1.000000                0.50   \n",
       "3           0.013171          0.000000  ...     0.034653                0.48   \n",
       "4           0.241641          0.822823  ...     0.044554                0.52   \n",
       "\n",
       "   Diameter min. (nm)  Diameter max. (nm)  Type_COOH  Type_NH2  Type_OH  \\\n",
       "0            0.332558            0.206494          0         0        0   \n",
       "1            0.390698            0.298701          0         0        1   \n",
       "2            0.372093            0.394805          1         0        0   \n",
       "3            0.872093            0.775325          0         0        0   \n",
       "4            0.444186            0.419481          0         0        1   \n",
       "\n",
       "   Type_PRISTINE  % Total Impurities  Genotoxicity  \n",
       "0              1            0.134906             0  \n",
       "1              0            0.075646             0  \n",
       "2              0            0.048780             0  \n",
       "3              1            0.219889             0  \n",
       "4              0            0.190736             1  \n",
       "\n",
       "[5 rows x 24 columns]"
      ]
     },
     "execution_count": 1,
     "metadata": {},
     "output_type": "execute_result"
    }
   ],
   "source": [
    "from Kennard_Stone import kennardstonealgorithm\n",
    "import matplotlib.pyplot as plt\n",
    "import pandas as pd\n",
    "import numpy as np\n",
    "import seaborn as sns\n",
    "import joblib\n",
    "from datetime import datetime\n",
    "from Bayesian_Optimization import BayesOpt\n",
    "from sklearn.ensemble import RandomForestClassifier\n",
    "from sklearn.linear_model import LogisticRegression\n",
    "from sklearn.model_selection import cross_val_score\n",
    "from sklearn.metrics import (accuracy_score,matthews_corrcoef,\n",
    "                             classification_report, confusion_matrix)\n",
    "%matplotlib inline\n",
    "\n",
    "df = pd.read_csv('pre-precessed_dataset.csv')\n",
    "codes = open('codes.txt','r').readlines()\n",
    "\n",
    "clf = joblib.load('LR_model.sav')\n",
    "\n",
    "df.head()"
   ]
  },
  {
   "cell_type": "markdown",
   "metadata": {},
   "source": [
    "Keep the same train test split"
   ]
  },
  {
   "cell_type": "code",
   "execution_count": 2,
   "metadata": {},
   "outputs": [],
   "source": [
    "test = df.loc[[0,1,8,11,12]]\n",
    "train = df.drop(index=[0,1,8,11,12],axis=0)\n",
    "\n",
    "train_labels = train.pop('Genotoxicity')\n",
    "test_labels = test.pop('Genotoxicity')"
   ]
  },
  {
   "cell_type": "code",
   "execution_count": 3,
   "metadata": {},
   "outputs": [],
   "source": [
    "# Keep the test codes\n",
    "test_codes = [codes[i][:-1] for i in test.index]"
   ]
  },
  {
   "cell_type": "markdown",
   "metadata": {},
   "source": [
    "### RFE for LR"
   ]
  },
  {
   "cell_type": "markdown",
   "metadata": {},
   "source": [
    "#### 1st iteration"
   ]
  },
  {
   "cell_type": "markdown",
   "metadata": {},
   "source": [
    "Get features' importance"
   ]
  },
  {
   "cell_type": "code",
   "execution_count": 4,
   "metadata": {
    "scrolled": false
   },
   "outputs": [
    {
     "name": "stdout",
     "output_type": "stream",
     "text": [
      "Variable: Endotoxins (EU/mg)   Importance: 2.238\n",
      "Variable: Zave (12.5 ug/ml)    Importance: 2.104\n",
      "Variable: PdI  (200 ug/ml)     Importance: 2.021\n",
      "Variable: Length ave. (nm)     Importance: 1.939\n",
      "Variable: % Total Impurities   Importance: 1.467\n",
      "Variable: Peak (ug/ml)         Importance: 1.336\n",
      "Variable: Type_OH              Importance: 0.974\n",
      "Variable: PdI  (12.5 ug/ml)    Importance: 0.931\n",
      "Variable: Zave  (200 ug/ml)    Importance: 0.728\n",
      "Variable: Zave (batch)         Importance: 0.624\n",
      "Variable: Type_COOH            Importance: 0.587\n",
      "Variable: Type_PRISTINE        Importance: -0.304\n",
      "Variable: Diameter min. (nm)   Importance: -0.587\n",
      "Variable: Diameter ave. (nm)   Importance: -0.829\n",
      "Variable: Diameter max. (nm)   Importance: -0.878\n",
      "Variable: OH mmol/g            Importance: -0.999\n",
      "Variable: COOH mmol/g          Importance: -1.012\n",
      "Variable: ROS                  Importance: -1.032\n",
      "Variable: BET (m2/g)           Importance: -1.164\n",
      "Variable: Type_NH2             Importance: -1.258\n",
      "Variable: CEA: C.H.N.O (wt%)   Importance: -2.22\n",
      "Variable: PdI (batch)          Importance: -2.424\n",
      "Variable: Purity (%)           Importance: -3.788\n"
     ]
    }
   ],
   "source": [
    "# Get numerical feature importances and feature names\n",
    "importances = list(clf.coef_.reshape(clf.coef_.shape[1]))\n",
    "feature_list = list(df.drop('Genotoxicity', axis=1).columns)\n",
    "\n",
    "# List of tuples with variable and importance\n",
    "feature_importances = [(feature, round(importance, 3)) for feature, importance in zip(feature_list, importances)]\n",
    "\n",
    "# Sort the feature importances by most important first\n",
    "feature_importances = sorted(feature_importances, key = lambda x: x[1], reverse = True)\n",
    "\n",
    "# Print out the feature and importances \n",
    "[print('Variable: {:20} Importance: {}'.format(*pair)) for pair in feature_importances];"
   ]
  },
  {
   "cell_type": "markdown",
   "metadata": {},
   "source": [
    "Exclude features with minimum importance"
   ]
  },
  {
   "cell_type": "code",
   "execution_count": 5,
   "metadata": {
    "scrolled": true
   },
   "outputs": [
    {
     "data": {
      "text/html": [
       "<div>\n",
       "<style scoped>\n",
       "    .dataframe tbody tr th:only-of-type {\n",
       "        vertical-align: middle;\n",
       "    }\n",
       "\n",
       "    .dataframe tbody tr th {\n",
       "        vertical-align: top;\n",
       "    }\n",
       "\n",
       "    .dataframe thead th {\n",
       "        text-align: right;\n",
       "    }\n",
       "</style>\n",
       "<table border=\"1\" class=\"dataframe\">\n",
       "  <thead>\n",
       "    <tr style=\"text-align: right;\">\n",
       "      <th></th>\n",
       "      <th>Length ave. (nm)</th>\n",
       "      <th>Diameter ave. (nm)</th>\n",
       "      <th>BET (m2/g)</th>\n",
       "      <th>Purity (%)</th>\n",
       "      <th>Zave (batch)</th>\n",
       "      <th>PdI (batch)</th>\n",
       "      <th>Zave (12.5 ug/ml)</th>\n",
       "      <th>PdI  (12.5 ug/ml)</th>\n",
       "      <th>Zave  (200 ug/ml)</th>\n",
       "      <th>PdI  (200 ug/ml)</th>\n",
       "      <th>...</th>\n",
       "      <th>CEA: C.H.N.O (wt%)</th>\n",
       "      <th>OH mmol/g</th>\n",
       "      <th>COOH mmol/g</th>\n",
       "      <th>Endotoxins (EU/mg)</th>\n",
       "      <th>Diameter min. (nm)</th>\n",
       "      <th>Diameter max. (nm)</th>\n",
       "      <th>Type_COOH</th>\n",
       "      <th>Type_NH2</th>\n",
       "      <th>Type_OH</th>\n",
       "      <th>% Total Impurities</th>\n",
       "    </tr>\n",
       "  </thead>\n",
       "  <tbody>\n",
       "    <tr>\n",
       "      <th>2</th>\n",
       "      <td>0.039432</td>\n",
       "      <td>0.342857</td>\n",
       "      <td>0.521186</td>\n",
       "      <td>1.000000</td>\n",
       "      <td>0.035861</td>\n",
       "      <td>0.413333</td>\n",
       "      <td>0.014556</td>\n",
       "      <td>0.097879</td>\n",
       "      <td>0.031408</td>\n",
       "      <td>0.357357</td>\n",
       "      <td>...</td>\n",
       "      <td>0.8</td>\n",
       "      <td>1.000000</td>\n",
       "      <td>1.000000</td>\n",
       "      <td>0.50</td>\n",
       "      <td>0.372093</td>\n",
       "      <td>0.394805</td>\n",
       "      <td>1</td>\n",
       "      <td>0</td>\n",
       "      <td>0</td>\n",
       "      <td>0.048780</td>\n",
       "    </tr>\n",
       "    <tr>\n",
       "      <th>3</th>\n",
       "      <td>0.048716</td>\n",
       "      <td>0.796429</td>\n",
       "      <td>0.271186</td>\n",
       "      <td>0.923913</td>\n",
       "      <td>0.011777</td>\n",
       "      <td>0.026667</td>\n",
       "      <td>0.000000</td>\n",
       "      <td>0.000000</td>\n",
       "      <td>0.013171</td>\n",
       "      <td>0.000000</td>\n",
       "      <td>...</td>\n",
       "      <td>0.8</td>\n",
       "      <td>0.036946</td>\n",
       "      <td>0.034653</td>\n",
       "      <td>0.48</td>\n",
       "      <td>0.872093</td>\n",
       "      <td>0.775325</td>\n",
       "      <td>0</td>\n",
       "      <td>0</td>\n",
       "      <td>0</td>\n",
       "      <td>0.219889</td>\n",
       "    </tr>\n",
       "    <tr>\n",
       "      <th>4</th>\n",
       "      <td>0.156550</td>\n",
       "      <td>0.387500</td>\n",
       "      <td>0.237288</td>\n",
       "      <td>0.934783</td>\n",
       "      <td>0.045124</td>\n",
       "      <td>0.024000</td>\n",
       "      <td>0.425036</td>\n",
       "      <td>0.365416</td>\n",
       "      <td>0.241641</td>\n",
       "      <td>0.822823</td>\n",
       "      <td>...</td>\n",
       "      <td>0.9</td>\n",
       "      <td>0.049261</td>\n",
       "      <td>0.044554</td>\n",
       "      <td>0.52</td>\n",
       "      <td>0.444186</td>\n",
       "      <td>0.419481</td>\n",
       "      <td>0</td>\n",
       "      <td>0</td>\n",
       "      <td>1</td>\n",
       "      <td>0.190736</td>\n",
       "    </tr>\n",
       "    <tr>\n",
       "      <th>5</th>\n",
       "      <td>0.199591</td>\n",
       "      <td>0.342857</td>\n",
       "      <td>0.427966</td>\n",
       "      <td>0.684783</td>\n",
       "      <td>0.032156</td>\n",
       "      <td>0.000000</td>\n",
       "      <td>0.278020</td>\n",
       "      <td>0.363785</td>\n",
       "      <td>0.084600</td>\n",
       "      <td>0.255255</td>\n",
       "      <td>...</td>\n",
       "      <td>0.5</td>\n",
       "      <td>0.147783</td>\n",
       "      <td>0.143564</td>\n",
       "      <td>0.66</td>\n",
       "      <td>0.339535</td>\n",
       "      <td>0.412987</td>\n",
       "      <td>1</td>\n",
       "      <td>0</td>\n",
       "      <td>0</td>\n",
       "      <td>0.517711</td>\n",
       "    </tr>\n",
       "    <tr>\n",
       "      <th>6</th>\n",
       "      <td>0.038274</td>\n",
       "      <td>0.323214</td>\n",
       "      <td>0.868644</td>\n",
       "      <td>0.945652</td>\n",
       "      <td>0.019584</td>\n",
       "      <td>0.552000</td>\n",
       "      <td>0.659389</td>\n",
       "      <td>0.407830</td>\n",
       "      <td>0.522290</td>\n",
       "      <td>0.573574</td>\n",
       "      <td>...</td>\n",
       "      <td>0.8</td>\n",
       "      <td>0.147783</td>\n",
       "      <td>0.148515</td>\n",
       "      <td>0.36</td>\n",
       "      <td>0.302326</td>\n",
       "      <td>0.405195</td>\n",
       "      <td>0</td>\n",
       "      <td>0</td>\n",
       "      <td>0</td>\n",
       "      <td>0.136716</td>\n",
       "    </tr>\n",
       "  </tbody>\n",
       "</table>\n",
       "<p>5 rows × 22 columns</p>\n",
       "</div>"
      ],
      "text/plain": [
       "   Length ave. (nm)   Diameter ave. (nm)  BET (m2/g)  Purity (%)  \\\n",
       "2           0.039432            0.342857    0.521186    1.000000   \n",
       "3           0.048716            0.796429    0.271186    0.923913   \n",
       "4           0.156550            0.387500    0.237288    0.934783   \n",
       "5           0.199591            0.342857    0.427966    0.684783   \n",
       "6           0.038274            0.323214    0.868644    0.945652   \n",
       "\n",
       "   Zave (batch)  PdI (batch)  Zave (12.5 ug/ml)  PdI  (12.5 ug/ml)  \\\n",
       "2      0.035861     0.413333           0.014556           0.097879   \n",
       "3      0.011777     0.026667           0.000000           0.000000   \n",
       "4      0.045124     0.024000           0.425036           0.365416   \n",
       "5      0.032156     0.000000           0.278020           0.363785   \n",
       "6      0.019584     0.552000           0.659389           0.407830   \n",
       "\n",
       "   Zave  (200 ug/ml)  PdI  (200 ug/ml)  ...  CEA: C.H.N.O (wt%)  OH mmol/g  \\\n",
       "2           0.031408          0.357357  ...                 0.8   1.000000   \n",
       "3           0.013171          0.000000  ...                 0.8   0.036946   \n",
       "4           0.241641          0.822823  ...                 0.9   0.049261   \n",
       "5           0.084600          0.255255  ...                 0.5   0.147783   \n",
       "6           0.522290          0.573574  ...                 0.8   0.147783   \n",
       "\n",
       "   COOH mmol/g  Endotoxins (EU/mg)  Diameter min. (nm)  Diameter max. (nm)  \\\n",
       "2     1.000000                0.50            0.372093            0.394805   \n",
       "3     0.034653                0.48            0.872093            0.775325   \n",
       "4     0.044554                0.52            0.444186            0.419481   \n",
       "5     0.143564                0.66            0.339535            0.412987   \n",
       "6     0.148515                0.36            0.302326            0.405195   \n",
       "\n",
       "   Type_COOH  Type_NH2  Type_OH  % Total Impurities  \n",
       "2          1         0        0            0.048780  \n",
       "3          0         0        0            0.219889  \n",
       "4          0         0        1            0.190736  \n",
       "5          1         0        0            0.517711  \n",
       "6          0         0        0            0.136716  \n",
       "\n",
       "[5 rows x 22 columns]"
      ]
     },
     "execution_count": 5,
     "metadata": {},
     "output_type": "execute_result"
    }
   ],
   "source": [
    "for i in range(len(feature_importances)):\n",
    "    if round(abs(feature_importances[i][1]),3)==min([round(abs(i),3) for i in importances]):\n",
    "        train.drop(feature_importances[i][0], axis=1, inplace=True)\n",
    "        test.drop(feature_importances[i][0], axis=1, inplace=True)\n",
    "        \n",
    "train.head()"
   ]
  },
  {
   "cell_type": "markdown",
   "metadata": {},
   "source": [
    "Optimize Logistc Regression"
   ]
  },
  {
   "cell_type": "code",
   "execution_count": 6,
   "metadata": {},
   "outputs": [],
   "source": [
    "bo = BayesOpt(train, train_labels, folds = 4, n_iter=30,log_scaling=False)"
   ]
  },
  {
   "cell_type": "code",
   "execution_count": 7,
   "metadata": {
    "scrolled": false
   },
   "outputs": [
    {
     "name": "stdout",
     "output_type": "stream",
     "text": [
      "Optimizing for l1 penalty\n",
      "|   iter    |  target   |     C     |\n",
      "-------------------------------------\n",
      "| \u001b[0m 1       \u001b[0m | \u001b[0m nan     \u001b[0m | \u001b[0m 4.371   \u001b[0m |\n",
      "| \u001b[0m 2       \u001b[0m | \u001b[0m nan     \u001b[0m | \u001b[0m 9.556   \u001b[0m |\n",
      "| \u001b[0m 3       \u001b[0m | \u001b[0m nan     \u001b[0m | \u001b[0m 7.588   \u001b[0m |\n",
      "| \u001b[0m 4       \u001b[0m | \u001b[0m nan     \u001b[0m | \u001b[0m 6.388   \u001b[0m |\n",
      "| \u001b[0m 5       \u001b[0m | \u001b[0m nan     \u001b[0m | \u001b[0m 2.404   \u001b[0m |\n",
      "Error related to scaling.\n",
      "Optimizing for l2 penalty\n",
      "|   iter    |  target   |     C     |\n",
      "-------------------------------------\n",
      "| \u001b[0m 1       \u001b[0m | \u001b[0m 0.4167  \u001b[0m | \u001b[0m 4.371   \u001b[0m |\n",
      "| \u001b[0m 2       \u001b[0m | \u001b[0m 0.4167  \u001b[0m | \u001b[0m 9.556   \u001b[0m |\n",
      "| \u001b[0m 3       \u001b[0m | \u001b[0m 0.4167  \u001b[0m | \u001b[0m 7.588   \u001b[0m |\n",
      "| \u001b[0m 4       \u001b[0m | \u001b[0m 0.4167  \u001b[0m | \u001b[0m 6.388   \u001b[0m |\n",
      "| \u001b[0m 5       \u001b[0m | \u001b[0m 0.4167  \u001b[0m | \u001b[0m 2.404   \u001b[0m |\n",
      "Error related to scaling.\n",
      "\n",
      "\n",
      "Final result: The optimal model's accuracy is 0.41666666666666663 and the optimal parameters are C=4.370861069626263 and penalty=l2\n"
     ]
    }
   ],
   "source": [
    "# Get the time that the optimization started\n",
    "start_time = datetime.now().strftime(\"%H:%M:%S\")\n",
    "\n",
    "# Boundaries of the hyperparameters\n",
    "params={'C' : (1,10)}\n",
    "\n",
    "# Optimization\n",
    "import warnings\n",
    "warnings.filterwarnings(\"ignore\", category=FutureWarning)\n",
    "\n",
    "lr_optimum = bo.optimize_lr(params)\n",
    "\n",
    "# Get the time that the optimization ended\n",
    "end_time = datetime.now().strftime(\"%H:%M:%S\")"
   ]
  },
  {
   "cell_type": "code",
   "execution_count": 8,
   "metadata": {
    "scrolled": true
   },
   "outputs": [
    {
     "name": "stdout",
     "output_type": "stream",
     "text": [
      "Minutes to execute: 0.0\n"
     ]
    }
   ],
   "source": [
    "print('Minutes to execute:', \n",
    "      round((datetime.strptime(end_time, '%H:%M:%S') - datetime.strptime(start_time, '%H:%M:%S')).seconds/60,2))"
   ]
  },
  {
   "cell_type": "markdown",
   "metadata": {},
   "source": [
    "Test model's performance on the traning set"
   ]
  },
  {
   "cell_type": "code",
   "execution_count": 9,
   "metadata": {},
   "outputs": [],
   "source": [
    "# Declare the model\n",
    "clf = LogisticRegression(C=lr_optimum['params']['C'], penalty=lr_optimum['params']['penalty'],random_state=42)\n",
    "\n",
    "# Train the model on training data\n",
    "clf.fit(train, train_labels);"
   ]
  },
  {
   "cell_type": "markdown",
   "metadata": {},
   "source": [
    "###### Metrics on the Training set"
   ]
  },
  {
   "cell_type": "code",
   "execution_count": 10,
   "metadata": {},
   "outputs": [],
   "source": [
    "# Use the model's predict method \n",
    "predictions = clf.predict(train)"
   ]
  },
  {
   "cell_type": "code",
   "execution_count": 11,
   "metadata": {},
   "outputs": [
    {
     "name": "stdout",
     "output_type": "stream",
     "text": [
      "LR's training accuracy: 1.0\n"
     ]
    }
   ],
   "source": [
    "# Print the training accuracy\n",
    "print(\"LR's training accuracy:\", accuracy_score(train_labels, predictions))"
   ]
  },
  {
   "cell_type": "code",
   "execution_count": 12,
   "metadata": {},
   "outputs": [
    {
     "name": "stdout",
     "output_type": "stream",
     "text": [
      "              precision    recall  f1-score   support\n",
      "\n",
      "           0       1.00      1.00      1.00         5\n",
      "           1       1.00      1.00      1.00         5\n",
      "\n",
      "    accuracy                           1.00        10\n",
      "   macro avg       1.00      1.00      1.00        10\n",
      "weighted avg       1.00      1.00      1.00        10\n",
      "\n"
     ]
    }
   ],
   "source": [
    "# Print the classification report\n",
    "print(classification_report(train_labels,predictions))"
   ]
  },
  {
   "cell_type": "code",
   "execution_count": 13,
   "metadata": {},
   "outputs": [
    {
     "name": "stdout",
     "output_type": "stream",
     "text": [
      "Confusion Matrix:\n",
      "5 | 0\n",
      "-----\n",
      "0 | 5\n"
     ]
    }
   ],
   "source": [
    "cm = confusion_matrix(train_labels,predictions)\n",
    "print('Confusion Matrix:')\n",
    "print(cm[0][0],'|',cm[0][1])\n",
    "print('-----')\n",
    "print(cm[1][0],'|',cm[1][1])"
   ]
  },
  {
   "cell_type": "code",
   "execution_count": 14,
   "metadata": {},
   "outputs": [
    {
     "name": "stdout",
     "output_type": "stream",
     "text": [
      "Specificity: 1.0\n",
      "Sensitivity: 1.0\n"
     ]
    }
   ],
   "source": [
    "tn, fp, fn, tp = confusion_matrix(train_labels,predictions).ravel()\n",
    "specificity = tn / (tn + fp)\n",
    "sensitivity = tp / (tp + fn)\n",
    "print('Specificity:',specificity)\n",
    "print('Sensitivity:',sensitivity)"
   ]
  },
  {
   "cell_type": "code",
   "execution_count": 15,
   "metadata": {},
   "outputs": [
    {
     "name": "stdout",
     "output_type": "stream",
     "text": [
      "MCC: 1.0\n"
     ]
    }
   ],
   "source": [
    "# Print the MCC\n",
    "print('MCC:', matthews_corrcoef(train_labels,predictions))"
   ]
  },
  {
   "cell_type": "code",
   "execution_count": 16,
   "metadata": {},
   "outputs": [
    {
     "name": "stdout",
     "output_type": "stream",
     "text": [
      "List of scores: [0.33333333 0.33333333 1.         0.        ]\n",
      "Mean of Cross Validtation: 0.41666666666666663\n"
     ]
    }
   ],
   "source": [
    "#Print the Cross-Validation Score\n",
    "scores = cross_val_score(clf, train, train_labels, cv=4)\n",
    "\n",
    "print('List of scores:', scores)\n",
    "print('Mean of Cross Validtation:', scores.mean())"
   ]
  },
  {
   "cell_type": "markdown",
   "metadata": {},
   "source": [
    "#### 2nd iteration"
   ]
  },
  {
   "cell_type": "markdown",
   "metadata": {},
   "source": [
    "Get the features' importance"
   ]
  },
  {
   "cell_type": "code",
   "execution_count": 17,
   "metadata": {
    "scrolled": false
   },
   "outputs": [
    {
     "name": "stdout",
     "output_type": "stream",
     "text": [
      "Variable: Zave (12.5 ug/ml)    Importance: 1.015\n",
      "Variable: Endotoxins (EU/mg)   Importance: 0.951\n",
      "Variable: Length ave. (nm)     Importance: 0.927\n",
      "Variable: PdI  (200 ug/ml)     Importance: 0.777\n",
      "Variable: % Total Impurities   Importance: 0.777\n",
      "Variable: Peak (ug/ml)         Importance: 0.566\n",
      "Variable: PdI  (12.5 ug/ml)    Importance: 0.374\n",
      "Variable: Zave  (200 ug/ml)    Importance: 0.365\n",
      "Variable: Type_OH              Importance: 0.357\n",
      "Variable: Zave (batch)         Importance: 0.319\n",
      "Variable: Type_COOH            Importance: 0.259\n",
      "Variable: Diameter min. (nm)   Importance: -0.225\n",
      "Variable: Diameter ave. (nm)   Importance: -0.329\n",
      "Variable: Diameter max. (nm)   Importance: -0.352\n",
      "Variable: BET (m2/g)           Importance: -0.487\n",
      "Variable: ROS                  Importance: -0.501\n",
      "Variable: OH mmol/g            Importance: -0.513\n",
      "Variable: COOH mmol/g          Importance: -0.519\n",
      "Variable: Type_NH2             Importance: -0.612\n",
      "Variable: CEA: C.H.N.O (wt%)   Importance: -0.928\n",
      "Variable: PdI (batch)          Importance: -1.083\n",
      "Variable: Purity (%)           Importance: -1.732\n"
     ]
    }
   ],
   "source": [
    "# Get numerical feature importances and feature names\n",
    "importances = list(clf.coef_.reshape(clf.coef_.shape[1]))\n",
    "feature_list = list(train.columns)\n",
    "\n",
    "# List of tuples with variable and importance\n",
    "feature_importances = [(feature, round(importance, 3)) for feature, importance in zip(feature_list, importances)]\n",
    "\n",
    "# Sort the feature importances by most important first\n",
    "feature_importances = sorted(feature_importances, key = lambda x: x[1], reverse = True)\n",
    "\n",
    "# Print out the feature and importances \n",
    "[print('Variable: {:20} Importance: {}'.format(*pair)) for pair in feature_importances];"
   ]
  },
  {
   "cell_type": "markdown",
   "metadata": {},
   "source": [
    "Exclude features with minimum importance"
   ]
  },
  {
   "cell_type": "code",
   "execution_count": 18,
   "metadata": {
    "scrolled": true
   },
   "outputs": [
    {
     "data": {
      "text/html": [
       "<div>\n",
       "<style scoped>\n",
       "    .dataframe tbody tr th:only-of-type {\n",
       "        vertical-align: middle;\n",
       "    }\n",
       "\n",
       "    .dataframe tbody tr th {\n",
       "        vertical-align: top;\n",
       "    }\n",
       "\n",
       "    .dataframe thead th {\n",
       "        text-align: right;\n",
       "    }\n",
       "</style>\n",
       "<table border=\"1\" class=\"dataframe\">\n",
       "  <thead>\n",
       "    <tr style=\"text-align: right;\">\n",
       "      <th></th>\n",
       "      <th>Length ave. (nm)</th>\n",
       "      <th>Diameter ave. (nm)</th>\n",
       "      <th>BET (m2/g)</th>\n",
       "      <th>Purity (%)</th>\n",
       "      <th>Zave (batch)</th>\n",
       "      <th>PdI (batch)</th>\n",
       "      <th>Zave (12.5 ug/ml)</th>\n",
       "      <th>PdI  (12.5 ug/ml)</th>\n",
       "      <th>Zave  (200 ug/ml)</th>\n",
       "      <th>PdI  (200 ug/ml)</th>\n",
       "      <th>...</th>\n",
       "      <th>Peak (ug/ml)</th>\n",
       "      <th>CEA: C.H.N.O (wt%)</th>\n",
       "      <th>OH mmol/g</th>\n",
       "      <th>COOH mmol/g</th>\n",
       "      <th>Endotoxins (EU/mg)</th>\n",
       "      <th>Diameter max. (nm)</th>\n",
       "      <th>Type_COOH</th>\n",
       "      <th>Type_NH2</th>\n",
       "      <th>Type_OH</th>\n",
       "      <th>% Total Impurities</th>\n",
       "    </tr>\n",
       "  </thead>\n",
       "  <tbody>\n",
       "    <tr>\n",
       "      <th>2</th>\n",
       "      <td>0.039432</td>\n",
       "      <td>0.342857</td>\n",
       "      <td>0.521186</td>\n",
       "      <td>1.000000</td>\n",
       "      <td>0.035861</td>\n",
       "      <td>0.413333</td>\n",
       "      <td>0.014556</td>\n",
       "      <td>0.097879</td>\n",
       "      <td>0.031408</td>\n",
       "      <td>0.357357</td>\n",
       "      <td>...</td>\n",
       "      <td>1.000000</td>\n",
       "      <td>0.8</td>\n",
       "      <td>1.000000</td>\n",
       "      <td>1.000000</td>\n",
       "      <td>0.50</td>\n",
       "      <td>0.394805</td>\n",
       "      <td>1</td>\n",
       "      <td>0</td>\n",
       "      <td>0</td>\n",
       "      <td>0.048780</td>\n",
       "    </tr>\n",
       "    <tr>\n",
       "      <th>3</th>\n",
       "      <td>0.048716</td>\n",
       "      <td>0.796429</td>\n",
       "      <td>0.271186</td>\n",
       "      <td>0.923913</td>\n",
       "      <td>0.011777</td>\n",
       "      <td>0.026667</td>\n",
       "      <td>0.000000</td>\n",
       "      <td>0.000000</td>\n",
       "      <td>0.013171</td>\n",
       "      <td>0.000000</td>\n",
       "      <td>...</td>\n",
       "      <td>1.000000</td>\n",
       "      <td>0.8</td>\n",
       "      <td>0.036946</td>\n",
       "      <td>0.034653</td>\n",
       "      <td>0.48</td>\n",
       "      <td>0.775325</td>\n",
       "      <td>0</td>\n",
       "      <td>0</td>\n",
       "      <td>0</td>\n",
       "      <td>0.219889</td>\n",
       "    </tr>\n",
       "    <tr>\n",
       "      <th>4</th>\n",
       "      <td>0.156550</td>\n",
       "      <td>0.387500</td>\n",
       "      <td>0.237288</td>\n",
       "      <td>0.934783</td>\n",
       "      <td>0.045124</td>\n",
       "      <td>0.024000</td>\n",
       "      <td>0.425036</td>\n",
       "      <td>0.365416</td>\n",
       "      <td>0.241641</td>\n",
       "      <td>0.822823</td>\n",
       "      <td>...</td>\n",
       "      <td>1.000000</td>\n",
       "      <td>0.9</td>\n",
       "      <td>0.049261</td>\n",
       "      <td>0.044554</td>\n",
       "      <td>0.52</td>\n",
       "      <td>0.419481</td>\n",
       "      <td>0</td>\n",
       "      <td>0</td>\n",
       "      <td>1</td>\n",
       "      <td>0.190736</td>\n",
       "    </tr>\n",
       "    <tr>\n",
       "      <th>5</th>\n",
       "      <td>0.199591</td>\n",
       "      <td>0.342857</td>\n",
       "      <td>0.427966</td>\n",
       "      <td>0.684783</td>\n",
       "      <td>0.032156</td>\n",
       "      <td>0.000000</td>\n",
       "      <td>0.278020</td>\n",
       "      <td>0.363785</td>\n",
       "      <td>0.084600</td>\n",
       "      <td>0.255255</td>\n",
       "      <td>...</td>\n",
       "      <td>1.000000</td>\n",
       "      <td>0.5</td>\n",
       "      <td>0.147783</td>\n",
       "      <td>0.143564</td>\n",
       "      <td>0.66</td>\n",
       "      <td>0.412987</td>\n",
       "      <td>1</td>\n",
       "      <td>0</td>\n",
       "      <td>0</td>\n",
       "      <td>0.517711</td>\n",
       "    </tr>\n",
       "    <tr>\n",
       "      <th>6</th>\n",
       "      <td>0.038274</td>\n",
       "      <td>0.323214</td>\n",
       "      <td>0.868644</td>\n",
       "      <td>0.945652</td>\n",
       "      <td>0.019584</td>\n",
       "      <td>0.552000</td>\n",
       "      <td>0.659389</td>\n",
       "      <td>0.407830</td>\n",
       "      <td>0.522290</td>\n",
       "      <td>0.573574</td>\n",
       "      <td>...</td>\n",
       "      <td>0.094203</td>\n",
       "      <td>0.8</td>\n",
       "      <td>0.147783</td>\n",
       "      <td>0.148515</td>\n",
       "      <td>0.36</td>\n",
       "      <td>0.405195</td>\n",
       "      <td>0</td>\n",
       "      <td>0</td>\n",
       "      <td>0</td>\n",
       "      <td>0.136716</td>\n",
       "    </tr>\n",
       "  </tbody>\n",
       "</table>\n",
       "<p>5 rows × 21 columns</p>\n",
       "</div>"
      ],
      "text/plain": [
       "   Length ave. (nm)   Diameter ave. (nm)  BET (m2/g)  Purity (%)  \\\n",
       "2           0.039432            0.342857    0.521186    1.000000   \n",
       "3           0.048716            0.796429    0.271186    0.923913   \n",
       "4           0.156550            0.387500    0.237288    0.934783   \n",
       "5           0.199591            0.342857    0.427966    0.684783   \n",
       "6           0.038274            0.323214    0.868644    0.945652   \n",
       "\n",
       "   Zave (batch)  PdI (batch)  Zave (12.5 ug/ml)  PdI  (12.5 ug/ml)  \\\n",
       "2      0.035861     0.413333           0.014556           0.097879   \n",
       "3      0.011777     0.026667           0.000000           0.000000   \n",
       "4      0.045124     0.024000           0.425036           0.365416   \n",
       "5      0.032156     0.000000           0.278020           0.363785   \n",
       "6      0.019584     0.552000           0.659389           0.407830   \n",
       "\n",
       "   Zave  (200 ug/ml)  PdI  (200 ug/ml)  ...  Peak (ug/ml)  CEA: C.H.N.O (wt%)  \\\n",
       "2           0.031408          0.357357  ...      1.000000                 0.8   \n",
       "3           0.013171          0.000000  ...      1.000000                 0.8   \n",
       "4           0.241641          0.822823  ...      1.000000                 0.9   \n",
       "5           0.084600          0.255255  ...      1.000000                 0.5   \n",
       "6           0.522290          0.573574  ...      0.094203                 0.8   \n",
       "\n",
       "   OH mmol/g  COOH mmol/g  Endotoxins (EU/mg)  Diameter max. (nm)  Type_COOH  \\\n",
       "2   1.000000     1.000000                0.50            0.394805          1   \n",
       "3   0.036946     0.034653                0.48            0.775325          0   \n",
       "4   0.049261     0.044554                0.52            0.419481          0   \n",
       "5   0.147783     0.143564                0.66            0.412987          1   \n",
       "6   0.147783     0.148515                0.36            0.405195          0   \n",
       "\n",
       "   Type_NH2  Type_OH  % Total Impurities  \n",
       "2         0        0            0.048780  \n",
       "3         0        0            0.219889  \n",
       "4         0        1            0.190736  \n",
       "5         0        0            0.517711  \n",
       "6         0        0            0.136716  \n",
       "\n",
       "[5 rows x 21 columns]"
      ]
     },
     "execution_count": 18,
     "metadata": {},
     "output_type": "execute_result"
    }
   ],
   "source": [
    "for i in range(len(feature_importances)):\n",
    "    if round(abs(feature_importances[i][1]),3)==min([round(abs(i),3) for i in importances]):\n",
    "        train.drop(feature_importances[i][0], axis=1, inplace=True)\n",
    "        test.drop(feature_importances[i][0], axis=1, inplace=True)\n",
    "        \n",
    "train.head()"
   ]
  },
  {
   "cell_type": "markdown",
   "metadata": {},
   "source": [
    "Optimize Logistc Regression"
   ]
  },
  {
   "cell_type": "code",
   "execution_count": 19,
   "metadata": {},
   "outputs": [],
   "source": [
    "bo = BayesOpt(train, train_labels, folds = 4, n_iter=30,log_scaling=False)"
   ]
  },
  {
   "cell_type": "code",
   "execution_count": 20,
   "metadata": {
    "scrolled": false
   },
   "outputs": [
    {
     "name": "stdout",
     "output_type": "stream",
     "text": [
      "Optimizing for l1 penalty\n",
      "|   iter    |  target   |     C     |\n",
      "-------------------------------------\n",
      "| \u001b[0m 1       \u001b[0m | \u001b[0m nan     \u001b[0m | \u001b[0m 4.371   \u001b[0m |\n",
      "| \u001b[0m 2       \u001b[0m | \u001b[0m nan     \u001b[0m | \u001b[0m 9.556   \u001b[0m |\n",
      "| \u001b[0m 3       \u001b[0m | \u001b[0m nan     \u001b[0m | \u001b[0m 7.588   \u001b[0m |\n",
      "| \u001b[0m 4       \u001b[0m | \u001b[0m nan     \u001b[0m | \u001b[0m 6.388   \u001b[0m |\n",
      "| \u001b[0m 5       \u001b[0m | \u001b[0m nan     \u001b[0m | \u001b[0m 2.404   \u001b[0m |\n",
      "Error related to scaling.\n",
      "Optimizing for l2 penalty\n",
      "|   iter    |  target   |     C     |\n",
      "-------------------------------------\n",
      "| \u001b[0m 1       \u001b[0m | \u001b[0m 0.4167  \u001b[0m | \u001b[0m 4.371   \u001b[0m |\n",
      "| \u001b[95m 2       \u001b[0m | \u001b[95m 0.5417  \u001b[0m | \u001b[95m 9.556   \u001b[0m |\n",
      "| \u001b[0m 3       \u001b[0m | \u001b[0m 0.5417  \u001b[0m | \u001b[0m 7.588   \u001b[0m |\n",
      "| \u001b[0m 4       \u001b[0m | \u001b[0m 0.5417  \u001b[0m | \u001b[0m 6.388   \u001b[0m |\n",
      "| \u001b[0m 5       \u001b[0m | \u001b[0m 0.4167  \u001b[0m | \u001b[0m 2.404   \u001b[0m |\n",
      "| \u001b[0m 6       \u001b[0m | \u001b[0m 0.5417  \u001b[0m | \u001b[0m 8.664   \u001b[0m |\n",
      "| \u001b[0m 7       \u001b[0m | \u001b[0m 0.5417  \u001b[0m | \u001b[0m 9.999   \u001b[0m |\n",
      "| \u001b[0m 8       \u001b[0m | \u001b[0m 0.5417  \u001b[0m | \u001b[0m 6.916   \u001b[0m |\n",
      "| \u001b[0m 9       \u001b[0m | \u001b[0m 0.5417  \u001b[0m | \u001b[0m 8.131   \u001b[0m |\n",
      "| \u001b[0m 10      \u001b[0m | \u001b[0m 0.5417  \u001b[0m | \u001b[0m 9.112   \u001b[0m |\n",
      "| \u001b[0m 11      \u001b[0m | \u001b[0m 0.5417  \u001b[0m | \u001b[0m 6.617   \u001b[0m |\n",
      "| \u001b[0m 12      \u001b[0m | \u001b[0m 0.5417  \u001b[0m | \u001b[0m 7.267   \u001b[0m |\n",
      "| \u001b[0m 13      \u001b[0m | \u001b[0m 0.5417  \u001b[0m | \u001b[0m 9.806   \u001b[0m |\n",
      "| \u001b[0m 14      \u001b[0m | \u001b[0m 0.5417  \u001b[0m | \u001b[0m 8.396   \u001b[0m |\n",
      "| \u001b[0m 15      \u001b[0m | \u001b[0m 0.5417  \u001b[0m | \u001b[0m 7.854   \u001b[0m |\n",
      "| \u001b[0m 16      \u001b[0m | \u001b[0m 0.5417  \u001b[0m | \u001b[0m 8.899   \u001b[0m |\n",
      "| \u001b[0m 17      \u001b[0m | \u001b[0m 0.5417  \u001b[0m | \u001b[0m 9.337   \u001b[0m |\n",
      "| \u001b[0m 18      \u001b[0m | \u001b[0m 0.5417  \u001b[0m | \u001b[0m 7.09    \u001b[0m |\n",
      "| \u001b[0m 19      \u001b[0m | \u001b[0m 0.5417  \u001b[0m | \u001b[0m 6.485   \u001b[0m |\n",
      "| \u001b[0m 20      \u001b[0m | \u001b[0m 0.5417  \u001b[0m | \u001b[0m 7.431   \u001b[0m |\n",
      "| \u001b[0m 21      \u001b[0m | \u001b[0m 0.5417  \u001b[0m | \u001b[0m 7.992   \u001b[0m |\n",
      "| \u001b[0m 22      \u001b[0m | \u001b[0m 0.5417  \u001b[0m | \u001b[0m 6.77    \u001b[0m |\n",
      "| \u001b[0m 23      \u001b[0m | \u001b[0m 0.5417  \u001b[0m | \u001b[0m 8.529   \u001b[0m |\n",
      "| \u001b[0m 24      \u001b[0m | \u001b[0m 0.5417  \u001b[0m | \u001b[0m 9.682   \u001b[0m |\n",
      "| \u001b[0m 25      \u001b[0m | \u001b[0m 0.5417  \u001b[0m | \u001b[0m 7.721   \u001b[0m |\n",
      "| \u001b[0m 26      \u001b[0m | \u001b[0m 0.5417  \u001b[0m | \u001b[0m 8.264   \u001b[0m |\n",
      "| \u001b[0m 27      \u001b[0m | \u001b[0m 0.5417  \u001b[0m | \u001b[0m 9.91    \u001b[0m |\n",
      "| \u001b[0m 28      \u001b[0m | \u001b[0m 0.5417  \u001b[0m | \u001b[0m 8.781   \u001b[0m |\n",
      "| \u001b[0m 29      \u001b[0m | \u001b[0m 0.5417  \u001b[0m | \u001b[0m 9.224   \u001b[0m |\n",
      "| \u001b[0m 30      \u001b[0m | \u001b[0m 0.5417  \u001b[0m | \u001b[0m 9.445   \u001b[0m |\n",
      "| \u001b[0m 31      \u001b[0m | \u001b[0m 0.5417  \u001b[0m | \u001b[0m 9.007   \u001b[0m |\n",
      "| \u001b[0m 32      \u001b[0m | \u001b[0m 0.5417  \u001b[0m | \u001b[0m 6.459   \u001b[0m |\n",
      "| \u001b[0m 33      \u001b[0m | \u001b[0m 0.5417  \u001b[0m | \u001b[0m 7.179   \u001b[0m |\n",
      "| \u001b[0m 34      \u001b[0m | \u001b[0m 0.5417  \u001b[0m | \u001b[0m 7.003   \u001b[0m |\n",
      "| \u001b[0m 35      \u001b[0m | \u001b[0m 0.5417  \u001b[0m | \u001b[0m 7.35    \u001b[0m |\n",
      "=====================================\n",
      "\n",
      "\n",
      "Final result: The optimal model's accuracy is 0.5416666666666666 and the optimal parameters are C=9.556428757689245 and penalty=l2\n"
     ]
    }
   ],
   "source": [
    "# Get the time that the optimization started\n",
    "start_time = datetime.now().strftime(\"%H:%M:%S\")\n",
    "\n",
    "# Boundaries of the hyperparameters\n",
    "params={'C' : (1,10)}\n",
    "\n",
    "# Optimization\n",
    "import warnings\n",
    "warnings.filterwarnings(\"ignore\", category=FutureWarning)\n",
    "\n",
    "lr_optimum = bo.optimize_lr(params)\n",
    "\n",
    "# Get the time that the optimization ended\n",
    "end_time = datetime.now().strftime(\"%H:%M:%S\")"
   ]
  },
  {
   "cell_type": "code",
   "execution_count": 21,
   "metadata": {
    "scrolled": true
   },
   "outputs": [
    {
     "name": "stdout",
     "output_type": "stream",
     "text": [
      "Minutes to execute: 0.05\n"
     ]
    }
   ],
   "source": [
    "print('Minutes to execute:', \n",
    "      round((datetime.strptime(end_time, '%H:%M:%S') - datetime.strptime(start_time, '%H:%M:%S')).seconds/60,2))"
   ]
  },
  {
   "cell_type": "markdown",
   "metadata": {},
   "source": [
    "Step 5: Test model's performance (on the testing set)"
   ]
  },
  {
   "cell_type": "code",
   "execution_count": 22,
   "metadata": {},
   "outputs": [],
   "source": [
    "# Declare the model\n",
    "clf = LogisticRegression(C=lr_optimum['params']['C'], penalty=lr_optimum['params']['penalty'],random_state=42)\n",
    "\n",
    "# Train the model on training data\n",
    "clf.fit(train, train_labels);"
   ]
  },
  {
   "cell_type": "markdown",
   "metadata": {},
   "source": [
    "###### Metrics on the Training set"
   ]
  },
  {
   "cell_type": "code",
   "execution_count": 23,
   "metadata": {},
   "outputs": [],
   "source": [
    "# Use the model's predict method \n",
    "predictions = clf.predict(train)"
   ]
  },
  {
   "cell_type": "code",
   "execution_count": 24,
   "metadata": {},
   "outputs": [
    {
     "name": "stdout",
     "output_type": "stream",
     "text": [
      "LR's training accuracy: 1.0\n"
     ]
    }
   ],
   "source": [
    "# Print the training accuracy\n",
    "print(\"LR's training accuracy:\", accuracy_score(train_labels, predictions))"
   ]
  },
  {
   "cell_type": "code",
   "execution_count": 25,
   "metadata": {},
   "outputs": [
    {
     "name": "stdout",
     "output_type": "stream",
     "text": [
      "              precision    recall  f1-score   support\n",
      "\n",
      "           0       1.00      1.00      1.00         5\n",
      "           1       1.00      1.00      1.00         5\n",
      "\n",
      "    accuracy                           1.00        10\n",
      "   macro avg       1.00      1.00      1.00        10\n",
      "weighted avg       1.00      1.00      1.00        10\n",
      "\n"
     ]
    }
   ],
   "source": [
    "# Print the classification report\n",
    "print(classification_report(train_labels,predictions))"
   ]
  },
  {
   "cell_type": "code",
   "execution_count": 26,
   "metadata": {},
   "outputs": [
    {
     "name": "stdout",
     "output_type": "stream",
     "text": [
      "Confusion Matrix:\n",
      "5 | 0\n",
      "-----\n",
      "0 | 5\n"
     ]
    }
   ],
   "source": [
    "cm = confusion_matrix(train_labels,predictions)\n",
    "print('Confusion Matrix:')\n",
    "print(cm[0][0],'|',cm[0][1])\n",
    "print('-----')\n",
    "print(cm[1][0],'|',cm[1][1])"
   ]
  },
  {
   "cell_type": "code",
   "execution_count": 27,
   "metadata": {},
   "outputs": [
    {
     "name": "stdout",
     "output_type": "stream",
     "text": [
      "Specificity: 1.0\n",
      "Sensitivity: 1.0\n"
     ]
    }
   ],
   "source": [
    "tn, fp, fn, tp = confusion_matrix(train_labels,predictions).ravel()\n",
    "specificity = tn / (tn + fp)\n",
    "sensitivity = tp / (tp + fn)\n",
    "print('Specificity:',specificity)\n",
    "print('Sensitivity:',sensitivity)"
   ]
  },
  {
   "cell_type": "code",
   "execution_count": 28,
   "metadata": {},
   "outputs": [
    {
     "name": "stdout",
     "output_type": "stream",
     "text": [
      "MCC: 1.0\n"
     ]
    }
   ],
   "source": [
    "# Print the MCC\n",
    "print('MCC:', matthews_corrcoef(train_labels,predictions))"
   ]
  },
  {
   "cell_type": "code",
   "execution_count": 29,
   "metadata": {},
   "outputs": [
    {
     "name": "stdout",
     "output_type": "stream",
     "text": [
      "List of scores: [0.33333333 0.33333333 1.         0.5       ]\n",
      "Mean of Cross Validtation: 0.5416666666666666\n"
     ]
    }
   ],
   "source": [
    "#Print the Cross-Validation Score\n",
    "scores = cross_val_score(clf, train, train_labels, cv=4)\n",
    "\n",
    "print('List of scores:', scores)\n",
    "print('Mean of Cross Validtation:', scores.mean())"
   ]
  },
  {
   "cell_type": "markdown",
   "metadata": {},
   "source": [
    "#### 3rd iteration"
   ]
  },
  {
   "cell_type": "markdown",
   "metadata": {},
   "source": [
    "Get the features' importance"
   ]
  },
  {
   "cell_type": "code",
   "execution_count": 30,
   "metadata": {
    "scrolled": false
   },
   "outputs": [
    {
     "name": "stdout",
     "output_type": "stream",
     "text": [
      "Variable: Zave (12.5 ug/ml)    Importance: 1.366\n",
      "Variable: Endotoxins (EU/mg)   Importance: 1.333\n",
      "Variable: Length ave. (nm)     Importance: 1.238\n",
      "Variable: PdI  (200 ug/ml)     Importance: 1.208\n",
      "Variable: % Total Impurities   Importance: 1.021\n",
      "Variable: Peak (ug/ml)         Importance: 0.798\n",
      "Variable: Type_OH              Importance: 0.613\n",
      "Variable: PdI  (12.5 ug/ml)    Importance: 0.591\n",
      "Variable: Zave  (200 ug/ml)    Importance: 0.467\n",
      "Variable: Type_COOH            Importance: 0.444\n",
      "Variable: Zave (batch)         Importance: 0.407\n",
      "Variable: Diameter ave. (nm)   Importance: -0.55\n",
      "Variable: Diameter max. (nm)   Importance: -0.573\n",
      "Variable: OH mmol/g            Importance: -0.658\n",
      "Variable: COOH mmol/g          Importance: -0.667\n",
      "Variable: BET (m2/g)           Importance: -0.669\n",
      "Variable: ROS                  Importance: -0.685\n",
      "Variable: Type_NH2             Importance: -0.802\n",
      "Variable: CEA: C.H.N.O (wt%)   Importance: -1.337\n",
      "Variable: PdI (batch)          Importance: -1.487\n",
      "Variable: Purity (%)           Importance: -2.379\n"
     ]
    }
   ],
   "source": [
    "# Get numerical feature importances and feature names\n",
    "importances = list(clf.coef_.reshape(clf.coef_.shape[1]))\n",
    "feature_list = list(train.columns)\n",
    "\n",
    "# List of tuples with variable and importance\n",
    "feature_importances = [(feature, round(importance, 3)) for feature, importance in zip(feature_list, importances)]\n",
    "\n",
    "# Sort the feature importances by most important first\n",
    "feature_importances = sorted(feature_importances, key = lambda x: x[1], reverse = True)\n",
    "\n",
    "# Print out the feature and importances \n",
    "[print('Variable: {:20} Importance: {}'.format(*pair)) for pair in feature_importances];"
   ]
  },
  {
   "cell_type": "markdown",
   "metadata": {},
   "source": [
    "Exclude features with minimum importance"
   ]
  },
  {
   "cell_type": "code",
   "execution_count": 31,
   "metadata": {
    "scrolled": true
   },
   "outputs": [
    {
     "data": {
      "text/html": [
       "<div>\n",
       "<style scoped>\n",
       "    .dataframe tbody tr th:only-of-type {\n",
       "        vertical-align: middle;\n",
       "    }\n",
       "\n",
       "    .dataframe tbody tr th {\n",
       "        vertical-align: top;\n",
       "    }\n",
       "\n",
       "    .dataframe thead th {\n",
       "        text-align: right;\n",
       "    }\n",
       "</style>\n",
       "<table border=\"1\" class=\"dataframe\">\n",
       "  <thead>\n",
       "    <tr style=\"text-align: right;\">\n",
       "      <th></th>\n",
       "      <th>Length ave. (nm)</th>\n",
       "      <th>Diameter ave. (nm)</th>\n",
       "      <th>BET (m2/g)</th>\n",
       "      <th>Purity (%)</th>\n",
       "      <th>PdI (batch)</th>\n",
       "      <th>Zave (12.5 ug/ml)</th>\n",
       "      <th>PdI  (12.5 ug/ml)</th>\n",
       "      <th>Zave  (200 ug/ml)</th>\n",
       "      <th>PdI  (200 ug/ml)</th>\n",
       "      <th>ROS</th>\n",
       "      <th>Peak (ug/ml)</th>\n",
       "      <th>CEA: C.H.N.O (wt%)</th>\n",
       "      <th>OH mmol/g</th>\n",
       "      <th>COOH mmol/g</th>\n",
       "      <th>Endotoxins (EU/mg)</th>\n",
       "      <th>Diameter max. (nm)</th>\n",
       "      <th>Type_COOH</th>\n",
       "      <th>Type_NH2</th>\n",
       "      <th>Type_OH</th>\n",
       "      <th>% Total Impurities</th>\n",
       "    </tr>\n",
       "  </thead>\n",
       "  <tbody>\n",
       "    <tr>\n",
       "      <th>2</th>\n",
       "      <td>0.039432</td>\n",
       "      <td>0.342857</td>\n",
       "      <td>0.521186</td>\n",
       "      <td>1.000000</td>\n",
       "      <td>0.413333</td>\n",
       "      <td>0.014556</td>\n",
       "      <td>0.097879</td>\n",
       "      <td>0.031408</td>\n",
       "      <td>0.357357</td>\n",
       "      <td>0.103896</td>\n",
       "      <td>1.000000</td>\n",
       "      <td>0.8</td>\n",
       "      <td>1.000000</td>\n",
       "      <td>1.000000</td>\n",
       "      <td>0.50</td>\n",
       "      <td>0.394805</td>\n",
       "      <td>1</td>\n",
       "      <td>0</td>\n",
       "      <td>0</td>\n",
       "      <td>0.048780</td>\n",
       "    </tr>\n",
       "    <tr>\n",
       "      <th>3</th>\n",
       "      <td>0.048716</td>\n",
       "      <td>0.796429</td>\n",
       "      <td>0.271186</td>\n",
       "      <td>0.923913</td>\n",
       "      <td>0.026667</td>\n",
       "      <td>0.000000</td>\n",
       "      <td>0.000000</td>\n",
       "      <td>0.013171</td>\n",
       "      <td>0.000000</td>\n",
       "      <td>0.298701</td>\n",
       "      <td>1.000000</td>\n",
       "      <td>0.8</td>\n",
       "      <td>0.036946</td>\n",
       "      <td>0.034653</td>\n",
       "      <td>0.48</td>\n",
       "      <td>0.775325</td>\n",
       "      <td>0</td>\n",
       "      <td>0</td>\n",
       "      <td>0</td>\n",
       "      <td>0.219889</td>\n",
       "    </tr>\n",
       "    <tr>\n",
       "      <th>4</th>\n",
       "      <td>0.156550</td>\n",
       "      <td>0.387500</td>\n",
       "      <td>0.237288</td>\n",
       "      <td>0.934783</td>\n",
       "      <td>0.024000</td>\n",
       "      <td>0.425036</td>\n",
       "      <td>0.365416</td>\n",
       "      <td>0.241641</td>\n",
       "      <td>0.822823</td>\n",
       "      <td>0.220779</td>\n",
       "      <td>1.000000</td>\n",
       "      <td>0.9</td>\n",
       "      <td>0.049261</td>\n",
       "      <td>0.044554</td>\n",
       "      <td>0.52</td>\n",
       "      <td>0.419481</td>\n",
       "      <td>0</td>\n",
       "      <td>0</td>\n",
       "      <td>1</td>\n",
       "      <td>0.190736</td>\n",
       "    </tr>\n",
       "    <tr>\n",
       "      <th>5</th>\n",
       "      <td>0.199591</td>\n",
       "      <td>0.342857</td>\n",
       "      <td>0.427966</td>\n",
       "      <td>0.684783</td>\n",
       "      <td>0.000000</td>\n",
       "      <td>0.278020</td>\n",
       "      <td>0.363785</td>\n",
       "      <td>0.084600</td>\n",
       "      <td>0.255255</td>\n",
       "      <td>0.194805</td>\n",
       "      <td>1.000000</td>\n",
       "      <td>0.5</td>\n",
       "      <td>0.147783</td>\n",
       "      <td>0.143564</td>\n",
       "      <td>0.66</td>\n",
       "      <td>0.412987</td>\n",
       "      <td>1</td>\n",
       "      <td>0</td>\n",
       "      <td>0</td>\n",
       "      <td>0.517711</td>\n",
       "    </tr>\n",
       "    <tr>\n",
       "      <th>6</th>\n",
       "      <td>0.038274</td>\n",
       "      <td>0.323214</td>\n",
       "      <td>0.868644</td>\n",
       "      <td>0.945652</td>\n",
       "      <td>0.552000</td>\n",
       "      <td>0.659389</td>\n",
       "      <td>0.407830</td>\n",
       "      <td>0.522290</td>\n",
       "      <td>0.573574</td>\n",
       "      <td>0.857143</td>\n",
       "      <td>0.094203</td>\n",
       "      <td>0.8</td>\n",
       "      <td>0.147783</td>\n",
       "      <td>0.148515</td>\n",
       "      <td>0.36</td>\n",
       "      <td>0.405195</td>\n",
       "      <td>0</td>\n",
       "      <td>0</td>\n",
       "      <td>0</td>\n",
       "      <td>0.136716</td>\n",
       "    </tr>\n",
       "  </tbody>\n",
       "</table>\n",
       "</div>"
      ],
      "text/plain": [
       "   Length ave. (nm)   Diameter ave. (nm)  BET (m2/g)  Purity (%)  PdI (batch)  \\\n",
       "2           0.039432            0.342857    0.521186    1.000000     0.413333   \n",
       "3           0.048716            0.796429    0.271186    0.923913     0.026667   \n",
       "4           0.156550            0.387500    0.237288    0.934783     0.024000   \n",
       "5           0.199591            0.342857    0.427966    0.684783     0.000000   \n",
       "6           0.038274            0.323214    0.868644    0.945652     0.552000   \n",
       "\n",
       "   Zave (12.5 ug/ml)  PdI  (12.5 ug/ml)  Zave  (200 ug/ml)  PdI  (200 ug/ml)  \\\n",
       "2           0.014556           0.097879           0.031408          0.357357   \n",
       "3           0.000000           0.000000           0.013171          0.000000   \n",
       "4           0.425036           0.365416           0.241641          0.822823   \n",
       "5           0.278020           0.363785           0.084600          0.255255   \n",
       "6           0.659389           0.407830           0.522290          0.573574   \n",
       "\n",
       "        ROS  Peak (ug/ml)  CEA: C.H.N.O (wt%)  OH mmol/g  COOH mmol/g  \\\n",
       "2  0.103896      1.000000                 0.8   1.000000     1.000000   \n",
       "3  0.298701      1.000000                 0.8   0.036946     0.034653   \n",
       "4  0.220779      1.000000                 0.9   0.049261     0.044554   \n",
       "5  0.194805      1.000000                 0.5   0.147783     0.143564   \n",
       "6  0.857143      0.094203                 0.8   0.147783     0.148515   \n",
       "\n",
       "   Endotoxins (EU/mg)  Diameter max. (nm)  Type_COOH  Type_NH2  Type_OH  \\\n",
       "2                0.50            0.394805          1         0        0   \n",
       "3                0.48            0.775325          0         0        0   \n",
       "4                0.52            0.419481          0         0        1   \n",
       "5                0.66            0.412987          1         0        0   \n",
       "6                0.36            0.405195          0         0        0   \n",
       "\n",
       "   % Total Impurities  \n",
       "2            0.048780  \n",
       "3            0.219889  \n",
       "4            0.190736  \n",
       "5            0.517711  \n",
       "6            0.136716  "
      ]
     },
     "execution_count": 31,
     "metadata": {},
     "output_type": "execute_result"
    }
   ],
   "source": [
    "for i in range(len(feature_importances)):\n",
    "    if round(abs(feature_importances[i][1]),3)==min([round(abs(i),3) for i in importances]):\n",
    "        train.drop(feature_importances[i][0], axis=1, inplace=True)\n",
    "        test.drop(feature_importances[i][0], axis=1, inplace=True)\n",
    "        \n",
    "train.head()"
   ]
  },
  {
   "cell_type": "markdown",
   "metadata": {},
   "source": [
    "Optimize Logistc Regression"
   ]
  },
  {
   "cell_type": "code",
   "execution_count": 32,
   "metadata": {},
   "outputs": [],
   "source": [
    "bo = BayesOpt(train, train_labels, folds = 4, n_iter=30,log_scaling=False)"
   ]
  },
  {
   "cell_type": "code",
   "execution_count": 33,
   "metadata": {
    "scrolled": false
   },
   "outputs": [
    {
     "name": "stdout",
     "output_type": "stream",
     "text": [
      "Optimizing for l1 penalty\n",
      "|   iter    |  target   |     C     |\n",
      "-------------------------------------\n",
      "| \u001b[0m 1       \u001b[0m | \u001b[0m nan     \u001b[0m | \u001b[0m 4.371   \u001b[0m |\n",
      "| \u001b[0m 2       \u001b[0m | \u001b[0m nan     \u001b[0m | \u001b[0m 9.556   \u001b[0m |\n",
      "| \u001b[0m 3       \u001b[0m | \u001b[0m nan     \u001b[0m | \u001b[0m 7.588   \u001b[0m |\n",
      "| \u001b[0m 4       \u001b[0m | \u001b[0m nan     \u001b[0m | \u001b[0m 6.388   \u001b[0m |\n",
      "| \u001b[0m 5       \u001b[0m | \u001b[0m nan     \u001b[0m | \u001b[0m 2.404   \u001b[0m |\n",
      "Error related to scaling.\n",
      "Optimizing for l2 penalty\n",
      "|   iter    |  target   |     C     |\n",
      "-------------------------------------\n",
      "| \u001b[0m 1       \u001b[0m | \u001b[0m 0.4167  \u001b[0m | \u001b[0m 4.371   \u001b[0m |\n",
      "| \u001b[95m 2       \u001b[0m | \u001b[95m 0.5417  \u001b[0m | \u001b[95m 9.556   \u001b[0m |\n",
      "| \u001b[0m 3       \u001b[0m | \u001b[0m 0.5417  \u001b[0m | \u001b[0m 7.588   \u001b[0m |\n",
      "| \u001b[0m 4       \u001b[0m | \u001b[0m 0.5417  \u001b[0m | \u001b[0m 6.388   \u001b[0m |\n",
      "| \u001b[0m 5       \u001b[0m | \u001b[0m 0.4167  \u001b[0m | \u001b[0m 2.404   \u001b[0m |\n",
      "| \u001b[0m 6       \u001b[0m | \u001b[0m 0.5417  \u001b[0m | \u001b[0m 8.664   \u001b[0m |\n",
      "| \u001b[0m 7       \u001b[0m | \u001b[0m 0.5417  \u001b[0m | \u001b[0m 9.999   \u001b[0m |\n",
      "| \u001b[0m 8       \u001b[0m | \u001b[0m 0.5417  \u001b[0m | \u001b[0m 6.916   \u001b[0m |\n",
      "| \u001b[0m 9       \u001b[0m | \u001b[0m 0.5417  \u001b[0m | \u001b[0m 8.131   \u001b[0m |\n",
      "| \u001b[0m 10      \u001b[0m | \u001b[0m 0.5417  \u001b[0m | \u001b[0m 9.112   \u001b[0m |\n",
      "| \u001b[0m 11      \u001b[0m | \u001b[0m 0.5417  \u001b[0m | \u001b[0m 6.617   \u001b[0m |\n",
      "| \u001b[0m 12      \u001b[0m | \u001b[0m 0.5417  \u001b[0m | \u001b[0m 7.267   \u001b[0m |\n",
      "| \u001b[0m 13      \u001b[0m | \u001b[0m 0.5417  \u001b[0m | \u001b[0m 9.806   \u001b[0m |\n",
      "| \u001b[0m 14      \u001b[0m | \u001b[0m 0.5417  \u001b[0m | \u001b[0m 8.396   \u001b[0m |\n",
      "| \u001b[0m 15      \u001b[0m | \u001b[0m 0.5417  \u001b[0m | \u001b[0m 7.854   \u001b[0m |\n",
      "| \u001b[0m 16      \u001b[0m | \u001b[0m 0.5417  \u001b[0m | \u001b[0m 8.899   \u001b[0m |\n",
      "| \u001b[0m 17      \u001b[0m | \u001b[0m 0.5417  \u001b[0m | \u001b[0m 9.337   \u001b[0m |\n",
      "| \u001b[0m 18      \u001b[0m | \u001b[0m 0.5417  \u001b[0m | \u001b[0m 7.09    \u001b[0m |\n",
      "| \u001b[0m 19      \u001b[0m | \u001b[0m 0.5417  \u001b[0m | \u001b[0m 6.485   \u001b[0m |\n",
      "| \u001b[0m 20      \u001b[0m | \u001b[0m 0.5417  \u001b[0m | \u001b[0m 7.431   \u001b[0m |\n",
      "| \u001b[0m 21      \u001b[0m | \u001b[0m 0.5417  \u001b[0m | \u001b[0m 7.992   \u001b[0m |\n",
      "| \u001b[0m 22      \u001b[0m | \u001b[0m 0.5417  \u001b[0m | \u001b[0m 6.77    \u001b[0m |\n",
      "| \u001b[0m 23      \u001b[0m | \u001b[0m 0.5417  \u001b[0m | \u001b[0m 8.529   \u001b[0m |\n",
      "| \u001b[0m 24      \u001b[0m | \u001b[0m 0.5417  \u001b[0m | \u001b[0m 9.682   \u001b[0m |\n",
      "| \u001b[0m 25      \u001b[0m | \u001b[0m 0.5417  \u001b[0m | \u001b[0m 7.721   \u001b[0m |\n",
      "| \u001b[0m 26      \u001b[0m | \u001b[0m 0.5417  \u001b[0m | \u001b[0m 8.264   \u001b[0m |\n",
      "| \u001b[0m 27      \u001b[0m | \u001b[0m 0.5417  \u001b[0m | \u001b[0m 9.91    \u001b[0m |\n",
      "| \u001b[0m 28      \u001b[0m | \u001b[0m 0.5417  \u001b[0m | \u001b[0m 8.781   \u001b[0m |\n",
      "| \u001b[0m 29      \u001b[0m | \u001b[0m 0.5417  \u001b[0m | \u001b[0m 9.224   \u001b[0m |\n",
      "| \u001b[0m 30      \u001b[0m | \u001b[0m 0.5417  \u001b[0m | \u001b[0m 9.445   \u001b[0m |\n",
      "| \u001b[0m 31      \u001b[0m | \u001b[0m 0.5417  \u001b[0m | \u001b[0m 9.007   \u001b[0m |\n",
      "| \u001b[0m 32      \u001b[0m | \u001b[0m 0.5417  \u001b[0m | \u001b[0m 6.459   \u001b[0m |\n",
      "| \u001b[0m 33      \u001b[0m | \u001b[0m 0.5417  \u001b[0m | \u001b[0m 7.179   \u001b[0m |\n",
      "| \u001b[0m 34      \u001b[0m | \u001b[0m 0.5417  \u001b[0m | \u001b[0m 7.003   \u001b[0m |\n",
      "| \u001b[0m 35      \u001b[0m | \u001b[0m 0.5417  \u001b[0m | \u001b[0m 7.35    \u001b[0m |\n",
      "=====================================\n",
      "\n",
      "\n",
      "Final result: The optimal model's accuracy is 0.5416666666666666 and the optimal parameters are C=9.556428757689245 and penalty=l2\n"
     ]
    }
   ],
   "source": [
    "# Get the time that the optimization started\n",
    "start_time = datetime.now().strftime(\"%H:%M:%S\")\n",
    "\n",
    "# Boundaries of the hyperparameters\n",
    "params={'C' : (1,10)}\n",
    "\n",
    "# Optimization\n",
    "import warnings\n",
    "warnings.filterwarnings(\"ignore\", category=FutureWarning)\n",
    "\n",
    "lr_optimum = bo.optimize_lr(params)\n",
    "\n",
    "# Get the time that the optimization ended\n",
    "end_time = datetime.now().strftime(\"%H:%M:%S\")"
   ]
  },
  {
   "cell_type": "code",
   "execution_count": 34,
   "metadata": {
    "scrolled": true
   },
   "outputs": [
    {
     "name": "stdout",
     "output_type": "stream",
     "text": [
      "Minutes to execute: 0.07\n"
     ]
    }
   ],
   "source": [
    "print('Minutes to execute:', \n",
    "      round((datetime.strptime(end_time, '%H:%M:%S') - datetime.strptime(start_time, '%H:%M:%S')).seconds/60,2))"
   ]
  },
  {
   "cell_type": "markdown",
   "metadata": {},
   "source": [
    "Step 5: Test model's performance (on the testing set)"
   ]
  },
  {
   "cell_type": "code",
   "execution_count": 35,
   "metadata": {},
   "outputs": [],
   "source": [
    "# Declare the model\n",
    "clf = LogisticRegression(C=lr_optimum['params']['C'], penalty=lr_optimum['params']['penalty'],random_state=42)\n",
    "\n",
    "# Train the model on training data\n",
    "clf.fit(train, train_labels);"
   ]
  },
  {
   "cell_type": "markdown",
   "metadata": {},
   "source": [
    "###### Metrics on the Training set"
   ]
  },
  {
   "cell_type": "code",
   "execution_count": 36,
   "metadata": {},
   "outputs": [],
   "source": [
    "# Use the model's predict method \n",
    "predictions = clf.predict(train)"
   ]
  },
  {
   "cell_type": "code",
   "execution_count": 37,
   "metadata": {},
   "outputs": [
    {
     "name": "stdout",
     "output_type": "stream",
     "text": [
      "LR's training accuracy: 1.0\n"
     ]
    }
   ],
   "source": [
    "# Print the training accuracy\n",
    "print(\"LR's training accuracy:\", accuracy_score(train_labels, predictions))"
   ]
  },
  {
   "cell_type": "code",
   "execution_count": 38,
   "metadata": {},
   "outputs": [
    {
     "name": "stdout",
     "output_type": "stream",
     "text": [
      "              precision    recall  f1-score   support\n",
      "\n",
      "           0       1.00      1.00      1.00         5\n",
      "           1       1.00      1.00      1.00         5\n",
      "\n",
      "    accuracy                           1.00        10\n",
      "   macro avg       1.00      1.00      1.00        10\n",
      "weighted avg       1.00      1.00      1.00        10\n",
      "\n"
     ]
    }
   ],
   "source": [
    "# Print the classification report\n",
    "print(classification_report(train_labels,predictions))"
   ]
  },
  {
   "cell_type": "code",
   "execution_count": 39,
   "metadata": {},
   "outputs": [
    {
     "name": "stdout",
     "output_type": "stream",
     "text": [
      "Confusion Matrix:\n",
      "5 | 0\n",
      "-----\n",
      "0 | 5\n"
     ]
    }
   ],
   "source": [
    "cm = confusion_matrix(train_labels,predictions)\n",
    "print('Confusion Matrix:')\n",
    "print(cm[0][0],'|',cm[0][1])\n",
    "print('-----')\n",
    "print(cm[1][0],'|',cm[1][1])"
   ]
  },
  {
   "cell_type": "code",
   "execution_count": 40,
   "metadata": {},
   "outputs": [
    {
     "name": "stdout",
     "output_type": "stream",
     "text": [
      "Specificity: 1.0\n",
      "Sensitivity: 1.0\n"
     ]
    }
   ],
   "source": [
    "tn, fp, fn, tp = confusion_matrix(train_labels,predictions).ravel()\n",
    "specificity = tn / (tn + fp)\n",
    "sensitivity = tp / (tp + fn)\n",
    "print('Specificity:',specificity)\n",
    "print('Sensitivity:',sensitivity)"
   ]
  },
  {
   "cell_type": "code",
   "execution_count": 41,
   "metadata": {},
   "outputs": [
    {
     "name": "stdout",
     "output_type": "stream",
     "text": [
      "MCC: 1.0\n"
     ]
    }
   ],
   "source": [
    "# Print the MCC\n",
    "print('MCC:', matthews_corrcoef(train_labels,predictions))"
   ]
  },
  {
   "cell_type": "code",
   "execution_count": 42,
   "metadata": {},
   "outputs": [
    {
     "name": "stdout",
     "output_type": "stream",
     "text": [
      "List of scores: [0.33333333 0.33333333 1.         0.5       ]\n",
      "Mean of Cross Validtation: 0.5416666666666666\n"
     ]
    }
   ],
   "source": [
    "#Print the Cross-Validation Score\n",
    "scores = cross_val_score(clf, train, train_labels, cv=4)\n",
    "\n",
    "print('List of scores:', scores)\n",
    "print('Mean of Cross Validtation:', scores.mean())"
   ]
  },
  {
   "cell_type": "markdown",
   "metadata": {},
   "source": [
    "#### 4th iteration"
   ]
  },
  {
   "cell_type": "markdown",
   "metadata": {},
   "source": [
    "Get the features' importance"
   ]
  },
  {
   "cell_type": "code",
   "execution_count": 43,
   "metadata": {
    "scrolled": false
   },
   "outputs": [
    {
     "name": "stdout",
     "output_type": "stream",
     "text": [
      "Variable: Zave (12.5 ug/ml)    Importance: 1.393\n",
      "Variable: Endotoxins (EU/mg)   Importance: 1.351\n",
      "Variable: Length ave. (nm)     Importance: 1.287\n",
      "Variable: PdI  (200 ug/ml)     Importance: 1.214\n",
      "Variable: % Total Impurities   Importance: 1.013\n",
      "Variable: Peak (ug/ml)         Importance: 0.794\n",
      "Variable: Type_OH              Importance: 0.604\n",
      "Variable: PdI  (12.5 ug/ml)    Importance: 0.6\n",
      "Variable: Zave  (200 ug/ml)    Importance: 0.503\n",
      "Variable: Type_COOH            Importance: 0.438\n",
      "Variable: Diameter ave. (nm)   Importance: -0.533\n",
      "Variable: Diameter max. (nm)   Importance: -0.557\n",
      "Variable: OH mmol/g            Importance: -0.659\n",
      "Variable: COOH mmol/g          Importance: -0.668\n",
      "Variable: BET (m2/g)           Importance: -0.682\n",
      "Variable: ROS                  Importance: -0.712\n",
      "Variable: Type_NH2             Importance: -0.795\n",
      "Variable: CEA: C.H.N.O (wt%)   Importance: -1.327\n",
      "Variable: PdI (batch)          Importance: -1.48\n",
      "Variable: Purity (%)           Importance: -2.38\n"
     ]
    }
   ],
   "source": [
    "# Get numerical feature importances and feature names\n",
    "importances = list(clf.coef_.reshape(clf.coef_.shape[1]))\n",
    "feature_list = list(train.columns)\n",
    "\n",
    "# List of tuples with variable and importance\n",
    "feature_importances = [(feature, round(importance, 3)) for feature, importance in zip(feature_list, importances)]\n",
    "\n",
    "# Sort the feature importances by most important first\n",
    "feature_importances = sorted(feature_importances, key = lambda x: x[1], reverse = True)\n",
    "\n",
    "# Print out the feature and importances \n",
    "[print('Variable: {:20} Importance: {}'.format(*pair)) for pair in feature_importances];"
   ]
  },
  {
   "cell_type": "markdown",
   "metadata": {},
   "source": [
    "Exclude features with minimum importance"
   ]
  },
  {
   "cell_type": "code",
   "execution_count": 44,
   "metadata": {
    "scrolled": true
   },
   "outputs": [
    {
     "data": {
      "text/html": [
       "<div>\n",
       "<style scoped>\n",
       "    .dataframe tbody tr th:only-of-type {\n",
       "        vertical-align: middle;\n",
       "    }\n",
       "\n",
       "    .dataframe tbody tr th {\n",
       "        vertical-align: top;\n",
       "    }\n",
       "\n",
       "    .dataframe thead th {\n",
       "        text-align: right;\n",
       "    }\n",
       "</style>\n",
       "<table border=\"1\" class=\"dataframe\">\n",
       "  <thead>\n",
       "    <tr style=\"text-align: right;\">\n",
       "      <th></th>\n",
       "      <th>Length ave. (nm)</th>\n",
       "      <th>Diameter ave. (nm)</th>\n",
       "      <th>BET (m2/g)</th>\n",
       "      <th>Purity (%)</th>\n",
       "      <th>PdI (batch)</th>\n",
       "      <th>Zave (12.5 ug/ml)</th>\n",
       "      <th>PdI  (12.5 ug/ml)</th>\n",
       "      <th>Zave  (200 ug/ml)</th>\n",
       "      <th>PdI  (200 ug/ml)</th>\n",
       "      <th>ROS</th>\n",
       "      <th>Peak (ug/ml)</th>\n",
       "      <th>CEA: C.H.N.O (wt%)</th>\n",
       "      <th>OH mmol/g</th>\n",
       "      <th>COOH mmol/g</th>\n",
       "      <th>Endotoxins (EU/mg)</th>\n",
       "      <th>Diameter max. (nm)</th>\n",
       "      <th>Type_NH2</th>\n",
       "      <th>Type_OH</th>\n",
       "      <th>% Total Impurities</th>\n",
       "    </tr>\n",
       "  </thead>\n",
       "  <tbody>\n",
       "    <tr>\n",
       "      <th>2</th>\n",
       "      <td>0.039432</td>\n",
       "      <td>0.342857</td>\n",
       "      <td>0.521186</td>\n",
       "      <td>1.000000</td>\n",
       "      <td>0.413333</td>\n",
       "      <td>0.014556</td>\n",
       "      <td>0.097879</td>\n",
       "      <td>0.031408</td>\n",
       "      <td>0.357357</td>\n",
       "      <td>0.103896</td>\n",
       "      <td>1.000000</td>\n",
       "      <td>0.8</td>\n",
       "      <td>1.000000</td>\n",
       "      <td>1.000000</td>\n",
       "      <td>0.50</td>\n",
       "      <td>0.394805</td>\n",
       "      <td>0</td>\n",
       "      <td>0</td>\n",
       "      <td>0.048780</td>\n",
       "    </tr>\n",
       "    <tr>\n",
       "      <th>3</th>\n",
       "      <td>0.048716</td>\n",
       "      <td>0.796429</td>\n",
       "      <td>0.271186</td>\n",
       "      <td>0.923913</td>\n",
       "      <td>0.026667</td>\n",
       "      <td>0.000000</td>\n",
       "      <td>0.000000</td>\n",
       "      <td>0.013171</td>\n",
       "      <td>0.000000</td>\n",
       "      <td>0.298701</td>\n",
       "      <td>1.000000</td>\n",
       "      <td>0.8</td>\n",
       "      <td>0.036946</td>\n",
       "      <td>0.034653</td>\n",
       "      <td>0.48</td>\n",
       "      <td>0.775325</td>\n",
       "      <td>0</td>\n",
       "      <td>0</td>\n",
       "      <td>0.219889</td>\n",
       "    </tr>\n",
       "    <tr>\n",
       "      <th>4</th>\n",
       "      <td>0.156550</td>\n",
       "      <td>0.387500</td>\n",
       "      <td>0.237288</td>\n",
       "      <td>0.934783</td>\n",
       "      <td>0.024000</td>\n",
       "      <td>0.425036</td>\n",
       "      <td>0.365416</td>\n",
       "      <td>0.241641</td>\n",
       "      <td>0.822823</td>\n",
       "      <td>0.220779</td>\n",
       "      <td>1.000000</td>\n",
       "      <td>0.9</td>\n",
       "      <td>0.049261</td>\n",
       "      <td>0.044554</td>\n",
       "      <td>0.52</td>\n",
       "      <td>0.419481</td>\n",
       "      <td>0</td>\n",
       "      <td>1</td>\n",
       "      <td>0.190736</td>\n",
       "    </tr>\n",
       "    <tr>\n",
       "      <th>5</th>\n",
       "      <td>0.199591</td>\n",
       "      <td>0.342857</td>\n",
       "      <td>0.427966</td>\n",
       "      <td>0.684783</td>\n",
       "      <td>0.000000</td>\n",
       "      <td>0.278020</td>\n",
       "      <td>0.363785</td>\n",
       "      <td>0.084600</td>\n",
       "      <td>0.255255</td>\n",
       "      <td>0.194805</td>\n",
       "      <td>1.000000</td>\n",
       "      <td>0.5</td>\n",
       "      <td>0.147783</td>\n",
       "      <td>0.143564</td>\n",
       "      <td>0.66</td>\n",
       "      <td>0.412987</td>\n",
       "      <td>0</td>\n",
       "      <td>0</td>\n",
       "      <td>0.517711</td>\n",
       "    </tr>\n",
       "    <tr>\n",
       "      <th>6</th>\n",
       "      <td>0.038274</td>\n",
       "      <td>0.323214</td>\n",
       "      <td>0.868644</td>\n",
       "      <td>0.945652</td>\n",
       "      <td>0.552000</td>\n",
       "      <td>0.659389</td>\n",
       "      <td>0.407830</td>\n",
       "      <td>0.522290</td>\n",
       "      <td>0.573574</td>\n",
       "      <td>0.857143</td>\n",
       "      <td>0.094203</td>\n",
       "      <td>0.8</td>\n",
       "      <td>0.147783</td>\n",
       "      <td>0.148515</td>\n",
       "      <td>0.36</td>\n",
       "      <td>0.405195</td>\n",
       "      <td>0</td>\n",
       "      <td>0</td>\n",
       "      <td>0.136716</td>\n",
       "    </tr>\n",
       "  </tbody>\n",
       "</table>\n",
       "</div>"
      ],
      "text/plain": [
       "   Length ave. (nm)   Diameter ave. (nm)  BET (m2/g)  Purity (%)  PdI (batch)  \\\n",
       "2           0.039432            0.342857    0.521186    1.000000     0.413333   \n",
       "3           0.048716            0.796429    0.271186    0.923913     0.026667   \n",
       "4           0.156550            0.387500    0.237288    0.934783     0.024000   \n",
       "5           0.199591            0.342857    0.427966    0.684783     0.000000   \n",
       "6           0.038274            0.323214    0.868644    0.945652     0.552000   \n",
       "\n",
       "   Zave (12.5 ug/ml)  PdI  (12.5 ug/ml)  Zave  (200 ug/ml)  PdI  (200 ug/ml)  \\\n",
       "2           0.014556           0.097879           0.031408          0.357357   \n",
       "3           0.000000           0.000000           0.013171          0.000000   \n",
       "4           0.425036           0.365416           0.241641          0.822823   \n",
       "5           0.278020           0.363785           0.084600          0.255255   \n",
       "6           0.659389           0.407830           0.522290          0.573574   \n",
       "\n",
       "        ROS  Peak (ug/ml)  CEA: C.H.N.O (wt%)  OH mmol/g  COOH mmol/g  \\\n",
       "2  0.103896      1.000000                 0.8   1.000000     1.000000   \n",
       "3  0.298701      1.000000                 0.8   0.036946     0.034653   \n",
       "4  0.220779      1.000000                 0.9   0.049261     0.044554   \n",
       "5  0.194805      1.000000                 0.5   0.147783     0.143564   \n",
       "6  0.857143      0.094203                 0.8   0.147783     0.148515   \n",
       "\n",
       "   Endotoxins (EU/mg)  Diameter max. (nm)  Type_NH2  Type_OH  \\\n",
       "2                0.50            0.394805         0        0   \n",
       "3                0.48            0.775325         0        0   \n",
       "4                0.52            0.419481         0        1   \n",
       "5                0.66            0.412987         0        0   \n",
       "6                0.36            0.405195         0        0   \n",
       "\n",
       "   % Total Impurities  \n",
       "2            0.048780  \n",
       "3            0.219889  \n",
       "4            0.190736  \n",
       "5            0.517711  \n",
       "6            0.136716  "
      ]
     },
     "execution_count": 44,
     "metadata": {},
     "output_type": "execute_result"
    }
   ],
   "source": [
    "for i in range(len(feature_importances)):\n",
    "    if round(abs(feature_importances[i][1]),3)==min([round(abs(i),3) for i in importances]):\n",
    "        train.drop(feature_importances[i][0], axis=1, inplace=True)\n",
    "        test.drop(feature_importances[i][0], axis=1, inplace=True)\n",
    "        \n",
    "train.head()"
   ]
  },
  {
   "cell_type": "markdown",
   "metadata": {},
   "source": [
    "Optimize Logistc Regression"
   ]
  },
  {
   "cell_type": "code",
   "execution_count": 45,
   "metadata": {},
   "outputs": [],
   "source": [
    "bo = BayesOpt(train, train_labels, folds = 4, n_iter=30,log_scaling=False)"
   ]
  },
  {
   "cell_type": "code",
   "execution_count": 46,
   "metadata": {
    "scrolled": false
   },
   "outputs": [
    {
     "name": "stdout",
     "output_type": "stream",
     "text": [
      "Optimizing for l1 penalty\n",
      "|   iter    |  target   |     C     |\n",
      "-------------------------------------\n",
      "| \u001b[0m 1       \u001b[0m | \u001b[0m nan     \u001b[0m | \u001b[0m 4.371   \u001b[0m |\n",
      "| \u001b[0m 2       \u001b[0m | \u001b[0m nan     \u001b[0m | \u001b[0m 9.556   \u001b[0m |\n",
      "| \u001b[0m 3       \u001b[0m | \u001b[0m nan     \u001b[0m | \u001b[0m 7.588   \u001b[0m |\n",
      "| \u001b[0m 4       \u001b[0m | \u001b[0m nan     \u001b[0m | \u001b[0m 6.388   \u001b[0m |\n",
      "| \u001b[0m 5       \u001b[0m | \u001b[0m nan     \u001b[0m | \u001b[0m 2.404   \u001b[0m |\n",
      "Error related to scaling.\n",
      "Optimizing for l2 penalty\n",
      "|   iter    |  target   |     C     |\n",
      "-------------------------------------\n",
      "| \u001b[0m 1       \u001b[0m | \u001b[0m 0.5417  \u001b[0m | \u001b[0m 4.371   \u001b[0m |\n",
      "| \u001b[95m 2       \u001b[0m | \u001b[95m 0.625   \u001b[0m | \u001b[95m 9.556   \u001b[0m |\n",
      "| \u001b[0m 3       \u001b[0m | \u001b[0m 0.625   \u001b[0m | \u001b[0m 7.588   \u001b[0m |\n",
      "| \u001b[0m 4       \u001b[0m | \u001b[0m 0.625   \u001b[0m | \u001b[0m 6.388   \u001b[0m |\n",
      "| \u001b[0m 5       \u001b[0m | \u001b[0m 0.4167  \u001b[0m | \u001b[0m 2.404   \u001b[0m |\n",
      "| \u001b[0m 6       \u001b[0m | \u001b[0m 0.625   \u001b[0m | \u001b[0m 10.0    \u001b[0m |\n",
      "| \u001b[0m 7       \u001b[0m | \u001b[0m 0.625   \u001b[0m | \u001b[0m 8.535   \u001b[0m |\n",
      "| \u001b[0m 8       \u001b[0m | \u001b[0m 0.625   \u001b[0m | \u001b[0m 6.908   \u001b[0m |\n",
      "| \u001b[0m 9       \u001b[0m | \u001b[0m 0.625   \u001b[0m | \u001b[0m 8.073   \u001b[0m |\n",
      "| \u001b[0m 10      \u001b[0m | \u001b[0m 0.625   \u001b[0m | \u001b[0m 9.061   \u001b[0m |\n",
      "| \u001b[0m 11      \u001b[0m | \u001b[0m 0.625   \u001b[0m | \u001b[0m 6.613   \u001b[0m |\n",
      "| \u001b[0m 12      \u001b[0m | \u001b[0m 0.625   \u001b[0m | \u001b[0m 7.26    \u001b[0m |\n",
      "| \u001b[0m 13      \u001b[0m | \u001b[0m 0.625   \u001b[0m | \u001b[0m 9.806   \u001b[0m |\n",
      "| \u001b[0m 14      \u001b[0m | \u001b[0m 0.625   \u001b[0m | \u001b[0m 8.797   \u001b[0m |\n",
      "| \u001b[0m 15      \u001b[0m | \u001b[0m 0.625   \u001b[0m | \u001b[0m 7.835   \u001b[0m |\n",
      "| \u001b[0m 16      \u001b[0m | \u001b[0m 0.625   \u001b[0m | \u001b[0m 9.308   \u001b[0m |\n",
      "| \u001b[0m 17      \u001b[0m | \u001b[0m 0.625   \u001b[0m | \u001b[0m 8.306   \u001b[0m |\n",
      "| \u001b[0m 18      \u001b[0m | \u001b[0m 0.625   \u001b[0m | \u001b[0m 6.5     \u001b[0m |\n",
      "| \u001b[0m 19      \u001b[0m | \u001b[0m 0.625   \u001b[0m | \u001b[0m 7.084   \u001b[0m |\n",
      "| \u001b[0m 20      \u001b[0m | \u001b[0m 0.625   \u001b[0m | \u001b[0m 7.422   \u001b[0m |\n",
      "| \u001b[0m 21      \u001b[0m | \u001b[0m 0.625   \u001b[0m | \u001b[0m 8.928   \u001b[0m |\n",
      "| \u001b[0m 22      \u001b[0m | \u001b[0m 0.625   \u001b[0m | \u001b[0m 8.664   \u001b[0m |\n",
      "| \u001b[0m 23      \u001b[0m | \u001b[0m 0.625   \u001b[0m | \u001b[0m 6.765   \u001b[0m |\n",
      "| \u001b[0m 24      \u001b[0m | \u001b[0m 0.625   \u001b[0m | \u001b[0m 9.685   \u001b[0m |\n",
      "| \u001b[0m 25      \u001b[0m | \u001b[0m 0.625   \u001b[0m | \u001b[0m 9.432   \u001b[0m |\n",
      "| \u001b[0m 26      \u001b[0m | \u001b[0m 0.625   \u001b[0m | \u001b[0m 9.183   \u001b[0m |\n",
      "| \u001b[0m 27      \u001b[0m | \u001b[0m 0.625   \u001b[0m | \u001b[0m 7.71    \u001b[0m |\n",
      "| \u001b[0m 28      \u001b[0m | \u001b[0m 0.625   \u001b[0m | \u001b[0m 9.893   \u001b[0m |\n",
      "| \u001b[0m 29      \u001b[0m | \u001b[0m 0.625   \u001b[0m | \u001b[0m 7.954   \u001b[0m |\n",
      "| \u001b[0m 30      \u001b[0m | \u001b[0m 0.625   \u001b[0m | \u001b[0m 8.192   \u001b[0m |\n",
      "| \u001b[0m 31      \u001b[0m | \u001b[0m 0.625   \u001b[0m | \u001b[0m 8.419   \u001b[0m |\n",
      "| \u001b[0m 32      \u001b[0m | \u001b[0m 0.625   \u001b[0m | \u001b[0m 6.488   \u001b[0m |\n",
      "| \u001b[0m 33      \u001b[0m | \u001b[0m 0.625   \u001b[0m | \u001b[0m 6.279   \u001b[0m |\n",
      "| \u001b[0m 34      \u001b[0m | \u001b[0m 0.625   \u001b[0m | \u001b[0m 6.279   \u001b[0m |\n",
      "| \u001b[0m 35      \u001b[0m | \u001b[0m 0.625   \u001b[0m | \u001b[0m 10.0    \u001b[0m |\n",
      "=====================================\n",
      "\n",
      "\n",
      "Final result: The optimal model's accuracy is 0.625 and the optimal parameters are C=9.556428757689245 and penalty=l2\n"
     ]
    }
   ],
   "source": [
    "# Get the time that the optimization started\n",
    "start_time = datetime.now().strftime(\"%H:%M:%S\")\n",
    "\n",
    "# Boundaries of the hyperparameters\n",
    "params={'C' : (1,10)}\n",
    "\n",
    "# Optimization\n",
    "import warnings\n",
    "warnings.filterwarnings(\"ignore\", category=FutureWarning)\n",
    "\n",
    "lr_optimum = bo.optimize_lr(params)\n",
    "\n",
    "# Get the time that the optimization ended\n",
    "end_time = datetime.now().strftime(\"%H:%M:%S\")"
   ]
  },
  {
   "cell_type": "code",
   "execution_count": 47,
   "metadata": {
    "scrolled": true
   },
   "outputs": [
    {
     "name": "stdout",
     "output_type": "stream",
     "text": [
      "Minutes to execute: 0.07\n"
     ]
    }
   ],
   "source": [
    "print('Minutes to execute:', \n",
    "      round((datetime.strptime(end_time, '%H:%M:%S') - datetime.strptime(start_time, '%H:%M:%S')).seconds/60,2))"
   ]
  },
  {
   "cell_type": "markdown",
   "metadata": {},
   "source": [
    "Step 5: Test model's performance (on the testing set)"
   ]
  },
  {
   "cell_type": "code",
   "execution_count": 48,
   "metadata": {},
   "outputs": [],
   "source": [
    "# Declare the model\n",
    "clf = LogisticRegression(C=lr_optimum['params']['C'], penalty=lr_optimum['params']['penalty'],random_state=42)\n",
    "\n",
    "# Train the model on training data\n",
    "clf.fit(train, train_labels);"
   ]
  },
  {
   "cell_type": "markdown",
   "metadata": {},
   "source": [
    "###### Metrics on the Training set"
   ]
  },
  {
   "cell_type": "code",
   "execution_count": 49,
   "metadata": {},
   "outputs": [],
   "source": [
    "# Use the model's predict method \n",
    "predictions = clf.predict(train)"
   ]
  },
  {
   "cell_type": "code",
   "execution_count": 50,
   "metadata": {},
   "outputs": [
    {
     "name": "stdout",
     "output_type": "stream",
     "text": [
      "LR's training accuracy: 1.0\n"
     ]
    }
   ],
   "source": [
    "# Print the training accuracy\n",
    "print(\"LR's training accuracy:\", accuracy_score(train_labels, predictions))"
   ]
  },
  {
   "cell_type": "code",
   "execution_count": 51,
   "metadata": {},
   "outputs": [
    {
     "name": "stdout",
     "output_type": "stream",
     "text": [
      "              precision    recall  f1-score   support\n",
      "\n",
      "           0       1.00      1.00      1.00         5\n",
      "           1       1.00      1.00      1.00         5\n",
      "\n",
      "    accuracy                           1.00        10\n",
      "   macro avg       1.00      1.00      1.00        10\n",
      "weighted avg       1.00      1.00      1.00        10\n",
      "\n"
     ]
    }
   ],
   "source": [
    "# Print the classification report\n",
    "print(classification_report(train_labels,predictions))"
   ]
  },
  {
   "cell_type": "code",
   "execution_count": 52,
   "metadata": {},
   "outputs": [
    {
     "name": "stdout",
     "output_type": "stream",
     "text": [
      "Confusion Matrix:\n",
      "5 | 0\n",
      "-----\n",
      "0 | 5\n"
     ]
    }
   ],
   "source": [
    "cm = confusion_matrix(train_labels,predictions)\n",
    "print('Confusion Matrix:')\n",
    "print(cm[0][0],'|',cm[0][1])\n",
    "print('-----')\n",
    "print(cm[1][0],'|',cm[1][1])"
   ]
  },
  {
   "cell_type": "code",
   "execution_count": 53,
   "metadata": {},
   "outputs": [
    {
     "name": "stdout",
     "output_type": "stream",
     "text": [
      "Specificity: 1.0\n",
      "Sensitivity: 1.0\n"
     ]
    }
   ],
   "source": [
    "tn, fp, fn, tp = confusion_matrix(train_labels,predictions).ravel()\n",
    "specificity = tn / (tn + fp)\n",
    "sensitivity = tp / (tp + fn)\n",
    "print('Specificity:',specificity)\n",
    "print('Sensitivity:',sensitivity)"
   ]
  },
  {
   "cell_type": "code",
   "execution_count": 54,
   "metadata": {},
   "outputs": [
    {
     "name": "stdout",
     "output_type": "stream",
     "text": [
      "MCC: 1.0\n"
     ]
    }
   ],
   "source": [
    "# Print the MCC\n",
    "print('MCC:', matthews_corrcoef(train_labels,predictions))"
   ]
  },
  {
   "cell_type": "code",
   "execution_count": 55,
   "metadata": {},
   "outputs": [
    {
     "name": "stdout",
     "output_type": "stream",
     "text": [
      "List of scores: [0.33333333 0.66666667 1.         0.5       ]\n",
      "Mean of Cross Validtation: 0.625\n"
     ]
    }
   ],
   "source": [
    "#Print the Cross-Validation Score\n",
    "scores = cross_val_score(clf, train, train_labels, cv=4)\n",
    "\n",
    "print('List of scores:', scores)\n",
    "print('Mean of Cross Validtation:', scores.mean())"
   ]
  },
  {
   "cell_type": "markdown",
   "metadata": {},
   "source": [
    "#### 5th iteration"
   ]
  },
  {
   "cell_type": "markdown",
   "metadata": {},
   "source": [
    "Get the features' importance"
   ]
  },
  {
   "cell_type": "code",
   "execution_count": 56,
   "metadata": {
    "scrolled": false
   },
   "outputs": [
    {
     "name": "stdout",
     "output_type": "stream",
     "text": [
      "Variable: Endotoxins (EU/mg)   Importance: 1.412\n",
      "Variable: Zave (12.5 ug/ml)    Importance: 1.374\n",
      "Variable: Length ave. (nm)     Importance: 1.287\n",
      "Variable: PdI  (200 ug/ml)     Importance: 1.154\n",
      "Variable: % Total Impurities   Importance: 1.063\n",
      "Variable: Peak (ug/ml)         Importance: 0.85\n",
      "Variable: PdI  (12.5 ug/ml)    Importance: 0.61\n",
      "Variable: Type_OH              Importance: 0.559\n",
      "Variable: Zave  (200 ug/ml)    Importance: 0.473\n",
      "Variable: OH mmol/g            Importance: -0.555\n",
      "Variable: COOH mmol/g          Importance: -0.564\n",
      "Variable: Diameter max. (nm)   Importance: -0.586\n",
      "Variable: Diameter ave. (nm)   Importance: -0.589\n",
      "Variable: BET (m2/g)           Importance: -0.684\n",
      "Variable: ROS                  Importance: -0.772\n",
      "Variable: Type_NH2             Importance: -0.816\n",
      "Variable: CEA: C.H.N.O (wt%)   Importance: -1.379\n",
      "Variable: PdI (batch)          Importance: -1.518\n",
      "Variable: Purity (%)           Importance: -2.337\n"
     ]
    }
   ],
   "source": [
    "# Get numerical feature importances and feature names\n",
    "importances = list(clf.coef_.reshape(clf.coef_.shape[1]))\n",
    "feature_list = list(train.columns)\n",
    "\n",
    "# List of tuples with variable and importance\n",
    "feature_importances = [(feature, round(importance, 3)) for feature, importance in zip(feature_list, importances)]\n",
    "\n",
    "# Sort the feature importances by most important first\n",
    "feature_importances = sorted(feature_importances, key = lambda x: x[1], reverse = True)\n",
    "\n",
    "# Print out the feature and importances \n",
    "[print('Variable: {:20} Importance: {}'.format(*pair)) for pair in feature_importances];"
   ]
  },
  {
   "cell_type": "markdown",
   "metadata": {},
   "source": [
    "Exclude features with minimum importance"
   ]
  },
  {
   "cell_type": "code",
   "execution_count": 57,
   "metadata": {
    "scrolled": true
   },
   "outputs": [
    {
     "data": {
      "text/html": [
       "<div>\n",
       "<style scoped>\n",
       "    .dataframe tbody tr th:only-of-type {\n",
       "        vertical-align: middle;\n",
       "    }\n",
       "\n",
       "    .dataframe tbody tr th {\n",
       "        vertical-align: top;\n",
       "    }\n",
       "\n",
       "    .dataframe thead th {\n",
       "        text-align: right;\n",
       "    }\n",
       "</style>\n",
       "<table border=\"1\" class=\"dataframe\">\n",
       "  <thead>\n",
       "    <tr style=\"text-align: right;\">\n",
       "      <th></th>\n",
       "      <th>Length ave. (nm)</th>\n",
       "      <th>Diameter ave. (nm)</th>\n",
       "      <th>BET (m2/g)</th>\n",
       "      <th>Purity (%)</th>\n",
       "      <th>PdI (batch)</th>\n",
       "      <th>Zave (12.5 ug/ml)</th>\n",
       "      <th>PdI  (12.5 ug/ml)</th>\n",
       "      <th>PdI  (200 ug/ml)</th>\n",
       "      <th>ROS</th>\n",
       "      <th>Peak (ug/ml)</th>\n",
       "      <th>CEA: C.H.N.O (wt%)</th>\n",
       "      <th>OH mmol/g</th>\n",
       "      <th>COOH mmol/g</th>\n",
       "      <th>Endotoxins (EU/mg)</th>\n",
       "      <th>Diameter max. (nm)</th>\n",
       "      <th>Type_NH2</th>\n",
       "      <th>Type_OH</th>\n",
       "      <th>% Total Impurities</th>\n",
       "    </tr>\n",
       "  </thead>\n",
       "  <tbody>\n",
       "    <tr>\n",
       "      <th>2</th>\n",
       "      <td>0.039432</td>\n",
       "      <td>0.342857</td>\n",
       "      <td>0.521186</td>\n",
       "      <td>1.000000</td>\n",
       "      <td>0.413333</td>\n",
       "      <td>0.014556</td>\n",
       "      <td>0.097879</td>\n",
       "      <td>0.357357</td>\n",
       "      <td>0.103896</td>\n",
       "      <td>1.000000</td>\n",
       "      <td>0.8</td>\n",
       "      <td>1.000000</td>\n",
       "      <td>1.000000</td>\n",
       "      <td>0.50</td>\n",
       "      <td>0.394805</td>\n",
       "      <td>0</td>\n",
       "      <td>0</td>\n",
       "      <td>0.048780</td>\n",
       "    </tr>\n",
       "    <tr>\n",
       "      <th>3</th>\n",
       "      <td>0.048716</td>\n",
       "      <td>0.796429</td>\n",
       "      <td>0.271186</td>\n",
       "      <td>0.923913</td>\n",
       "      <td>0.026667</td>\n",
       "      <td>0.000000</td>\n",
       "      <td>0.000000</td>\n",
       "      <td>0.000000</td>\n",
       "      <td>0.298701</td>\n",
       "      <td>1.000000</td>\n",
       "      <td>0.8</td>\n",
       "      <td>0.036946</td>\n",
       "      <td>0.034653</td>\n",
       "      <td>0.48</td>\n",
       "      <td>0.775325</td>\n",
       "      <td>0</td>\n",
       "      <td>0</td>\n",
       "      <td>0.219889</td>\n",
       "    </tr>\n",
       "    <tr>\n",
       "      <th>4</th>\n",
       "      <td>0.156550</td>\n",
       "      <td>0.387500</td>\n",
       "      <td>0.237288</td>\n",
       "      <td>0.934783</td>\n",
       "      <td>0.024000</td>\n",
       "      <td>0.425036</td>\n",
       "      <td>0.365416</td>\n",
       "      <td>0.822823</td>\n",
       "      <td>0.220779</td>\n",
       "      <td>1.000000</td>\n",
       "      <td>0.9</td>\n",
       "      <td>0.049261</td>\n",
       "      <td>0.044554</td>\n",
       "      <td>0.52</td>\n",
       "      <td>0.419481</td>\n",
       "      <td>0</td>\n",
       "      <td>1</td>\n",
       "      <td>0.190736</td>\n",
       "    </tr>\n",
       "    <tr>\n",
       "      <th>5</th>\n",
       "      <td>0.199591</td>\n",
       "      <td>0.342857</td>\n",
       "      <td>0.427966</td>\n",
       "      <td>0.684783</td>\n",
       "      <td>0.000000</td>\n",
       "      <td>0.278020</td>\n",
       "      <td>0.363785</td>\n",
       "      <td>0.255255</td>\n",
       "      <td>0.194805</td>\n",
       "      <td>1.000000</td>\n",
       "      <td>0.5</td>\n",
       "      <td>0.147783</td>\n",
       "      <td>0.143564</td>\n",
       "      <td>0.66</td>\n",
       "      <td>0.412987</td>\n",
       "      <td>0</td>\n",
       "      <td>0</td>\n",
       "      <td>0.517711</td>\n",
       "    </tr>\n",
       "    <tr>\n",
       "      <th>6</th>\n",
       "      <td>0.038274</td>\n",
       "      <td>0.323214</td>\n",
       "      <td>0.868644</td>\n",
       "      <td>0.945652</td>\n",
       "      <td>0.552000</td>\n",
       "      <td>0.659389</td>\n",
       "      <td>0.407830</td>\n",
       "      <td>0.573574</td>\n",
       "      <td>0.857143</td>\n",
       "      <td>0.094203</td>\n",
       "      <td>0.8</td>\n",
       "      <td>0.147783</td>\n",
       "      <td>0.148515</td>\n",
       "      <td>0.36</td>\n",
       "      <td>0.405195</td>\n",
       "      <td>0</td>\n",
       "      <td>0</td>\n",
       "      <td>0.136716</td>\n",
       "    </tr>\n",
       "  </tbody>\n",
       "</table>\n",
       "</div>"
      ],
      "text/plain": [
       "   Length ave. (nm)   Diameter ave. (nm)  BET (m2/g)  Purity (%)  PdI (batch)  \\\n",
       "2           0.039432            0.342857    0.521186    1.000000     0.413333   \n",
       "3           0.048716            0.796429    0.271186    0.923913     0.026667   \n",
       "4           0.156550            0.387500    0.237288    0.934783     0.024000   \n",
       "5           0.199591            0.342857    0.427966    0.684783     0.000000   \n",
       "6           0.038274            0.323214    0.868644    0.945652     0.552000   \n",
       "\n",
       "   Zave (12.5 ug/ml)  PdI  (12.5 ug/ml)  PdI  (200 ug/ml)       ROS  \\\n",
       "2           0.014556           0.097879          0.357357  0.103896   \n",
       "3           0.000000           0.000000          0.000000  0.298701   \n",
       "4           0.425036           0.365416          0.822823  0.220779   \n",
       "5           0.278020           0.363785          0.255255  0.194805   \n",
       "6           0.659389           0.407830          0.573574  0.857143   \n",
       "\n",
       "   Peak (ug/ml)  CEA: C.H.N.O (wt%)  OH mmol/g  COOH mmol/g  \\\n",
       "2      1.000000                 0.8   1.000000     1.000000   \n",
       "3      1.000000                 0.8   0.036946     0.034653   \n",
       "4      1.000000                 0.9   0.049261     0.044554   \n",
       "5      1.000000                 0.5   0.147783     0.143564   \n",
       "6      0.094203                 0.8   0.147783     0.148515   \n",
       "\n",
       "   Endotoxins (EU/mg)  Diameter max. (nm)  Type_NH2  Type_OH  \\\n",
       "2                0.50            0.394805         0        0   \n",
       "3                0.48            0.775325         0        0   \n",
       "4                0.52            0.419481         0        1   \n",
       "5                0.66            0.412987         0        0   \n",
       "6                0.36            0.405195         0        0   \n",
       "\n",
       "   % Total Impurities  \n",
       "2            0.048780  \n",
       "3            0.219889  \n",
       "4            0.190736  \n",
       "5            0.517711  \n",
       "6            0.136716  "
      ]
     },
     "execution_count": 57,
     "metadata": {},
     "output_type": "execute_result"
    }
   ],
   "source": [
    "for i in range(len(feature_importances)):\n",
    "    if round(abs(feature_importances[i][1]),3)==min([round(abs(i),3) for i in importances]):\n",
    "        train.drop(feature_importances[i][0], axis=1, inplace=True)\n",
    "        test.drop(feature_importances[i][0], axis=1, inplace=True)\n",
    "        \n",
    "train.head()"
   ]
  },
  {
   "cell_type": "markdown",
   "metadata": {},
   "source": [
    "Optimize Logistc Regression"
   ]
  },
  {
   "cell_type": "code",
   "execution_count": 58,
   "metadata": {},
   "outputs": [],
   "source": [
    "bo = BayesOpt(train, train_labels, folds = 4, n_iter=30,log_scaling=False)"
   ]
  },
  {
   "cell_type": "code",
   "execution_count": 59,
   "metadata": {
    "scrolled": false
   },
   "outputs": [
    {
     "name": "stdout",
     "output_type": "stream",
     "text": [
      "Optimizing for l1 penalty\n",
      "|   iter    |  target   |     C     |\n",
      "-------------------------------------\n",
      "| \u001b[0m 1       \u001b[0m | \u001b[0m nan     \u001b[0m | \u001b[0m 4.371   \u001b[0m |\n",
      "| \u001b[0m 2       \u001b[0m | \u001b[0m nan     \u001b[0m | \u001b[0m 9.556   \u001b[0m |\n",
      "| \u001b[0m 3       \u001b[0m | \u001b[0m nan     \u001b[0m | \u001b[0m 7.588   \u001b[0m |\n",
      "| \u001b[0m 4       \u001b[0m | \u001b[0m nan     \u001b[0m | \u001b[0m 6.388   \u001b[0m |\n",
      "| \u001b[0m 5       \u001b[0m | \u001b[0m nan     \u001b[0m | \u001b[0m 2.404   \u001b[0m |\n",
      "Error related to scaling.\n",
      "Optimizing for l2 penalty\n",
      "|   iter    |  target   |     C     |\n",
      "-------------------------------------\n",
      "| \u001b[0m 1       \u001b[0m | \u001b[0m 0.625   \u001b[0m | \u001b[0m 4.371   \u001b[0m |\n",
      "| \u001b[0m 2       \u001b[0m | \u001b[0m 0.625   \u001b[0m | \u001b[0m 9.556   \u001b[0m |\n",
      "| \u001b[0m 3       \u001b[0m | \u001b[0m 0.625   \u001b[0m | \u001b[0m 7.588   \u001b[0m |\n",
      "| \u001b[0m 4       \u001b[0m | \u001b[0m 0.625   \u001b[0m | \u001b[0m 6.388   \u001b[0m |\n",
      "| \u001b[0m 5       \u001b[0m | \u001b[0m 0.625   \u001b[0m | \u001b[0m 2.404   \u001b[0m |\n",
      "Error related to scaling.\n",
      "\n",
      "\n",
      "Final result: The optimal model's accuracy is 0.625 and the optimal parameters are C=4.370861069626263 and penalty=l2\n"
     ]
    }
   ],
   "source": [
    "# Get the time that the optimization started\n",
    "start_time = datetime.now().strftime(\"%H:%M:%S\")\n",
    "\n",
    "# Boundaries of the hyperparameters\n",
    "params={'C' : (1,10)}\n",
    "\n",
    "# Optimization\n",
    "import warnings\n",
    "warnings.filterwarnings(\"ignore\", category=FutureWarning)\n",
    "\n",
    "lr_optimum = bo.optimize_lr(params)\n",
    "\n",
    "# Get the time that the optimization ended\n",
    "end_time = datetime.now().strftime(\"%H:%M:%S\")"
   ]
  },
  {
   "cell_type": "code",
   "execution_count": 60,
   "metadata": {
    "scrolled": true
   },
   "outputs": [
    {
     "name": "stdout",
     "output_type": "stream",
     "text": [
      "Minutes to execute: 0.0\n"
     ]
    }
   ],
   "source": [
    "print('Minutes to execute:', \n",
    "      round((datetime.strptime(end_time, '%H:%M:%S') - datetime.strptime(start_time, '%H:%M:%S')).seconds/60,2))"
   ]
  },
  {
   "cell_type": "markdown",
   "metadata": {},
   "source": [
    "Step 5: Test model's performance (on the testing set)"
   ]
  },
  {
   "cell_type": "code",
   "execution_count": 61,
   "metadata": {},
   "outputs": [],
   "source": [
    "# Declare the model\n",
    "clf = LogisticRegression(C=lr_optimum['params']['C'], penalty=lr_optimum['params']['penalty'],random_state=42)\n",
    "\n",
    "# Train the model on training data\n",
    "clf.fit(train, train_labels);"
   ]
  },
  {
   "cell_type": "markdown",
   "metadata": {},
   "source": [
    "###### Metrics on the Training set"
   ]
  },
  {
   "cell_type": "code",
   "execution_count": 62,
   "metadata": {},
   "outputs": [],
   "source": [
    "# Use the model's predict method \n",
    "predictions = clf.predict(train)"
   ]
  },
  {
   "cell_type": "code",
   "execution_count": 63,
   "metadata": {},
   "outputs": [
    {
     "name": "stdout",
     "output_type": "stream",
     "text": [
      "LR's training accuracy: 1.0\n"
     ]
    }
   ],
   "source": [
    "# Print the training accuracy\n",
    "print(\"LR's training accuracy:\", accuracy_score(train_labels, predictions))"
   ]
  },
  {
   "cell_type": "code",
   "execution_count": 64,
   "metadata": {},
   "outputs": [
    {
     "name": "stdout",
     "output_type": "stream",
     "text": [
      "              precision    recall  f1-score   support\n",
      "\n",
      "           0       1.00      1.00      1.00         5\n",
      "           1       1.00      1.00      1.00         5\n",
      "\n",
      "    accuracy                           1.00        10\n",
      "   macro avg       1.00      1.00      1.00        10\n",
      "weighted avg       1.00      1.00      1.00        10\n",
      "\n"
     ]
    }
   ],
   "source": [
    "# Print the classification report\n",
    "print(classification_report(train_labels,predictions))"
   ]
  },
  {
   "cell_type": "code",
   "execution_count": 65,
   "metadata": {},
   "outputs": [
    {
     "name": "stdout",
     "output_type": "stream",
     "text": [
      "Confusion Matrix:\n",
      "5 | 0\n",
      "-----\n",
      "0 | 5\n"
     ]
    }
   ],
   "source": [
    "cm = confusion_matrix(train_labels,predictions)\n",
    "print('Confusion Matrix:')\n",
    "print(cm[0][0],'|',cm[0][1])\n",
    "print('-----')\n",
    "print(cm[1][0],'|',cm[1][1])"
   ]
  },
  {
   "cell_type": "code",
   "execution_count": 66,
   "metadata": {},
   "outputs": [
    {
     "name": "stdout",
     "output_type": "stream",
     "text": [
      "Specificity: 1.0\n",
      "Sensitivity: 1.0\n"
     ]
    }
   ],
   "source": [
    "tn, fp, fn, tp = confusion_matrix(train_labels,predictions).ravel()\n",
    "specificity = tn / (tn + fp)\n",
    "sensitivity = tp / (tp + fn)\n",
    "print('Specificity:',specificity)\n",
    "print('Sensitivity:',sensitivity)"
   ]
  },
  {
   "cell_type": "code",
   "execution_count": 67,
   "metadata": {},
   "outputs": [
    {
     "name": "stdout",
     "output_type": "stream",
     "text": [
      "MCC: 1.0\n"
     ]
    }
   ],
   "source": [
    "# Print the MCC\n",
    "print('MCC:', matthews_corrcoef(train_labels,predictions))"
   ]
  },
  {
   "cell_type": "code",
   "execution_count": 68,
   "metadata": {},
   "outputs": [
    {
     "name": "stdout",
     "output_type": "stream",
     "text": [
      "List of scores: [0.33333333 0.66666667 1.         0.5       ]\n",
      "Mean of Cross Validtation: 0.625\n"
     ]
    }
   ],
   "source": [
    "#Print the Cross-Validation Score\n",
    "scores = cross_val_score(clf, train, train_labels, cv=4)\n",
    "\n",
    "print('List of scores:', scores)\n",
    "print('Mean of Cross Validtation:', scores.mean())"
   ]
  },
  {
   "cell_type": "markdown",
   "metadata": {},
   "source": [
    "#### 6th iteration"
   ]
  },
  {
   "cell_type": "markdown",
   "metadata": {},
   "source": [
    "Get the features' importance"
   ]
  },
  {
   "cell_type": "code",
   "execution_count": 69,
   "metadata": {
    "scrolled": false
   },
   "outputs": [
    {
     "name": "stdout",
     "output_type": "stream",
     "text": [
      "Variable: Zave (12.5 ug/ml)    Importance: 1.105\n",
      "Variable: Endotoxins (EU/mg)   Importance: 1.016\n",
      "Variable: Length ave. (nm)     Importance: 1.001\n",
      "Variable: PdI  (200 ug/ml)     Importance: 0.789\n",
      "Variable: % Total Impurities   Importance: 0.784\n",
      "Variable: Peak (ug/ml)         Importance: 0.551\n",
      "Variable: PdI  (12.5 ug/ml)    Importance: 0.404\n",
      "Variable: Type_OH              Importance: 0.325\n",
      "Variable: Diameter ave. (nm)   Importance: -0.34\n",
      "Variable: Diameter max. (nm)   Importance: -0.347\n",
      "Variable: OH mmol/g            Importance: -0.462\n",
      "Variable: COOH mmol/g          Importance: -0.468\n",
      "Variable: BET (m2/g)           Importance: -0.494\n",
      "Variable: ROS                  Importance: -0.529\n",
      "Variable: Type_NH2             Importance: -0.625\n",
      "Variable: CEA: C.H.N.O (wt%)   Importance: -0.926\n",
      "Variable: PdI (batch)          Importance: -1.081\n",
      "Variable: Purity (%)           Importance: -1.7\n"
     ]
    }
   ],
   "source": [
    "# Get numerical feature importances and feature names\n",
    "importances = list(clf.coef_.reshape(clf.coef_.shape[1]))\n",
    "feature_list = list(train.columns)\n",
    "\n",
    "# List of tuples with variable and importance\n",
    "feature_importances = [(feature, round(importance, 3)) for feature, importance in zip(feature_list, importances)]\n",
    "\n",
    "# Sort the feature importances by most important first\n",
    "feature_importances = sorted(feature_importances, key = lambda x: x[1], reverse = True)\n",
    "\n",
    "# Print out the feature and importances \n",
    "[print('Variable: {:20} Importance: {}'.format(*pair)) for pair in feature_importances];"
   ]
  },
  {
   "cell_type": "markdown",
   "metadata": {},
   "source": [
    "Exclude features with minimum importance"
   ]
  },
  {
   "cell_type": "code",
   "execution_count": 70,
   "metadata": {
    "scrolled": true
   },
   "outputs": [
    {
     "data": {
      "text/html": [
       "<div>\n",
       "<style scoped>\n",
       "    .dataframe tbody tr th:only-of-type {\n",
       "        vertical-align: middle;\n",
       "    }\n",
       "\n",
       "    .dataframe tbody tr th {\n",
       "        vertical-align: top;\n",
       "    }\n",
       "\n",
       "    .dataframe thead th {\n",
       "        text-align: right;\n",
       "    }\n",
       "</style>\n",
       "<table border=\"1\" class=\"dataframe\">\n",
       "  <thead>\n",
       "    <tr style=\"text-align: right;\">\n",
       "      <th></th>\n",
       "      <th>Length ave. (nm)</th>\n",
       "      <th>Diameter ave. (nm)</th>\n",
       "      <th>BET (m2/g)</th>\n",
       "      <th>Purity (%)</th>\n",
       "      <th>PdI (batch)</th>\n",
       "      <th>Zave (12.5 ug/ml)</th>\n",
       "      <th>PdI  (12.5 ug/ml)</th>\n",
       "      <th>PdI  (200 ug/ml)</th>\n",
       "      <th>ROS</th>\n",
       "      <th>Peak (ug/ml)</th>\n",
       "      <th>CEA: C.H.N.O (wt%)</th>\n",
       "      <th>OH mmol/g</th>\n",
       "      <th>COOH mmol/g</th>\n",
       "      <th>Endotoxins (EU/mg)</th>\n",
       "      <th>Diameter max. (nm)</th>\n",
       "      <th>Type_NH2</th>\n",
       "      <th>% Total Impurities</th>\n",
       "    </tr>\n",
       "  </thead>\n",
       "  <tbody>\n",
       "    <tr>\n",
       "      <th>2</th>\n",
       "      <td>0.039432</td>\n",
       "      <td>0.342857</td>\n",
       "      <td>0.521186</td>\n",
       "      <td>1.000000</td>\n",
       "      <td>0.413333</td>\n",
       "      <td>0.014556</td>\n",
       "      <td>0.097879</td>\n",
       "      <td>0.357357</td>\n",
       "      <td>0.103896</td>\n",
       "      <td>1.000000</td>\n",
       "      <td>0.8</td>\n",
       "      <td>1.000000</td>\n",
       "      <td>1.000000</td>\n",
       "      <td>0.50</td>\n",
       "      <td>0.394805</td>\n",
       "      <td>0</td>\n",
       "      <td>0.048780</td>\n",
       "    </tr>\n",
       "    <tr>\n",
       "      <th>3</th>\n",
       "      <td>0.048716</td>\n",
       "      <td>0.796429</td>\n",
       "      <td>0.271186</td>\n",
       "      <td>0.923913</td>\n",
       "      <td>0.026667</td>\n",
       "      <td>0.000000</td>\n",
       "      <td>0.000000</td>\n",
       "      <td>0.000000</td>\n",
       "      <td>0.298701</td>\n",
       "      <td>1.000000</td>\n",
       "      <td>0.8</td>\n",
       "      <td>0.036946</td>\n",
       "      <td>0.034653</td>\n",
       "      <td>0.48</td>\n",
       "      <td>0.775325</td>\n",
       "      <td>0</td>\n",
       "      <td>0.219889</td>\n",
       "    </tr>\n",
       "    <tr>\n",
       "      <th>4</th>\n",
       "      <td>0.156550</td>\n",
       "      <td>0.387500</td>\n",
       "      <td>0.237288</td>\n",
       "      <td>0.934783</td>\n",
       "      <td>0.024000</td>\n",
       "      <td>0.425036</td>\n",
       "      <td>0.365416</td>\n",
       "      <td>0.822823</td>\n",
       "      <td>0.220779</td>\n",
       "      <td>1.000000</td>\n",
       "      <td>0.9</td>\n",
       "      <td>0.049261</td>\n",
       "      <td>0.044554</td>\n",
       "      <td>0.52</td>\n",
       "      <td>0.419481</td>\n",
       "      <td>0</td>\n",
       "      <td>0.190736</td>\n",
       "    </tr>\n",
       "    <tr>\n",
       "      <th>5</th>\n",
       "      <td>0.199591</td>\n",
       "      <td>0.342857</td>\n",
       "      <td>0.427966</td>\n",
       "      <td>0.684783</td>\n",
       "      <td>0.000000</td>\n",
       "      <td>0.278020</td>\n",
       "      <td>0.363785</td>\n",
       "      <td>0.255255</td>\n",
       "      <td>0.194805</td>\n",
       "      <td>1.000000</td>\n",
       "      <td>0.5</td>\n",
       "      <td>0.147783</td>\n",
       "      <td>0.143564</td>\n",
       "      <td>0.66</td>\n",
       "      <td>0.412987</td>\n",
       "      <td>0</td>\n",
       "      <td>0.517711</td>\n",
       "    </tr>\n",
       "    <tr>\n",
       "      <th>6</th>\n",
       "      <td>0.038274</td>\n",
       "      <td>0.323214</td>\n",
       "      <td>0.868644</td>\n",
       "      <td>0.945652</td>\n",
       "      <td>0.552000</td>\n",
       "      <td>0.659389</td>\n",
       "      <td>0.407830</td>\n",
       "      <td>0.573574</td>\n",
       "      <td>0.857143</td>\n",
       "      <td>0.094203</td>\n",
       "      <td>0.8</td>\n",
       "      <td>0.147783</td>\n",
       "      <td>0.148515</td>\n",
       "      <td>0.36</td>\n",
       "      <td>0.405195</td>\n",
       "      <td>0</td>\n",
       "      <td>0.136716</td>\n",
       "    </tr>\n",
       "  </tbody>\n",
       "</table>\n",
       "</div>"
      ],
      "text/plain": [
       "   Length ave. (nm)   Diameter ave. (nm)  BET (m2/g)  Purity (%)  PdI (batch)  \\\n",
       "2           0.039432            0.342857    0.521186    1.000000     0.413333   \n",
       "3           0.048716            0.796429    0.271186    0.923913     0.026667   \n",
       "4           0.156550            0.387500    0.237288    0.934783     0.024000   \n",
       "5           0.199591            0.342857    0.427966    0.684783     0.000000   \n",
       "6           0.038274            0.323214    0.868644    0.945652     0.552000   \n",
       "\n",
       "   Zave (12.5 ug/ml)  PdI  (12.5 ug/ml)  PdI  (200 ug/ml)       ROS  \\\n",
       "2           0.014556           0.097879          0.357357  0.103896   \n",
       "3           0.000000           0.000000          0.000000  0.298701   \n",
       "4           0.425036           0.365416          0.822823  0.220779   \n",
       "5           0.278020           0.363785          0.255255  0.194805   \n",
       "6           0.659389           0.407830          0.573574  0.857143   \n",
       "\n",
       "   Peak (ug/ml)  CEA: C.H.N.O (wt%)  OH mmol/g  COOH mmol/g  \\\n",
       "2      1.000000                 0.8   1.000000     1.000000   \n",
       "3      1.000000                 0.8   0.036946     0.034653   \n",
       "4      1.000000                 0.9   0.049261     0.044554   \n",
       "5      1.000000                 0.5   0.147783     0.143564   \n",
       "6      0.094203                 0.8   0.147783     0.148515   \n",
       "\n",
       "   Endotoxins (EU/mg)  Diameter max. (nm)  Type_NH2  % Total Impurities  \n",
       "2                0.50            0.394805         0            0.048780  \n",
       "3                0.48            0.775325         0            0.219889  \n",
       "4                0.52            0.419481         0            0.190736  \n",
       "5                0.66            0.412987         0            0.517711  \n",
       "6                0.36            0.405195         0            0.136716  "
      ]
     },
     "execution_count": 70,
     "metadata": {},
     "output_type": "execute_result"
    }
   ],
   "source": [
    "for i in range(len(feature_importances)):\n",
    "    if round(abs(feature_importances[i][1]),3)==min([round(abs(i),3) for i in importances]):\n",
    "        train.drop(feature_importances[i][0], axis=1, inplace=True)\n",
    "        test.drop(feature_importances[i][0], axis=1, inplace=True)\n",
    "        \n",
    "train.head()"
   ]
  },
  {
   "cell_type": "markdown",
   "metadata": {},
   "source": [
    "Optimize Logistc Regression"
   ]
  },
  {
   "cell_type": "code",
   "execution_count": 71,
   "metadata": {},
   "outputs": [],
   "source": [
    "bo = BayesOpt(train, train_labels, folds = 4, n_iter=30,log_scaling=False)"
   ]
  },
  {
   "cell_type": "code",
   "execution_count": 72,
   "metadata": {
    "scrolled": false
   },
   "outputs": [
    {
     "name": "stdout",
     "output_type": "stream",
     "text": [
      "Optimizing for l1 penalty\n",
      "|   iter    |  target   |     C     |\n",
      "-------------------------------------\n",
      "| \u001b[0m 1       \u001b[0m | \u001b[0m nan     \u001b[0m | \u001b[0m 4.371   \u001b[0m |\n",
      "| \u001b[0m 2       \u001b[0m | \u001b[0m nan     \u001b[0m | \u001b[0m 9.556   \u001b[0m |\n",
      "| \u001b[0m 3       \u001b[0m | \u001b[0m nan     \u001b[0m | \u001b[0m 7.588   \u001b[0m |\n",
      "| \u001b[0m 4       \u001b[0m | \u001b[0m nan     \u001b[0m | \u001b[0m 6.388   \u001b[0m |\n",
      "| \u001b[0m 5       \u001b[0m | \u001b[0m nan     \u001b[0m | \u001b[0m 2.404   \u001b[0m |\n",
      "Error related to scaling.\n",
      "Optimizing for l2 penalty\n",
      "|   iter    |  target   |     C     |\n",
      "-------------------------------------\n",
      "| \u001b[0m 1       \u001b[0m | \u001b[0m 0.625   \u001b[0m | \u001b[0m 4.371   \u001b[0m |\n",
      "| \u001b[0m 2       \u001b[0m | \u001b[0m 0.625   \u001b[0m | \u001b[0m 9.556   \u001b[0m |\n",
      "| \u001b[0m 3       \u001b[0m | \u001b[0m 0.625   \u001b[0m | \u001b[0m 7.588   \u001b[0m |\n",
      "| \u001b[0m 4       \u001b[0m | \u001b[0m 0.625   \u001b[0m | \u001b[0m 6.388   \u001b[0m |\n",
      "| \u001b[0m 5       \u001b[0m | \u001b[0m 0.625   \u001b[0m | \u001b[0m 2.404   \u001b[0m |\n",
      "Error related to scaling.\n",
      "\n",
      "\n",
      "Final result: The optimal model's accuracy is 0.625 and the optimal parameters are C=4.370861069626263 and penalty=l2\n"
     ]
    }
   ],
   "source": [
    "# Get the time that the optimization started\n",
    "start_time = datetime.now().strftime(\"%H:%M:%S\")\n",
    "\n",
    "# Boundaries of the hyperparameters\n",
    "params={'C' : (1,10)}\n",
    "\n",
    "# Optimization\n",
    "import warnings\n",
    "warnings.filterwarnings(\"ignore\", category=FutureWarning)\n",
    "\n",
    "lr_optimum = bo.optimize_lr(params)\n",
    "\n",
    "# Get the time that the optimization ended\n",
    "end_time = datetime.now().strftime(\"%H:%M:%S\")"
   ]
  },
  {
   "cell_type": "code",
   "execution_count": 73,
   "metadata": {
    "scrolled": true
   },
   "outputs": [
    {
     "name": "stdout",
     "output_type": "stream",
     "text": [
      "Minutes to execute: 0.0\n"
     ]
    }
   ],
   "source": [
    "print('Minutes to execute:', \n",
    "      round((datetime.strptime(end_time, '%H:%M:%S') - datetime.strptime(start_time, '%H:%M:%S')).seconds/60,2))"
   ]
  },
  {
   "cell_type": "markdown",
   "metadata": {},
   "source": [
    "Step 5: Test model's performance (on the testing set)"
   ]
  },
  {
   "cell_type": "code",
   "execution_count": 74,
   "metadata": {},
   "outputs": [],
   "source": [
    "# Declare the model\n",
    "clf = LogisticRegression(C=lr_optimum['params']['C'], penalty=lr_optimum['params']['penalty'],random_state=42)\n",
    "\n",
    "# Train the model on training data\n",
    "clf.fit(train, train_labels);"
   ]
  },
  {
   "cell_type": "markdown",
   "metadata": {},
   "source": [
    "###### Metrics on the Training set"
   ]
  },
  {
   "cell_type": "code",
   "execution_count": 75,
   "metadata": {},
   "outputs": [],
   "source": [
    "# Use the model's predict method \n",
    "predictions = clf.predict(train)"
   ]
  },
  {
   "cell_type": "code",
   "execution_count": 76,
   "metadata": {},
   "outputs": [
    {
     "name": "stdout",
     "output_type": "stream",
     "text": [
      "LR's training accuracy: 1.0\n"
     ]
    }
   ],
   "source": [
    "# Print the training accuracy\n",
    "print(\"LR's training accuracy:\", accuracy_score(train_labels, predictions))"
   ]
  },
  {
   "cell_type": "code",
   "execution_count": 77,
   "metadata": {},
   "outputs": [
    {
     "name": "stdout",
     "output_type": "stream",
     "text": [
      "              precision    recall  f1-score   support\n",
      "\n",
      "           0       1.00      1.00      1.00         5\n",
      "           1       1.00      1.00      1.00         5\n",
      "\n",
      "    accuracy                           1.00        10\n",
      "   macro avg       1.00      1.00      1.00        10\n",
      "weighted avg       1.00      1.00      1.00        10\n",
      "\n"
     ]
    }
   ],
   "source": [
    "# Print the classification report\n",
    "print(classification_report(train_labels,predictions))"
   ]
  },
  {
   "cell_type": "code",
   "execution_count": 78,
   "metadata": {},
   "outputs": [
    {
     "name": "stdout",
     "output_type": "stream",
     "text": [
      "Confusion Matrix:\n",
      "5 | 0\n",
      "-----\n",
      "0 | 5\n"
     ]
    }
   ],
   "source": [
    "cm = confusion_matrix(train_labels,predictions)\n",
    "print('Confusion Matrix:')\n",
    "print(cm[0][0],'|',cm[0][1])\n",
    "print('-----')\n",
    "print(cm[1][0],'|',cm[1][1])"
   ]
  },
  {
   "cell_type": "code",
   "execution_count": 79,
   "metadata": {},
   "outputs": [
    {
     "name": "stdout",
     "output_type": "stream",
     "text": [
      "Specificity: 1.0\n",
      "Sensitivity: 1.0\n"
     ]
    }
   ],
   "source": [
    "tn, fp, fn, tp = confusion_matrix(train_labels,predictions).ravel()\n",
    "specificity = tn / (tn + fp)\n",
    "sensitivity = tp / (tp + fn)\n",
    "print('Specificity:',specificity)\n",
    "print('Sensitivity:',sensitivity)"
   ]
  },
  {
   "cell_type": "code",
   "execution_count": 80,
   "metadata": {},
   "outputs": [
    {
     "name": "stdout",
     "output_type": "stream",
     "text": [
      "MCC: 1.0\n"
     ]
    }
   ],
   "source": [
    "# Print the MCC\n",
    "print('MCC:', matthews_corrcoef(train_labels,predictions))"
   ]
  },
  {
   "cell_type": "code",
   "execution_count": 81,
   "metadata": {},
   "outputs": [
    {
     "name": "stdout",
     "output_type": "stream",
     "text": [
      "List of scores: [0.33333333 0.66666667 1.         0.5       ]\n",
      "Mean of Cross Validtation: 0.625\n"
     ]
    }
   ],
   "source": [
    "#Print the Cross-Validation Score\n",
    "scores = cross_val_score(clf, train, train_labels, cv=4)\n",
    "\n",
    "print('List of scores:', scores)\n",
    "print('Mean of Cross Validtation:', scores.mean())"
   ]
  },
  {
   "cell_type": "markdown",
   "metadata": {},
   "source": [
    "#### 7th iteration"
   ]
  },
  {
   "cell_type": "markdown",
   "metadata": {},
   "source": [
    "Get the features' importance"
   ]
  },
  {
   "cell_type": "code",
   "execution_count": 82,
   "metadata": {
    "scrolled": false
   },
   "outputs": [
    {
     "name": "stdout",
     "output_type": "stream",
     "text": [
      "Variable: Zave (12.5 ug/ml)    Importance: 1.094\n",
      "Variable: Endotoxins (EU/mg)   Importance: 0.978\n",
      "Variable: Length ave. (nm)     Importance: 0.977\n",
      "Variable: PdI  (200 ug/ml)     Importance: 0.855\n",
      "Variable: % Total Impurities   Importance: 0.761\n",
      "Variable: Peak (ug/ml)         Importance: 0.525\n",
      "Variable: PdI  (12.5 ug/ml)    Importance: 0.393\n",
      "Variable: Diameter ave. (nm)   Importance: -0.367\n",
      "Variable: Diameter max. (nm)   Importance: -0.371\n",
      "Variable: OH mmol/g            Importance: -0.492\n",
      "Variable: COOH mmol/g          Importance: -0.498\n",
      "Variable: BET (m2/g)           Importance: -0.521\n",
      "Variable: ROS                  Importance: -0.574\n",
      "Variable: Type_NH2             Importance: -0.665\n",
      "Variable: CEA: C.H.N.O (wt%)   Importance: -0.88\n",
      "Variable: PdI (batch)          Importance: -1.126\n",
      "Variable: Purity (%)           Importance: -1.648\n"
     ]
    }
   ],
   "source": [
    "# Get numerical feature importances and feature names\n",
    "importances = list(clf.coef_.reshape(clf.coef_.shape[1]))\n",
    "feature_list = list(train.columns)\n",
    "\n",
    "# List of tuples with variable and importance\n",
    "feature_importances = [(feature, round(importance, 3)) for feature, importance in zip(feature_list, importances)]\n",
    "\n",
    "# Sort the feature importances by most important first\n",
    "feature_importances = sorted(feature_importances, key = lambda x: x[1], reverse = True)\n",
    "\n",
    "# Print out the feature and importances \n",
    "[print('Variable: {:20} Importance: {}'.format(*pair)) for pair in feature_importances];"
   ]
  },
  {
   "cell_type": "markdown",
   "metadata": {},
   "source": [
    "Exclude features with minimum importance"
   ]
  },
  {
   "cell_type": "code",
   "execution_count": 83,
   "metadata": {
    "scrolled": true
   },
   "outputs": [
    {
     "data": {
      "text/html": [
       "<div>\n",
       "<style scoped>\n",
       "    .dataframe tbody tr th:only-of-type {\n",
       "        vertical-align: middle;\n",
       "    }\n",
       "\n",
       "    .dataframe tbody tr th {\n",
       "        vertical-align: top;\n",
       "    }\n",
       "\n",
       "    .dataframe thead th {\n",
       "        text-align: right;\n",
       "    }\n",
       "</style>\n",
       "<table border=\"1\" class=\"dataframe\">\n",
       "  <thead>\n",
       "    <tr style=\"text-align: right;\">\n",
       "      <th></th>\n",
       "      <th>Length ave. (nm)</th>\n",
       "      <th>BET (m2/g)</th>\n",
       "      <th>Purity (%)</th>\n",
       "      <th>PdI (batch)</th>\n",
       "      <th>Zave (12.5 ug/ml)</th>\n",
       "      <th>PdI  (12.5 ug/ml)</th>\n",
       "      <th>PdI  (200 ug/ml)</th>\n",
       "      <th>ROS</th>\n",
       "      <th>Peak (ug/ml)</th>\n",
       "      <th>CEA: C.H.N.O (wt%)</th>\n",
       "      <th>OH mmol/g</th>\n",
       "      <th>COOH mmol/g</th>\n",
       "      <th>Endotoxins (EU/mg)</th>\n",
       "      <th>Diameter max. (nm)</th>\n",
       "      <th>Type_NH2</th>\n",
       "      <th>% Total Impurities</th>\n",
       "    </tr>\n",
       "  </thead>\n",
       "  <tbody>\n",
       "    <tr>\n",
       "      <th>2</th>\n",
       "      <td>0.039432</td>\n",
       "      <td>0.521186</td>\n",
       "      <td>1.000000</td>\n",
       "      <td>0.413333</td>\n",
       "      <td>0.014556</td>\n",
       "      <td>0.097879</td>\n",
       "      <td>0.357357</td>\n",
       "      <td>0.103896</td>\n",
       "      <td>1.000000</td>\n",
       "      <td>0.8</td>\n",
       "      <td>1.000000</td>\n",
       "      <td>1.000000</td>\n",
       "      <td>0.50</td>\n",
       "      <td>0.394805</td>\n",
       "      <td>0</td>\n",
       "      <td>0.048780</td>\n",
       "    </tr>\n",
       "    <tr>\n",
       "      <th>3</th>\n",
       "      <td>0.048716</td>\n",
       "      <td>0.271186</td>\n",
       "      <td>0.923913</td>\n",
       "      <td>0.026667</td>\n",
       "      <td>0.000000</td>\n",
       "      <td>0.000000</td>\n",
       "      <td>0.000000</td>\n",
       "      <td>0.298701</td>\n",
       "      <td>1.000000</td>\n",
       "      <td>0.8</td>\n",
       "      <td>0.036946</td>\n",
       "      <td>0.034653</td>\n",
       "      <td>0.48</td>\n",
       "      <td>0.775325</td>\n",
       "      <td>0</td>\n",
       "      <td>0.219889</td>\n",
       "    </tr>\n",
       "    <tr>\n",
       "      <th>4</th>\n",
       "      <td>0.156550</td>\n",
       "      <td>0.237288</td>\n",
       "      <td>0.934783</td>\n",
       "      <td>0.024000</td>\n",
       "      <td>0.425036</td>\n",
       "      <td>0.365416</td>\n",
       "      <td>0.822823</td>\n",
       "      <td>0.220779</td>\n",
       "      <td>1.000000</td>\n",
       "      <td>0.9</td>\n",
       "      <td>0.049261</td>\n",
       "      <td>0.044554</td>\n",
       "      <td>0.52</td>\n",
       "      <td>0.419481</td>\n",
       "      <td>0</td>\n",
       "      <td>0.190736</td>\n",
       "    </tr>\n",
       "    <tr>\n",
       "      <th>5</th>\n",
       "      <td>0.199591</td>\n",
       "      <td>0.427966</td>\n",
       "      <td>0.684783</td>\n",
       "      <td>0.000000</td>\n",
       "      <td>0.278020</td>\n",
       "      <td>0.363785</td>\n",
       "      <td>0.255255</td>\n",
       "      <td>0.194805</td>\n",
       "      <td>1.000000</td>\n",
       "      <td>0.5</td>\n",
       "      <td>0.147783</td>\n",
       "      <td>0.143564</td>\n",
       "      <td>0.66</td>\n",
       "      <td>0.412987</td>\n",
       "      <td>0</td>\n",
       "      <td>0.517711</td>\n",
       "    </tr>\n",
       "    <tr>\n",
       "      <th>6</th>\n",
       "      <td>0.038274</td>\n",
       "      <td>0.868644</td>\n",
       "      <td>0.945652</td>\n",
       "      <td>0.552000</td>\n",
       "      <td>0.659389</td>\n",
       "      <td>0.407830</td>\n",
       "      <td>0.573574</td>\n",
       "      <td>0.857143</td>\n",
       "      <td>0.094203</td>\n",
       "      <td>0.8</td>\n",
       "      <td>0.147783</td>\n",
       "      <td>0.148515</td>\n",
       "      <td>0.36</td>\n",
       "      <td>0.405195</td>\n",
       "      <td>0</td>\n",
       "      <td>0.136716</td>\n",
       "    </tr>\n",
       "  </tbody>\n",
       "</table>\n",
       "</div>"
      ],
      "text/plain": [
       "   Length ave. (nm)   BET (m2/g)  Purity (%)  PdI (batch)  Zave (12.5 ug/ml)  \\\n",
       "2           0.039432    0.521186    1.000000     0.413333           0.014556   \n",
       "3           0.048716    0.271186    0.923913     0.026667           0.000000   \n",
       "4           0.156550    0.237288    0.934783     0.024000           0.425036   \n",
       "5           0.199591    0.427966    0.684783     0.000000           0.278020   \n",
       "6           0.038274    0.868644    0.945652     0.552000           0.659389   \n",
       "\n",
       "   PdI  (12.5 ug/ml)  PdI  (200 ug/ml)       ROS  Peak (ug/ml)  \\\n",
       "2           0.097879          0.357357  0.103896      1.000000   \n",
       "3           0.000000          0.000000  0.298701      1.000000   \n",
       "4           0.365416          0.822823  0.220779      1.000000   \n",
       "5           0.363785          0.255255  0.194805      1.000000   \n",
       "6           0.407830          0.573574  0.857143      0.094203   \n",
       "\n",
       "   CEA: C.H.N.O (wt%)  OH mmol/g  COOH mmol/g  Endotoxins (EU/mg)  \\\n",
       "2                 0.8   1.000000     1.000000                0.50   \n",
       "3                 0.8   0.036946     0.034653                0.48   \n",
       "4                 0.9   0.049261     0.044554                0.52   \n",
       "5                 0.5   0.147783     0.143564                0.66   \n",
       "6                 0.8   0.147783     0.148515                0.36   \n",
       "\n",
       "   Diameter max. (nm)  Type_NH2  % Total Impurities  \n",
       "2            0.394805         0            0.048780  \n",
       "3            0.775325         0            0.219889  \n",
       "4            0.419481         0            0.190736  \n",
       "5            0.412987         0            0.517711  \n",
       "6            0.405195         0            0.136716  "
      ]
     },
     "execution_count": 83,
     "metadata": {},
     "output_type": "execute_result"
    }
   ],
   "source": [
    "for i in range(len(feature_importances)):\n",
    "    if round(abs(feature_importances[i][1]),3)==min([round(abs(i),3) for i in importances]):\n",
    "        train.drop(feature_importances[i][0], axis=1, inplace=True)\n",
    "        test.drop(feature_importances[i][0], axis=1, inplace=True)\n",
    "        \n",
    "train.head()"
   ]
  },
  {
   "cell_type": "markdown",
   "metadata": {},
   "source": [
    "Optimize Logistc Regression"
   ]
  },
  {
   "cell_type": "code",
   "execution_count": 84,
   "metadata": {},
   "outputs": [],
   "source": [
    "bo = BayesOpt(train, train_labels, folds = 4, n_iter=30,log_scaling=False)"
   ]
  },
  {
   "cell_type": "code",
   "execution_count": 85,
   "metadata": {
    "scrolled": false
   },
   "outputs": [
    {
     "name": "stdout",
     "output_type": "stream",
     "text": [
      "Optimizing for l1 penalty\n",
      "|   iter    |  target   |     C     |\n",
      "-------------------------------------\n",
      "| \u001b[0m 1       \u001b[0m | \u001b[0m nan     \u001b[0m | \u001b[0m 4.371   \u001b[0m |\n",
      "| \u001b[0m 2       \u001b[0m | \u001b[0m nan     \u001b[0m | \u001b[0m 9.556   \u001b[0m |\n",
      "| \u001b[0m 3       \u001b[0m | \u001b[0m nan     \u001b[0m | \u001b[0m 7.588   \u001b[0m |\n",
      "| \u001b[0m 4       \u001b[0m | \u001b[0m nan     \u001b[0m | \u001b[0m 6.388   \u001b[0m |\n",
      "| \u001b[0m 5       \u001b[0m | \u001b[0m nan     \u001b[0m | \u001b[0m 2.404   \u001b[0m |\n",
      "Error related to scaling.\n",
      "Optimizing for l2 penalty\n",
      "|   iter    |  target   |     C     |\n",
      "-------------------------------------\n",
      "| \u001b[0m 1       \u001b[0m | \u001b[0m 0.625   \u001b[0m | \u001b[0m 4.371   \u001b[0m |\n",
      "| \u001b[0m 2       \u001b[0m | \u001b[0m 0.625   \u001b[0m | \u001b[0m 9.556   \u001b[0m |\n",
      "| \u001b[0m 3       \u001b[0m | \u001b[0m 0.625   \u001b[0m | \u001b[0m 7.588   \u001b[0m |\n",
      "| \u001b[0m 4       \u001b[0m | \u001b[0m 0.625   \u001b[0m | \u001b[0m 6.388   \u001b[0m |\n",
      "| \u001b[0m 5       \u001b[0m | \u001b[0m 0.625   \u001b[0m | \u001b[0m 2.404   \u001b[0m |\n",
      "Error related to scaling.\n",
      "\n",
      "\n",
      "Final result: The optimal model's accuracy is 0.625 and the optimal parameters are C=4.370861069626263 and penalty=l2\n"
     ]
    }
   ],
   "source": [
    "# Get the time that the optimization started\n",
    "start_time = datetime.now().strftime(\"%H:%M:%S\")\n",
    "\n",
    "# Boundaries of the hyperparameters\n",
    "params={'C' : (1,10)}\n",
    "\n",
    "# Optimization\n",
    "import warnings\n",
    "warnings.filterwarnings(\"ignore\", category=FutureWarning)\n",
    "\n",
    "lr_optimum = bo.optimize_lr(params)\n",
    "\n",
    "# Get the time that the optimization ended\n",
    "end_time = datetime.now().strftime(\"%H:%M:%S\")"
   ]
  },
  {
   "cell_type": "code",
   "execution_count": 86,
   "metadata": {
    "scrolled": true
   },
   "outputs": [
    {
     "name": "stdout",
     "output_type": "stream",
     "text": [
      "Minutes to execute: 0.0\n"
     ]
    }
   ],
   "source": [
    "print('Minutes to execute:', \n",
    "      round((datetime.strptime(end_time, '%H:%M:%S') - datetime.strptime(start_time, '%H:%M:%S')).seconds/60,2))"
   ]
  },
  {
   "cell_type": "markdown",
   "metadata": {},
   "source": [
    "Step 5: Test model's performance (on the testing set)"
   ]
  },
  {
   "cell_type": "code",
   "execution_count": 87,
   "metadata": {},
   "outputs": [],
   "source": [
    "# Declare the model\n",
    "clf = LogisticRegression(C=lr_optimum['params']['C'], penalty=lr_optimum['params']['penalty'],random_state=42)\n",
    "\n",
    "# Train the model on training data\n",
    "clf.fit(train, train_labels);"
   ]
  },
  {
   "cell_type": "markdown",
   "metadata": {},
   "source": [
    "###### Metrics on the Training set"
   ]
  },
  {
   "cell_type": "code",
   "execution_count": 88,
   "metadata": {},
   "outputs": [],
   "source": [
    "# Use the model's predict method \n",
    "predictions = clf.predict(train)"
   ]
  },
  {
   "cell_type": "code",
   "execution_count": 89,
   "metadata": {},
   "outputs": [
    {
     "name": "stdout",
     "output_type": "stream",
     "text": [
      "LR's training accuracy: 1.0\n"
     ]
    }
   ],
   "source": [
    "# Print the training accuracy\n",
    "print(\"LR's training accuracy:\", accuracy_score(train_labels, predictions))"
   ]
  },
  {
   "cell_type": "code",
   "execution_count": 90,
   "metadata": {},
   "outputs": [
    {
     "name": "stdout",
     "output_type": "stream",
     "text": [
      "              precision    recall  f1-score   support\n",
      "\n",
      "           0       1.00      1.00      1.00         5\n",
      "           1       1.00      1.00      1.00         5\n",
      "\n",
      "    accuracy                           1.00        10\n",
      "   macro avg       1.00      1.00      1.00        10\n",
      "weighted avg       1.00      1.00      1.00        10\n",
      "\n"
     ]
    }
   ],
   "source": [
    "# Print the classification report\n",
    "print(classification_report(train_labels,predictions))"
   ]
  },
  {
   "cell_type": "code",
   "execution_count": 91,
   "metadata": {},
   "outputs": [
    {
     "name": "stdout",
     "output_type": "stream",
     "text": [
      "Confusion Matrix:\n",
      "5 | 0\n",
      "-----\n",
      "0 | 5\n"
     ]
    }
   ],
   "source": [
    "cm = confusion_matrix(train_labels,predictions)\n",
    "print('Confusion Matrix:')\n",
    "print(cm[0][0],'|',cm[0][1])\n",
    "print('-----')\n",
    "print(cm[1][0],'|',cm[1][1])"
   ]
  },
  {
   "cell_type": "code",
   "execution_count": 92,
   "metadata": {},
   "outputs": [
    {
     "name": "stdout",
     "output_type": "stream",
     "text": [
      "Specificity: 1.0\n",
      "Sensitivity: 1.0\n"
     ]
    }
   ],
   "source": [
    "tn, fp, fn, tp = confusion_matrix(train_labels,predictions).ravel()\n",
    "specificity = tn / (tn + fp)\n",
    "sensitivity = tp / (tp + fn)\n",
    "print('Specificity:',specificity)\n",
    "print('Sensitivity:',sensitivity)"
   ]
  },
  {
   "cell_type": "code",
   "execution_count": 93,
   "metadata": {},
   "outputs": [
    {
     "name": "stdout",
     "output_type": "stream",
     "text": [
      "MCC: 1.0\n"
     ]
    }
   ],
   "source": [
    "# Print the MCC\n",
    "print('MCC:', matthews_corrcoef(train_labels,predictions))"
   ]
  },
  {
   "cell_type": "code",
   "execution_count": 94,
   "metadata": {},
   "outputs": [
    {
     "name": "stdout",
     "output_type": "stream",
     "text": [
      "List of scores: [0.33333333 0.66666667 1.         0.5       ]\n",
      "Mean of Cross Validtation: 0.625\n"
     ]
    }
   ],
   "source": [
    "#Print the Cross-Validation Score\n",
    "scores = cross_val_score(clf, train, train_labels, cv=4)\n",
    "\n",
    "print('List of scores:', scores)\n",
    "print('Mean of Cross Validtation:', scores.mean())"
   ]
  },
  {
   "cell_type": "markdown",
   "metadata": {},
   "source": [
    "#### 8th iteration"
   ]
  },
  {
   "cell_type": "markdown",
   "metadata": {},
   "source": [
    "Get the features' importance"
   ]
  },
  {
   "cell_type": "code",
   "execution_count": 95,
   "metadata": {
    "scrolled": false
   },
   "outputs": [
    {
     "name": "stdout",
     "output_type": "stream",
     "text": [
      "Variable: Zave (12.5 ug/ml)    Importance: 1.085\n",
      "Variable: Length ave. (nm)     Importance: 0.948\n",
      "Variable: Endotoxins (EU/mg)   Importance: 0.946\n",
      "Variable: PdI  (200 ug/ml)     Importance: 0.9\n",
      "Variable: % Total Impurities   Importance: 0.78\n",
      "Variable: Peak (ug/ml)         Importance: 0.513\n",
      "Variable: PdI  (12.5 ug/ml)    Importance: 0.424\n",
      "Variable: Diameter max. (nm)   Importance: -0.434\n",
      "Variable: OH mmol/g            Importance: -0.478\n",
      "Variable: BET (m2/g)           Importance: -0.479\n",
      "Variable: COOH mmol/g          Importance: -0.485\n",
      "Variable: ROS                  Importance: -0.568\n",
      "Variable: Type_NH2             Importance: -0.656\n",
      "Variable: CEA: C.H.N.O (wt%)   Importance: -0.9\n",
      "Variable: PdI (batch)          Importance: -1.102\n",
      "Variable: Purity (%)           Importance: -1.683\n"
     ]
    }
   ],
   "source": [
    "# Get numerical feature importances and feature names\n",
    "importances = list(clf.coef_.reshape(clf.coef_.shape[1]))\n",
    "feature_list = list(train.columns)\n",
    "\n",
    "# List of tuples with variable and importance\n",
    "feature_importances = [(feature, round(importance, 3)) for feature, importance in zip(feature_list, importances)]\n",
    "\n",
    "# Sort the feature importances by most important first\n",
    "feature_importances = sorted(feature_importances, key = lambda x: x[1], reverse = True)\n",
    "\n",
    "# Print out the feature and importances \n",
    "[print('Variable: {:20} Importance: {}'.format(*pair)) for pair in feature_importances];"
   ]
  },
  {
   "cell_type": "markdown",
   "metadata": {},
   "source": [
    "Exclude features with minimum importance"
   ]
  },
  {
   "cell_type": "code",
   "execution_count": 96,
   "metadata": {
    "scrolled": true
   },
   "outputs": [
    {
     "data": {
      "text/html": [
       "<div>\n",
       "<style scoped>\n",
       "    .dataframe tbody tr th:only-of-type {\n",
       "        vertical-align: middle;\n",
       "    }\n",
       "\n",
       "    .dataframe tbody tr th {\n",
       "        vertical-align: top;\n",
       "    }\n",
       "\n",
       "    .dataframe thead th {\n",
       "        text-align: right;\n",
       "    }\n",
       "</style>\n",
       "<table border=\"1\" class=\"dataframe\">\n",
       "  <thead>\n",
       "    <tr style=\"text-align: right;\">\n",
       "      <th></th>\n",
       "      <th>Length ave. (nm)</th>\n",
       "      <th>BET (m2/g)</th>\n",
       "      <th>Purity (%)</th>\n",
       "      <th>PdI (batch)</th>\n",
       "      <th>Zave (12.5 ug/ml)</th>\n",
       "      <th>PdI  (200 ug/ml)</th>\n",
       "      <th>ROS</th>\n",
       "      <th>Peak (ug/ml)</th>\n",
       "      <th>CEA: C.H.N.O (wt%)</th>\n",
       "      <th>OH mmol/g</th>\n",
       "      <th>COOH mmol/g</th>\n",
       "      <th>Endotoxins (EU/mg)</th>\n",
       "      <th>Diameter max. (nm)</th>\n",
       "      <th>Type_NH2</th>\n",
       "      <th>% Total Impurities</th>\n",
       "    </tr>\n",
       "  </thead>\n",
       "  <tbody>\n",
       "    <tr>\n",
       "      <th>2</th>\n",
       "      <td>0.039432</td>\n",
       "      <td>0.521186</td>\n",
       "      <td>1.000000</td>\n",
       "      <td>0.413333</td>\n",
       "      <td>0.014556</td>\n",
       "      <td>0.357357</td>\n",
       "      <td>0.103896</td>\n",
       "      <td>1.000000</td>\n",
       "      <td>0.8</td>\n",
       "      <td>1.000000</td>\n",
       "      <td>1.000000</td>\n",
       "      <td>0.50</td>\n",
       "      <td>0.394805</td>\n",
       "      <td>0</td>\n",
       "      <td>0.048780</td>\n",
       "    </tr>\n",
       "    <tr>\n",
       "      <th>3</th>\n",
       "      <td>0.048716</td>\n",
       "      <td>0.271186</td>\n",
       "      <td>0.923913</td>\n",
       "      <td>0.026667</td>\n",
       "      <td>0.000000</td>\n",
       "      <td>0.000000</td>\n",
       "      <td>0.298701</td>\n",
       "      <td>1.000000</td>\n",
       "      <td>0.8</td>\n",
       "      <td>0.036946</td>\n",
       "      <td>0.034653</td>\n",
       "      <td>0.48</td>\n",
       "      <td>0.775325</td>\n",
       "      <td>0</td>\n",
       "      <td>0.219889</td>\n",
       "    </tr>\n",
       "    <tr>\n",
       "      <th>4</th>\n",
       "      <td>0.156550</td>\n",
       "      <td>0.237288</td>\n",
       "      <td>0.934783</td>\n",
       "      <td>0.024000</td>\n",
       "      <td>0.425036</td>\n",
       "      <td>0.822823</td>\n",
       "      <td>0.220779</td>\n",
       "      <td>1.000000</td>\n",
       "      <td>0.9</td>\n",
       "      <td>0.049261</td>\n",
       "      <td>0.044554</td>\n",
       "      <td>0.52</td>\n",
       "      <td>0.419481</td>\n",
       "      <td>0</td>\n",
       "      <td>0.190736</td>\n",
       "    </tr>\n",
       "    <tr>\n",
       "      <th>5</th>\n",
       "      <td>0.199591</td>\n",
       "      <td>0.427966</td>\n",
       "      <td>0.684783</td>\n",
       "      <td>0.000000</td>\n",
       "      <td>0.278020</td>\n",
       "      <td>0.255255</td>\n",
       "      <td>0.194805</td>\n",
       "      <td>1.000000</td>\n",
       "      <td>0.5</td>\n",
       "      <td>0.147783</td>\n",
       "      <td>0.143564</td>\n",
       "      <td>0.66</td>\n",
       "      <td>0.412987</td>\n",
       "      <td>0</td>\n",
       "      <td>0.517711</td>\n",
       "    </tr>\n",
       "    <tr>\n",
       "      <th>6</th>\n",
       "      <td>0.038274</td>\n",
       "      <td>0.868644</td>\n",
       "      <td>0.945652</td>\n",
       "      <td>0.552000</td>\n",
       "      <td>0.659389</td>\n",
       "      <td>0.573574</td>\n",
       "      <td>0.857143</td>\n",
       "      <td>0.094203</td>\n",
       "      <td>0.8</td>\n",
       "      <td>0.147783</td>\n",
       "      <td>0.148515</td>\n",
       "      <td>0.36</td>\n",
       "      <td>0.405195</td>\n",
       "      <td>0</td>\n",
       "      <td>0.136716</td>\n",
       "    </tr>\n",
       "  </tbody>\n",
       "</table>\n",
       "</div>"
      ],
      "text/plain": [
       "   Length ave. (nm)   BET (m2/g)  Purity (%)  PdI (batch)  Zave (12.5 ug/ml)  \\\n",
       "2           0.039432    0.521186    1.000000     0.413333           0.014556   \n",
       "3           0.048716    0.271186    0.923913     0.026667           0.000000   \n",
       "4           0.156550    0.237288    0.934783     0.024000           0.425036   \n",
       "5           0.199591    0.427966    0.684783     0.000000           0.278020   \n",
       "6           0.038274    0.868644    0.945652     0.552000           0.659389   \n",
       "\n",
       "   PdI  (200 ug/ml)       ROS  Peak (ug/ml)  CEA: C.H.N.O (wt%)  OH mmol/g  \\\n",
       "2          0.357357  0.103896      1.000000                 0.8   1.000000   \n",
       "3          0.000000  0.298701      1.000000                 0.8   0.036946   \n",
       "4          0.822823  0.220779      1.000000                 0.9   0.049261   \n",
       "5          0.255255  0.194805      1.000000                 0.5   0.147783   \n",
       "6          0.573574  0.857143      0.094203                 0.8   0.147783   \n",
       "\n",
       "   COOH mmol/g  Endotoxins (EU/mg)  Diameter max. (nm)  Type_NH2  \\\n",
       "2     1.000000                0.50            0.394805         0   \n",
       "3     0.034653                0.48            0.775325         0   \n",
       "4     0.044554                0.52            0.419481         0   \n",
       "5     0.143564                0.66            0.412987         0   \n",
       "6     0.148515                0.36            0.405195         0   \n",
       "\n",
       "   % Total Impurities  \n",
       "2            0.048780  \n",
       "3            0.219889  \n",
       "4            0.190736  \n",
       "5            0.517711  \n",
       "6            0.136716  "
      ]
     },
     "execution_count": 96,
     "metadata": {},
     "output_type": "execute_result"
    }
   ],
   "source": [
    "for i in range(len(feature_importances)):\n",
    "    if round(abs(feature_importances[i][1]),3)==min([round(abs(i),3) for i in importances]):\n",
    "        train.drop(feature_importances[i][0], axis=1, inplace=True)\n",
    "        test.drop(feature_importances[i][0], axis=1, inplace=True)\n",
    "        \n",
    "train.head()"
   ]
  },
  {
   "cell_type": "markdown",
   "metadata": {},
   "source": [
    "Optimize Logistc Regression"
   ]
  },
  {
   "cell_type": "code",
   "execution_count": 97,
   "metadata": {},
   "outputs": [],
   "source": [
    "bo = BayesOpt(train, train_labels, folds = 4, n_iter=30,log_scaling=False)"
   ]
  },
  {
   "cell_type": "code",
   "execution_count": 98,
   "metadata": {
    "scrolled": false
   },
   "outputs": [
    {
     "name": "stdout",
     "output_type": "stream",
     "text": [
      "Optimizing for l1 penalty\n",
      "|   iter    |  target   |     C     |\n",
      "-------------------------------------\n",
      "| \u001b[0m 1       \u001b[0m | \u001b[0m nan     \u001b[0m | \u001b[0m 4.371   \u001b[0m |\n",
      "| \u001b[0m 2       \u001b[0m | \u001b[0m nan     \u001b[0m | \u001b[0m 9.556   \u001b[0m |\n",
      "| \u001b[0m 3       \u001b[0m | \u001b[0m nan     \u001b[0m | \u001b[0m 7.588   \u001b[0m |\n",
      "| \u001b[0m 4       \u001b[0m | \u001b[0m nan     \u001b[0m | \u001b[0m 6.388   \u001b[0m |\n",
      "| \u001b[0m 5       \u001b[0m | \u001b[0m nan     \u001b[0m | \u001b[0m 2.404   \u001b[0m |\n",
      "Error related to scaling.\n",
      "Optimizing for l2 penalty\n",
      "|   iter    |  target   |     C     |\n",
      "-------------------------------------\n",
      "| \u001b[0m 1       \u001b[0m | \u001b[0m 0.75    \u001b[0m | \u001b[0m 4.371   \u001b[0m |\n",
      "| \u001b[0m 2       \u001b[0m | \u001b[0m 0.75    \u001b[0m | \u001b[0m 9.556   \u001b[0m |\n",
      "| \u001b[0m 3       \u001b[0m | \u001b[0m 0.75    \u001b[0m | \u001b[0m 7.588   \u001b[0m |\n",
      "| \u001b[0m 4       \u001b[0m | \u001b[0m 0.75    \u001b[0m | \u001b[0m 6.388   \u001b[0m |\n",
      "| \u001b[0m 5       \u001b[0m | \u001b[0m 0.75    \u001b[0m | \u001b[0m 2.404   \u001b[0m |\n",
      "Error related to scaling.\n",
      "\n",
      "\n",
      "Final result: The optimal model's accuracy is 0.75 and the optimal parameters are C=4.370861069626263 and penalty=l2\n"
     ]
    }
   ],
   "source": [
    "# Get the time that the optimization started\n",
    "start_time = datetime.now().strftime(\"%H:%M:%S\")\n",
    "\n",
    "# Boundaries of the hyperparameters\n",
    "params={'C' : (1,10)}\n",
    "\n",
    "# Optimization\n",
    "import warnings\n",
    "warnings.filterwarnings(\"ignore\", category=FutureWarning)\n",
    "\n",
    "lr_optimum = bo.optimize_lr(params)\n",
    "\n",
    "# Get the time that the optimization ended\n",
    "end_time = datetime.now().strftime(\"%H:%M:%S\")"
   ]
  },
  {
   "cell_type": "code",
   "execution_count": 99,
   "metadata": {
    "scrolled": true
   },
   "outputs": [
    {
     "name": "stdout",
     "output_type": "stream",
     "text": [
      "Minutes to execute: 0.0\n"
     ]
    }
   ],
   "source": [
    "print('Minutes to execute:', \n",
    "      round((datetime.strptime(end_time, '%H:%M:%S') - datetime.strptime(start_time, '%H:%M:%S')).seconds/60,2))"
   ]
  },
  {
   "cell_type": "markdown",
   "metadata": {},
   "source": [
    "Step 5: Test model's performance (on the testing set)"
   ]
  },
  {
   "cell_type": "code",
   "execution_count": 100,
   "metadata": {},
   "outputs": [],
   "source": [
    "# Declare the model\n",
    "clf = LogisticRegression(C=lr_optimum['params']['C'], penalty=lr_optimum['params']['penalty'],random_state=42)\n",
    "\n",
    "# Train the model on training data\n",
    "clf.fit(train, train_labels);"
   ]
  },
  {
   "cell_type": "markdown",
   "metadata": {},
   "source": [
    "###### Metrics on the Training set"
   ]
  },
  {
   "cell_type": "code",
   "execution_count": 101,
   "metadata": {},
   "outputs": [],
   "source": [
    "# Use the model's predict method \n",
    "predictions = clf.predict(train)"
   ]
  },
  {
   "cell_type": "code",
   "execution_count": 102,
   "metadata": {},
   "outputs": [
    {
     "name": "stdout",
     "output_type": "stream",
     "text": [
      "LR's training accuracy: 1.0\n"
     ]
    }
   ],
   "source": [
    "# Print the training accuracy\n",
    "print(\"LR's training accuracy:\", accuracy_score(train_labels, predictions))"
   ]
  },
  {
   "cell_type": "code",
   "execution_count": 103,
   "metadata": {},
   "outputs": [
    {
     "name": "stdout",
     "output_type": "stream",
     "text": [
      "              precision    recall  f1-score   support\n",
      "\n",
      "           0       1.00      1.00      1.00         5\n",
      "           1       1.00      1.00      1.00         5\n",
      "\n",
      "    accuracy                           1.00        10\n",
      "   macro avg       1.00      1.00      1.00        10\n",
      "weighted avg       1.00      1.00      1.00        10\n",
      "\n"
     ]
    }
   ],
   "source": [
    "# Print the classification report\n",
    "print(classification_report(train_labels,predictions))"
   ]
  },
  {
   "cell_type": "code",
   "execution_count": 104,
   "metadata": {},
   "outputs": [
    {
     "name": "stdout",
     "output_type": "stream",
     "text": [
      "Confusion Matrix:\n",
      "5 | 0\n",
      "-----\n",
      "0 | 5\n"
     ]
    }
   ],
   "source": [
    "cm = confusion_matrix(train_labels,predictions)\n",
    "print('Confusion Matrix:')\n",
    "print(cm[0][0],'|',cm[0][1])\n",
    "print('-----')\n",
    "print(cm[1][0],'|',cm[1][1])"
   ]
  },
  {
   "cell_type": "code",
   "execution_count": 105,
   "metadata": {},
   "outputs": [
    {
     "name": "stdout",
     "output_type": "stream",
     "text": [
      "Specificity: 1.0\n",
      "Sensitivity: 1.0\n"
     ]
    }
   ],
   "source": [
    "tn, fp, fn, tp = confusion_matrix(train_labels,predictions).ravel()\n",
    "specificity = tn / (tn + fp)\n",
    "sensitivity = tp / (tp + fn)\n",
    "print('Specificity:',specificity)\n",
    "print('Sensitivity:',sensitivity)"
   ]
  },
  {
   "cell_type": "code",
   "execution_count": 106,
   "metadata": {},
   "outputs": [
    {
     "name": "stdout",
     "output_type": "stream",
     "text": [
      "MCC: 1.0\n"
     ]
    }
   ],
   "source": [
    "# Print the MCC\n",
    "print('MCC:', matthews_corrcoef(train_labels,predictions))"
   ]
  },
  {
   "cell_type": "code",
   "execution_count": 107,
   "metadata": {},
   "outputs": [
    {
     "name": "stdout",
     "output_type": "stream",
     "text": [
      "List of scores: [0.33333333 0.66666667 1.         1.        ]\n",
      "Mean of Cross Validtation: 0.75\n"
     ]
    }
   ],
   "source": [
    "#Print the Cross-Validation Score\n",
    "scores = cross_val_score(clf, train, train_labels, cv=4)\n",
    "\n",
    "print('List of scores:', scores)\n",
    "print('Mean of Cross Validtation:', scores.mean())"
   ]
  },
  {
   "cell_type": "markdown",
   "metadata": {},
   "source": [
    "#### 9th iteration"
   ]
  },
  {
   "cell_type": "markdown",
   "metadata": {},
   "source": [
    "Get the features' importance"
   ]
  },
  {
   "cell_type": "code",
   "execution_count": 108,
   "metadata": {
    "scrolled": false
   },
   "outputs": [
    {
     "name": "stdout",
     "output_type": "stream",
     "text": [
      "Variable: Zave (12.5 ug/ml)    Importance: 1.104\n",
      "Variable: PdI  (200 ug/ml)     Importance: 0.969\n",
      "Variable: Length ave. (nm)     Importance: 0.964\n",
      "Variable: Endotoxins (EU/mg)   Importance: 0.943\n",
      "Variable: % Total Impurities   Importance: 0.78\n",
      "Variable: Peak (ug/ml)         Importance: 0.517\n",
      "Variable: BET (m2/g)           Importance: -0.458\n",
      "Variable: Diameter max. (nm)   Importance: -0.473\n",
      "Variable: OH mmol/g            Importance: -0.498\n",
      "Variable: COOH mmol/g          Importance: -0.505\n",
      "Variable: ROS                  Importance: -0.556\n",
      "Variable: Type_NH2             Importance: -0.587\n",
      "Variable: CEA: C.H.N.O (wt%)   Importance: -0.911\n",
      "Variable: PdI (batch)          Importance: -1.054\n",
      "Variable: Purity (%)           Importance: -1.692\n"
     ]
    }
   ],
   "source": [
    "# Get numerical feature importances and feature names\n",
    "importances = list(clf.coef_.reshape(clf.coef_.shape[1]))\n",
    "feature_list = list(train.columns)\n",
    "\n",
    "# List of tuples with variable and importance\n",
    "feature_importances = [(feature, round(importance, 3)) for feature, importance in zip(feature_list, importances)]\n",
    "\n",
    "# Sort the feature importances by most important first\n",
    "feature_importances = sorted(feature_importances, key = lambda x: x[1], reverse = True)\n",
    "\n",
    "# Print out the feature and importances \n",
    "[print('Variable: {:20} Importance: {}'.format(*pair)) for pair in feature_importances];"
   ]
  },
  {
   "cell_type": "markdown",
   "metadata": {},
   "source": [
    "Exclude features with minimum importance"
   ]
  },
  {
   "cell_type": "code",
   "execution_count": 109,
   "metadata": {
    "scrolled": true
   },
   "outputs": [
    {
     "data": {
      "text/html": [
       "<div>\n",
       "<style scoped>\n",
       "    .dataframe tbody tr th:only-of-type {\n",
       "        vertical-align: middle;\n",
       "    }\n",
       "\n",
       "    .dataframe tbody tr th {\n",
       "        vertical-align: top;\n",
       "    }\n",
       "\n",
       "    .dataframe thead th {\n",
       "        text-align: right;\n",
       "    }\n",
       "</style>\n",
       "<table border=\"1\" class=\"dataframe\">\n",
       "  <thead>\n",
       "    <tr style=\"text-align: right;\">\n",
       "      <th></th>\n",
       "      <th>Length ave. (nm)</th>\n",
       "      <th>Purity (%)</th>\n",
       "      <th>PdI (batch)</th>\n",
       "      <th>Zave (12.5 ug/ml)</th>\n",
       "      <th>PdI  (200 ug/ml)</th>\n",
       "      <th>ROS</th>\n",
       "      <th>Peak (ug/ml)</th>\n",
       "      <th>CEA: C.H.N.O (wt%)</th>\n",
       "      <th>OH mmol/g</th>\n",
       "      <th>COOH mmol/g</th>\n",
       "      <th>Endotoxins (EU/mg)</th>\n",
       "      <th>Diameter max. (nm)</th>\n",
       "      <th>Type_NH2</th>\n",
       "      <th>% Total Impurities</th>\n",
       "    </tr>\n",
       "  </thead>\n",
       "  <tbody>\n",
       "    <tr>\n",
       "      <th>2</th>\n",
       "      <td>0.039432</td>\n",
       "      <td>1.000000</td>\n",
       "      <td>0.413333</td>\n",
       "      <td>0.014556</td>\n",
       "      <td>0.357357</td>\n",
       "      <td>0.103896</td>\n",
       "      <td>1.000000</td>\n",
       "      <td>0.8</td>\n",
       "      <td>1.000000</td>\n",
       "      <td>1.000000</td>\n",
       "      <td>0.50</td>\n",
       "      <td>0.394805</td>\n",
       "      <td>0</td>\n",
       "      <td>0.048780</td>\n",
       "    </tr>\n",
       "    <tr>\n",
       "      <th>3</th>\n",
       "      <td>0.048716</td>\n",
       "      <td>0.923913</td>\n",
       "      <td>0.026667</td>\n",
       "      <td>0.000000</td>\n",
       "      <td>0.000000</td>\n",
       "      <td>0.298701</td>\n",
       "      <td>1.000000</td>\n",
       "      <td>0.8</td>\n",
       "      <td>0.036946</td>\n",
       "      <td>0.034653</td>\n",
       "      <td>0.48</td>\n",
       "      <td>0.775325</td>\n",
       "      <td>0</td>\n",
       "      <td>0.219889</td>\n",
       "    </tr>\n",
       "    <tr>\n",
       "      <th>4</th>\n",
       "      <td>0.156550</td>\n",
       "      <td>0.934783</td>\n",
       "      <td>0.024000</td>\n",
       "      <td>0.425036</td>\n",
       "      <td>0.822823</td>\n",
       "      <td>0.220779</td>\n",
       "      <td>1.000000</td>\n",
       "      <td>0.9</td>\n",
       "      <td>0.049261</td>\n",
       "      <td>0.044554</td>\n",
       "      <td>0.52</td>\n",
       "      <td>0.419481</td>\n",
       "      <td>0</td>\n",
       "      <td>0.190736</td>\n",
       "    </tr>\n",
       "    <tr>\n",
       "      <th>5</th>\n",
       "      <td>0.199591</td>\n",
       "      <td>0.684783</td>\n",
       "      <td>0.000000</td>\n",
       "      <td>0.278020</td>\n",
       "      <td>0.255255</td>\n",
       "      <td>0.194805</td>\n",
       "      <td>1.000000</td>\n",
       "      <td>0.5</td>\n",
       "      <td>0.147783</td>\n",
       "      <td>0.143564</td>\n",
       "      <td>0.66</td>\n",
       "      <td>0.412987</td>\n",
       "      <td>0</td>\n",
       "      <td>0.517711</td>\n",
       "    </tr>\n",
       "    <tr>\n",
       "      <th>6</th>\n",
       "      <td>0.038274</td>\n",
       "      <td>0.945652</td>\n",
       "      <td>0.552000</td>\n",
       "      <td>0.659389</td>\n",
       "      <td>0.573574</td>\n",
       "      <td>0.857143</td>\n",
       "      <td>0.094203</td>\n",
       "      <td>0.8</td>\n",
       "      <td>0.147783</td>\n",
       "      <td>0.148515</td>\n",
       "      <td>0.36</td>\n",
       "      <td>0.405195</td>\n",
       "      <td>0</td>\n",
       "      <td>0.136716</td>\n",
       "    </tr>\n",
       "  </tbody>\n",
       "</table>\n",
       "</div>"
      ],
      "text/plain": [
       "   Length ave. (nm)   Purity (%)  PdI (batch)  Zave (12.5 ug/ml)  \\\n",
       "2           0.039432    1.000000     0.413333           0.014556   \n",
       "3           0.048716    0.923913     0.026667           0.000000   \n",
       "4           0.156550    0.934783     0.024000           0.425036   \n",
       "5           0.199591    0.684783     0.000000           0.278020   \n",
       "6           0.038274    0.945652     0.552000           0.659389   \n",
       "\n",
       "   PdI  (200 ug/ml)       ROS  Peak (ug/ml)  CEA: C.H.N.O (wt%)  OH mmol/g  \\\n",
       "2          0.357357  0.103896      1.000000                 0.8   1.000000   \n",
       "3          0.000000  0.298701      1.000000                 0.8   0.036946   \n",
       "4          0.822823  0.220779      1.000000                 0.9   0.049261   \n",
       "5          0.255255  0.194805      1.000000                 0.5   0.147783   \n",
       "6          0.573574  0.857143      0.094203                 0.8   0.147783   \n",
       "\n",
       "   COOH mmol/g  Endotoxins (EU/mg)  Diameter max. (nm)  Type_NH2  \\\n",
       "2     1.000000                0.50            0.394805         0   \n",
       "3     0.034653                0.48            0.775325         0   \n",
       "4     0.044554                0.52            0.419481         0   \n",
       "5     0.143564                0.66            0.412987         0   \n",
       "6     0.148515                0.36            0.405195         0   \n",
       "\n",
       "   % Total Impurities  \n",
       "2            0.048780  \n",
       "3            0.219889  \n",
       "4            0.190736  \n",
       "5            0.517711  \n",
       "6            0.136716  "
      ]
     },
     "execution_count": 109,
     "metadata": {},
     "output_type": "execute_result"
    }
   ],
   "source": [
    "for i in range(len(feature_importances)):\n",
    "    if round(abs(feature_importances[i][1]),3)==min([round(abs(i),3) for i in importances]):\n",
    "        train.drop(feature_importances[i][0], axis=1, inplace=True)\n",
    "        test.drop(feature_importances[i][0], axis=1, inplace=True)\n",
    "        \n",
    "train.head()"
   ]
  },
  {
   "cell_type": "markdown",
   "metadata": {},
   "source": [
    "Optimize Logistc Regression"
   ]
  },
  {
   "cell_type": "code",
   "execution_count": 110,
   "metadata": {},
   "outputs": [],
   "source": [
    "bo = BayesOpt(train, train_labels, folds = 4, n_iter=30,log_scaling=False)"
   ]
  },
  {
   "cell_type": "code",
   "execution_count": 111,
   "metadata": {
    "scrolled": false
   },
   "outputs": [
    {
     "name": "stdout",
     "output_type": "stream",
     "text": [
      "Optimizing for l1 penalty\n",
      "|   iter    |  target   |     C     |\n",
      "-------------------------------------\n",
      "| \u001b[0m 1       \u001b[0m | \u001b[0m nan     \u001b[0m | \u001b[0m 4.371   \u001b[0m |\n",
      "| \u001b[0m 2       \u001b[0m | \u001b[0m nan     \u001b[0m | \u001b[0m 9.556   \u001b[0m |\n",
      "| \u001b[0m 3       \u001b[0m | \u001b[0m nan     \u001b[0m | \u001b[0m 7.588   \u001b[0m |\n",
      "| \u001b[0m 4       \u001b[0m | \u001b[0m nan     \u001b[0m | \u001b[0m 6.388   \u001b[0m |\n",
      "| \u001b[0m 5       \u001b[0m | \u001b[0m nan     \u001b[0m | \u001b[0m 2.404   \u001b[0m |\n",
      "Error related to scaling.\n",
      "Optimizing for l2 penalty\n",
      "|   iter    |  target   |     C     |\n",
      "-------------------------------------\n",
      "| \u001b[0m 1       \u001b[0m | \u001b[0m 0.75    \u001b[0m | \u001b[0m 4.371   \u001b[0m |\n",
      "| \u001b[0m 2       \u001b[0m | \u001b[0m 0.75    \u001b[0m | \u001b[0m 9.556   \u001b[0m |\n",
      "| \u001b[0m 3       \u001b[0m | \u001b[0m 0.75    \u001b[0m | \u001b[0m 7.588   \u001b[0m |\n",
      "| \u001b[0m 4       \u001b[0m | \u001b[0m 0.75    \u001b[0m | \u001b[0m 6.388   \u001b[0m |\n",
      "| \u001b[0m 5       \u001b[0m | \u001b[0m 0.75    \u001b[0m | \u001b[0m 2.404   \u001b[0m |\n",
      "Error related to scaling.\n",
      "\n",
      "\n",
      "Final result: The optimal model's accuracy is 0.75 and the optimal parameters are C=4.370861069626263 and penalty=l2\n"
     ]
    }
   ],
   "source": [
    "# Get the time that the optimization started\n",
    "start_time = datetime.now().strftime(\"%H:%M:%S\")\n",
    "\n",
    "# Boundaries of the hyperparameters\n",
    "params={'C' : (1,10)}\n",
    "\n",
    "# Optimization\n",
    "import warnings\n",
    "warnings.filterwarnings(\"ignore\", category=FutureWarning)\n",
    "\n",
    "lr_optimum = bo.optimize_lr(params)\n",
    "\n",
    "# Get the time that the optimization ended\n",
    "end_time = datetime.now().strftime(\"%H:%M:%S\")"
   ]
  },
  {
   "cell_type": "code",
   "execution_count": 112,
   "metadata": {
    "scrolled": true
   },
   "outputs": [
    {
     "name": "stdout",
     "output_type": "stream",
     "text": [
      "Minutes to execute: 0.0\n"
     ]
    }
   ],
   "source": [
    "print('Minutes to execute:', \n",
    "      round((datetime.strptime(end_time, '%H:%M:%S') - datetime.strptime(start_time, '%H:%M:%S')).seconds/60,2))"
   ]
  },
  {
   "cell_type": "markdown",
   "metadata": {},
   "source": [
    "Step 5: Test model's performance (on the testing set)"
   ]
  },
  {
   "cell_type": "code",
   "execution_count": 113,
   "metadata": {},
   "outputs": [],
   "source": [
    "# Declare the model\n",
    "clf = LogisticRegression(C=lr_optimum['params']['C'], penalty=lr_optimum['params']['penalty'],random_state=42)\n",
    "\n",
    "# Train the model on training data\n",
    "clf.fit(train, train_labels);"
   ]
  },
  {
   "cell_type": "markdown",
   "metadata": {},
   "source": [
    "###### Metrics on the Training set"
   ]
  },
  {
   "cell_type": "code",
   "execution_count": 114,
   "metadata": {},
   "outputs": [],
   "source": [
    "# Use the model's predict method \n",
    "predictions = clf.predict(train)"
   ]
  },
  {
   "cell_type": "code",
   "execution_count": 115,
   "metadata": {},
   "outputs": [
    {
     "name": "stdout",
     "output_type": "stream",
     "text": [
      "LR's training accuracy: 1.0\n"
     ]
    }
   ],
   "source": [
    "# Print the training accuracy\n",
    "print(\"LR's training accuracy:\", accuracy_score(train_labels, predictions))"
   ]
  },
  {
   "cell_type": "code",
   "execution_count": 116,
   "metadata": {},
   "outputs": [
    {
     "name": "stdout",
     "output_type": "stream",
     "text": [
      "              precision    recall  f1-score   support\n",
      "\n",
      "           0       1.00      1.00      1.00         5\n",
      "           1       1.00      1.00      1.00         5\n",
      "\n",
      "    accuracy                           1.00        10\n",
      "   macro avg       1.00      1.00      1.00        10\n",
      "weighted avg       1.00      1.00      1.00        10\n",
      "\n"
     ]
    }
   ],
   "source": [
    "# Print the classification report\n",
    "print(classification_report(train_labels,predictions))"
   ]
  },
  {
   "cell_type": "code",
   "execution_count": 117,
   "metadata": {},
   "outputs": [
    {
     "name": "stdout",
     "output_type": "stream",
     "text": [
      "Confusion Matrix:\n",
      "5 | 0\n",
      "-----\n",
      "0 | 5\n"
     ]
    }
   ],
   "source": [
    "cm = confusion_matrix(train_labels,predictions)\n",
    "print('Confusion Matrix:')\n",
    "print(cm[0][0],'|',cm[0][1])\n",
    "print('-----')\n",
    "print(cm[1][0],'|',cm[1][1])"
   ]
  },
  {
   "cell_type": "code",
   "execution_count": 118,
   "metadata": {},
   "outputs": [
    {
     "name": "stdout",
     "output_type": "stream",
     "text": [
      "Specificity: 1.0\n",
      "Sensitivity: 1.0\n"
     ]
    }
   ],
   "source": [
    "tn, fp, fn, tp = confusion_matrix(train_labels,predictions).ravel()\n",
    "specificity = tn / (tn + fp)\n",
    "sensitivity = tp / (tp + fn)\n",
    "print('Specificity:',specificity)\n",
    "print('Sensitivity:',sensitivity)"
   ]
  },
  {
   "cell_type": "code",
   "execution_count": 119,
   "metadata": {},
   "outputs": [
    {
     "name": "stdout",
     "output_type": "stream",
     "text": [
      "MCC: 1.0\n"
     ]
    }
   ],
   "source": [
    "# Print the MCC\n",
    "print('MCC:', matthews_corrcoef(train_labels,predictions))"
   ]
  },
  {
   "cell_type": "code",
   "execution_count": 120,
   "metadata": {},
   "outputs": [
    {
     "name": "stdout",
     "output_type": "stream",
     "text": [
      "List of scores: [0.33333333 0.66666667 1.         1.        ]\n",
      "Mean of Cross Validtation: 0.75\n"
     ]
    }
   ],
   "source": [
    "#Print the Cross-Validation Score\n",
    "scores = cross_val_score(clf, train, train_labels, cv=4)\n",
    "\n",
    "print('List of scores:', scores)\n",
    "print('Mean of Cross Validtation:', scores.mean())"
   ]
  },
  {
   "cell_type": "markdown",
   "metadata": {},
   "source": [
    "#### 10th iteration"
   ]
  },
  {
   "cell_type": "markdown",
   "metadata": {},
   "source": [
    "Get the features' importance"
   ]
  },
  {
   "cell_type": "code",
   "execution_count": 121,
   "metadata": {
    "scrolled": false
   },
   "outputs": [
    {
     "name": "stdout",
     "output_type": "stream",
     "text": [
      "Variable: Zave (12.5 ug/ml)    Importance: 1.108\n",
      "Variable: Endotoxins (EU/mg)   Importance: 1.002\n",
      "Variable: Length ave. (nm)     Importance: 1.001\n",
      "Variable: PdI  (200 ug/ml)     Importance: 0.95\n",
      "Variable: % Total Impurities   Importance: 0.76\n",
      "Variable: Peak (ug/ml)         Importance: 0.6\n",
      "Variable: Diameter max. (nm)   Importance: -0.409\n",
      "Variable: OH mmol/g            Importance: -0.512\n",
      "Variable: COOH mmol/g          Importance: -0.519\n",
      "Variable: Type_NH2             Importance: -0.598\n",
      "Variable: ROS                  Importance: -0.602\n",
      "Variable: CEA: C.H.N.O (wt%)   Importance: -0.885\n",
      "Variable: PdI (batch)          Importance: -1.125\n",
      "Variable: Purity (%)           Importance: -1.64\n"
     ]
    }
   ],
   "source": [
    "# Get numerical feature importances and feature names\n",
    "importances = list(clf.coef_.reshape(clf.coef_.shape[1]))\n",
    "feature_list = list(train.columns)\n",
    "\n",
    "# List of tuples with variable and importance\n",
    "feature_importances = [(feature, round(importance, 3)) for feature, importance in zip(feature_list, importances)]\n",
    "\n",
    "# Sort the feature importances by most important first\n",
    "feature_importances = sorted(feature_importances, key = lambda x: x[1], reverse = True)\n",
    "\n",
    "# Print out the feature and importances \n",
    "[print('Variable: {:20} Importance: {}'.format(*pair)) for pair in feature_importances];"
   ]
  },
  {
   "cell_type": "markdown",
   "metadata": {},
   "source": [
    "Exclude features with minimum importance"
   ]
  },
  {
   "cell_type": "code",
   "execution_count": 122,
   "metadata": {
    "scrolled": true
   },
   "outputs": [
    {
     "data": {
      "text/html": [
       "<div>\n",
       "<style scoped>\n",
       "    .dataframe tbody tr th:only-of-type {\n",
       "        vertical-align: middle;\n",
       "    }\n",
       "\n",
       "    .dataframe tbody tr th {\n",
       "        vertical-align: top;\n",
       "    }\n",
       "\n",
       "    .dataframe thead th {\n",
       "        text-align: right;\n",
       "    }\n",
       "</style>\n",
       "<table border=\"1\" class=\"dataframe\">\n",
       "  <thead>\n",
       "    <tr style=\"text-align: right;\">\n",
       "      <th></th>\n",
       "      <th>Length ave. (nm)</th>\n",
       "      <th>Purity (%)</th>\n",
       "      <th>PdI (batch)</th>\n",
       "      <th>Zave (12.5 ug/ml)</th>\n",
       "      <th>PdI  (200 ug/ml)</th>\n",
       "      <th>ROS</th>\n",
       "      <th>Peak (ug/ml)</th>\n",
       "      <th>CEA: C.H.N.O (wt%)</th>\n",
       "      <th>OH mmol/g</th>\n",
       "      <th>COOH mmol/g</th>\n",
       "      <th>Endotoxins (EU/mg)</th>\n",
       "      <th>Type_NH2</th>\n",
       "      <th>% Total Impurities</th>\n",
       "    </tr>\n",
       "  </thead>\n",
       "  <tbody>\n",
       "    <tr>\n",
       "      <th>2</th>\n",
       "      <td>0.039432</td>\n",
       "      <td>1.000000</td>\n",
       "      <td>0.413333</td>\n",
       "      <td>0.014556</td>\n",
       "      <td>0.357357</td>\n",
       "      <td>0.103896</td>\n",
       "      <td>1.000000</td>\n",
       "      <td>0.8</td>\n",
       "      <td>1.000000</td>\n",
       "      <td>1.000000</td>\n",
       "      <td>0.50</td>\n",
       "      <td>0</td>\n",
       "      <td>0.048780</td>\n",
       "    </tr>\n",
       "    <tr>\n",
       "      <th>3</th>\n",
       "      <td>0.048716</td>\n",
       "      <td>0.923913</td>\n",
       "      <td>0.026667</td>\n",
       "      <td>0.000000</td>\n",
       "      <td>0.000000</td>\n",
       "      <td>0.298701</td>\n",
       "      <td>1.000000</td>\n",
       "      <td>0.8</td>\n",
       "      <td>0.036946</td>\n",
       "      <td>0.034653</td>\n",
       "      <td>0.48</td>\n",
       "      <td>0</td>\n",
       "      <td>0.219889</td>\n",
       "    </tr>\n",
       "    <tr>\n",
       "      <th>4</th>\n",
       "      <td>0.156550</td>\n",
       "      <td>0.934783</td>\n",
       "      <td>0.024000</td>\n",
       "      <td>0.425036</td>\n",
       "      <td>0.822823</td>\n",
       "      <td>0.220779</td>\n",
       "      <td>1.000000</td>\n",
       "      <td>0.9</td>\n",
       "      <td>0.049261</td>\n",
       "      <td>0.044554</td>\n",
       "      <td>0.52</td>\n",
       "      <td>0</td>\n",
       "      <td>0.190736</td>\n",
       "    </tr>\n",
       "    <tr>\n",
       "      <th>5</th>\n",
       "      <td>0.199591</td>\n",
       "      <td>0.684783</td>\n",
       "      <td>0.000000</td>\n",
       "      <td>0.278020</td>\n",
       "      <td>0.255255</td>\n",
       "      <td>0.194805</td>\n",
       "      <td>1.000000</td>\n",
       "      <td>0.5</td>\n",
       "      <td>0.147783</td>\n",
       "      <td>0.143564</td>\n",
       "      <td>0.66</td>\n",
       "      <td>0</td>\n",
       "      <td>0.517711</td>\n",
       "    </tr>\n",
       "    <tr>\n",
       "      <th>6</th>\n",
       "      <td>0.038274</td>\n",
       "      <td>0.945652</td>\n",
       "      <td>0.552000</td>\n",
       "      <td>0.659389</td>\n",
       "      <td>0.573574</td>\n",
       "      <td>0.857143</td>\n",
       "      <td>0.094203</td>\n",
       "      <td>0.8</td>\n",
       "      <td>0.147783</td>\n",
       "      <td>0.148515</td>\n",
       "      <td>0.36</td>\n",
       "      <td>0</td>\n",
       "      <td>0.136716</td>\n",
       "    </tr>\n",
       "  </tbody>\n",
       "</table>\n",
       "</div>"
      ],
      "text/plain": [
       "   Length ave. (nm)   Purity (%)  PdI (batch)  Zave (12.5 ug/ml)  \\\n",
       "2           0.039432    1.000000     0.413333           0.014556   \n",
       "3           0.048716    0.923913     0.026667           0.000000   \n",
       "4           0.156550    0.934783     0.024000           0.425036   \n",
       "5           0.199591    0.684783     0.000000           0.278020   \n",
       "6           0.038274    0.945652     0.552000           0.659389   \n",
       "\n",
       "   PdI  (200 ug/ml)       ROS  Peak (ug/ml)  CEA: C.H.N.O (wt%)  OH mmol/g  \\\n",
       "2          0.357357  0.103896      1.000000                 0.8   1.000000   \n",
       "3          0.000000  0.298701      1.000000                 0.8   0.036946   \n",
       "4          0.822823  0.220779      1.000000                 0.9   0.049261   \n",
       "5          0.255255  0.194805      1.000000                 0.5   0.147783   \n",
       "6          0.573574  0.857143      0.094203                 0.8   0.147783   \n",
       "\n",
       "   COOH mmol/g  Endotoxins (EU/mg)  Type_NH2  % Total Impurities  \n",
       "2     1.000000                0.50         0            0.048780  \n",
       "3     0.034653                0.48         0            0.219889  \n",
       "4     0.044554                0.52         0            0.190736  \n",
       "5     0.143564                0.66         0            0.517711  \n",
       "6     0.148515                0.36         0            0.136716  "
      ]
     },
     "execution_count": 122,
     "metadata": {},
     "output_type": "execute_result"
    }
   ],
   "source": [
    "for i in range(len(feature_importances)):\n",
    "    if round(abs(feature_importances[i][1]),3)==min([round(abs(i),3) for i in importances]):\n",
    "        train.drop(feature_importances[i][0], axis=1, inplace=True)\n",
    "        test.drop(feature_importances[i][0], axis=1, inplace=True)\n",
    "        \n",
    "train.head()"
   ]
  },
  {
   "cell_type": "markdown",
   "metadata": {},
   "source": [
    "Optimize Logistc Regression"
   ]
  },
  {
   "cell_type": "code",
   "execution_count": 123,
   "metadata": {},
   "outputs": [],
   "source": [
    "bo = BayesOpt(train, train_labels, folds = 4, n_iter=30,log_scaling=False)"
   ]
  },
  {
   "cell_type": "code",
   "execution_count": 124,
   "metadata": {
    "scrolled": false
   },
   "outputs": [
    {
     "name": "stdout",
     "output_type": "stream",
     "text": [
      "Optimizing for l1 penalty\n",
      "|   iter    |  target   |     C     |\n",
      "-------------------------------------\n",
      "| \u001b[0m 1       \u001b[0m | \u001b[0m nan     \u001b[0m | \u001b[0m 4.371   \u001b[0m |\n",
      "| \u001b[0m 2       \u001b[0m | \u001b[0m nan     \u001b[0m | \u001b[0m 9.556   \u001b[0m |\n",
      "| \u001b[0m 3       \u001b[0m | \u001b[0m nan     \u001b[0m | \u001b[0m 7.588   \u001b[0m |\n",
      "| \u001b[0m 4       \u001b[0m | \u001b[0m nan     \u001b[0m | \u001b[0m 6.388   \u001b[0m |\n",
      "| \u001b[0m 5       \u001b[0m | \u001b[0m nan     \u001b[0m | \u001b[0m 2.404   \u001b[0m |\n",
      "Error related to scaling.\n",
      "Optimizing for l2 penalty\n",
      "|   iter    |  target   |     C     |\n",
      "-------------------------------------\n",
      "| \u001b[0m 1       \u001b[0m | \u001b[0m 0.75    \u001b[0m | \u001b[0m 4.371   \u001b[0m |\n",
      "| \u001b[0m 2       \u001b[0m | \u001b[0m 0.75    \u001b[0m | \u001b[0m 9.556   \u001b[0m |\n",
      "| \u001b[0m 3       \u001b[0m | \u001b[0m 0.75    \u001b[0m | \u001b[0m 7.588   \u001b[0m |\n",
      "| \u001b[0m 4       \u001b[0m | \u001b[0m 0.75    \u001b[0m | \u001b[0m 6.388   \u001b[0m |\n",
      "| \u001b[0m 5       \u001b[0m | \u001b[0m 0.75    \u001b[0m | \u001b[0m 2.404   \u001b[0m |\n",
      "Error related to scaling.\n",
      "\n",
      "\n",
      "Final result: The optimal model's accuracy is 0.75 and the optimal parameters are C=4.370861069626263 and penalty=l2\n"
     ]
    }
   ],
   "source": [
    "# Get the time that the optimization started\n",
    "start_time = datetime.now().strftime(\"%H:%M:%S\")\n",
    "\n",
    "# Boundaries of the hyperparameters\n",
    "params={'C' : (1,10)}\n",
    "\n",
    "# Optimization\n",
    "import warnings\n",
    "warnings.filterwarnings(\"ignore\", category=FutureWarning)\n",
    "\n",
    "lr_optimum = bo.optimize_lr(params)\n",
    "\n",
    "# Get the time that the optimization ended\n",
    "end_time = datetime.now().strftime(\"%H:%M:%S\")"
   ]
  },
  {
   "cell_type": "code",
   "execution_count": 125,
   "metadata": {
    "scrolled": true
   },
   "outputs": [
    {
     "name": "stdout",
     "output_type": "stream",
     "text": [
      "Minutes to execute: 0.0\n"
     ]
    }
   ],
   "source": [
    "print('Minutes to execute:', \n",
    "      round((datetime.strptime(end_time, '%H:%M:%S') - datetime.strptime(start_time, '%H:%M:%S')).seconds/60,2))"
   ]
  },
  {
   "cell_type": "markdown",
   "metadata": {},
   "source": [
    "Step 5: Test model's performance (on the testing set)"
   ]
  },
  {
   "cell_type": "code",
   "execution_count": 126,
   "metadata": {},
   "outputs": [],
   "source": [
    "# Declare the model\n",
    "clf = LogisticRegression(C=lr_optimum['params']['C'], penalty=lr_optimum['params']['penalty'],random_state=42)\n",
    "\n",
    "# Train the model on training data\n",
    "clf.fit(train, train_labels);"
   ]
  },
  {
   "cell_type": "markdown",
   "metadata": {},
   "source": [
    "###### Metrics on the Training set"
   ]
  },
  {
   "cell_type": "code",
   "execution_count": 127,
   "metadata": {},
   "outputs": [],
   "source": [
    "# Use the model's predict method \n",
    "predictions = clf.predict(train)"
   ]
  },
  {
   "cell_type": "code",
   "execution_count": 128,
   "metadata": {},
   "outputs": [
    {
     "name": "stdout",
     "output_type": "stream",
     "text": [
      "LR's training accuracy: 1.0\n"
     ]
    }
   ],
   "source": [
    "# Print the training accuracy\n",
    "print(\"LR's training accuracy:\", accuracy_score(train_labels, predictions))"
   ]
  },
  {
   "cell_type": "code",
   "execution_count": 129,
   "metadata": {},
   "outputs": [
    {
     "name": "stdout",
     "output_type": "stream",
     "text": [
      "              precision    recall  f1-score   support\n",
      "\n",
      "           0       1.00      1.00      1.00         5\n",
      "           1       1.00      1.00      1.00         5\n",
      "\n",
      "    accuracy                           1.00        10\n",
      "   macro avg       1.00      1.00      1.00        10\n",
      "weighted avg       1.00      1.00      1.00        10\n",
      "\n"
     ]
    }
   ],
   "source": [
    "# Print the classification report\n",
    "print(classification_report(train_labels,predictions))"
   ]
  },
  {
   "cell_type": "code",
   "execution_count": 130,
   "metadata": {},
   "outputs": [
    {
     "name": "stdout",
     "output_type": "stream",
     "text": [
      "Confusion Matrix:\n",
      "5 | 0\n",
      "-----\n",
      "0 | 5\n"
     ]
    }
   ],
   "source": [
    "cm = confusion_matrix(train_labels,predictions)\n",
    "print('Confusion Matrix:')\n",
    "print(cm[0][0],'|',cm[0][1])\n",
    "print('-----')\n",
    "print(cm[1][0],'|',cm[1][1])"
   ]
  },
  {
   "cell_type": "code",
   "execution_count": 131,
   "metadata": {},
   "outputs": [
    {
     "name": "stdout",
     "output_type": "stream",
     "text": [
      "Specificity: 1.0\n",
      "Sensitivity: 1.0\n"
     ]
    }
   ],
   "source": [
    "tn, fp, fn, tp = confusion_matrix(train_labels,predictions).ravel()\n",
    "specificity = tn / (tn + fp)\n",
    "sensitivity = tp / (tp + fn)\n",
    "print('Specificity:',specificity)\n",
    "print('Sensitivity:',sensitivity)"
   ]
  },
  {
   "cell_type": "code",
   "execution_count": 132,
   "metadata": {},
   "outputs": [
    {
     "name": "stdout",
     "output_type": "stream",
     "text": [
      "MCC: 1.0\n"
     ]
    }
   ],
   "source": [
    "# Print the MCC\n",
    "print('MCC:', matthews_corrcoef(train_labels,predictions))"
   ]
  },
  {
   "cell_type": "code",
   "execution_count": 133,
   "metadata": {},
   "outputs": [
    {
     "name": "stdout",
     "output_type": "stream",
     "text": [
      "List of scores: [0.33333333 0.66666667 1.         1.        ]\n",
      "Mean of Cross Validtation: 0.75\n"
     ]
    }
   ],
   "source": [
    "#Print the Cross-Validation Score\n",
    "scores = cross_val_score(clf, train, train_labels, cv=4)\n",
    "\n",
    "print('List of scores:', scores)\n",
    "print('Mean of Cross Validtation:', scores.mean())"
   ]
  },
  {
   "cell_type": "markdown",
   "metadata": {},
   "source": [
    "#### 11th iteration"
   ]
  },
  {
   "cell_type": "markdown",
   "metadata": {},
   "source": [
    "Get the features' importance"
   ]
  },
  {
   "cell_type": "code",
   "execution_count": 134,
   "metadata": {
    "scrolled": false
   },
   "outputs": [
    {
     "name": "stdout",
     "output_type": "stream",
     "text": [
      "Variable: Zave (12.5 ug/ml)    Importance: 1.09\n",
      "Variable: PdI  (200 ug/ml)     Importance: 1.021\n",
      "Variable: Length ave. (nm)     Importance: 0.96\n",
      "Variable: Endotoxins (EU/mg)   Importance: 0.948\n",
      "Variable: % Total Impurities   Importance: 0.789\n",
      "Variable: Peak (ug/ml)         Importance: 0.577\n",
      "Variable: OH mmol/g            Importance: -0.497\n",
      "Variable: COOH mmol/g          Importance: -0.505\n",
      "Variable: Type_NH2             Importance: -0.576\n",
      "Variable: ROS                  Importance: -0.592\n",
      "Variable: CEA: C.H.N.O (wt%)   Importance: -0.919\n",
      "Variable: PdI (batch)          Importance: -1.078\n",
      "Variable: Purity (%)           Importance: -1.704\n"
     ]
    }
   ],
   "source": [
    "# Get numerical feature importances and feature names\n",
    "importances = list(clf.coef_.reshape(clf.coef_.shape[1]))\n",
    "feature_list = list(train.columns)\n",
    "\n",
    "# List of tuples with variable and importance\n",
    "feature_importances = [(feature, round(importance, 3)) for feature, importance in zip(feature_list, importances)]\n",
    "\n",
    "# Sort the feature importances by most important first\n",
    "feature_importances = sorted(feature_importances, key = lambda x: x[1], reverse = True)\n",
    "\n",
    "# Print out the feature and importances \n",
    "[print('Variable: {:20} Importance: {}'.format(*pair)) for pair in feature_importances];"
   ]
  },
  {
   "cell_type": "markdown",
   "metadata": {},
   "source": [
    "Exclude features with minimum importance"
   ]
  },
  {
   "cell_type": "code",
   "execution_count": 135,
   "metadata": {
    "scrolled": true
   },
   "outputs": [
    {
     "data": {
      "text/html": [
       "<div>\n",
       "<style scoped>\n",
       "    .dataframe tbody tr th:only-of-type {\n",
       "        vertical-align: middle;\n",
       "    }\n",
       "\n",
       "    .dataframe tbody tr th {\n",
       "        vertical-align: top;\n",
       "    }\n",
       "\n",
       "    .dataframe thead th {\n",
       "        text-align: right;\n",
       "    }\n",
       "</style>\n",
       "<table border=\"1\" class=\"dataframe\">\n",
       "  <thead>\n",
       "    <tr style=\"text-align: right;\">\n",
       "      <th></th>\n",
       "      <th>Length ave. (nm)</th>\n",
       "      <th>Purity (%)</th>\n",
       "      <th>PdI (batch)</th>\n",
       "      <th>Zave (12.5 ug/ml)</th>\n",
       "      <th>PdI  (200 ug/ml)</th>\n",
       "      <th>ROS</th>\n",
       "      <th>Peak (ug/ml)</th>\n",
       "      <th>CEA: C.H.N.O (wt%)</th>\n",
       "      <th>COOH mmol/g</th>\n",
       "      <th>Endotoxins (EU/mg)</th>\n",
       "      <th>Type_NH2</th>\n",
       "      <th>% Total Impurities</th>\n",
       "    </tr>\n",
       "  </thead>\n",
       "  <tbody>\n",
       "    <tr>\n",
       "      <th>2</th>\n",
       "      <td>0.039432</td>\n",
       "      <td>1.000000</td>\n",
       "      <td>0.413333</td>\n",
       "      <td>0.014556</td>\n",
       "      <td>0.357357</td>\n",
       "      <td>0.103896</td>\n",
       "      <td>1.000000</td>\n",
       "      <td>0.8</td>\n",
       "      <td>1.000000</td>\n",
       "      <td>0.50</td>\n",
       "      <td>0</td>\n",
       "      <td>0.048780</td>\n",
       "    </tr>\n",
       "    <tr>\n",
       "      <th>3</th>\n",
       "      <td>0.048716</td>\n",
       "      <td>0.923913</td>\n",
       "      <td>0.026667</td>\n",
       "      <td>0.000000</td>\n",
       "      <td>0.000000</td>\n",
       "      <td>0.298701</td>\n",
       "      <td>1.000000</td>\n",
       "      <td>0.8</td>\n",
       "      <td>0.034653</td>\n",
       "      <td>0.48</td>\n",
       "      <td>0</td>\n",
       "      <td>0.219889</td>\n",
       "    </tr>\n",
       "    <tr>\n",
       "      <th>4</th>\n",
       "      <td>0.156550</td>\n",
       "      <td>0.934783</td>\n",
       "      <td>0.024000</td>\n",
       "      <td>0.425036</td>\n",
       "      <td>0.822823</td>\n",
       "      <td>0.220779</td>\n",
       "      <td>1.000000</td>\n",
       "      <td>0.9</td>\n",
       "      <td>0.044554</td>\n",
       "      <td>0.52</td>\n",
       "      <td>0</td>\n",
       "      <td>0.190736</td>\n",
       "    </tr>\n",
       "    <tr>\n",
       "      <th>5</th>\n",
       "      <td>0.199591</td>\n",
       "      <td>0.684783</td>\n",
       "      <td>0.000000</td>\n",
       "      <td>0.278020</td>\n",
       "      <td>0.255255</td>\n",
       "      <td>0.194805</td>\n",
       "      <td>1.000000</td>\n",
       "      <td>0.5</td>\n",
       "      <td>0.143564</td>\n",
       "      <td>0.66</td>\n",
       "      <td>0</td>\n",
       "      <td>0.517711</td>\n",
       "    </tr>\n",
       "    <tr>\n",
       "      <th>6</th>\n",
       "      <td>0.038274</td>\n",
       "      <td>0.945652</td>\n",
       "      <td>0.552000</td>\n",
       "      <td>0.659389</td>\n",
       "      <td>0.573574</td>\n",
       "      <td>0.857143</td>\n",
       "      <td>0.094203</td>\n",
       "      <td>0.8</td>\n",
       "      <td>0.148515</td>\n",
       "      <td>0.36</td>\n",
       "      <td>0</td>\n",
       "      <td>0.136716</td>\n",
       "    </tr>\n",
       "  </tbody>\n",
       "</table>\n",
       "</div>"
      ],
      "text/plain": [
       "   Length ave. (nm)   Purity (%)  PdI (batch)  Zave (12.5 ug/ml)  \\\n",
       "2           0.039432    1.000000     0.413333           0.014556   \n",
       "3           0.048716    0.923913     0.026667           0.000000   \n",
       "4           0.156550    0.934783     0.024000           0.425036   \n",
       "5           0.199591    0.684783     0.000000           0.278020   \n",
       "6           0.038274    0.945652     0.552000           0.659389   \n",
       "\n",
       "   PdI  (200 ug/ml)       ROS  Peak (ug/ml)  CEA: C.H.N.O (wt%)  COOH mmol/g  \\\n",
       "2          0.357357  0.103896      1.000000                 0.8     1.000000   \n",
       "3          0.000000  0.298701      1.000000                 0.8     0.034653   \n",
       "4          0.822823  0.220779      1.000000                 0.9     0.044554   \n",
       "5          0.255255  0.194805      1.000000                 0.5     0.143564   \n",
       "6          0.573574  0.857143      0.094203                 0.8     0.148515   \n",
       "\n",
       "   Endotoxins (EU/mg)  Type_NH2  % Total Impurities  \n",
       "2                0.50         0            0.048780  \n",
       "3                0.48         0            0.219889  \n",
       "4                0.52         0            0.190736  \n",
       "5                0.66         0            0.517711  \n",
       "6                0.36         0            0.136716  "
      ]
     },
     "execution_count": 135,
     "metadata": {},
     "output_type": "execute_result"
    }
   ],
   "source": [
    "for i in range(len(feature_importances)):\n",
    "    if round(abs(feature_importances[i][1]),3)==min([round(abs(i),3) for i in importances]):\n",
    "        train.drop(feature_importances[i][0], axis=1, inplace=True)\n",
    "        test.drop(feature_importances[i][0], axis=1, inplace=True)\n",
    "        \n",
    "train.head()"
   ]
  },
  {
   "cell_type": "markdown",
   "metadata": {},
   "source": [
    "Optimize Logistc Regression"
   ]
  },
  {
   "cell_type": "code",
   "execution_count": 136,
   "metadata": {},
   "outputs": [],
   "source": [
    "bo = BayesOpt(train, train_labels, folds = 4, n_iter=30,log_scaling=False)"
   ]
  },
  {
   "cell_type": "code",
   "execution_count": 137,
   "metadata": {
    "scrolled": false
   },
   "outputs": [
    {
     "name": "stdout",
     "output_type": "stream",
     "text": [
      "Optimizing for l1 penalty\n",
      "|   iter    |  target   |     C     |\n",
      "-------------------------------------\n",
      "| \u001b[0m 1       \u001b[0m | \u001b[0m nan     \u001b[0m | \u001b[0m 4.371   \u001b[0m |\n",
      "| \u001b[0m 2       \u001b[0m | \u001b[0m nan     \u001b[0m | \u001b[0m 9.556   \u001b[0m |\n",
      "| \u001b[0m 3       \u001b[0m | \u001b[0m nan     \u001b[0m | \u001b[0m 7.588   \u001b[0m |\n",
      "| \u001b[0m 4       \u001b[0m | \u001b[0m nan     \u001b[0m | \u001b[0m 6.388   \u001b[0m |\n",
      "| \u001b[0m 5       \u001b[0m | \u001b[0m nan     \u001b[0m | \u001b[0m 2.404   \u001b[0m |\n",
      "Error related to scaling.\n",
      "Optimizing for l2 penalty\n",
      "|   iter    |  target   |     C     |\n",
      "-------------------------------------\n",
      "| \u001b[0m 1       \u001b[0m | \u001b[0m 0.75    \u001b[0m | \u001b[0m 4.371   \u001b[0m |\n",
      "| \u001b[0m 2       \u001b[0m | \u001b[0m 0.75    \u001b[0m | \u001b[0m 9.556   \u001b[0m |\n",
      "| \u001b[0m 3       \u001b[0m | \u001b[0m 0.75    \u001b[0m | \u001b[0m 7.588   \u001b[0m |\n",
      "| \u001b[0m 4       \u001b[0m | \u001b[0m 0.75    \u001b[0m | \u001b[0m 6.388   \u001b[0m |\n",
      "| \u001b[0m 5       \u001b[0m | \u001b[0m 0.75    \u001b[0m | \u001b[0m 2.404   \u001b[0m |\n",
      "Error related to scaling.\n",
      "\n",
      "\n",
      "Final result: The optimal model's accuracy is 0.75 and the optimal parameters are C=4.370861069626263 and penalty=l2\n"
     ]
    }
   ],
   "source": [
    "# Get the time that the optimization started\n",
    "start_time = datetime.now().strftime(\"%H:%M:%S\")\n",
    "\n",
    "# Boundaries of the hyperparameters\n",
    "params={'C' : (1,10)}\n",
    "\n",
    "# Optimization\n",
    "import warnings\n",
    "warnings.filterwarnings(\"ignore\", category=FutureWarning)\n",
    "\n",
    "lr_optimum = bo.optimize_lr(params)\n",
    "\n",
    "# Get the time that the optimization ended\n",
    "end_time = datetime.now().strftime(\"%H:%M:%S\")"
   ]
  },
  {
   "cell_type": "code",
   "execution_count": 138,
   "metadata": {
    "scrolled": true
   },
   "outputs": [
    {
     "name": "stdout",
     "output_type": "stream",
     "text": [
      "Minutes to execute: 0.0\n"
     ]
    }
   ],
   "source": [
    "print('Minutes to execute:', \n",
    "      round((datetime.strptime(end_time, '%H:%M:%S') - datetime.strptime(start_time, '%H:%M:%S')).seconds/60,2))"
   ]
  },
  {
   "cell_type": "markdown",
   "metadata": {},
   "source": [
    "Step 5: Test model's performance (on the testing set)"
   ]
  },
  {
   "cell_type": "code",
   "execution_count": 139,
   "metadata": {},
   "outputs": [],
   "source": [
    "# Declare the model\n",
    "clf = LogisticRegression(C=lr_optimum['params']['C'], penalty=lr_optimum['params']['penalty'],random_state=42)\n",
    "\n",
    "# Train the model on training data\n",
    "clf.fit(train, train_labels);"
   ]
  },
  {
   "cell_type": "markdown",
   "metadata": {},
   "source": [
    "###### Metrics on the Training set"
   ]
  },
  {
   "cell_type": "code",
   "execution_count": 140,
   "metadata": {},
   "outputs": [],
   "source": [
    "# Use the model's predict method \n",
    "predictions = clf.predict(train)"
   ]
  },
  {
   "cell_type": "code",
   "execution_count": 141,
   "metadata": {},
   "outputs": [
    {
     "name": "stdout",
     "output_type": "stream",
     "text": [
      "LR's training accuracy: 1.0\n"
     ]
    }
   ],
   "source": [
    "# Print the training accuracy\n",
    "print(\"LR's training accuracy:\", accuracy_score(train_labels, predictions))"
   ]
  },
  {
   "cell_type": "code",
   "execution_count": 142,
   "metadata": {},
   "outputs": [
    {
     "name": "stdout",
     "output_type": "stream",
     "text": [
      "              precision    recall  f1-score   support\n",
      "\n",
      "           0       1.00      1.00      1.00         5\n",
      "           1       1.00      1.00      1.00         5\n",
      "\n",
      "    accuracy                           1.00        10\n",
      "   macro avg       1.00      1.00      1.00        10\n",
      "weighted avg       1.00      1.00      1.00        10\n",
      "\n"
     ]
    }
   ],
   "source": [
    "# Print the classification report\n",
    "print(classification_report(train_labels,predictions))"
   ]
  },
  {
   "cell_type": "code",
   "execution_count": 143,
   "metadata": {},
   "outputs": [
    {
     "name": "stdout",
     "output_type": "stream",
     "text": [
      "Confusion Matrix:\n",
      "5 | 0\n",
      "-----\n",
      "0 | 5\n"
     ]
    }
   ],
   "source": [
    "cm = confusion_matrix(train_labels,predictions)\n",
    "print('Confusion Matrix:')\n",
    "print(cm[0][0],'|',cm[0][1])\n",
    "print('-----')\n",
    "print(cm[1][0],'|',cm[1][1])"
   ]
  },
  {
   "cell_type": "code",
   "execution_count": 144,
   "metadata": {},
   "outputs": [
    {
     "name": "stdout",
     "output_type": "stream",
     "text": [
      "Specificity: 1.0\n",
      "Sensitivity: 1.0\n"
     ]
    }
   ],
   "source": [
    "tn, fp, fn, tp = confusion_matrix(train_labels,predictions).ravel()\n",
    "specificity = tn / (tn + fp)\n",
    "sensitivity = tp / (tp + fn)\n",
    "print('Specificity:',specificity)\n",
    "print('Sensitivity:',sensitivity)"
   ]
  },
  {
   "cell_type": "code",
   "execution_count": 145,
   "metadata": {},
   "outputs": [
    {
     "name": "stdout",
     "output_type": "stream",
     "text": [
      "MCC: 1.0\n"
     ]
    }
   ],
   "source": [
    "# Print the MCC\n",
    "print('MCC:', matthews_corrcoef(train_labels,predictions))"
   ]
  },
  {
   "cell_type": "code",
   "execution_count": 146,
   "metadata": {},
   "outputs": [
    {
     "name": "stdout",
     "output_type": "stream",
     "text": [
      "List of scores: [0.33333333 0.66666667 1.         1.        ]\n",
      "Mean of Cross Validtation: 0.75\n"
     ]
    }
   ],
   "source": [
    "#Print the Cross-Validation Score\n",
    "scores = cross_val_score(clf, train, train_labels, cv=4)\n",
    "\n",
    "print('List of scores:', scores)\n",
    "print('Mean of Cross Validtation:', scores.mean())"
   ]
  },
  {
   "cell_type": "markdown",
   "metadata": {},
   "source": [
    "#### 12th iteration"
   ]
  },
  {
   "cell_type": "markdown",
   "metadata": {},
   "source": [
    "Get the features' importance"
   ]
  },
  {
   "cell_type": "code",
   "execution_count": 147,
   "metadata": {
    "scrolled": false
   },
   "outputs": [
    {
     "name": "stdout",
     "output_type": "stream",
     "text": [
      "Variable: Zave (12.5 ug/ml)    Importance: 1.121\n",
      "Variable: PdI  (200 ug/ml)     Importance: 1.03\n",
      "Variable: Length ave. (nm)     Importance: 0.979\n",
      "Variable: Endotoxins (EU/mg)   Importance: 0.933\n",
      "Variable: % Total Impurities   Importance: 0.815\n",
      "Variable: Peak (ug/ml)         Importance: 0.563\n",
      "Variable: Type_NH2             Importance: -0.556\n",
      "Variable: ROS                  Importance: -0.573\n",
      "Variable: COOH mmol/g          Importance: -0.652\n",
      "Variable: CEA: C.H.N.O (wt%)   Importance: -0.905\n",
      "Variable: PdI (batch)          Importance: -1.11\n",
      "Variable: Purity (%)           Importance: -1.714\n"
     ]
    }
   ],
   "source": [
    "# Get numerical feature importances and feature names\n",
    "importances = list(clf.coef_.reshape(clf.coef_.shape[1]))\n",
    "feature_list = list(train.columns)\n",
    "\n",
    "# List of tuples with variable and importance\n",
    "feature_importances = [(feature, round(importance, 3)) for feature, importance in zip(feature_list, importances)]\n",
    "\n",
    "# Sort the feature importances by most important first\n",
    "feature_importances = sorted(feature_importances, key = lambda x: x[1], reverse = True)\n",
    "\n",
    "# Print out the feature and importances \n",
    "[print('Variable: {:20} Importance: {}'.format(*pair)) for pair in feature_importances];"
   ]
  },
  {
   "cell_type": "markdown",
   "metadata": {},
   "source": [
    "Exclude features with minimum importance"
   ]
  },
  {
   "cell_type": "code",
   "execution_count": 148,
   "metadata": {
    "scrolled": true
   },
   "outputs": [
    {
     "data": {
      "text/html": [
       "<div>\n",
       "<style scoped>\n",
       "    .dataframe tbody tr th:only-of-type {\n",
       "        vertical-align: middle;\n",
       "    }\n",
       "\n",
       "    .dataframe tbody tr th {\n",
       "        vertical-align: top;\n",
       "    }\n",
       "\n",
       "    .dataframe thead th {\n",
       "        text-align: right;\n",
       "    }\n",
       "</style>\n",
       "<table border=\"1\" class=\"dataframe\">\n",
       "  <thead>\n",
       "    <tr style=\"text-align: right;\">\n",
       "      <th></th>\n",
       "      <th>Length ave. (nm)</th>\n",
       "      <th>Purity (%)</th>\n",
       "      <th>PdI (batch)</th>\n",
       "      <th>Zave (12.5 ug/ml)</th>\n",
       "      <th>PdI  (200 ug/ml)</th>\n",
       "      <th>ROS</th>\n",
       "      <th>Peak (ug/ml)</th>\n",
       "      <th>CEA: C.H.N.O (wt%)</th>\n",
       "      <th>COOH mmol/g</th>\n",
       "      <th>Endotoxins (EU/mg)</th>\n",
       "      <th>% Total Impurities</th>\n",
       "    </tr>\n",
       "  </thead>\n",
       "  <tbody>\n",
       "    <tr>\n",
       "      <th>2</th>\n",
       "      <td>0.039432</td>\n",
       "      <td>1.000000</td>\n",
       "      <td>0.413333</td>\n",
       "      <td>0.014556</td>\n",
       "      <td>0.357357</td>\n",
       "      <td>0.103896</td>\n",
       "      <td>1.000000</td>\n",
       "      <td>0.8</td>\n",
       "      <td>1.000000</td>\n",
       "      <td>0.50</td>\n",
       "      <td>0.048780</td>\n",
       "    </tr>\n",
       "    <tr>\n",
       "      <th>3</th>\n",
       "      <td>0.048716</td>\n",
       "      <td>0.923913</td>\n",
       "      <td>0.026667</td>\n",
       "      <td>0.000000</td>\n",
       "      <td>0.000000</td>\n",
       "      <td>0.298701</td>\n",
       "      <td>1.000000</td>\n",
       "      <td>0.8</td>\n",
       "      <td>0.034653</td>\n",
       "      <td>0.48</td>\n",
       "      <td>0.219889</td>\n",
       "    </tr>\n",
       "    <tr>\n",
       "      <th>4</th>\n",
       "      <td>0.156550</td>\n",
       "      <td>0.934783</td>\n",
       "      <td>0.024000</td>\n",
       "      <td>0.425036</td>\n",
       "      <td>0.822823</td>\n",
       "      <td>0.220779</td>\n",
       "      <td>1.000000</td>\n",
       "      <td>0.9</td>\n",
       "      <td>0.044554</td>\n",
       "      <td>0.52</td>\n",
       "      <td>0.190736</td>\n",
       "    </tr>\n",
       "    <tr>\n",
       "      <th>5</th>\n",
       "      <td>0.199591</td>\n",
       "      <td>0.684783</td>\n",
       "      <td>0.000000</td>\n",
       "      <td>0.278020</td>\n",
       "      <td>0.255255</td>\n",
       "      <td>0.194805</td>\n",
       "      <td>1.000000</td>\n",
       "      <td>0.5</td>\n",
       "      <td>0.143564</td>\n",
       "      <td>0.66</td>\n",
       "      <td>0.517711</td>\n",
       "    </tr>\n",
       "    <tr>\n",
       "      <th>6</th>\n",
       "      <td>0.038274</td>\n",
       "      <td>0.945652</td>\n",
       "      <td>0.552000</td>\n",
       "      <td>0.659389</td>\n",
       "      <td>0.573574</td>\n",
       "      <td>0.857143</td>\n",
       "      <td>0.094203</td>\n",
       "      <td>0.8</td>\n",
       "      <td>0.148515</td>\n",
       "      <td>0.36</td>\n",
       "      <td>0.136716</td>\n",
       "    </tr>\n",
       "  </tbody>\n",
       "</table>\n",
       "</div>"
      ],
      "text/plain": [
       "   Length ave. (nm)   Purity (%)  PdI (batch)  Zave (12.5 ug/ml)  \\\n",
       "2           0.039432    1.000000     0.413333           0.014556   \n",
       "3           0.048716    0.923913     0.026667           0.000000   \n",
       "4           0.156550    0.934783     0.024000           0.425036   \n",
       "5           0.199591    0.684783     0.000000           0.278020   \n",
       "6           0.038274    0.945652     0.552000           0.659389   \n",
       "\n",
       "   PdI  (200 ug/ml)       ROS  Peak (ug/ml)  CEA: C.H.N.O (wt%)  COOH mmol/g  \\\n",
       "2          0.357357  0.103896      1.000000                 0.8     1.000000   \n",
       "3          0.000000  0.298701      1.000000                 0.8     0.034653   \n",
       "4          0.822823  0.220779      1.000000                 0.9     0.044554   \n",
       "5          0.255255  0.194805      1.000000                 0.5     0.143564   \n",
       "6          0.573574  0.857143      0.094203                 0.8     0.148515   \n",
       "\n",
       "   Endotoxins (EU/mg)  % Total Impurities  \n",
       "2                0.50            0.048780  \n",
       "3                0.48            0.219889  \n",
       "4                0.52            0.190736  \n",
       "5                0.66            0.517711  \n",
       "6                0.36            0.136716  "
      ]
     },
     "execution_count": 148,
     "metadata": {},
     "output_type": "execute_result"
    }
   ],
   "source": [
    "for i in range(len(feature_importances)):\n",
    "    if round(abs(feature_importances[i][1]),3)==min([round(abs(i),3) for i in importances]):\n",
    "        train.drop(feature_importances[i][0], axis=1, inplace=True)\n",
    "        test.drop(feature_importances[i][0], axis=1, inplace=True)\n",
    "        \n",
    "train.head()"
   ]
  },
  {
   "cell_type": "markdown",
   "metadata": {},
   "source": [
    "Optimize Logistc Regression"
   ]
  },
  {
   "cell_type": "code",
   "execution_count": 149,
   "metadata": {},
   "outputs": [],
   "source": [
    "bo = BayesOpt(train, train_labels, folds = 4, n_iter=30,log_scaling=False)"
   ]
  },
  {
   "cell_type": "code",
   "execution_count": 150,
   "metadata": {
    "scrolled": false
   },
   "outputs": [
    {
     "name": "stdout",
     "output_type": "stream",
     "text": [
      "Optimizing for l1 penalty\n",
      "|   iter    |  target   |     C     |\n",
      "-------------------------------------\n",
      "| \u001b[0m 1       \u001b[0m | \u001b[0m nan     \u001b[0m | \u001b[0m 4.371   \u001b[0m |\n",
      "| \u001b[0m 2       \u001b[0m | \u001b[0m nan     \u001b[0m | \u001b[0m 9.556   \u001b[0m |\n",
      "| \u001b[0m 3       \u001b[0m | \u001b[0m nan     \u001b[0m | \u001b[0m 7.588   \u001b[0m |\n",
      "| \u001b[0m 4       \u001b[0m | \u001b[0m nan     \u001b[0m | \u001b[0m 6.388   \u001b[0m |\n",
      "| \u001b[0m 5       \u001b[0m | \u001b[0m nan     \u001b[0m | \u001b[0m 2.404   \u001b[0m |\n",
      "Error related to scaling.\n",
      "Optimizing for l2 penalty\n",
      "|   iter    |  target   |     C     |\n",
      "-------------------------------------\n",
      "| \u001b[0m 1       \u001b[0m | \u001b[0m 0.8333  \u001b[0m | \u001b[0m 4.371   \u001b[0m |\n",
      "| \u001b[0m 2       \u001b[0m | \u001b[0m 0.8333  \u001b[0m | \u001b[0m 9.556   \u001b[0m |\n",
      "| \u001b[0m 3       \u001b[0m | \u001b[0m 0.8333  \u001b[0m | \u001b[0m 7.588   \u001b[0m |\n",
      "| \u001b[0m 4       \u001b[0m | \u001b[0m 0.8333  \u001b[0m | \u001b[0m 6.388   \u001b[0m |\n",
      "| \u001b[0m 5       \u001b[0m | \u001b[0m 0.75    \u001b[0m | \u001b[0m 2.404   \u001b[0m |\n",
      "| \u001b[0m 6       \u001b[0m | \u001b[0m 0.8333  \u001b[0m | \u001b[0m 5.329   \u001b[0m |\n",
      "| \u001b[0m 7       \u001b[0m | \u001b[0m 0.8333  \u001b[0m | \u001b[0m 8.62    \u001b[0m |\n",
      "| \u001b[0m 8       \u001b[0m | \u001b[0m 0.8333  \u001b[0m | \u001b[0m 10.0    \u001b[0m |\n",
      "| \u001b[0m 9       \u001b[0m | \u001b[0m 0.8333  \u001b[0m | \u001b[0m 4.802   \u001b[0m |\n",
      "| \u001b[0m 10      \u001b[0m | \u001b[0m 0.8333  \u001b[0m | \u001b[0m 6.994   \u001b[0m |\n",
      "| \u001b[0m 11      \u001b[0m | \u001b[0m 0.8333  \u001b[0m | \u001b[0m 5.857   \u001b[0m |\n",
      "| \u001b[0m 12      \u001b[0m | \u001b[0m 0.8333  \u001b[0m | \u001b[0m 8.123   \u001b[0m |\n",
      "| \u001b[0m 13      \u001b[0m | \u001b[0m 0.8333  \u001b[0m | \u001b[0m 9.095   \u001b[0m |\n",
      "| \u001b[0m 14      \u001b[0m | \u001b[0m 0.8333  \u001b[0m | \u001b[0m 4.556   \u001b[0m |\n",
      "| \u001b[0m 15      \u001b[0m | \u001b[0m 0.8333  \u001b[0m | \u001b[0m 6.694   \u001b[0m |\n",
      "| \u001b[0m 16      \u001b[0m | \u001b[0m 0.8333  \u001b[0m | \u001b[0m 7.308   \u001b[0m |\n",
      "| \u001b[0m 17      \u001b[0m | \u001b[0m 0.8333  \u001b[0m | \u001b[0m 9.803   \u001b[0m |\n",
      "| \u001b[0m 18      \u001b[0m | \u001b[0m 0.8333  \u001b[0m | \u001b[0m 5.596   \u001b[0m |\n",
      "| \u001b[0m 19      \u001b[0m | \u001b[0m 0.8333  \u001b[0m | \u001b[0m 7.871   \u001b[0m |\n",
      "| \u001b[0m 20      \u001b[0m | \u001b[0m 0.8333  \u001b[0m | \u001b[0m 5.061   \u001b[0m |\n",
      "| \u001b[0m 21      \u001b[0m | \u001b[0m 0.8333  \u001b[0m | \u001b[0m 8.856   \u001b[0m |\n",
      "| \u001b[0m 22      \u001b[0m | \u001b[0m 0.8333  \u001b[0m | \u001b[0m 6.127   \u001b[0m |\n",
      "| \u001b[0m 23      \u001b[0m | \u001b[0m 0.8333  \u001b[0m | \u001b[0m 8.369   \u001b[0m |\n",
      "| \u001b[0m 24      \u001b[0m | \u001b[0m 0.8333  \u001b[0m | \u001b[0m 9.328   \u001b[0m |\n",
      "| \u001b[0m 25      \u001b[0m | \u001b[0m 0.8333  \u001b[0m | \u001b[0m 7.152   \u001b[0m |\n",
      "| \u001b[0m 26      \u001b[0m | \u001b[0m 0.8333  \u001b[0m | \u001b[0m 6.542   \u001b[0m |\n",
      "| \u001b[0m 27      \u001b[0m | \u001b[0m 0.8333  \u001b[0m | \u001b[0m 4.452   \u001b[0m |\n",
      "| \u001b[0m 28      \u001b[0m | \u001b[0m 0.8333  \u001b[0m | \u001b[0m 7.729   \u001b[0m |\n",
      "| \u001b[0m 29      \u001b[0m | \u001b[0m 0.8333  \u001b[0m | \u001b[0m 5.462   \u001b[0m |\n",
      "| \u001b[0m 30      \u001b[0m | \u001b[0m 0.8333  \u001b[0m | \u001b[0m 6.845   \u001b[0m |\n",
      "| \u001b[0m 31      \u001b[0m | \u001b[0m 0.8333  \u001b[0m | \u001b[0m 5.993   \u001b[0m |\n",
      "| \u001b[0m 32      \u001b[0m | \u001b[0m 0.8333  \u001b[0m | \u001b[0m 4.932   \u001b[0m |\n",
      "| \u001b[0m 33      \u001b[0m | \u001b[0m 0.8333  \u001b[0m | \u001b[0m 7.448   \u001b[0m |\n",
      "| \u001b[0m 34      \u001b[0m | \u001b[0m 0.8333  \u001b[0m | \u001b[0m 8.495   \u001b[0m |\n",
      "| \u001b[0m 35      \u001b[0m | \u001b[0m 0.8333  \u001b[0m | \u001b[0m 9.914   \u001b[0m |\n",
      "=====================================\n",
      "\n",
      "\n",
      "Final result: The optimal model's accuracy is 0.8333333333333333 and the optimal parameters are C=4.370861069626263 and penalty=l2\n"
     ]
    }
   ],
   "source": [
    "# Get the time that the optimization started\n",
    "start_time = datetime.now().strftime(\"%H:%M:%S\")\n",
    "\n",
    "# Boundaries of the hyperparameters\n",
    "params={'C' : (1,10)}\n",
    "\n",
    "# Optimization\n",
    "import warnings\n",
    "warnings.filterwarnings(\"ignore\", category=FutureWarning)\n",
    "\n",
    "lr_optimum = bo.optimize_lr(params)\n",
    "\n",
    "# Get the time that the optimization ended\n",
    "end_time = datetime.now().strftime(\"%H:%M:%S\")"
   ]
  },
  {
   "cell_type": "code",
   "execution_count": 151,
   "metadata": {
    "scrolled": true
   },
   "outputs": [
    {
     "name": "stdout",
     "output_type": "stream",
     "text": [
      "Minutes to execute: 0.05\n"
     ]
    }
   ],
   "source": [
    "print('Minutes to execute:', \n",
    "      round((datetime.strptime(end_time, '%H:%M:%S') - datetime.strptime(start_time, '%H:%M:%S')).seconds/60,2))"
   ]
  },
  {
   "cell_type": "markdown",
   "metadata": {},
   "source": [
    "Step 5: Test model's performance (on the testing set)"
   ]
  },
  {
   "cell_type": "code",
   "execution_count": 152,
   "metadata": {},
   "outputs": [],
   "source": [
    "# Declare the model\n",
    "clf = LogisticRegression(C=lr_optimum['params']['C'], penalty=lr_optimum['params']['penalty'],random_state=42)\n",
    "\n",
    "# Train the model on training data\n",
    "clf.fit(train, train_labels);"
   ]
  },
  {
   "cell_type": "markdown",
   "metadata": {},
   "source": [
    "###### Metrics on the Training set"
   ]
  },
  {
   "cell_type": "code",
   "execution_count": 153,
   "metadata": {},
   "outputs": [],
   "source": [
    "# Use the model's predict method \n",
    "predictions = clf.predict(train)"
   ]
  },
  {
   "cell_type": "code",
   "execution_count": 154,
   "metadata": {},
   "outputs": [
    {
     "name": "stdout",
     "output_type": "stream",
     "text": [
      "LR's training accuracy: 1.0\n"
     ]
    }
   ],
   "source": [
    "# Print the training accuracy\n",
    "print(\"LR's training accuracy:\", accuracy_score(train_labels, predictions))"
   ]
  },
  {
   "cell_type": "code",
   "execution_count": 155,
   "metadata": {},
   "outputs": [
    {
     "name": "stdout",
     "output_type": "stream",
     "text": [
      "              precision    recall  f1-score   support\n",
      "\n",
      "           0       1.00      1.00      1.00         5\n",
      "           1       1.00      1.00      1.00         5\n",
      "\n",
      "    accuracy                           1.00        10\n",
      "   macro avg       1.00      1.00      1.00        10\n",
      "weighted avg       1.00      1.00      1.00        10\n",
      "\n"
     ]
    }
   ],
   "source": [
    "# Print the classification report\n",
    "print(classification_report(train_labels,predictions))"
   ]
  },
  {
   "cell_type": "code",
   "execution_count": 156,
   "metadata": {},
   "outputs": [
    {
     "name": "stdout",
     "output_type": "stream",
     "text": [
      "Confusion Matrix:\n",
      "5 | 0\n",
      "-----\n",
      "0 | 5\n"
     ]
    }
   ],
   "source": [
    "cm = confusion_matrix(train_labels,predictions)\n",
    "print('Confusion Matrix:')\n",
    "print(cm[0][0],'|',cm[0][1])\n",
    "print('-----')\n",
    "print(cm[1][0],'|',cm[1][1])"
   ]
  },
  {
   "cell_type": "code",
   "execution_count": 157,
   "metadata": {},
   "outputs": [
    {
     "name": "stdout",
     "output_type": "stream",
     "text": [
      "Specificity: 1.0\n",
      "Sensitivity: 1.0\n"
     ]
    }
   ],
   "source": [
    "tn, fp, fn, tp = confusion_matrix(train_labels,predictions).ravel()\n",
    "specificity = tn / (tn + fp)\n",
    "sensitivity = tp / (tp + fn)\n",
    "print('Specificity:',specificity)\n",
    "print('Sensitivity:',sensitivity)"
   ]
  },
  {
   "cell_type": "code",
   "execution_count": 158,
   "metadata": {},
   "outputs": [
    {
     "name": "stdout",
     "output_type": "stream",
     "text": [
      "MCC: 1.0\n"
     ]
    }
   ],
   "source": [
    "# Print the MCC\n",
    "print('MCC:', matthews_corrcoef(train_labels,predictions))"
   ]
  },
  {
   "cell_type": "code",
   "execution_count": 159,
   "metadata": {},
   "outputs": [
    {
     "name": "stdout",
     "output_type": "stream",
     "text": [
      "List of scores: [0.66666667 0.66666667 1.         1.        ]\n",
      "Mean of Cross Validtation: 0.8333333333333333\n"
     ]
    }
   ],
   "source": [
    "#Print the Cross-Validation Score\n",
    "scores = cross_val_score(clf, train, train_labels, cv=4)\n",
    "\n",
    "print('List of scores:', scores)\n",
    "print('Mean of Cross Validtation:', scores.mean())"
   ]
  },
  {
   "cell_type": "markdown",
   "metadata": {},
   "source": [
    "#### 13th iteration"
   ]
  },
  {
   "cell_type": "markdown",
   "metadata": {},
   "source": [
    "Get the features' importance"
   ]
  },
  {
   "cell_type": "code",
   "execution_count": 160,
   "metadata": {
    "scrolled": false
   },
   "outputs": [
    {
     "name": "stdout",
     "output_type": "stream",
     "text": [
      "Variable: Zave (12.5 ug/ml)    Importance: 1.164\n",
      "Variable: Length ave. (nm)     Importance: 0.977\n",
      "Variable: Endotoxins (EU/mg)   Importance: 0.971\n",
      "Variable: PdI  (200 ug/ml)     Importance: 0.956\n",
      "Variable: % Total Impurities   Importance: 0.836\n",
      "Variable: Peak (ug/ml)         Importance: 0.496\n",
      "Variable: ROS                  Importance: -0.587\n",
      "Variable: COOH mmol/g          Importance: -0.619\n",
      "Variable: CEA: C.H.N.O (wt%)   Importance: -0.918\n",
      "Variable: PdI (batch)          Importance: -1.229\n",
      "Variable: Purity (%)           Importance: -1.747\n"
     ]
    }
   ],
   "source": [
    "# Get numerical feature importances and feature names\n",
    "importances = list(clf.coef_.reshape(clf.coef_.shape[1]))\n",
    "feature_list = list(train.columns)\n",
    "\n",
    "# List of tuples with variable and importance\n",
    "feature_importances = [(feature, round(importance, 3)) for feature, importance in zip(feature_list, importances)]\n",
    "\n",
    "# Sort the feature importances by most important first\n",
    "feature_importances = sorted(feature_importances, key = lambda x: x[1], reverse = True)\n",
    "\n",
    "# Print out the feature and importances \n",
    "[print('Variable: {:20} Importance: {}'.format(*pair)) for pair in feature_importances];"
   ]
  },
  {
   "cell_type": "markdown",
   "metadata": {},
   "source": [
    "Exclude features with minimum importance"
   ]
  },
  {
   "cell_type": "code",
   "execution_count": 161,
   "metadata": {
    "scrolled": true
   },
   "outputs": [
    {
     "data": {
      "text/html": [
       "<div>\n",
       "<style scoped>\n",
       "    .dataframe tbody tr th:only-of-type {\n",
       "        vertical-align: middle;\n",
       "    }\n",
       "\n",
       "    .dataframe tbody tr th {\n",
       "        vertical-align: top;\n",
       "    }\n",
       "\n",
       "    .dataframe thead th {\n",
       "        text-align: right;\n",
       "    }\n",
       "</style>\n",
       "<table border=\"1\" class=\"dataframe\">\n",
       "  <thead>\n",
       "    <tr style=\"text-align: right;\">\n",
       "      <th></th>\n",
       "      <th>Length ave. (nm)</th>\n",
       "      <th>Purity (%)</th>\n",
       "      <th>PdI (batch)</th>\n",
       "      <th>Zave (12.5 ug/ml)</th>\n",
       "      <th>PdI  (200 ug/ml)</th>\n",
       "      <th>ROS</th>\n",
       "      <th>CEA: C.H.N.O (wt%)</th>\n",
       "      <th>COOH mmol/g</th>\n",
       "      <th>Endotoxins (EU/mg)</th>\n",
       "      <th>% Total Impurities</th>\n",
       "    </tr>\n",
       "  </thead>\n",
       "  <tbody>\n",
       "    <tr>\n",
       "      <th>2</th>\n",
       "      <td>0.039432</td>\n",
       "      <td>1.000000</td>\n",
       "      <td>0.413333</td>\n",
       "      <td>0.014556</td>\n",
       "      <td>0.357357</td>\n",
       "      <td>0.103896</td>\n",
       "      <td>0.8</td>\n",
       "      <td>1.000000</td>\n",
       "      <td>0.50</td>\n",
       "      <td>0.048780</td>\n",
       "    </tr>\n",
       "    <tr>\n",
       "      <th>3</th>\n",
       "      <td>0.048716</td>\n",
       "      <td>0.923913</td>\n",
       "      <td>0.026667</td>\n",
       "      <td>0.000000</td>\n",
       "      <td>0.000000</td>\n",
       "      <td>0.298701</td>\n",
       "      <td>0.8</td>\n",
       "      <td>0.034653</td>\n",
       "      <td>0.48</td>\n",
       "      <td>0.219889</td>\n",
       "    </tr>\n",
       "    <tr>\n",
       "      <th>4</th>\n",
       "      <td>0.156550</td>\n",
       "      <td>0.934783</td>\n",
       "      <td>0.024000</td>\n",
       "      <td>0.425036</td>\n",
       "      <td>0.822823</td>\n",
       "      <td>0.220779</td>\n",
       "      <td>0.9</td>\n",
       "      <td>0.044554</td>\n",
       "      <td>0.52</td>\n",
       "      <td>0.190736</td>\n",
       "    </tr>\n",
       "    <tr>\n",
       "      <th>5</th>\n",
       "      <td>0.199591</td>\n",
       "      <td>0.684783</td>\n",
       "      <td>0.000000</td>\n",
       "      <td>0.278020</td>\n",
       "      <td>0.255255</td>\n",
       "      <td>0.194805</td>\n",
       "      <td>0.5</td>\n",
       "      <td>0.143564</td>\n",
       "      <td>0.66</td>\n",
       "      <td>0.517711</td>\n",
       "    </tr>\n",
       "    <tr>\n",
       "      <th>6</th>\n",
       "      <td>0.038274</td>\n",
       "      <td>0.945652</td>\n",
       "      <td>0.552000</td>\n",
       "      <td>0.659389</td>\n",
       "      <td>0.573574</td>\n",
       "      <td>0.857143</td>\n",
       "      <td>0.8</td>\n",
       "      <td>0.148515</td>\n",
       "      <td>0.36</td>\n",
       "      <td>0.136716</td>\n",
       "    </tr>\n",
       "  </tbody>\n",
       "</table>\n",
       "</div>"
      ],
      "text/plain": [
       "   Length ave. (nm)   Purity (%)  PdI (batch)  Zave (12.5 ug/ml)  \\\n",
       "2           0.039432    1.000000     0.413333           0.014556   \n",
       "3           0.048716    0.923913     0.026667           0.000000   \n",
       "4           0.156550    0.934783     0.024000           0.425036   \n",
       "5           0.199591    0.684783     0.000000           0.278020   \n",
       "6           0.038274    0.945652     0.552000           0.659389   \n",
       "\n",
       "   PdI  (200 ug/ml)       ROS  CEA: C.H.N.O (wt%)  COOH mmol/g  \\\n",
       "2          0.357357  0.103896                 0.8     1.000000   \n",
       "3          0.000000  0.298701                 0.8     0.034653   \n",
       "4          0.822823  0.220779                 0.9     0.044554   \n",
       "5          0.255255  0.194805                 0.5     0.143564   \n",
       "6          0.573574  0.857143                 0.8     0.148515   \n",
       "\n",
       "   Endotoxins (EU/mg)  % Total Impurities  \n",
       "2                0.50            0.048780  \n",
       "3                0.48            0.219889  \n",
       "4                0.52            0.190736  \n",
       "5                0.66            0.517711  \n",
       "6                0.36            0.136716  "
      ]
     },
     "execution_count": 161,
     "metadata": {},
     "output_type": "execute_result"
    }
   ],
   "source": [
    "for i in range(len(feature_importances)):\n",
    "    if round(abs(feature_importances[i][1]),3)==min([round(abs(i),3) for i in importances]):\n",
    "        train.drop(feature_importances[i][0], axis=1, inplace=True)\n",
    "        test.drop(feature_importances[i][0], axis=1, inplace=True)\n",
    "        \n",
    "train.head()"
   ]
  },
  {
   "cell_type": "markdown",
   "metadata": {},
   "source": [
    "Optimize Logistc Regression"
   ]
  },
  {
   "cell_type": "code",
   "execution_count": 162,
   "metadata": {},
   "outputs": [],
   "source": [
    "bo = BayesOpt(train, train_labels, folds = 4, n_iter=30,log_scaling=False)"
   ]
  },
  {
   "cell_type": "code",
   "execution_count": 163,
   "metadata": {
    "scrolled": false
   },
   "outputs": [
    {
     "name": "stdout",
     "output_type": "stream",
     "text": [
      "Optimizing for l1 penalty\n",
      "|   iter    |  target   |     C     |\n",
      "-------------------------------------\n",
      "| \u001b[0m 1       \u001b[0m | \u001b[0m nan     \u001b[0m | \u001b[0m 4.371   \u001b[0m |\n",
      "| \u001b[0m 2       \u001b[0m | \u001b[0m nan     \u001b[0m | \u001b[0m 9.556   \u001b[0m |\n",
      "| \u001b[0m 3       \u001b[0m | \u001b[0m nan     \u001b[0m | \u001b[0m 7.588   \u001b[0m |\n",
      "| \u001b[0m 4       \u001b[0m | \u001b[0m nan     \u001b[0m | \u001b[0m 6.388   \u001b[0m |\n",
      "| \u001b[0m 5       \u001b[0m | \u001b[0m nan     \u001b[0m | \u001b[0m 2.404   \u001b[0m |\n",
      "Error related to scaling.\n",
      "Optimizing for l2 penalty\n",
      "|   iter    |  target   |     C     |\n",
      "-------------------------------------\n",
      "| \u001b[0m 1       \u001b[0m | \u001b[0m 0.8333  \u001b[0m | \u001b[0m 4.371   \u001b[0m |\n",
      "| \u001b[0m 2       \u001b[0m | \u001b[0m 0.8333  \u001b[0m | \u001b[0m 9.556   \u001b[0m |\n",
      "| \u001b[0m 3       \u001b[0m | \u001b[0m 0.8333  \u001b[0m | \u001b[0m 7.588   \u001b[0m |\n",
      "| \u001b[0m 4       \u001b[0m | \u001b[0m 0.8333  \u001b[0m | \u001b[0m 6.388   \u001b[0m |\n",
      "| \u001b[0m 5       \u001b[0m | \u001b[0m 0.8333  \u001b[0m | \u001b[0m 2.404   \u001b[0m |\n",
      "Error related to scaling.\n",
      "\n",
      "\n",
      "Final result: The optimal model's accuracy is 0.8333333333333333 and the optimal parameters are C=4.370861069626263 and penalty=l2\n"
     ]
    }
   ],
   "source": [
    "# Get the time that the optimization started\n",
    "start_time = datetime.now().strftime(\"%H:%M:%S\")\n",
    "\n",
    "# Boundaries of the hyperparameters\n",
    "params={'C' : (1,10)}\n",
    "\n",
    "# Optimization\n",
    "import warnings\n",
    "warnings.filterwarnings(\"ignore\", category=FutureWarning)\n",
    "\n",
    "lr_optimum = bo.optimize_lr(params)\n",
    "\n",
    "# Get the time that the optimization ended\n",
    "end_time = datetime.now().strftime(\"%H:%M:%S\")"
   ]
  },
  {
   "cell_type": "code",
   "execution_count": 164,
   "metadata": {
    "scrolled": true
   },
   "outputs": [
    {
     "name": "stdout",
     "output_type": "stream",
     "text": [
      "Minutes to execute: 0.0\n"
     ]
    }
   ],
   "source": [
    "print('Minutes to execute:', \n",
    "      round((datetime.strptime(end_time, '%H:%M:%S') - datetime.strptime(start_time, '%H:%M:%S')).seconds/60,2))"
   ]
  },
  {
   "cell_type": "markdown",
   "metadata": {},
   "source": [
    "Step 5: Test model's performance (on the testing set)"
   ]
  },
  {
   "cell_type": "code",
   "execution_count": 165,
   "metadata": {},
   "outputs": [],
   "source": [
    "# Declare the model\n",
    "clf = LogisticRegression(C=lr_optimum['params']['C'], penalty=lr_optimum['params']['penalty'],random_state=42)\n",
    "\n",
    "# Train the model on training data\n",
    "clf.fit(train, train_labels);"
   ]
  },
  {
   "cell_type": "markdown",
   "metadata": {},
   "source": [
    "###### Metrics on the Training set"
   ]
  },
  {
   "cell_type": "code",
   "execution_count": 166,
   "metadata": {},
   "outputs": [],
   "source": [
    "# Use the model's predict method \n",
    "predictions = clf.predict(train)"
   ]
  },
  {
   "cell_type": "code",
   "execution_count": 167,
   "metadata": {},
   "outputs": [
    {
     "name": "stdout",
     "output_type": "stream",
     "text": [
      "LR's training accuracy: 1.0\n"
     ]
    }
   ],
   "source": [
    "# Print the training accuracy\n",
    "print(\"LR's training accuracy:\", accuracy_score(train_labels, predictions))"
   ]
  },
  {
   "cell_type": "code",
   "execution_count": 168,
   "metadata": {},
   "outputs": [
    {
     "name": "stdout",
     "output_type": "stream",
     "text": [
      "              precision    recall  f1-score   support\n",
      "\n",
      "           0       1.00      1.00      1.00         5\n",
      "           1       1.00      1.00      1.00         5\n",
      "\n",
      "    accuracy                           1.00        10\n",
      "   macro avg       1.00      1.00      1.00        10\n",
      "weighted avg       1.00      1.00      1.00        10\n",
      "\n"
     ]
    }
   ],
   "source": [
    "# Print the classification report\n",
    "print(classification_report(train_labels,predictions))"
   ]
  },
  {
   "cell_type": "code",
   "execution_count": 169,
   "metadata": {},
   "outputs": [
    {
     "name": "stdout",
     "output_type": "stream",
     "text": [
      "Confusion Matrix:\n",
      "5 | 0\n",
      "-----\n",
      "0 | 5\n"
     ]
    }
   ],
   "source": [
    "cm = confusion_matrix(train_labels,predictions)\n",
    "print('Confusion Matrix:')\n",
    "print(cm[0][0],'|',cm[0][1])\n",
    "print('-----')\n",
    "print(cm[1][0],'|',cm[1][1])"
   ]
  },
  {
   "cell_type": "code",
   "execution_count": 170,
   "metadata": {},
   "outputs": [
    {
     "name": "stdout",
     "output_type": "stream",
     "text": [
      "Specificity: 1.0\n",
      "Sensitivity: 1.0\n"
     ]
    }
   ],
   "source": [
    "tn, fp, fn, tp = confusion_matrix(train_labels,predictions).ravel()\n",
    "specificity = tn / (tn + fp)\n",
    "sensitivity = tp / (tp + fn)\n",
    "print('Specificity:',specificity)\n",
    "print('Sensitivity:',sensitivity)"
   ]
  },
  {
   "cell_type": "code",
   "execution_count": 171,
   "metadata": {},
   "outputs": [
    {
     "name": "stdout",
     "output_type": "stream",
     "text": [
      "MCC: 1.0\n"
     ]
    }
   ],
   "source": [
    "# Print the MCC\n",
    "print('MCC:', matthews_corrcoef(train_labels,predictions))"
   ]
  },
  {
   "cell_type": "code",
   "execution_count": 172,
   "metadata": {},
   "outputs": [
    {
     "name": "stdout",
     "output_type": "stream",
     "text": [
      "List of scores: [0.66666667 0.66666667 1.         1.        ]\n",
      "Mean of Cross Validtation: 0.8333333333333333\n"
     ]
    }
   ],
   "source": [
    "#Print the Cross-Validation Score\n",
    "scores = cross_val_score(clf, train, train_labels, cv=4)\n",
    "\n",
    "print('List of scores:', scores)\n",
    "print('Mean of Cross Validtation:', scores.mean())"
   ]
  },
  {
   "cell_type": "markdown",
   "metadata": {},
   "source": [
    "#### 14th iteration"
   ]
  },
  {
   "cell_type": "markdown",
   "metadata": {},
   "source": [
    "Get the features' importance"
   ]
  },
  {
   "cell_type": "code",
   "execution_count": 173,
   "metadata": {
    "scrolled": false
   },
   "outputs": [
    {
     "name": "stdout",
     "output_type": "stream",
     "text": [
      "Variable: Zave (12.5 ug/ml)    Importance: 1.108\n",
      "Variable: Endotoxins (EU/mg)   Importance: 1.014\n",
      "Variable: Length ave. (nm)     Importance: 1.001\n",
      "Variable: % Total Impurities   Importance: 0.936\n",
      "Variable: PdI  (200 ug/ml)     Importance: 0.929\n",
      "Variable: COOH mmol/g          Importance: -0.599\n",
      "Variable: ROS                  Importance: -0.729\n",
      "Variable: CEA: C.H.N.O (wt%)   Importance: -0.828\n",
      "Variable: PdI (batch)          Importance: -1.286\n",
      "Variable: Purity (%)           Importance: -1.704\n"
     ]
    }
   ],
   "source": [
    "# Get numerical feature importances and feature names\n",
    "importances = list(clf.coef_.reshape(clf.coef_.shape[1]))\n",
    "feature_list = list(train.columns)\n",
    "\n",
    "# List of tuples with variable and importance\n",
    "feature_importances = [(feature, round(importance, 3)) for feature, importance in zip(feature_list, importances)]\n",
    "\n",
    "# Sort the feature importances by most important first\n",
    "feature_importances = sorted(feature_importances, key = lambda x: x[1], reverse = True)\n",
    "\n",
    "# Print out the feature and importances \n",
    "[print('Variable: {:20} Importance: {}'.format(*pair)) for pair in feature_importances];"
   ]
  },
  {
   "cell_type": "markdown",
   "metadata": {},
   "source": [
    "Exclude features with minimum importance"
   ]
  },
  {
   "cell_type": "code",
   "execution_count": 174,
   "metadata": {
    "scrolled": true
   },
   "outputs": [
    {
     "data": {
      "text/html": [
       "<div>\n",
       "<style scoped>\n",
       "    .dataframe tbody tr th:only-of-type {\n",
       "        vertical-align: middle;\n",
       "    }\n",
       "\n",
       "    .dataframe tbody tr th {\n",
       "        vertical-align: top;\n",
       "    }\n",
       "\n",
       "    .dataframe thead th {\n",
       "        text-align: right;\n",
       "    }\n",
       "</style>\n",
       "<table border=\"1\" class=\"dataframe\">\n",
       "  <thead>\n",
       "    <tr style=\"text-align: right;\">\n",
       "      <th></th>\n",
       "      <th>Length ave. (nm)</th>\n",
       "      <th>Purity (%)</th>\n",
       "      <th>PdI (batch)</th>\n",
       "      <th>Zave (12.5 ug/ml)</th>\n",
       "      <th>PdI  (200 ug/ml)</th>\n",
       "      <th>ROS</th>\n",
       "      <th>CEA: C.H.N.O (wt%)</th>\n",
       "      <th>Endotoxins (EU/mg)</th>\n",
       "      <th>% Total Impurities</th>\n",
       "    </tr>\n",
       "  </thead>\n",
       "  <tbody>\n",
       "    <tr>\n",
       "      <th>2</th>\n",
       "      <td>0.039432</td>\n",
       "      <td>1.000000</td>\n",
       "      <td>0.413333</td>\n",
       "      <td>0.014556</td>\n",
       "      <td>0.357357</td>\n",
       "      <td>0.103896</td>\n",
       "      <td>0.8</td>\n",
       "      <td>0.50</td>\n",
       "      <td>0.048780</td>\n",
       "    </tr>\n",
       "    <tr>\n",
       "      <th>3</th>\n",
       "      <td>0.048716</td>\n",
       "      <td>0.923913</td>\n",
       "      <td>0.026667</td>\n",
       "      <td>0.000000</td>\n",
       "      <td>0.000000</td>\n",
       "      <td>0.298701</td>\n",
       "      <td>0.8</td>\n",
       "      <td>0.48</td>\n",
       "      <td>0.219889</td>\n",
       "    </tr>\n",
       "    <tr>\n",
       "      <th>4</th>\n",
       "      <td>0.156550</td>\n",
       "      <td>0.934783</td>\n",
       "      <td>0.024000</td>\n",
       "      <td>0.425036</td>\n",
       "      <td>0.822823</td>\n",
       "      <td>0.220779</td>\n",
       "      <td>0.9</td>\n",
       "      <td>0.52</td>\n",
       "      <td>0.190736</td>\n",
       "    </tr>\n",
       "    <tr>\n",
       "      <th>5</th>\n",
       "      <td>0.199591</td>\n",
       "      <td>0.684783</td>\n",
       "      <td>0.000000</td>\n",
       "      <td>0.278020</td>\n",
       "      <td>0.255255</td>\n",
       "      <td>0.194805</td>\n",
       "      <td>0.5</td>\n",
       "      <td>0.66</td>\n",
       "      <td>0.517711</td>\n",
       "    </tr>\n",
       "    <tr>\n",
       "      <th>6</th>\n",
       "      <td>0.038274</td>\n",
       "      <td>0.945652</td>\n",
       "      <td>0.552000</td>\n",
       "      <td>0.659389</td>\n",
       "      <td>0.573574</td>\n",
       "      <td>0.857143</td>\n",
       "      <td>0.8</td>\n",
       "      <td>0.36</td>\n",
       "      <td>0.136716</td>\n",
       "    </tr>\n",
       "  </tbody>\n",
       "</table>\n",
       "</div>"
      ],
      "text/plain": [
       "   Length ave. (nm)   Purity (%)  PdI (batch)  Zave (12.5 ug/ml)  \\\n",
       "2           0.039432    1.000000     0.413333           0.014556   \n",
       "3           0.048716    0.923913     0.026667           0.000000   \n",
       "4           0.156550    0.934783     0.024000           0.425036   \n",
       "5           0.199591    0.684783     0.000000           0.278020   \n",
       "6           0.038274    0.945652     0.552000           0.659389   \n",
       "\n",
       "   PdI  (200 ug/ml)       ROS  CEA: C.H.N.O (wt%)  Endotoxins (EU/mg)  \\\n",
       "2          0.357357  0.103896                 0.8                0.50   \n",
       "3          0.000000  0.298701                 0.8                0.48   \n",
       "4          0.822823  0.220779                 0.9                0.52   \n",
       "5          0.255255  0.194805                 0.5                0.66   \n",
       "6          0.573574  0.857143                 0.8                0.36   \n",
       "\n",
       "   % Total Impurities  \n",
       "2            0.048780  \n",
       "3            0.219889  \n",
       "4            0.190736  \n",
       "5            0.517711  \n",
       "6            0.136716  "
      ]
     },
     "execution_count": 174,
     "metadata": {},
     "output_type": "execute_result"
    }
   ],
   "source": [
    "for i in range(len(feature_importances)):\n",
    "    if round(abs(feature_importances[i][1]),3)==min([round(abs(i),3) for i in importances]):\n",
    "        train.drop(feature_importances[i][0], axis=1, inplace=True)\n",
    "        test.drop(feature_importances[i][0], axis=1, inplace=True)\n",
    "        \n",
    "train.head()"
   ]
  },
  {
   "cell_type": "markdown",
   "metadata": {},
   "source": [
    "Optimize Logistc Regression"
   ]
  },
  {
   "cell_type": "code",
   "execution_count": 175,
   "metadata": {},
   "outputs": [],
   "source": [
    "bo = BayesOpt(train, train_labels, folds = 4, n_iter=30,log_scaling=False)"
   ]
  },
  {
   "cell_type": "code",
   "execution_count": 176,
   "metadata": {
    "scrolled": false
   },
   "outputs": [
    {
     "name": "stdout",
     "output_type": "stream",
     "text": [
      "Optimizing for l1 penalty\n",
      "|   iter    |  target   |     C     |\n",
      "-------------------------------------\n",
      "| \u001b[0m 1       \u001b[0m | \u001b[0m nan     \u001b[0m | \u001b[0m 4.371   \u001b[0m |\n",
      "| \u001b[0m 2       \u001b[0m | \u001b[0m nan     \u001b[0m | \u001b[0m 9.556   \u001b[0m |\n",
      "| \u001b[0m 3       \u001b[0m | \u001b[0m nan     \u001b[0m | \u001b[0m 7.588   \u001b[0m |\n",
      "| \u001b[0m 4       \u001b[0m | \u001b[0m nan     \u001b[0m | \u001b[0m 6.388   \u001b[0m |\n",
      "| \u001b[0m 5       \u001b[0m | \u001b[0m nan     \u001b[0m | \u001b[0m 2.404   \u001b[0m |\n",
      "Error related to scaling.\n",
      "Optimizing for l2 penalty\n",
      "|   iter    |  target   |     C     |\n",
      "-------------------------------------\n",
      "| \u001b[0m 1       \u001b[0m | \u001b[0m 0.8333  \u001b[0m | \u001b[0m 4.371   \u001b[0m |\n",
      "| \u001b[0m 2       \u001b[0m | \u001b[0m 0.8333  \u001b[0m | \u001b[0m 9.556   \u001b[0m |\n",
      "| \u001b[0m 3       \u001b[0m | \u001b[0m 0.8333  \u001b[0m | \u001b[0m 7.588   \u001b[0m |\n",
      "| \u001b[0m 4       \u001b[0m | \u001b[0m 0.8333  \u001b[0m | \u001b[0m 6.388   \u001b[0m |\n",
      "| \u001b[0m 5       \u001b[0m | \u001b[0m 0.8333  \u001b[0m | \u001b[0m 2.404   \u001b[0m |\n",
      "Error related to scaling.\n",
      "\n",
      "\n",
      "Final result: The optimal model's accuracy is 0.8333333333333333 and the optimal parameters are C=4.370861069626263 and penalty=l2\n"
     ]
    }
   ],
   "source": [
    "# Get the time that the optimization started\n",
    "start_time = datetime.now().strftime(\"%H:%M:%S\")\n",
    "\n",
    "# Boundaries of the hyperparameters\n",
    "params={'C' : (1,10)}\n",
    "\n",
    "# Optimization\n",
    "import warnings\n",
    "warnings.filterwarnings(\"ignore\", category=FutureWarning)\n",
    "\n",
    "lr_optimum = bo.optimize_lr(params)\n",
    "\n",
    "# Get the time that the optimization ended\n",
    "end_time = datetime.now().strftime(\"%H:%M:%S\")"
   ]
  },
  {
   "cell_type": "code",
   "execution_count": 177,
   "metadata": {
    "scrolled": true
   },
   "outputs": [
    {
     "name": "stdout",
     "output_type": "stream",
     "text": [
      "Minutes to execute: 0.0\n"
     ]
    }
   ],
   "source": [
    "print('Minutes to execute:', \n",
    "      round((datetime.strptime(end_time, '%H:%M:%S') - datetime.strptime(start_time, '%H:%M:%S')).seconds/60,2))"
   ]
  },
  {
   "cell_type": "markdown",
   "metadata": {},
   "source": [
    "Step 5: Test model's performance (on the testing set)"
   ]
  },
  {
   "cell_type": "code",
   "execution_count": 178,
   "metadata": {},
   "outputs": [],
   "source": [
    "# Declare the model\n",
    "clf = LogisticRegression(C=lr_optimum['params']['C'], penalty=lr_optimum['params']['penalty'],random_state=42)\n",
    "\n",
    "# Train the model on training data\n",
    "clf.fit(train, train_labels);"
   ]
  },
  {
   "cell_type": "markdown",
   "metadata": {},
   "source": [
    "###### Metrics on the Training set"
   ]
  },
  {
   "cell_type": "code",
   "execution_count": 179,
   "metadata": {},
   "outputs": [],
   "source": [
    "# Use the model's predict method \n",
    "predictions = clf.predict(train)"
   ]
  },
  {
   "cell_type": "code",
   "execution_count": 180,
   "metadata": {},
   "outputs": [
    {
     "name": "stdout",
     "output_type": "stream",
     "text": [
      "LR's training accuracy: 1.0\n"
     ]
    }
   ],
   "source": [
    "# Print the training accuracy\n",
    "print(\"LR's training accuracy:\", accuracy_score(train_labels, predictions))"
   ]
  },
  {
   "cell_type": "code",
   "execution_count": 181,
   "metadata": {},
   "outputs": [
    {
     "name": "stdout",
     "output_type": "stream",
     "text": [
      "              precision    recall  f1-score   support\n",
      "\n",
      "           0       1.00      1.00      1.00         5\n",
      "           1       1.00      1.00      1.00         5\n",
      "\n",
      "    accuracy                           1.00        10\n",
      "   macro avg       1.00      1.00      1.00        10\n",
      "weighted avg       1.00      1.00      1.00        10\n",
      "\n"
     ]
    }
   ],
   "source": [
    "# Print the classification report\n",
    "print(classification_report(train_labels,predictions))"
   ]
  },
  {
   "cell_type": "code",
   "execution_count": 182,
   "metadata": {},
   "outputs": [
    {
     "name": "stdout",
     "output_type": "stream",
     "text": [
      "Confusion Matrix:\n",
      "5 | 0\n",
      "-----\n",
      "0 | 5\n"
     ]
    }
   ],
   "source": [
    "cm = confusion_matrix(train_labels,predictions)\n",
    "print('Confusion Matrix:')\n",
    "print(cm[0][0],'|',cm[0][1])\n",
    "print('-----')\n",
    "print(cm[1][0],'|',cm[1][1])"
   ]
  },
  {
   "cell_type": "code",
   "execution_count": 183,
   "metadata": {},
   "outputs": [
    {
     "name": "stdout",
     "output_type": "stream",
     "text": [
      "Specificity: 1.0\n",
      "Sensitivity: 1.0\n"
     ]
    }
   ],
   "source": [
    "tn, fp, fn, tp = confusion_matrix(train_labels,predictions).ravel()\n",
    "specificity = tn / (tn + fp)\n",
    "sensitivity = tp / (tp + fn)\n",
    "print('Specificity:',specificity)\n",
    "print('Sensitivity:',sensitivity)"
   ]
  },
  {
   "cell_type": "code",
   "execution_count": 184,
   "metadata": {},
   "outputs": [
    {
     "name": "stdout",
     "output_type": "stream",
     "text": [
      "MCC: 1.0\n"
     ]
    }
   ],
   "source": [
    "# Print the MCC\n",
    "print('MCC:', matthews_corrcoef(train_labels,predictions))"
   ]
  },
  {
   "cell_type": "code",
   "execution_count": 185,
   "metadata": {},
   "outputs": [
    {
     "name": "stdout",
     "output_type": "stream",
     "text": [
      "List of scores: [0.66666667 0.66666667 1.         1.        ]\n",
      "Mean of Cross Validtation: 0.8333333333333333\n"
     ]
    }
   ],
   "source": [
    "#Print the Cross-Validation Score\n",
    "scores = cross_val_score(clf, train, train_labels, cv=4)\n",
    "\n",
    "print('List of scores:', scores)\n",
    "print('Mean of Cross Validtation:', scores.mean())"
   ]
  },
  {
   "cell_type": "markdown",
   "metadata": {},
   "source": [
    "#### 15th iteration"
   ]
  },
  {
   "cell_type": "markdown",
   "metadata": {},
   "source": [
    "Get the features' importance"
   ]
  },
  {
   "cell_type": "code",
   "execution_count": 186,
   "metadata": {
    "scrolled": false
   },
   "outputs": [
    {
     "name": "stdout",
     "output_type": "stream",
     "text": [
      "Variable: Zave (12.5 ug/ml)    Importance: 1.167\n",
      "Variable: Length ave. (nm)     Importance: 1.035\n",
      "Variable: Endotoxins (EU/mg)   Importance: 0.981\n",
      "Variable: % Total Impurities   Importance: 0.981\n",
      "Variable: PdI  (200 ug/ml)     Importance: 0.958\n",
      "Variable: ROS                  Importance: -0.685\n",
      "Variable: CEA: C.H.N.O (wt%)   Importance: -0.806\n",
      "Variable: PdI (batch)          Importance: -1.335\n",
      "Variable: Purity (%)           Importance: -1.724\n"
     ]
    }
   ],
   "source": [
    "# Get numerical feature importances and feature names\n",
    "importances = list(clf.coef_.reshape(clf.coef_.shape[1]))\n",
    "feature_list = list(train.columns)\n",
    "\n",
    "# List of tuples with variable and importance\n",
    "feature_importances = [(feature, round(importance, 3)) for feature, importance in zip(feature_list, importances)]\n",
    "\n",
    "# Sort the feature importances by most important first\n",
    "feature_importances = sorted(feature_importances, key = lambda x: x[1], reverse = True)\n",
    "\n",
    "# Print out the feature and importances \n",
    "[print('Variable: {:20} Importance: {}'.format(*pair)) for pair in feature_importances];"
   ]
  },
  {
   "cell_type": "code",
   "execution_count": 187,
   "metadata": {
    "scrolled": true
   },
   "outputs": [
    {
     "data": {
      "text/html": [
       "<div>\n",
       "<style scoped>\n",
       "    .dataframe tbody tr th:only-of-type {\n",
       "        vertical-align: middle;\n",
       "    }\n",
       "\n",
       "    .dataframe tbody tr th {\n",
       "        vertical-align: top;\n",
       "    }\n",
       "\n",
       "    .dataframe thead th {\n",
       "        text-align: right;\n",
       "    }\n",
       "</style>\n",
       "<table border=\"1\" class=\"dataframe\">\n",
       "  <thead>\n",
       "    <tr style=\"text-align: right;\">\n",
       "      <th></th>\n",
       "      <th>Length ave. (nm)</th>\n",
       "      <th>Purity (%)</th>\n",
       "      <th>PdI (batch)</th>\n",
       "      <th>Zave (12.5 ug/ml)</th>\n",
       "      <th>PdI  (200 ug/ml)</th>\n",
       "      <th>CEA: C.H.N.O (wt%)</th>\n",
       "      <th>Endotoxins (EU/mg)</th>\n",
       "      <th>% Total Impurities</th>\n",
       "    </tr>\n",
       "  </thead>\n",
       "  <tbody>\n",
       "    <tr>\n",
       "      <th>2</th>\n",
       "      <td>0.039432</td>\n",
       "      <td>1.000000</td>\n",
       "      <td>0.413333</td>\n",
       "      <td>0.014556</td>\n",
       "      <td>0.357357</td>\n",
       "      <td>0.8</td>\n",
       "      <td>0.50</td>\n",
       "      <td>0.048780</td>\n",
       "    </tr>\n",
       "    <tr>\n",
       "      <th>3</th>\n",
       "      <td>0.048716</td>\n",
       "      <td>0.923913</td>\n",
       "      <td>0.026667</td>\n",
       "      <td>0.000000</td>\n",
       "      <td>0.000000</td>\n",
       "      <td>0.8</td>\n",
       "      <td>0.48</td>\n",
       "      <td>0.219889</td>\n",
       "    </tr>\n",
       "    <tr>\n",
       "      <th>4</th>\n",
       "      <td>0.156550</td>\n",
       "      <td>0.934783</td>\n",
       "      <td>0.024000</td>\n",
       "      <td>0.425036</td>\n",
       "      <td>0.822823</td>\n",
       "      <td>0.9</td>\n",
       "      <td>0.52</td>\n",
       "      <td>0.190736</td>\n",
       "    </tr>\n",
       "    <tr>\n",
       "      <th>5</th>\n",
       "      <td>0.199591</td>\n",
       "      <td>0.684783</td>\n",
       "      <td>0.000000</td>\n",
       "      <td>0.278020</td>\n",
       "      <td>0.255255</td>\n",
       "      <td>0.5</td>\n",
       "      <td>0.66</td>\n",
       "      <td>0.517711</td>\n",
       "    </tr>\n",
       "    <tr>\n",
       "      <th>6</th>\n",
       "      <td>0.038274</td>\n",
       "      <td>0.945652</td>\n",
       "      <td>0.552000</td>\n",
       "      <td>0.659389</td>\n",
       "      <td>0.573574</td>\n",
       "      <td>0.8</td>\n",
       "      <td>0.36</td>\n",
       "      <td>0.136716</td>\n",
       "    </tr>\n",
       "  </tbody>\n",
       "</table>\n",
       "</div>"
      ],
      "text/plain": [
       "   Length ave. (nm)   Purity (%)  PdI (batch)  Zave (12.5 ug/ml)  \\\n",
       "2           0.039432    1.000000     0.413333           0.014556   \n",
       "3           0.048716    0.923913     0.026667           0.000000   \n",
       "4           0.156550    0.934783     0.024000           0.425036   \n",
       "5           0.199591    0.684783     0.000000           0.278020   \n",
       "6           0.038274    0.945652     0.552000           0.659389   \n",
       "\n",
       "   PdI  (200 ug/ml)  CEA: C.H.N.O (wt%)  Endotoxins (EU/mg)  \\\n",
       "2          0.357357                 0.8                0.50   \n",
       "3          0.000000                 0.8                0.48   \n",
       "4          0.822823                 0.9                0.52   \n",
       "5          0.255255                 0.5                0.66   \n",
       "6          0.573574                 0.8                0.36   \n",
       "\n",
       "   % Total Impurities  \n",
       "2            0.048780  \n",
       "3            0.219889  \n",
       "4            0.190736  \n",
       "5            0.517711  \n",
       "6            0.136716  "
      ]
     },
     "execution_count": 187,
     "metadata": {},
     "output_type": "execute_result"
    }
   ],
   "source": [
    "for i in range(len(feature_importances)):\n",
    "    if round(abs(feature_importances[i][1]),3)==min([round(abs(i),3) for i in importances]):\n",
    "        train.drop(feature_importances[i][0], axis=1, inplace=True)\n",
    "        test.drop(feature_importances[i][0], axis=1, inplace=True)\n",
    "        \n",
    "train.head()"
   ]
  },
  {
   "cell_type": "markdown",
   "metadata": {},
   "source": [
    "Optimize Logistc Regression"
   ]
  },
  {
   "cell_type": "code",
   "execution_count": 188,
   "metadata": {},
   "outputs": [],
   "source": [
    "bo = BayesOpt(train, train_labels, folds = 4, n_iter=30,log_scaling=False)"
   ]
  },
  {
   "cell_type": "code",
   "execution_count": 189,
   "metadata": {
    "scrolled": false
   },
   "outputs": [
    {
     "name": "stdout",
     "output_type": "stream",
     "text": [
      "Optimizing for l1 penalty\n",
      "|   iter    |  target   |     C     |\n",
      "-------------------------------------\n",
      "| \u001b[0m 1       \u001b[0m | \u001b[0m nan     \u001b[0m | \u001b[0m 4.371   \u001b[0m |\n",
      "| \u001b[0m 2       \u001b[0m | \u001b[0m nan     \u001b[0m | \u001b[0m 9.556   \u001b[0m |\n",
      "| \u001b[0m 3       \u001b[0m | \u001b[0m nan     \u001b[0m | \u001b[0m 7.588   \u001b[0m |\n",
      "| \u001b[0m 4       \u001b[0m | \u001b[0m nan     \u001b[0m | \u001b[0m 6.388   \u001b[0m |\n",
      "| \u001b[0m 5       \u001b[0m | \u001b[0m nan     \u001b[0m | \u001b[0m 2.404   \u001b[0m |\n",
      "Error related to scaling.\n",
      "Optimizing for l2 penalty\n",
      "|   iter    |  target   |     C     |\n",
      "-------------------------------------\n",
      "| \u001b[0m 1       \u001b[0m | \u001b[0m 0.8333  \u001b[0m | \u001b[0m 4.371   \u001b[0m |\n",
      "| \u001b[95m 2       \u001b[0m | \u001b[95m 0.9167  \u001b[0m | \u001b[95m 9.556   \u001b[0m |\n",
      "| \u001b[0m 3       \u001b[0m | \u001b[0m 0.9167  \u001b[0m | \u001b[0m 7.588   \u001b[0m |\n",
      "| \u001b[0m 4       \u001b[0m | \u001b[0m 0.8333  \u001b[0m | \u001b[0m 6.388   \u001b[0m |\n",
      "| \u001b[0m 5       \u001b[0m | \u001b[0m 0.8333  \u001b[0m | \u001b[0m 2.404   \u001b[0m |\n",
      "| \u001b[0m 6       \u001b[0m | \u001b[0m 0.9167  \u001b[0m | \u001b[0m 9.491   \u001b[0m |\n",
      "| \u001b[0m 7       \u001b[0m | \u001b[0m 0.9167  \u001b[0m | \u001b[0m 8.352   \u001b[0m |\n",
      "| \u001b[0m 8       \u001b[0m | \u001b[0m 0.75    \u001b[0m | \u001b[0m 1.0     \u001b[0m |\n",
      "| \u001b[0m 9       \u001b[0m | \u001b[0m 0.9167  \u001b[0m | \u001b[0m 10.0    \u001b[0m |\n",
      "| \u001b[0m 10      \u001b[0m | \u001b[0m 0.9167  \u001b[0m | \u001b[0m 7.936   \u001b[0m |\n",
      "| \u001b[0m 11      \u001b[0m | \u001b[0m 0.9167  \u001b[0m | \u001b[0m 8.864   \u001b[0m |\n",
      "| \u001b[0m 12      \u001b[0m | \u001b[0m 0.9167  \u001b[0m | \u001b[0m 8.609   \u001b[0m |\n",
      "| \u001b[0m 13      \u001b[0m | \u001b[0m 0.9167  \u001b[0m | \u001b[0m 9.158   \u001b[0m |\n",
      "| \u001b[0m 14      \u001b[0m | \u001b[0m 0.9167  \u001b[0m | \u001b[0m 7.737   \u001b[0m |\n",
      "| \u001b[0m 15      \u001b[0m | \u001b[0m 0.9167  \u001b[0m | \u001b[0m 9.831   \u001b[0m |\n",
      "| \u001b[0m 16      \u001b[0m | \u001b[0m 0.9167  \u001b[0m | \u001b[0m 8.146   \u001b[0m |\n",
      "| \u001b[0m 17      \u001b[0m | \u001b[0m 0.9167  \u001b[0m | \u001b[0m 9.313   \u001b[0m |\n",
      "| \u001b[0m 18      \u001b[0m | \u001b[0m 0.9167  \u001b[0m | \u001b[0m 9.003   \u001b[0m |\n",
      "| \u001b[0m 19      \u001b[0m | \u001b[0m 0.9167  \u001b[0m | \u001b[0m 9.698   \u001b[0m |\n",
      "| \u001b[0m 20      \u001b[0m | \u001b[0m 0.9167  \u001b[0m | \u001b[0m 8.482   \u001b[0m |\n",
      "| \u001b[0m 21      \u001b[0m | \u001b[0m 0.9167  \u001b[0m | \u001b[0m 7.654   \u001b[0m |\n",
      "| \u001b[0m 22      \u001b[0m | \u001b[0m 0.9167  \u001b[0m | \u001b[0m 8.737   \u001b[0m |\n",
      "| \u001b[0m 23      \u001b[0m | \u001b[0m 0.9167  \u001b[0m | \u001b[0m 8.04    \u001b[0m |\n",
      "| \u001b[0m 24      \u001b[0m | \u001b[0m 0.9167  \u001b[0m | \u001b[0m 9.925   \u001b[0m |\n",
      "| \u001b[0m 25      \u001b[0m | \u001b[0m 0.9167  \u001b[0m | \u001b[0m 8.249   \u001b[0m |\n",
      "| \u001b[0m 26      \u001b[0m | \u001b[0m 0.9167  \u001b[0m | \u001b[0m 7.839   \u001b[0m |\n",
      "| \u001b[0m 27      \u001b[0m | \u001b[0m 0.9167  \u001b[0m | \u001b[0m 9.404   \u001b[0m |\n",
      "| \u001b[0m 28      \u001b[0m | \u001b[0m 0.9167  \u001b[0m | \u001b[0m 9.079   \u001b[0m |\n",
      "| \u001b[0m 29      \u001b[0m | \u001b[0m 0.9167  \u001b[0m | \u001b[0m 9.235   \u001b[0m |\n",
      "| \u001b[0m 30      \u001b[0m | \u001b[0m 0.9167  \u001b[0m | \u001b[0m 9.626   \u001b[0m |\n",
      "| \u001b[0m 31      \u001b[0m | \u001b[0m 0.9167  \u001b[0m | \u001b[0m 8.934   \u001b[0m |\n",
      "| \u001b[0m 32      \u001b[0m | \u001b[0m 0.9167  \u001b[0m | \u001b[0m 7.646   \u001b[0m |\n",
      "| \u001b[0m 33      \u001b[0m | \u001b[0m 0.9167  \u001b[0m | \u001b[0m 9.765   \u001b[0m |\n",
      "| \u001b[0m 34      \u001b[0m | \u001b[0m 0.9167  \u001b[0m | \u001b[0m 8.416   \u001b[0m |\n",
      "| \u001b[0m 35      \u001b[0m | \u001b[0m 0.9167  \u001b[0m | \u001b[0m 8.672   \u001b[0m |\n",
      "=====================================\n",
      "\n",
      "\n",
      "Final result: The optimal model's accuracy is 0.9166666666666666 and the optimal parameters are C=9.556428757689245 and penalty=l2\n"
     ]
    }
   ],
   "source": [
    "# Get the time that the optimization started\n",
    "start_time = datetime.now().strftime(\"%H:%M:%S\")\n",
    "\n",
    "# Boundaries of the hyperparameters\n",
    "params={'C' : (1,10)}\n",
    "\n",
    "# Optimization\n",
    "import warnings\n",
    "warnings.filterwarnings(\"ignore\", category=FutureWarning)\n",
    "\n",
    "lr_optimum = bo.optimize_lr(params)\n",
    "\n",
    "# Get the time that the optimization ended\n",
    "end_time = datetime.now().strftime(\"%H:%M:%S\")"
   ]
  },
  {
   "cell_type": "code",
   "execution_count": 190,
   "metadata": {
    "scrolled": true
   },
   "outputs": [
    {
     "name": "stdout",
     "output_type": "stream",
     "text": [
      "Minutes to execute: 0.05\n"
     ]
    }
   ],
   "source": [
    "print('Minutes to execute:', \n",
    "      round((datetime.strptime(end_time, '%H:%M:%S') - datetime.strptime(start_time, '%H:%M:%S')).seconds/60,2))"
   ]
  },
  {
   "cell_type": "markdown",
   "metadata": {},
   "source": [
    "Step 5: Test model's performance (on the testing set)"
   ]
  },
  {
   "cell_type": "code",
   "execution_count": 191,
   "metadata": {},
   "outputs": [],
   "source": [
    "# Declare the model\n",
    "clf = LogisticRegression(C=lr_optimum['params']['C'], penalty=lr_optimum['params']['penalty'],random_state=42)\n",
    "\n",
    "# Train the model on training data\n",
    "clf.fit(train, train_labels);"
   ]
  },
  {
   "cell_type": "markdown",
   "metadata": {},
   "source": [
    "###### Metrics on the Training set"
   ]
  },
  {
   "cell_type": "code",
   "execution_count": 192,
   "metadata": {},
   "outputs": [],
   "source": [
    "# Use the model's predict method \n",
    "predictions = clf.predict(train)"
   ]
  },
  {
   "cell_type": "code",
   "execution_count": 193,
   "metadata": {},
   "outputs": [
    {
     "name": "stdout",
     "output_type": "stream",
     "text": [
      "LR's training accuracy: 1.0\n"
     ]
    }
   ],
   "source": [
    "# Print the training accuracy\n",
    "print(\"LR's training accuracy:\", accuracy_score(train_labels, predictions))"
   ]
  },
  {
   "cell_type": "code",
   "execution_count": 194,
   "metadata": {},
   "outputs": [
    {
     "name": "stdout",
     "output_type": "stream",
     "text": [
      "              precision    recall  f1-score   support\n",
      "\n",
      "           0       1.00      1.00      1.00         5\n",
      "           1       1.00      1.00      1.00         5\n",
      "\n",
      "    accuracy                           1.00        10\n",
      "   macro avg       1.00      1.00      1.00        10\n",
      "weighted avg       1.00      1.00      1.00        10\n",
      "\n"
     ]
    }
   ],
   "source": [
    "# Print the classification report\n",
    "print(classification_report(train_labels,predictions))"
   ]
  },
  {
   "cell_type": "code",
   "execution_count": 195,
   "metadata": {},
   "outputs": [
    {
     "name": "stdout",
     "output_type": "stream",
     "text": [
      "Confusion Matrix:\n",
      "5 | 0\n",
      "-----\n",
      "0 | 5\n"
     ]
    }
   ],
   "source": [
    "cm = confusion_matrix(train_labels,predictions)\n",
    "print('Confusion Matrix:')\n",
    "print(cm[0][0],'|',cm[0][1])\n",
    "print('-----')\n",
    "print(cm[1][0],'|',cm[1][1])"
   ]
  },
  {
   "cell_type": "code",
   "execution_count": 196,
   "metadata": {},
   "outputs": [
    {
     "name": "stdout",
     "output_type": "stream",
     "text": [
      "Specificity: 1.0\n",
      "Sensitivity: 1.0\n"
     ]
    }
   ],
   "source": [
    "tn, fp, fn, tp = confusion_matrix(train_labels,predictions).ravel()\n",
    "specificity = tn / (tn + fp)\n",
    "sensitivity = tp / (tp + fn)\n",
    "print('Specificity:',specificity)\n",
    "print('Sensitivity:',sensitivity)"
   ]
  },
  {
   "cell_type": "code",
   "execution_count": 197,
   "metadata": {},
   "outputs": [
    {
     "name": "stdout",
     "output_type": "stream",
     "text": [
      "MCC: 1.0\n"
     ]
    }
   ],
   "source": [
    "# Print the MCC\n",
    "print('MCC:', matthews_corrcoef(train_labels,predictions))"
   ]
  },
  {
   "cell_type": "code",
   "execution_count": 198,
   "metadata": {},
   "outputs": [
    {
     "name": "stdout",
     "output_type": "stream",
     "text": [
      "List of scores: [0.66666667 1.         1.         1.        ]\n",
      "Mean of Cross Validtation: 0.9166666666666666\n"
     ]
    }
   ],
   "source": [
    "#Print the Cross-Validation Score\n",
    "scores = cross_val_score(clf, train, train_labels, cv=4)\n",
    "\n",
    "print('List of scores:', scores)\n",
    "print('Mean of Cross Validtation:', scores.mean())"
   ]
  },
  {
   "cell_type": "markdown",
   "metadata": {},
   "source": [
    "#### 16th iteration"
   ]
  },
  {
   "cell_type": "markdown",
   "metadata": {},
   "source": [
    "Get the features' importance"
   ]
  },
  {
   "cell_type": "code",
   "execution_count": 199,
   "metadata": {
    "scrolled": false
   },
   "outputs": [
    {
     "name": "stdout",
     "output_type": "stream",
     "text": [
      "Variable: PdI  (200 ug/ml)     Importance: 1.598\n",
      "Variable: Length ave. (nm)     Importance: 1.549\n",
      "Variable: % Total Impurities   Importance: 1.502\n",
      "Variable: Endotoxins (EU/mg)   Importance: 1.446\n",
      "Variable: Zave (12.5 ug/ml)    Importance: 1.386\n",
      "Variable: CEA: C.H.N.O (wt%)   Importance: -0.972\n",
      "Variable: PdI (batch)          Importance: -2.193\n",
      "Variable: Purity (%)           Importance: -2.297\n"
     ]
    }
   ],
   "source": [
    "# Get numerical feature importances and feature names\n",
    "importances = list(clf.coef_.reshape(clf.coef_.shape[1]))\n",
    "feature_list = list(train.columns)\n",
    "\n",
    "# List of tuples with variable and importance\n",
    "feature_importances = [(feature, round(importance, 3)) for feature, importance in zip(feature_list, importances)]\n",
    "\n",
    "# Sort the feature importances by most important first\n",
    "feature_importances = sorted(feature_importances, key = lambda x: x[1], reverse = True)\n",
    "\n",
    "# Print out the feature and importances \n",
    "[print('Variable: {:20} Importance: {}'.format(*pair)) for pair in feature_importances];"
   ]
  },
  {
   "cell_type": "code",
   "execution_count": 200,
   "metadata": {
    "scrolled": true
   },
   "outputs": [
    {
     "data": {
      "text/html": [
       "<div>\n",
       "<style scoped>\n",
       "    .dataframe tbody tr th:only-of-type {\n",
       "        vertical-align: middle;\n",
       "    }\n",
       "\n",
       "    .dataframe tbody tr th {\n",
       "        vertical-align: top;\n",
       "    }\n",
       "\n",
       "    .dataframe thead th {\n",
       "        text-align: right;\n",
       "    }\n",
       "</style>\n",
       "<table border=\"1\" class=\"dataframe\">\n",
       "  <thead>\n",
       "    <tr style=\"text-align: right;\">\n",
       "      <th></th>\n",
       "      <th>Length ave. (nm)</th>\n",
       "      <th>Purity (%)</th>\n",
       "      <th>PdI (batch)</th>\n",
       "      <th>Zave (12.5 ug/ml)</th>\n",
       "      <th>PdI  (200 ug/ml)</th>\n",
       "      <th>Endotoxins (EU/mg)</th>\n",
       "      <th>% Total Impurities</th>\n",
       "    </tr>\n",
       "  </thead>\n",
       "  <tbody>\n",
       "    <tr>\n",
       "      <th>2</th>\n",
       "      <td>0.039432</td>\n",
       "      <td>1.000000</td>\n",
       "      <td>0.413333</td>\n",
       "      <td>0.014556</td>\n",
       "      <td>0.357357</td>\n",
       "      <td>0.50</td>\n",
       "      <td>0.048780</td>\n",
       "    </tr>\n",
       "    <tr>\n",
       "      <th>3</th>\n",
       "      <td>0.048716</td>\n",
       "      <td>0.923913</td>\n",
       "      <td>0.026667</td>\n",
       "      <td>0.000000</td>\n",
       "      <td>0.000000</td>\n",
       "      <td>0.48</td>\n",
       "      <td>0.219889</td>\n",
       "    </tr>\n",
       "    <tr>\n",
       "      <th>4</th>\n",
       "      <td>0.156550</td>\n",
       "      <td>0.934783</td>\n",
       "      <td>0.024000</td>\n",
       "      <td>0.425036</td>\n",
       "      <td>0.822823</td>\n",
       "      <td>0.52</td>\n",
       "      <td>0.190736</td>\n",
       "    </tr>\n",
       "    <tr>\n",
       "      <th>5</th>\n",
       "      <td>0.199591</td>\n",
       "      <td>0.684783</td>\n",
       "      <td>0.000000</td>\n",
       "      <td>0.278020</td>\n",
       "      <td>0.255255</td>\n",
       "      <td>0.66</td>\n",
       "      <td>0.517711</td>\n",
       "    </tr>\n",
       "    <tr>\n",
       "      <th>6</th>\n",
       "      <td>0.038274</td>\n",
       "      <td>0.945652</td>\n",
       "      <td>0.552000</td>\n",
       "      <td>0.659389</td>\n",
       "      <td>0.573574</td>\n",
       "      <td>0.36</td>\n",
       "      <td>0.136716</td>\n",
       "    </tr>\n",
       "  </tbody>\n",
       "</table>\n",
       "</div>"
      ],
      "text/plain": [
       "   Length ave. (nm)   Purity (%)  PdI (batch)  Zave (12.5 ug/ml)  \\\n",
       "2           0.039432    1.000000     0.413333           0.014556   \n",
       "3           0.048716    0.923913     0.026667           0.000000   \n",
       "4           0.156550    0.934783     0.024000           0.425036   \n",
       "5           0.199591    0.684783     0.000000           0.278020   \n",
       "6           0.038274    0.945652     0.552000           0.659389   \n",
       "\n",
       "   PdI  (200 ug/ml)  Endotoxins (EU/mg)  % Total Impurities  \n",
       "2          0.357357                0.50            0.048780  \n",
       "3          0.000000                0.48            0.219889  \n",
       "4          0.822823                0.52            0.190736  \n",
       "5          0.255255                0.66            0.517711  \n",
       "6          0.573574                0.36            0.136716  "
      ]
     },
     "execution_count": 200,
     "metadata": {},
     "output_type": "execute_result"
    }
   ],
   "source": [
    "for i in range(len(feature_importances)):\n",
    "    if round(abs(feature_importances[i][1]),3)==min([round(abs(i),3) for i in importances]):\n",
    "        train.drop(feature_importances[i][0], axis=1, inplace=True)\n",
    "        test.drop(feature_importances[i][0], axis=1, inplace=True)\n",
    "        \n",
    "train.head()"
   ]
  },
  {
   "cell_type": "markdown",
   "metadata": {},
   "source": [
    "Optimize Logistc Regression"
   ]
  },
  {
   "cell_type": "code",
   "execution_count": 201,
   "metadata": {},
   "outputs": [],
   "source": [
    "bo = BayesOpt(train, train_labels, folds = 4, n_iter=30,log_scaling=False)"
   ]
  },
  {
   "cell_type": "code",
   "execution_count": 202,
   "metadata": {
    "scrolled": false
   },
   "outputs": [
    {
     "name": "stdout",
     "output_type": "stream",
     "text": [
      "Optimizing for l1 penalty\n",
      "|   iter    |  target   |     C     |\n",
      "-------------------------------------\n",
      "| \u001b[0m 1       \u001b[0m | \u001b[0m nan     \u001b[0m | \u001b[0m 4.371   \u001b[0m |\n",
      "| \u001b[0m 2       \u001b[0m | \u001b[0m nan     \u001b[0m | \u001b[0m 9.556   \u001b[0m |\n",
      "| \u001b[0m 3       \u001b[0m | \u001b[0m nan     \u001b[0m | \u001b[0m 7.588   \u001b[0m |\n",
      "| \u001b[0m 4       \u001b[0m | \u001b[0m nan     \u001b[0m | \u001b[0m 6.388   \u001b[0m |\n",
      "| \u001b[0m 5       \u001b[0m | \u001b[0m nan     \u001b[0m | \u001b[0m 2.404   \u001b[0m |\n",
      "Error related to scaling.\n",
      "Optimizing for l2 penalty\n",
      "|   iter    |  target   |     C     |\n",
      "-------------------------------------\n",
      "| \u001b[0m 1       \u001b[0m | \u001b[0m 0.9167  \u001b[0m | \u001b[0m 4.371   \u001b[0m |\n",
      "| \u001b[0m 2       \u001b[0m | \u001b[0m 0.9167  \u001b[0m | \u001b[0m 9.556   \u001b[0m |\n",
      "| \u001b[0m 3       \u001b[0m | \u001b[0m 0.9167  \u001b[0m | \u001b[0m 7.588   \u001b[0m |\n",
      "| \u001b[0m 4       \u001b[0m | \u001b[0m 0.9167  \u001b[0m | \u001b[0m 6.388   \u001b[0m |\n",
      "| \u001b[0m 5       \u001b[0m | \u001b[0m 0.8333  \u001b[0m | \u001b[0m 2.404   \u001b[0m |\n",
      "| \u001b[0m 6       \u001b[0m | \u001b[0m 0.9167  \u001b[0m | \u001b[0m 5.329   \u001b[0m |\n",
      "| \u001b[0m 7       \u001b[0m | \u001b[0m 0.9167  \u001b[0m | \u001b[0m 8.62    \u001b[0m |\n",
      "| \u001b[0m 8       \u001b[0m | \u001b[0m 0.9167  \u001b[0m | \u001b[0m 10.0    \u001b[0m |\n",
      "| \u001b[0m 9       \u001b[0m | \u001b[0m 0.9167  \u001b[0m | \u001b[0m 4.802   \u001b[0m |\n",
      "| \u001b[0m 10      \u001b[0m | \u001b[0m 0.9167  \u001b[0m | \u001b[0m 6.994   \u001b[0m |\n",
      "| \u001b[0m 11      \u001b[0m | \u001b[0m 0.9167  \u001b[0m | \u001b[0m 5.857   \u001b[0m |\n",
      "| \u001b[0m 12      \u001b[0m | \u001b[0m 0.9167  \u001b[0m | \u001b[0m 8.123   \u001b[0m |\n",
      "| \u001b[0m 13      \u001b[0m | \u001b[0m 0.9167  \u001b[0m | \u001b[0m 9.095   \u001b[0m |\n",
      "| \u001b[0m 14      \u001b[0m | \u001b[0m 0.9167  \u001b[0m | \u001b[0m 4.556   \u001b[0m |\n",
      "| \u001b[0m 15      \u001b[0m | \u001b[0m 0.9167  \u001b[0m | \u001b[0m 6.694   \u001b[0m |\n",
      "| \u001b[0m 16      \u001b[0m | \u001b[0m 0.9167  \u001b[0m | \u001b[0m 7.308   \u001b[0m |\n",
      "| \u001b[0m 17      \u001b[0m | \u001b[0m 0.9167  \u001b[0m | \u001b[0m 9.803   \u001b[0m |\n",
      "| \u001b[0m 18      \u001b[0m | \u001b[0m 0.9167  \u001b[0m | \u001b[0m 5.596   \u001b[0m |\n",
      "| \u001b[0m 19      \u001b[0m | \u001b[0m 0.9167  \u001b[0m | \u001b[0m 7.871   \u001b[0m |\n",
      "| \u001b[0m 20      \u001b[0m | \u001b[0m 0.9167  \u001b[0m | \u001b[0m 5.061   \u001b[0m |\n",
      "| \u001b[0m 21      \u001b[0m | \u001b[0m 0.9167  \u001b[0m | \u001b[0m 8.855   \u001b[0m |\n",
      "| \u001b[0m 22      \u001b[0m | \u001b[0m 0.9167  \u001b[0m | \u001b[0m 6.127   \u001b[0m |\n",
      "| \u001b[0m 23      \u001b[0m | \u001b[0m 0.9167  \u001b[0m | \u001b[0m 8.369   \u001b[0m |\n",
      "| \u001b[0m 24      \u001b[0m | \u001b[0m 0.9167  \u001b[0m | \u001b[0m 9.328   \u001b[0m |\n",
      "| \u001b[0m 25      \u001b[0m | \u001b[0m 0.9167  \u001b[0m | \u001b[0m 7.152   \u001b[0m |\n",
      "| \u001b[0m 26      \u001b[0m | \u001b[0m 0.9167  \u001b[0m | \u001b[0m 6.542   \u001b[0m |\n",
      "| \u001b[0m 27      \u001b[0m | \u001b[0m 0.9167  \u001b[0m | \u001b[0m 4.452   \u001b[0m |\n",
      "| \u001b[0m 28      \u001b[0m | \u001b[0m 0.9167  \u001b[0m | \u001b[0m 7.729   \u001b[0m |\n",
      "| \u001b[0m 29      \u001b[0m | \u001b[0m 0.9167  \u001b[0m | \u001b[0m 5.462   \u001b[0m |\n",
      "| \u001b[0m 30      \u001b[0m | \u001b[0m 0.9167  \u001b[0m | \u001b[0m 6.845   \u001b[0m |\n",
      "| \u001b[0m 31      \u001b[0m | \u001b[0m 0.9167  \u001b[0m | \u001b[0m 5.993   \u001b[0m |\n",
      "| \u001b[0m 32      \u001b[0m | \u001b[0m 0.9167  \u001b[0m | \u001b[0m 4.932   \u001b[0m |\n",
      "| \u001b[0m 33      \u001b[0m | \u001b[0m 0.9167  \u001b[0m | \u001b[0m 7.447   \u001b[0m |\n",
      "| \u001b[0m 34      \u001b[0m | \u001b[0m 0.9167  \u001b[0m | \u001b[0m 8.495   \u001b[0m |\n",
      "| \u001b[0m 35      \u001b[0m | \u001b[0m 0.9167  \u001b[0m | \u001b[0m 9.914   \u001b[0m |\n",
      "=====================================\n",
      "\n",
      "\n",
      "Final result: The optimal model's accuracy is 0.9166666666666666 and the optimal parameters are C=4.370861069626263 and penalty=l2\n"
     ]
    }
   ],
   "source": [
    "# Get the time that the optimization started\n",
    "start_time = datetime.now().strftime(\"%H:%M:%S\")\n",
    "\n",
    "# Boundaries of the hyperparameters\n",
    "params={'C' : (1,10)}\n",
    "\n",
    "# Optimization\n",
    "import warnings\n",
    "warnings.filterwarnings(\"ignore\", category=FutureWarning)\n",
    "\n",
    "lr_optimum = bo.optimize_lr(params)\n",
    "\n",
    "# Get the time that the optimization ended\n",
    "end_time = datetime.now().strftime(\"%H:%M:%S\")"
   ]
  },
  {
   "cell_type": "code",
   "execution_count": 203,
   "metadata": {
    "scrolled": true
   },
   "outputs": [
    {
     "name": "stdout",
     "output_type": "stream",
     "text": [
      "Minutes to execute: 0.05\n"
     ]
    }
   ],
   "source": [
    "print('Minutes to execute:', \n",
    "      round((datetime.strptime(end_time, '%H:%M:%S') - datetime.strptime(start_time, '%H:%M:%S')).seconds/60,2))"
   ]
  },
  {
   "cell_type": "markdown",
   "metadata": {},
   "source": [
    "Step 5: Test model's performance (on the testing set)"
   ]
  },
  {
   "cell_type": "code",
   "execution_count": 204,
   "metadata": {},
   "outputs": [],
   "source": [
    "# Declare the model\n",
    "clf = LogisticRegression(C=lr_optimum['params']['C'], penalty=lr_optimum['params']['penalty'],random_state=42)\n",
    "\n",
    "# Train the model on training data\n",
    "clf.fit(train, train_labels);"
   ]
  },
  {
   "cell_type": "markdown",
   "metadata": {},
   "source": [
    "###### Metrics on the Training set"
   ]
  },
  {
   "cell_type": "code",
   "execution_count": 205,
   "metadata": {},
   "outputs": [],
   "source": [
    "# Use the model's predict method \n",
    "predictions = clf.predict(train)"
   ]
  },
  {
   "cell_type": "code",
   "execution_count": 206,
   "metadata": {},
   "outputs": [
    {
     "name": "stdout",
     "output_type": "stream",
     "text": [
      "LR's training accuracy: 1.0\n"
     ]
    }
   ],
   "source": [
    "# Print the training accuracy\n",
    "print(\"LR's training accuracy:\", accuracy_score(train_labels, predictions))"
   ]
  },
  {
   "cell_type": "code",
   "execution_count": 207,
   "metadata": {},
   "outputs": [
    {
     "name": "stdout",
     "output_type": "stream",
     "text": [
      "              precision    recall  f1-score   support\n",
      "\n",
      "           0       1.00      1.00      1.00         5\n",
      "           1       1.00      1.00      1.00         5\n",
      "\n",
      "    accuracy                           1.00        10\n",
      "   macro avg       1.00      1.00      1.00        10\n",
      "weighted avg       1.00      1.00      1.00        10\n",
      "\n"
     ]
    }
   ],
   "source": [
    "# Print the classification report\n",
    "print(classification_report(train_labels,predictions))"
   ]
  },
  {
   "cell_type": "code",
   "execution_count": 208,
   "metadata": {},
   "outputs": [
    {
     "name": "stdout",
     "output_type": "stream",
     "text": [
      "Confusion Matrix:\n",
      "5 | 0\n",
      "-----\n",
      "0 | 5\n"
     ]
    }
   ],
   "source": [
    "cm = confusion_matrix(train_labels,predictions)\n",
    "print('Confusion Matrix:')\n",
    "print(cm[0][0],'|',cm[0][1])\n",
    "print('-----')\n",
    "print(cm[1][0],'|',cm[1][1])"
   ]
  },
  {
   "cell_type": "code",
   "execution_count": 209,
   "metadata": {},
   "outputs": [
    {
     "name": "stdout",
     "output_type": "stream",
     "text": [
      "Specificity: 1.0\n",
      "Sensitivity: 1.0\n"
     ]
    }
   ],
   "source": [
    "tn, fp, fn, tp = confusion_matrix(train_labels,predictions).ravel()\n",
    "specificity = tn / (tn + fp)\n",
    "sensitivity = tp / (tp + fn)\n",
    "print('Specificity:',specificity)\n",
    "print('Sensitivity:',sensitivity)"
   ]
  },
  {
   "cell_type": "code",
   "execution_count": 210,
   "metadata": {},
   "outputs": [
    {
     "name": "stdout",
     "output_type": "stream",
     "text": [
      "MCC: 1.0\n"
     ]
    }
   ],
   "source": [
    "# Print the MCC\n",
    "print('MCC:', matthews_corrcoef(train_labels,predictions))"
   ]
  },
  {
   "cell_type": "code",
   "execution_count": 211,
   "metadata": {},
   "outputs": [
    {
     "name": "stdout",
     "output_type": "stream",
     "text": [
      "List of scores: [0.66666667 1.         1.         1.        ]\n",
      "Mean of Cross Validtation: 0.9166666666666666\n"
     ]
    }
   ],
   "source": [
    "#Print the Cross-Validation Score\n",
    "scores = cross_val_score(clf, train, train_labels, cv=4)\n",
    "\n",
    "print('List of scores:', scores)\n",
    "print('Mean of Cross Validtation:', scores.mean())"
   ]
  },
  {
   "cell_type": "markdown",
   "metadata": {},
   "source": [
    "#### 17th iteration"
   ]
  },
  {
   "cell_type": "markdown",
   "metadata": {},
   "source": [
    "Get the features' importance"
   ]
  },
  {
   "cell_type": "code",
   "execution_count": 212,
   "metadata": {
    "scrolled": false
   },
   "outputs": [
    {
     "name": "stdout",
     "output_type": "stream",
     "text": [
      "Variable: Endotoxins (EU/mg)   Importance: 1.087\n",
      "Variable: Length ave. (nm)     Importance: 1.066\n",
      "Variable: Zave (12.5 ug/ml)    Importance: 1.034\n",
      "Variable: % Total Impurities   Importance: 0.983\n",
      "Variable: PdI  (200 ug/ml)     Importance: 0.941\n",
      "Variable: PdI (batch)          Importance: -1.437\n",
      "Variable: Purity (%)           Importance: -1.894\n"
     ]
    }
   ],
   "source": [
    "# Get numerical feature importances and feature names\n",
    "importances = list(clf.coef_.reshape(clf.coef_.shape[1]))\n",
    "feature_list = list(train.columns)\n",
    "\n",
    "# List of tuples with variable and importance\n",
    "feature_importances = [(feature, round(importance, 3)) for feature, importance in zip(feature_list, importances)]\n",
    "\n",
    "# Sort the feature importances by most important first\n",
    "feature_importances = sorted(feature_importances, key = lambda x: x[1], reverse = True)\n",
    "\n",
    "# Print out the feature and importances \n",
    "[print('Variable: {:20} Importance: {}'.format(*pair)) for pair in feature_importances];"
   ]
  },
  {
   "cell_type": "code",
   "execution_count": 213,
   "metadata": {
    "scrolled": true
   },
   "outputs": [
    {
     "data": {
      "text/html": [
       "<div>\n",
       "<style scoped>\n",
       "    .dataframe tbody tr th:only-of-type {\n",
       "        vertical-align: middle;\n",
       "    }\n",
       "\n",
       "    .dataframe tbody tr th {\n",
       "        vertical-align: top;\n",
       "    }\n",
       "\n",
       "    .dataframe thead th {\n",
       "        text-align: right;\n",
       "    }\n",
       "</style>\n",
       "<table border=\"1\" class=\"dataframe\">\n",
       "  <thead>\n",
       "    <tr style=\"text-align: right;\">\n",
       "      <th></th>\n",
       "      <th>Length ave. (nm)</th>\n",
       "      <th>Purity (%)</th>\n",
       "      <th>PdI (batch)</th>\n",
       "      <th>Zave (12.5 ug/ml)</th>\n",
       "      <th>Endotoxins (EU/mg)</th>\n",
       "      <th>% Total Impurities</th>\n",
       "    </tr>\n",
       "  </thead>\n",
       "  <tbody>\n",
       "    <tr>\n",
       "      <th>2</th>\n",
       "      <td>0.039432</td>\n",
       "      <td>1.000000</td>\n",
       "      <td>0.413333</td>\n",
       "      <td>0.014556</td>\n",
       "      <td>0.50</td>\n",
       "      <td>0.048780</td>\n",
       "    </tr>\n",
       "    <tr>\n",
       "      <th>3</th>\n",
       "      <td>0.048716</td>\n",
       "      <td>0.923913</td>\n",
       "      <td>0.026667</td>\n",
       "      <td>0.000000</td>\n",
       "      <td>0.48</td>\n",
       "      <td>0.219889</td>\n",
       "    </tr>\n",
       "    <tr>\n",
       "      <th>4</th>\n",
       "      <td>0.156550</td>\n",
       "      <td>0.934783</td>\n",
       "      <td>0.024000</td>\n",
       "      <td>0.425036</td>\n",
       "      <td>0.52</td>\n",
       "      <td>0.190736</td>\n",
       "    </tr>\n",
       "    <tr>\n",
       "      <th>5</th>\n",
       "      <td>0.199591</td>\n",
       "      <td>0.684783</td>\n",
       "      <td>0.000000</td>\n",
       "      <td>0.278020</td>\n",
       "      <td>0.66</td>\n",
       "      <td>0.517711</td>\n",
       "    </tr>\n",
       "    <tr>\n",
       "      <th>6</th>\n",
       "      <td>0.038274</td>\n",
       "      <td>0.945652</td>\n",
       "      <td>0.552000</td>\n",
       "      <td>0.659389</td>\n",
       "      <td>0.36</td>\n",
       "      <td>0.136716</td>\n",
       "    </tr>\n",
       "  </tbody>\n",
       "</table>\n",
       "</div>"
      ],
      "text/plain": [
       "   Length ave. (nm)   Purity (%)  PdI (batch)  Zave (12.5 ug/ml)  \\\n",
       "2           0.039432    1.000000     0.413333           0.014556   \n",
       "3           0.048716    0.923913     0.026667           0.000000   \n",
       "4           0.156550    0.934783     0.024000           0.425036   \n",
       "5           0.199591    0.684783     0.000000           0.278020   \n",
       "6           0.038274    0.945652     0.552000           0.659389   \n",
       "\n",
       "   Endotoxins (EU/mg)  % Total Impurities  \n",
       "2                0.50            0.048780  \n",
       "3                0.48            0.219889  \n",
       "4                0.52            0.190736  \n",
       "5                0.66            0.517711  \n",
       "6                0.36            0.136716  "
      ]
     },
     "execution_count": 213,
     "metadata": {},
     "output_type": "execute_result"
    }
   ],
   "source": [
    "for i in range(len(feature_importances)):\n",
    "    if round(abs(feature_importances[i][1]),3)==min([round(abs(i),3) for i in importances]):\n",
    "        train.drop(feature_importances[i][0], axis=1, inplace=True)\n",
    "        test.drop(feature_importances[i][0], axis=1, inplace=True)\n",
    "        \n",
    "train.head()"
   ]
  },
  {
   "cell_type": "markdown",
   "metadata": {},
   "source": [
    "Optimize Logistc Regression"
   ]
  },
  {
   "cell_type": "code",
   "execution_count": 214,
   "metadata": {},
   "outputs": [],
   "source": [
    "bo = BayesOpt(train, train_labels, folds = 4, n_iter=30,log_scaling=False)"
   ]
  },
  {
   "cell_type": "code",
   "execution_count": 215,
   "metadata": {
    "scrolled": false
   },
   "outputs": [
    {
     "name": "stdout",
     "output_type": "stream",
     "text": [
      "Optimizing for l1 penalty\n",
      "|   iter    |  target   |     C     |\n",
      "-------------------------------------\n",
      "| \u001b[0m 1       \u001b[0m | \u001b[0m nan     \u001b[0m | \u001b[0m 4.371   \u001b[0m |\n",
      "| \u001b[0m 2       \u001b[0m | \u001b[0m nan     \u001b[0m | \u001b[0m 9.556   \u001b[0m |\n",
      "| \u001b[0m 3       \u001b[0m | \u001b[0m nan     \u001b[0m | \u001b[0m 7.588   \u001b[0m |\n",
      "| \u001b[0m 4       \u001b[0m | \u001b[0m nan     \u001b[0m | \u001b[0m 6.388   \u001b[0m |\n",
      "| \u001b[0m 5       \u001b[0m | \u001b[0m nan     \u001b[0m | \u001b[0m 2.404   \u001b[0m |\n",
      "Error related to scaling.\n",
      "Optimizing for l2 penalty\n",
      "|   iter    |  target   |     C     |\n",
      "-------------------------------------\n",
      "| \u001b[0m 1       \u001b[0m | \u001b[0m 0.8333  \u001b[0m | \u001b[0m 4.371   \u001b[0m |\n",
      "| \u001b[0m 2       \u001b[0m | \u001b[0m 0.8333  \u001b[0m | \u001b[0m 9.556   \u001b[0m |\n",
      "| \u001b[0m 3       \u001b[0m | \u001b[0m 0.8333  \u001b[0m | \u001b[0m 7.588   \u001b[0m |\n",
      "| \u001b[0m 4       \u001b[0m | \u001b[0m 0.8333  \u001b[0m | \u001b[0m 6.388   \u001b[0m |\n",
      "| \u001b[0m 5       \u001b[0m | \u001b[0m 0.8333  \u001b[0m | \u001b[0m 2.404   \u001b[0m |\n",
      "Error related to scaling.\n",
      "\n",
      "\n",
      "Final result: The optimal model's accuracy is 0.8333333333333333 and the optimal parameters are C=4.370861069626263 and penalty=l2\n"
     ]
    }
   ],
   "source": [
    "# Get the time that the optimization started\n",
    "start_time = datetime.now().strftime(\"%H:%M:%S\")\n",
    "\n",
    "# Boundaries of the hyperparameters\n",
    "params={'C' : (1,10)}\n",
    "\n",
    "# Optimization\n",
    "import warnings\n",
    "warnings.filterwarnings(\"ignore\", category=FutureWarning)\n",
    "\n",
    "lr_optimum = bo.optimize_lr(params)\n",
    "\n",
    "# Get the time that the optimization ended\n",
    "end_time = datetime.now().strftime(\"%H:%M:%S\")"
   ]
  },
  {
   "cell_type": "code",
   "execution_count": 216,
   "metadata": {
    "scrolled": true
   },
   "outputs": [
    {
     "name": "stdout",
     "output_type": "stream",
     "text": [
      "Minutes to execute: 0.0\n"
     ]
    }
   ],
   "source": [
    "print('Minutes to execute:', \n",
    "      round((datetime.strptime(end_time, '%H:%M:%S') - datetime.strptime(start_time, '%H:%M:%S')).seconds/60,2))"
   ]
  },
  {
   "cell_type": "markdown",
   "metadata": {},
   "source": [
    "Step 5: Test model's performance (on the testing set)"
   ]
  },
  {
   "cell_type": "code",
   "execution_count": 217,
   "metadata": {},
   "outputs": [],
   "source": [
    "# Declare the model\n",
    "clf = LogisticRegression(C=lr_optimum['params']['C'], penalty=lr_optimum['params']['penalty'],random_state=42)\n",
    "\n",
    "# Train the model on training data\n",
    "clf.fit(train, train_labels);"
   ]
  },
  {
   "cell_type": "markdown",
   "metadata": {},
   "source": [
    "###### Metrics on the Training set"
   ]
  },
  {
   "cell_type": "code",
   "execution_count": 218,
   "metadata": {},
   "outputs": [],
   "source": [
    "# Use the model's predict method \n",
    "predictions = clf.predict(train)"
   ]
  },
  {
   "cell_type": "code",
   "execution_count": 219,
   "metadata": {},
   "outputs": [
    {
     "name": "stdout",
     "output_type": "stream",
     "text": [
      "LR's training accuracy: 1.0\n"
     ]
    }
   ],
   "source": [
    "# Print the training accuracy\n",
    "print(\"LR's training accuracy:\", accuracy_score(train_labels, predictions))"
   ]
  },
  {
   "cell_type": "code",
   "execution_count": 220,
   "metadata": {},
   "outputs": [
    {
     "name": "stdout",
     "output_type": "stream",
     "text": [
      "              precision    recall  f1-score   support\n",
      "\n",
      "           0       1.00      1.00      1.00         5\n",
      "           1       1.00      1.00      1.00         5\n",
      "\n",
      "    accuracy                           1.00        10\n",
      "   macro avg       1.00      1.00      1.00        10\n",
      "weighted avg       1.00      1.00      1.00        10\n",
      "\n"
     ]
    }
   ],
   "source": [
    "# Print the classification report\n",
    "print(classification_report(train_labels,predictions))"
   ]
  },
  {
   "cell_type": "code",
   "execution_count": 221,
   "metadata": {},
   "outputs": [
    {
     "name": "stdout",
     "output_type": "stream",
     "text": [
      "Confusion Matrix:\n",
      "5 | 0\n",
      "-----\n",
      "0 | 5\n"
     ]
    }
   ],
   "source": [
    "cm = confusion_matrix(train_labels,predictions)\n",
    "print('Confusion Matrix:')\n",
    "print(cm[0][0],'|',cm[0][1])\n",
    "print('-----')\n",
    "print(cm[1][0],'|',cm[1][1])"
   ]
  },
  {
   "cell_type": "code",
   "execution_count": 222,
   "metadata": {},
   "outputs": [
    {
     "name": "stdout",
     "output_type": "stream",
     "text": [
      "Specificity: 1.0\n",
      "Sensitivity: 1.0\n"
     ]
    }
   ],
   "source": [
    "tn, fp, fn, tp = confusion_matrix(train_labels,predictions).ravel()\n",
    "specificity = tn / (tn + fp)\n",
    "sensitivity = tp / (tp + fn)\n",
    "print('Specificity:',specificity)\n",
    "print('Sensitivity:',sensitivity)"
   ]
  },
  {
   "cell_type": "code",
   "execution_count": 223,
   "metadata": {},
   "outputs": [
    {
     "name": "stdout",
     "output_type": "stream",
     "text": [
      "MCC: 1.0\n"
     ]
    }
   ],
   "source": [
    "# Print the MCC\n",
    "print('MCC:', matthews_corrcoef(train_labels,predictions))"
   ]
  },
  {
   "cell_type": "code",
   "execution_count": 224,
   "metadata": {},
   "outputs": [
    {
     "name": "stdout",
     "output_type": "stream",
     "text": [
      "List of scores: [0.66666667 0.66666667 1.         1.        ]\n",
      "Mean of Cross Validtation: 0.8333333333333333\n"
     ]
    }
   ],
   "source": [
    "#Print the Cross-Validation Score\n",
    "scores = cross_val_score(clf, train, train_labels, cv=4)\n",
    "\n",
    "print('List of scores:', scores)\n",
    "print('Mean of Cross Validtation:', scores.mean())"
   ]
  },
  {
   "cell_type": "markdown",
   "metadata": {},
   "source": [
    "#### 18th iteration"
   ]
  },
  {
   "cell_type": "markdown",
   "metadata": {},
   "source": [
    "Get the features' importance"
   ]
  },
  {
   "cell_type": "code",
   "execution_count": 225,
   "metadata": {
    "scrolled": false
   },
   "outputs": [
    {
     "name": "stdout",
     "output_type": "stream",
     "text": [
      "Variable: Zave (12.5 ug/ml)    Importance: 1.138\n",
      "Variable: Length ave. (nm)     Importance: 1.058\n",
      "Variable: Endotoxins (EU/mg)   Importance: 1.01\n",
      "Variable: % Total Impurities   Importance: 0.894\n",
      "Variable: PdI (batch)          Importance: -1.271\n",
      "Variable: Purity (%)           Importance: -2.006\n"
     ]
    }
   ],
   "source": [
    "# Get numerical feature importances and feature names\n",
    "importances = list(clf.coef_.reshape(clf.coef_.shape[1]))\n",
    "feature_list = list(train.columns)\n",
    "\n",
    "# List of tuples with variable and importance\n",
    "feature_importances = [(feature, round(importance, 3)) for feature, importance in zip(feature_list, importances)]\n",
    "\n",
    "# Sort the feature importances by most important first\n",
    "feature_importances = sorted(feature_importances, key = lambda x: x[1], reverse = True)\n",
    "\n",
    "# Print out the feature and importances \n",
    "[print('Variable: {:20} Importance: {}'.format(*pair)) for pair in feature_importances];"
   ]
  },
  {
   "cell_type": "code",
   "execution_count": 226,
   "metadata": {
    "scrolled": true
   },
   "outputs": [
    {
     "data": {
      "text/html": [
       "<div>\n",
       "<style scoped>\n",
       "    .dataframe tbody tr th:only-of-type {\n",
       "        vertical-align: middle;\n",
       "    }\n",
       "\n",
       "    .dataframe tbody tr th {\n",
       "        vertical-align: top;\n",
       "    }\n",
       "\n",
       "    .dataframe thead th {\n",
       "        text-align: right;\n",
       "    }\n",
       "</style>\n",
       "<table border=\"1\" class=\"dataframe\">\n",
       "  <thead>\n",
       "    <tr style=\"text-align: right;\">\n",
       "      <th></th>\n",
       "      <th>Length ave. (nm)</th>\n",
       "      <th>Purity (%)</th>\n",
       "      <th>PdI (batch)</th>\n",
       "      <th>Zave (12.5 ug/ml)</th>\n",
       "      <th>Endotoxins (EU/mg)</th>\n",
       "    </tr>\n",
       "  </thead>\n",
       "  <tbody>\n",
       "    <tr>\n",
       "      <th>2</th>\n",
       "      <td>0.039432</td>\n",
       "      <td>1.000000</td>\n",
       "      <td>0.413333</td>\n",
       "      <td>0.014556</td>\n",
       "      <td>0.50</td>\n",
       "    </tr>\n",
       "    <tr>\n",
       "      <th>3</th>\n",
       "      <td>0.048716</td>\n",
       "      <td>0.923913</td>\n",
       "      <td>0.026667</td>\n",
       "      <td>0.000000</td>\n",
       "      <td>0.48</td>\n",
       "    </tr>\n",
       "    <tr>\n",
       "      <th>4</th>\n",
       "      <td>0.156550</td>\n",
       "      <td>0.934783</td>\n",
       "      <td>0.024000</td>\n",
       "      <td>0.425036</td>\n",
       "      <td>0.52</td>\n",
       "    </tr>\n",
       "    <tr>\n",
       "      <th>5</th>\n",
       "      <td>0.199591</td>\n",
       "      <td>0.684783</td>\n",
       "      <td>0.000000</td>\n",
       "      <td>0.278020</td>\n",
       "      <td>0.66</td>\n",
       "    </tr>\n",
       "    <tr>\n",
       "      <th>6</th>\n",
       "      <td>0.038274</td>\n",
       "      <td>0.945652</td>\n",
       "      <td>0.552000</td>\n",
       "      <td>0.659389</td>\n",
       "      <td>0.36</td>\n",
       "    </tr>\n",
       "  </tbody>\n",
       "</table>\n",
       "</div>"
      ],
      "text/plain": [
       "   Length ave. (nm)   Purity (%)  PdI (batch)  Zave (12.5 ug/ml)  \\\n",
       "2           0.039432    1.000000     0.413333           0.014556   \n",
       "3           0.048716    0.923913     0.026667           0.000000   \n",
       "4           0.156550    0.934783     0.024000           0.425036   \n",
       "5           0.199591    0.684783     0.000000           0.278020   \n",
       "6           0.038274    0.945652     0.552000           0.659389   \n",
       "\n",
       "   Endotoxins (EU/mg)  \n",
       "2                0.50  \n",
       "3                0.48  \n",
       "4                0.52  \n",
       "5                0.66  \n",
       "6                0.36  "
      ]
     },
     "execution_count": 226,
     "metadata": {},
     "output_type": "execute_result"
    }
   ],
   "source": [
    "for i in range(len(feature_importances)):\n",
    "    if round(abs(feature_importances[i][1]),3)==min([round(abs(i),3) for i in importances]):\n",
    "        train.drop(feature_importances[i][0], axis=1, inplace=True)\n",
    "        test.drop(feature_importances[i][0], axis=1, inplace=True)\n",
    "        \n",
    "train.head()"
   ]
  },
  {
   "cell_type": "markdown",
   "metadata": {},
   "source": [
    "Optimize Logistc Regression"
   ]
  },
  {
   "cell_type": "code",
   "execution_count": 227,
   "metadata": {},
   "outputs": [],
   "source": [
    "bo = BayesOpt(train, train_labels, folds = 4, n_iter=30,log_scaling=False)"
   ]
  },
  {
   "cell_type": "code",
   "execution_count": 228,
   "metadata": {
    "scrolled": false
   },
   "outputs": [
    {
     "name": "stdout",
     "output_type": "stream",
     "text": [
      "Optimizing for l1 penalty\n",
      "|   iter    |  target   |     C     |\n",
      "-------------------------------------\n",
      "| \u001b[0m 1       \u001b[0m | \u001b[0m nan     \u001b[0m | \u001b[0m 4.371   \u001b[0m |\n",
      "| \u001b[0m 2       \u001b[0m | \u001b[0m nan     \u001b[0m | \u001b[0m 9.556   \u001b[0m |\n",
      "| \u001b[0m 3       \u001b[0m | \u001b[0m nan     \u001b[0m | \u001b[0m 7.588   \u001b[0m |\n",
      "| \u001b[0m 4       \u001b[0m | \u001b[0m nan     \u001b[0m | \u001b[0m 6.388   \u001b[0m |\n",
      "| \u001b[0m 5       \u001b[0m | \u001b[0m nan     \u001b[0m | \u001b[0m 2.404   \u001b[0m |\n",
      "Error related to scaling.\n",
      "Optimizing for l2 penalty\n",
      "|   iter    |  target   |     C     |\n",
      "-------------------------------------\n",
      "| \u001b[0m 1       \u001b[0m | \u001b[0m 0.9167  \u001b[0m | \u001b[0m 4.371   \u001b[0m |\n",
      "| \u001b[0m 2       \u001b[0m | \u001b[0m 0.8333  \u001b[0m | \u001b[0m 9.556   \u001b[0m |\n",
      "| \u001b[0m 3       \u001b[0m | \u001b[0m 0.9167  \u001b[0m | \u001b[0m 7.588   \u001b[0m |\n",
      "| \u001b[0m 4       \u001b[0m | \u001b[0m 0.9167  \u001b[0m | \u001b[0m 6.388   \u001b[0m |\n",
      "| \u001b[0m 5       \u001b[0m | \u001b[0m 0.9167  \u001b[0m | \u001b[0m 2.404   \u001b[0m |\n",
      "| \u001b[0m 6       \u001b[0m | \u001b[0m 0.75    \u001b[0m | \u001b[0m 1.0     \u001b[0m |\n",
      "| \u001b[0m 7       \u001b[0m | \u001b[0m 0.9167  \u001b[0m | \u001b[0m 6.988   \u001b[0m |\n",
      "| \u001b[0m 8       \u001b[0m | \u001b[0m 0.9167  \u001b[0m | \u001b[0m 3.329   \u001b[0m |\n",
      "| \u001b[0m 9       \u001b[0m | \u001b[0m 0.9167  \u001b[0m | \u001b[0m 5.342   \u001b[0m |\n",
      "| \u001b[0m 10      \u001b[0m | \u001b[0m 0.8333  \u001b[0m | \u001b[0m 8.349   \u001b[0m |\n",
      "| \u001b[0m 11      \u001b[0m | \u001b[0m 0.9167  \u001b[0m | \u001b[0m 2.839   \u001b[0m |\n",
      "| \u001b[0m 12      \u001b[0m | \u001b[0m 0.9167  \u001b[0m | \u001b[0m 5.852   \u001b[0m |\n",
      "| \u001b[0m 13      \u001b[0m | \u001b[0m 0.9167  \u001b[0m | \u001b[0m 3.871   \u001b[0m |\n",
      "| \u001b[0m 14      \u001b[0m | \u001b[0m 0.9167  \u001b[0m | \u001b[0m 4.857   \u001b[0m |\n",
      "| \u001b[0m 15      \u001b[0m | \u001b[0m 0.9167  \u001b[0m | \u001b[0m 7.318   \u001b[0m |\n",
      "| \u001b[0m 16      \u001b[0m | \u001b[0m 0.9167  \u001b[0m | \u001b[0m 6.679   \u001b[0m |\n",
      "| \u001b[0m 17      \u001b[0m | \u001b[0m 0.9167  \u001b[0m | \u001b[0m 2.596   \u001b[0m |\n",
      "| \u001b[0m 18      \u001b[0m | \u001b[0m 0.9167  \u001b[0m | \u001b[0m 3.605   \u001b[0m |\n",
      "| \u001b[0m 19      \u001b[0m | \u001b[0m 0.9167  \u001b[0m | \u001b[0m 5.598   \u001b[0m |\n",
      "| \u001b[0m 20      \u001b[0m | \u001b[0m 0.9167  \u001b[0m | \u001b[0m 4.613   \u001b[0m |\n",
      "| \u001b[0m 21      \u001b[0m | \u001b[0m 0.9167  \u001b[0m | \u001b[0m 6.127   \u001b[0m |\n",
      "| \u001b[0m 22      \u001b[0m | \u001b[0m 0.9167  \u001b[0m | \u001b[0m 3.083   \u001b[0m |\n",
      "| \u001b[0m 23      \u001b[0m | \u001b[0m 0.9167  \u001b[0m | \u001b[0m 4.119   \u001b[0m |\n",
      "| \u001b[0m 24      \u001b[0m | \u001b[0m 0.9167  \u001b[0m | \u001b[0m 5.101   \u001b[0m |\n",
      "| \u001b[0m 25      \u001b[0m | \u001b[0m 0.9167  \u001b[0m | \u001b[0m 7.471   \u001b[0m |\n",
      "| \u001b[0m 26      \u001b[0m | \u001b[0m 0.9167  \u001b[0m | \u001b[0m 7.145   \u001b[0m |\n",
      "| \u001b[0m 27      \u001b[0m | \u001b[0m 0.9167  \u001b[0m | \u001b[0m 6.824   \u001b[0m |\n",
      "| \u001b[0m 28      \u001b[0m | \u001b[0m 0.9167  \u001b[0m | \u001b[0m 2.486   \u001b[0m |\n",
      "| \u001b[0m 29      \u001b[0m | \u001b[0m 0.9167  \u001b[0m | \u001b[0m 5.989   \u001b[0m |\n",
      "| \u001b[0m 30      \u001b[0m | \u001b[0m 0.9167  \u001b[0m | \u001b[0m 3.468   \u001b[0m |\n",
      "| \u001b[0m 31      \u001b[0m | \u001b[0m 0.9167  \u001b[0m | \u001b[0m 6.526   \u001b[0m |\n",
      "| \u001b[0m 32      \u001b[0m | \u001b[0m 0.9167  \u001b[0m | \u001b[0m 5.47    \u001b[0m |\n",
      "| \u001b[0m 33      \u001b[0m | \u001b[0m 0.9167  \u001b[0m | \u001b[0m 4.245   \u001b[0m |\n",
      "| \u001b[0m 34      \u001b[0m | \u001b[0m 0.9167  \u001b[0m | \u001b[0m 3.746   \u001b[0m |\n",
      "| \u001b[0m 35      \u001b[0m | \u001b[0m 0.9167  \u001b[0m | \u001b[0m 4.736   \u001b[0m |\n",
      "=====================================\n",
      "\n",
      "\n",
      "Final result: The optimal model's accuracy is 0.9166666666666666 and the optimal parameters are C=4.370861069626263 and penalty=l2\n"
     ]
    }
   ],
   "source": [
    "# Get the time that the optimization started\n",
    "start_time = datetime.now().strftime(\"%H:%M:%S\")\n",
    "\n",
    "# Boundaries of the hyperparameters\n",
    "params={'C' : (1,10)}\n",
    "\n",
    "# Optimization\n",
    "import warnings\n",
    "warnings.filterwarnings(\"ignore\", category=FutureWarning)\n",
    "\n",
    "lr_optimum = bo.optimize_lr(params)\n",
    "\n",
    "# Get the time that the optimization ended\n",
    "end_time = datetime.now().strftime(\"%H:%M:%S\")"
   ]
  },
  {
   "cell_type": "code",
   "execution_count": 229,
   "metadata": {
    "scrolled": true
   },
   "outputs": [
    {
     "name": "stdout",
     "output_type": "stream",
     "text": [
      "Minutes to execute: 0.05\n"
     ]
    }
   ],
   "source": [
    "print('Minutes to execute:', \n",
    "      round((datetime.strptime(end_time, '%H:%M:%S') - datetime.strptime(start_time, '%H:%M:%S')).seconds/60,2))"
   ]
  },
  {
   "cell_type": "markdown",
   "metadata": {},
   "source": [
    "Step 5: Test model's performance (on the testing set)"
   ]
  },
  {
   "cell_type": "code",
   "execution_count": 230,
   "metadata": {},
   "outputs": [],
   "source": [
    "# Declare the model\n",
    "clf = LogisticRegression(C=lr_optimum['params']['C'], penalty=lr_optimum['params']['penalty'],random_state=42)\n",
    "\n",
    "# Train the model on training data\n",
    "clf.fit(train, train_labels);"
   ]
  },
  {
   "cell_type": "markdown",
   "metadata": {},
   "source": [
    "###### Metrics on the Training set"
   ]
  },
  {
   "cell_type": "code",
   "execution_count": 231,
   "metadata": {},
   "outputs": [],
   "source": [
    "# Use the model's predict method \n",
    "predictions = clf.predict(train)"
   ]
  },
  {
   "cell_type": "code",
   "execution_count": 232,
   "metadata": {},
   "outputs": [
    {
     "name": "stdout",
     "output_type": "stream",
     "text": [
      "LR's training accuracy: 1.0\n"
     ]
    }
   ],
   "source": [
    "# Print the training accuracy\n",
    "print(\"LR's training accuracy:\", accuracy_score(train_labels, predictions))"
   ]
  },
  {
   "cell_type": "code",
   "execution_count": 233,
   "metadata": {},
   "outputs": [
    {
     "name": "stdout",
     "output_type": "stream",
     "text": [
      "              precision    recall  f1-score   support\n",
      "\n",
      "           0       1.00      1.00      1.00         5\n",
      "           1       1.00      1.00      1.00         5\n",
      "\n",
      "    accuracy                           1.00        10\n",
      "   macro avg       1.00      1.00      1.00        10\n",
      "weighted avg       1.00      1.00      1.00        10\n",
      "\n"
     ]
    }
   ],
   "source": [
    "# Print the classification report\n",
    "print(classification_report(train_labels,predictions))"
   ]
  },
  {
   "cell_type": "code",
   "execution_count": 234,
   "metadata": {},
   "outputs": [
    {
     "name": "stdout",
     "output_type": "stream",
     "text": [
      "Confusion Matrix:\n",
      "5 | 0\n",
      "-----\n",
      "0 | 5\n"
     ]
    }
   ],
   "source": [
    "cm = confusion_matrix(train_labels,predictions)\n",
    "print('Confusion Matrix:')\n",
    "print(cm[0][0],'|',cm[0][1])\n",
    "print('-----')\n",
    "print(cm[1][0],'|',cm[1][1])"
   ]
  },
  {
   "cell_type": "code",
   "execution_count": 235,
   "metadata": {},
   "outputs": [
    {
     "name": "stdout",
     "output_type": "stream",
     "text": [
      "Specificity: 1.0\n",
      "Sensitivity: 1.0\n"
     ]
    }
   ],
   "source": [
    "tn, fp, fn, tp = confusion_matrix(train_labels,predictions).ravel()\n",
    "specificity = tn / (tn + fp)\n",
    "sensitivity = tp / (tp + fn)\n",
    "print('Specificity:',specificity)\n",
    "print('Sensitivity:',sensitivity)"
   ]
  },
  {
   "cell_type": "code",
   "execution_count": 236,
   "metadata": {},
   "outputs": [
    {
     "name": "stdout",
     "output_type": "stream",
     "text": [
      "MCC: 1.0\n"
     ]
    }
   ],
   "source": [
    "# Print the MCC\n",
    "print('MCC:', matthews_corrcoef(train_labels,predictions))"
   ]
  },
  {
   "cell_type": "code",
   "execution_count": 237,
   "metadata": {},
   "outputs": [
    {
     "name": "stdout",
     "output_type": "stream",
     "text": [
      "List of scores: [0.66666667 1.         1.         1.        ]\n",
      "Mean of Cross Validtation: 0.9166666666666666\n"
     ]
    }
   ],
   "source": [
    "#Print the Cross-Validation Score\n",
    "scores = cross_val_score(clf, train, train_labels, cv=4)\n",
    "\n",
    "print('List of scores:', scores)\n",
    "print('Mean of Cross Validtation:', scores.mean())"
   ]
  },
  {
   "cell_type": "markdown",
   "metadata": {},
   "source": [
    "#### 19th iteration"
   ]
  },
  {
   "cell_type": "markdown",
   "metadata": {},
   "source": [
    "Get the features' importance"
   ]
  },
  {
   "cell_type": "code",
   "execution_count": 238,
   "metadata": {
    "scrolled": false
   },
   "outputs": [
    {
     "name": "stdout",
     "output_type": "stream",
     "text": [
      "Variable: Zave (12.5 ug/ml)    Importance: 1.218\n",
      "Variable: Length ave. (nm)     Importance: 1.074\n",
      "Variable: Endotoxins (EU/mg)   Importance: 0.919\n",
      "Variable: PdI (batch)          Importance: -1.337\n",
      "Variable: Purity (%)           Importance: -2.155\n"
     ]
    }
   ],
   "source": [
    "# Get numerical feature importances and feature names\n",
    "importances = list(clf.coef_.reshape(clf.coef_.shape[1]))\n",
    "feature_list = list(train.columns)\n",
    "\n",
    "# List of tuples with variable and importance\n",
    "feature_importances = [(feature, round(importance, 3)) for feature, importance in zip(feature_list, importances)]\n",
    "\n",
    "# Sort the feature importances by most important first\n",
    "feature_importances = sorted(feature_importances, key = lambda x: x[1], reverse = True)\n",
    "\n",
    "# Print out the feature and importances \n",
    "[print('Variable: {:20} Importance: {}'.format(*pair)) for pair in feature_importances];"
   ]
  },
  {
   "cell_type": "code",
   "execution_count": 239,
   "metadata": {
    "scrolled": true
   },
   "outputs": [
    {
     "data": {
      "text/html": [
       "<div>\n",
       "<style scoped>\n",
       "    .dataframe tbody tr th:only-of-type {\n",
       "        vertical-align: middle;\n",
       "    }\n",
       "\n",
       "    .dataframe tbody tr th {\n",
       "        vertical-align: top;\n",
       "    }\n",
       "\n",
       "    .dataframe thead th {\n",
       "        text-align: right;\n",
       "    }\n",
       "</style>\n",
       "<table border=\"1\" class=\"dataframe\">\n",
       "  <thead>\n",
       "    <tr style=\"text-align: right;\">\n",
       "      <th></th>\n",
       "      <th>Length ave. (nm)</th>\n",
       "      <th>Purity (%)</th>\n",
       "      <th>PdI (batch)</th>\n",
       "      <th>Zave (12.5 ug/ml)</th>\n",
       "    </tr>\n",
       "  </thead>\n",
       "  <tbody>\n",
       "    <tr>\n",
       "      <th>2</th>\n",
       "      <td>0.039432</td>\n",
       "      <td>1.000000</td>\n",
       "      <td>0.413333</td>\n",
       "      <td>0.014556</td>\n",
       "    </tr>\n",
       "    <tr>\n",
       "      <th>3</th>\n",
       "      <td>0.048716</td>\n",
       "      <td>0.923913</td>\n",
       "      <td>0.026667</td>\n",
       "      <td>0.000000</td>\n",
       "    </tr>\n",
       "    <tr>\n",
       "      <th>4</th>\n",
       "      <td>0.156550</td>\n",
       "      <td>0.934783</td>\n",
       "      <td>0.024000</td>\n",
       "      <td>0.425036</td>\n",
       "    </tr>\n",
       "    <tr>\n",
       "      <th>5</th>\n",
       "      <td>0.199591</td>\n",
       "      <td>0.684783</td>\n",
       "      <td>0.000000</td>\n",
       "      <td>0.278020</td>\n",
       "    </tr>\n",
       "    <tr>\n",
       "      <th>6</th>\n",
       "      <td>0.038274</td>\n",
       "      <td>0.945652</td>\n",
       "      <td>0.552000</td>\n",
       "      <td>0.659389</td>\n",
       "    </tr>\n",
       "  </tbody>\n",
       "</table>\n",
       "</div>"
      ],
      "text/plain": [
       "   Length ave. (nm)   Purity (%)  PdI (batch)  Zave (12.5 ug/ml)\n",
       "2           0.039432    1.000000     0.413333           0.014556\n",
       "3           0.048716    0.923913     0.026667           0.000000\n",
       "4           0.156550    0.934783     0.024000           0.425036\n",
       "5           0.199591    0.684783     0.000000           0.278020\n",
       "6           0.038274    0.945652     0.552000           0.659389"
      ]
     },
     "execution_count": 239,
     "metadata": {},
     "output_type": "execute_result"
    }
   ],
   "source": [
    "for i in range(len(feature_importances)):\n",
    "    if round(abs(feature_importances[i][1]),3)==min([round(abs(i),3) for i in importances]):\n",
    "        train.drop(feature_importances[i][0], axis=1, inplace=True)\n",
    "        test.drop(feature_importances[i][0], axis=1, inplace=True)\n",
    "        \n",
    "train.head()"
   ]
  },
  {
   "cell_type": "markdown",
   "metadata": {},
   "source": [
    "Optimize Logistc Regression"
   ]
  },
  {
   "cell_type": "code",
   "execution_count": 240,
   "metadata": {},
   "outputs": [],
   "source": [
    "bo = BayesOpt(train, train_labels, folds = 4, n_iter=30,log_scaling=False)"
   ]
  },
  {
   "cell_type": "code",
   "execution_count": 241,
   "metadata": {
    "scrolled": false
   },
   "outputs": [
    {
     "name": "stdout",
     "output_type": "stream",
     "text": [
      "Optimizing for l1 penalty\n",
      "|   iter    |  target   |     C     |\n",
      "-------------------------------------\n",
      "| \u001b[0m 1       \u001b[0m | \u001b[0m nan     \u001b[0m | \u001b[0m 4.371   \u001b[0m |\n",
      "| \u001b[0m 2       \u001b[0m | \u001b[0m nan     \u001b[0m | \u001b[0m 9.556   \u001b[0m |\n",
      "| \u001b[0m 3       \u001b[0m | \u001b[0m nan     \u001b[0m | \u001b[0m 7.588   \u001b[0m |\n",
      "| \u001b[0m 4       \u001b[0m | \u001b[0m nan     \u001b[0m | \u001b[0m 6.388   \u001b[0m |\n",
      "| \u001b[0m 5       \u001b[0m | \u001b[0m nan     \u001b[0m | \u001b[0m 2.404   \u001b[0m |\n",
      "Error related to scaling.\n",
      "Optimizing for l2 penalty\n",
      "|   iter    |  target   |     C     |\n",
      "-------------------------------------\n",
      "| \u001b[0m 1       \u001b[0m | \u001b[0m 1.0     \u001b[0m | \u001b[0m 4.371   \u001b[0m |\n",
      "| \u001b[0m 2       \u001b[0m | \u001b[0m 0.9167  \u001b[0m | \u001b[0m 9.556   \u001b[0m |\n",
      "| \u001b[0m 3       \u001b[0m | \u001b[0m 1.0     \u001b[0m | \u001b[0m 7.588   \u001b[0m |\n",
      "| \u001b[0m 4       \u001b[0m | \u001b[0m 1.0     \u001b[0m | \u001b[0m 6.388   \u001b[0m |\n",
      "| \u001b[0m 5       \u001b[0m | \u001b[0m 0.75    \u001b[0m | \u001b[0m 2.404   \u001b[0m |\n",
      "| \u001b[0m 6       \u001b[0m | \u001b[0m 1.0     \u001b[0m | \u001b[0m 5.335   \u001b[0m |\n",
      "| \u001b[0m 7       \u001b[0m | \u001b[0m 1.0     \u001b[0m | \u001b[0m 8.408   \u001b[0m |\n",
      "| \u001b[0m 8       \u001b[0m | \u001b[0m 1.0     \u001b[0m | \u001b[0m 4.815   \u001b[0m |\n",
      "| \u001b[0m 9       \u001b[0m | \u001b[0m 1.0     \u001b[0m | \u001b[0m 6.972   \u001b[0m |\n",
      "| \u001b[0m 10      \u001b[0m | \u001b[0m 1.0     \u001b[0m | \u001b[0m 5.859   \u001b[0m |\n",
      "| \u001b[0m 11      \u001b[0m | \u001b[0m 1.0     \u001b[0m | \u001b[0m 8.043   \u001b[0m |\n",
      "| \u001b[0m 12      \u001b[0m | \u001b[0m 1.0     \u001b[0m | \u001b[0m 7.276   \u001b[0m |\n",
      "| \u001b[0m 13      \u001b[0m | \u001b[0m 1.0     \u001b[0m | \u001b[0m 4.563   \u001b[0m |\n",
      "| \u001b[0m 14      \u001b[0m | \u001b[0m 1.0     \u001b[0m | \u001b[0m 6.667   \u001b[0m |\n",
      "| \u001b[0m 15      \u001b[0m | \u001b[0m 1.0     \u001b[0m | \u001b[0m 5.6     \u001b[0m |\n",
      "| \u001b[0m 16      \u001b[0m | \u001b[0m 1.0     \u001b[0m | \u001b[0m 8.249   \u001b[0m |\n",
      "| \u001b[0m 17      \u001b[0m | \u001b[0m 1.0     \u001b[0m | \u001b[0m 5.072   \u001b[0m |\n",
      "| \u001b[0m 18      \u001b[0m | \u001b[0m 1.0     \u001b[0m | \u001b[0m 6.126   \u001b[0m |\n",
      "| \u001b[0m 19      \u001b[0m | \u001b[0m 1.0     \u001b[0m | \u001b[0m 7.809   \u001b[0m |\n",
      "| \u001b[0m 20      \u001b[0m | \u001b[0m 1.0     \u001b[0m | \u001b[0m 7.124   \u001b[0m |\n",
      "| \u001b[0m 21      \u001b[0m | \u001b[0m 1.0     \u001b[0m | \u001b[0m 4.453   \u001b[0m |\n",
      "| \u001b[0m 22      \u001b[0m | \u001b[0m 1.0     \u001b[0m | \u001b[0m 6.811   \u001b[0m |\n",
      "| \u001b[0m 23      \u001b[0m | \u001b[0m 1.0     \u001b[0m | \u001b[0m 7.437   \u001b[0m |\n",
      "| \u001b[0m 24      \u001b[0m | \u001b[0m 1.0     \u001b[0m | \u001b[0m 5.992   \u001b[0m |\n",
      "| \u001b[0m 25      \u001b[0m | \u001b[0m 1.0     \u001b[0m | \u001b[0m 5.202   \u001b[0m |\n",
      "| \u001b[0m 26      \u001b[0m | \u001b[0m 1.0     \u001b[0m | \u001b[0m 6.522   \u001b[0m |\n",
      "| \u001b[0m 27      \u001b[0m | \u001b[0m 1.0     \u001b[0m | \u001b[0m 5.473   \u001b[0m |\n",
      "| \u001b[0m 28      \u001b[0m | \u001b[0m 1.0     \u001b[0m | \u001b[0m 7.928   \u001b[0m |\n",
      "| \u001b[0m 29      \u001b[0m | \u001b[0m 1.0     \u001b[0m | \u001b[0m 4.938   \u001b[0m |\n",
      "| \u001b[0m 30      \u001b[0m | \u001b[0m 1.0     \u001b[0m | \u001b[0m 8.339   \u001b[0m |\n",
      "| \u001b[0m 31      \u001b[0m | \u001b[0m 1.0     \u001b[0m | \u001b[0m 6.257   \u001b[0m |\n",
      "| \u001b[0m 32      \u001b[0m | \u001b[0m 1.0     \u001b[0m | \u001b[0m 5.73    \u001b[0m |\n",
      "| \u001b[0m 33      \u001b[0m | \u001b[0m 1.0     \u001b[0m | \u001b[0m 4.69    \u001b[0m |\n",
      "| \u001b[0m 34      \u001b[0m | \u001b[0m 1.0     \u001b[0m | \u001b[0m 7.697   \u001b[0m |\n",
      "| \u001b[0m 35      \u001b[0m | \u001b[0m 1.0     \u001b[0m | \u001b[0m 8.144   \u001b[0m |\n",
      "=====================================\n",
      "\n",
      "\n",
      "Final result: The optimal model's accuracy is 1.0 and the optimal parameters are C=4.370861069626263 and penalty=l2\n"
     ]
    }
   ],
   "source": [
    "# Get the time that the optimization started\n",
    "start_time = datetime.now().strftime(\"%H:%M:%S\")\n",
    "\n",
    "# Boundaries of the hyperparameters\n",
    "params={'C' : (1,10)}\n",
    "\n",
    "# Optimization\n",
    "import warnings\n",
    "warnings.filterwarnings(\"ignore\", category=FutureWarning)\n",
    "\n",
    "lr_optimum = bo.optimize_lr(params)\n",
    "\n",
    "# Get the time that the optimization ended\n",
    "end_time = datetime.now().strftime(\"%H:%M:%S\")"
   ]
  },
  {
   "cell_type": "code",
   "execution_count": 242,
   "metadata": {
    "scrolled": true
   },
   "outputs": [
    {
     "name": "stdout",
     "output_type": "stream",
     "text": [
      "Minutes to execute: 0.05\n"
     ]
    }
   ],
   "source": [
    "print('Minutes to execute:', \n",
    "      round((datetime.strptime(end_time, '%H:%M:%S') - datetime.strptime(start_time, '%H:%M:%S')).seconds/60,2))"
   ]
  },
  {
   "cell_type": "markdown",
   "metadata": {},
   "source": [
    "Step 5: Test model's performance (on the testing set)"
   ]
  },
  {
   "cell_type": "code",
   "execution_count": 243,
   "metadata": {},
   "outputs": [],
   "source": [
    "# Declare the model\n",
    "clf = LogisticRegression(C=lr_optimum['params']['C'], penalty=lr_optimum['params']['penalty'],random_state=42)\n",
    "\n",
    "# Train the model on training data\n",
    "clf.fit(train, train_labels);"
   ]
  },
  {
   "cell_type": "markdown",
   "metadata": {},
   "source": [
    "###### Metrics on the Training set"
   ]
  },
  {
   "cell_type": "code",
   "execution_count": 244,
   "metadata": {},
   "outputs": [],
   "source": [
    "# Use the model's predict method \n",
    "predictions = clf.predict(train)"
   ]
  },
  {
   "cell_type": "code",
   "execution_count": 245,
   "metadata": {},
   "outputs": [
    {
     "name": "stdout",
     "output_type": "stream",
     "text": [
      "LR's training accuracy: 1.0\n"
     ]
    }
   ],
   "source": [
    "# Print the training accuracy\n",
    "print(\"LR's training accuracy:\", accuracy_score(train_labels, predictions))"
   ]
  },
  {
   "cell_type": "code",
   "execution_count": 246,
   "metadata": {},
   "outputs": [
    {
     "name": "stdout",
     "output_type": "stream",
     "text": [
      "              precision    recall  f1-score   support\n",
      "\n",
      "           0       1.00      1.00      1.00         5\n",
      "           1       1.00      1.00      1.00         5\n",
      "\n",
      "    accuracy                           1.00        10\n",
      "   macro avg       1.00      1.00      1.00        10\n",
      "weighted avg       1.00      1.00      1.00        10\n",
      "\n"
     ]
    }
   ],
   "source": [
    "# Print the classification report\n",
    "print(classification_report(train_labels,predictions))"
   ]
  },
  {
   "cell_type": "code",
   "execution_count": 247,
   "metadata": {},
   "outputs": [
    {
     "name": "stdout",
     "output_type": "stream",
     "text": [
      "Confusion Matrix:\n",
      "5 | 0\n",
      "-----\n",
      "0 | 5\n"
     ]
    }
   ],
   "source": [
    "cm = confusion_matrix(train_labels,predictions)\n",
    "print('Confusion Matrix:')\n",
    "print(cm[0][0],'|',cm[0][1])\n",
    "print('-----')\n",
    "print(cm[1][0],'|',cm[1][1])"
   ]
  },
  {
   "cell_type": "code",
   "execution_count": 248,
   "metadata": {},
   "outputs": [
    {
     "name": "stdout",
     "output_type": "stream",
     "text": [
      "Specificity: 1.0\n",
      "Sensitivity: 1.0\n"
     ]
    }
   ],
   "source": [
    "tn, fp, fn, tp = confusion_matrix(train_labels,predictions).ravel()\n",
    "specificity = tn / (tn + fp)\n",
    "sensitivity = tp / (tp + fn)\n",
    "print('Specificity:',specificity)\n",
    "print('Sensitivity:',sensitivity)"
   ]
  },
  {
   "cell_type": "code",
   "execution_count": 249,
   "metadata": {},
   "outputs": [
    {
     "name": "stdout",
     "output_type": "stream",
     "text": [
      "MCC: 1.0\n"
     ]
    }
   ],
   "source": [
    "# Print the MCC\n",
    "print('MCC:', matthews_corrcoef(train_labels,predictions))"
   ]
  },
  {
   "cell_type": "code",
   "execution_count": 250,
   "metadata": {},
   "outputs": [
    {
     "name": "stdout",
     "output_type": "stream",
     "text": [
      "List of scores: [1. 1. 1. 1.]\n",
      "Mean of Cross Validtation: 1.0\n"
     ]
    }
   ],
   "source": [
    "#Print the Cross-Validation Score\n",
    "scores = cross_val_score(clf, train, train_labels, cv=4)\n",
    "\n",
    "print('List of scores:', scores)\n",
    "print('Mean of Cross Validtation:', scores.mean())"
   ]
  },
  {
   "cell_type": "markdown",
   "metadata": {},
   "source": [
    "The cross validation score is maximized. Hence, the process terminates here. In the next cells we present some metrics of the final model on the testning set. "
   ]
  },
  {
   "cell_type": "markdown",
   "metadata": {},
   "source": [
    "###### Metrics on the Testing set"
   ]
  },
  {
   "cell_type": "code",
   "execution_count": 251,
   "metadata": {},
   "outputs": [],
   "source": [
    "# Use the model's predict method\n",
    "predictions = clf.predict(test)"
   ]
  },
  {
   "cell_type": "code",
   "execution_count": 252,
   "metadata": {},
   "outputs": [
    {
     "name": "stdout",
     "output_type": "stream",
     "text": [
      "LR's Testing accuracy: 0.8\n"
     ]
    }
   ],
   "source": [
    "# Print the testing accuracy\n",
    "print(\"LR's Testing accuracy:\", accuracy_score(test_labels, predictions))"
   ]
  },
  {
   "cell_type": "code",
   "execution_count": 253,
   "metadata": {},
   "outputs": [
    {
     "name": "stdout",
     "output_type": "stream",
     "text": [
      "              precision    recall  f1-score   support\n",
      "\n",
      "           0       1.00      0.75      0.86         4\n",
      "           1       0.50      1.00      0.67         1\n",
      "\n",
      "    accuracy                           0.80         5\n",
      "   macro avg       0.75      0.88      0.76         5\n",
      "weighted avg       0.90      0.80      0.82         5\n",
      "\n"
     ]
    }
   ],
   "source": [
    "# Print the classification report\n",
    "print(classification_report(test_labels,predictions))"
   ]
  },
  {
   "cell_type": "code",
   "execution_count": 254,
   "metadata": {},
   "outputs": [
    {
     "name": "stdout",
     "output_type": "stream",
     "text": [
      "Confusion Matrix:\n",
      "3 | 1\n",
      "-----\n",
      "0 | 1\n"
     ]
    }
   ],
   "source": [
    "cm = confusion_matrix(test_labels,predictions)\n",
    "print('Confusion Matrix:')\n",
    "print(cm[0][0],'|',cm[0][1])\n",
    "print('-----')\n",
    "print(cm[1][0],'|',cm[1][1])"
   ]
  },
  {
   "cell_type": "code",
   "execution_count": 255,
   "metadata": {},
   "outputs": [
    {
     "name": "stdout",
     "output_type": "stream",
     "text": [
      "Specificity: 0.75\n",
      "Sensitivity: 1.0\n"
     ]
    }
   ],
   "source": [
    "tn, fp, fn, tp = confusion_matrix(test_labels,predictions).ravel()\n",
    "specificity = tn / (tn + fp)\n",
    "sensitivity = tp / (tp + fn)\n",
    "print('Specificity:',specificity)\n",
    "print('Sensitivity:',sensitivity)"
   ]
  },
  {
   "cell_type": "code",
   "execution_count": 256,
   "metadata": {},
   "outputs": [
    {
     "name": "stdout",
     "output_type": "stream",
     "text": [
      "MCC: 0.6123724356957946\n"
     ]
    }
   ],
   "source": [
    "# Print the MCC\n",
    "print('MCC:', matthews_corrcoef(test_labels,predictions))"
   ]
  },
  {
   "cell_type": "markdown",
   "metadata": {},
   "source": [
    "Hence, the final RF model is the above, using 4 features, and the importance of the features is the following "
   ]
  },
  {
   "cell_type": "code",
   "execution_count": 257,
   "metadata": {},
   "outputs": [
    {
     "name": "stdout",
     "output_type": "stream",
     "text": [
      "Variable: Zave (12.5 ug/ml)    Importance: 1.262\n",
      "Variable: Length ave. (nm)     Importance: 1.233\n",
      "Variable: PdI (batch)          Importance: -1.538\n",
      "Variable: Purity (%)           Importance: -2.092\n"
     ]
    }
   ],
   "source": [
    "# Get numerical feature importances and feature names\n",
    "importances = list(clf.coef_.reshape(clf.coef_.shape[1]))\n",
    "feature_list = list(train.columns)\n",
    "\n",
    "# List of tuples with variable and importance\n",
    "feature_importances = [(feature, round(importance, 3)) for feature, importance in zip(feature_list, importances)]\n",
    "\n",
    "# Sort the feature importances by most important first\n",
    "feature_importances = sorted(feature_importances, key = lambda x: x[1], reverse = True)\n",
    "\n",
    "# Print out the feature and importances \n",
    "[print('Variable: {:20} Importance: {}'.format(*pair)) for pair in feature_importances];"
   ]
  },
  {
   "cell_type": "markdown",
   "metadata": {},
   "source": [
    "The classification probabilities of the testing samples: "
   ]
  },
  {
   "cell_type": "code",
   "execution_count": 258,
   "metadata": {
    "scrolled": true
   },
   "outputs": [
    {
     "name": "stdout",
     "output_type": "stream",
     "text": [
      "-----------------------------------------------------------------\n",
      "  Sample                                    Prob(0)    Prob(1)\n",
      "-----------------------------------------------------------------\n",
      "NRCWE- 040                               [0.73751777 0.26248223]\n",
      "NRCWE- 041                               [0.81740429 0.18259571]\n",
      "NRCWE- 048                               [0.72970493 0.27029507]\n",
      "NM-401                                   [0.36099822 0.63900178]\n",
      "NM-402                                   [0.31110851 0.68889149]\n"
     ]
    }
   ],
   "source": [
    "print('-----------------------------------------------------------------')\n",
    "print('  Sample                                    Prob(0)    Prob(1)')\n",
    "print('-----------------------------------------------------------------')\n",
    "for i in test.index:\n",
    "    print('{:40} {}'.format(codes[i][:-1],clf.predict_proba(np.array(test.loc[i]).reshape(1, -1))[0]));"
   ]
  },
  {
   "cell_type": "markdown",
   "metadata": {},
   "source": [
    "### Domain of Applicability"
   ]
  },
  {
   "cell_type": "code",
   "execution_count": 259,
   "metadata": {},
   "outputs": [],
   "source": [
    "test_names = [codes[i] for i in test.index]"
   ]
  },
  {
   "cell_type": "code",
   "execution_count": 260,
   "metadata": {},
   "outputs": [
    {
     "name": "stdout",
     "output_type": "stream",
     "text": [
      "The Leverage threshold is: 1.2\n"
     ]
    }
   ],
   "source": [
    "leverage_threshold = 3*train.shape[1]/train.shape[0]\n",
    "print('The Leverage threshold is:', round(leverage_threshold, 2))"
   ]
  },
  {
   "cell_type": "code",
   "execution_count": 261,
   "metadata": {},
   "outputs": [],
   "source": [
    "# Labels are the values we want to predict\n",
    "l_train_labels = np.array(train_labels)\n",
    "l_test_labels = np.array(test_labels)\n",
    "# Convert to numpy array\n",
    "l_test = np.array(test)\n",
    "l_train = np.array(train)"
   ]
  },
  {
   "cell_type": "code",
   "execution_count": 262,
   "metadata": {},
   "outputs": [
    {
     "name": "stdout",
     "output_type": "stream",
     "text": [
      "Sample: NRCWE- 040                               Leverage Value:   0.2    Reliability: reliable            \n",
      "Sample: NRCWE- 041                               Leverage Value:  0.36    Reliability: reliable            \n",
      "Sample: NRCWE- 048                               Leverage Value:  0.43    Reliability: reliable            \n",
      "Sample: NM-401                                   Leverage Value:  0.51    Reliability: reliable            \n",
      "Sample: NM-402                                   Leverage Value:  0.19    Reliability: reliable            \n"
     ]
    }
   ],
   "source": [
    "from numpy.linalg import matrix_power\n",
    "H=list()\n",
    "reliability=list()\n",
    "for i in range(len(l_test)):\n",
    "    H.append(l_test[i].T@(matrix_power(l_train.T@l_train, -1))@l_test[i])\n",
    "    if H[i]<=leverage_threshold:\n",
    "        reliability.append('reliable')\n",
    "    else:\n",
    "        reliability.append('unreliable')\n",
    "\n",
    "LV = [(sample[:-1], round(l_val, 2),rely) for sample, l_val, rely in zip(test_names, H, reliability)]\n",
    "for i in range(len(l_test)):\n",
    "    [print('Sample: {:40} Leverage Value: {:5}    Reliability: {:20}'.format(LV[i][0],LV[i][1],LV[i][2]))];"
   ]
  }
 ],
 "metadata": {
  "kernelspec": {
   "display_name": "Python 3",
   "language": "python",
   "name": "python3"
  },
  "language_info": {
   "codemirror_mode": {
    "name": "ipython",
    "version": 3
   },
   "file_extension": ".py",
   "mimetype": "text/x-python",
   "name": "python",
   "nbconvert_exporter": "python",
   "pygments_lexer": "ipython3",
   "version": "3.8.5"
  }
 },
 "nbformat": 4,
 "nbformat_minor": 2
}
