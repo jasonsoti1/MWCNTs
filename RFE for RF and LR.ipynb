{
 "cells": [
  {
   "cell_type": "markdown",
   "metadata": {},
   "source": [
    "### Import the Lirbraries and load the Dataset, Code names and models"
   ]
  },
  {
   "cell_type": "code",
   "execution_count": 1,
   "metadata": {},
   "outputs": [
    {
     "data": {
      "text/html": [
       "<div>\n",
       "<style scoped>\n",
       "    .dataframe tbody tr th:only-of-type {\n",
       "        vertical-align: middle;\n",
       "    }\n",
       "\n",
       "    .dataframe tbody tr th {\n",
       "        vertical-align: top;\n",
       "    }\n",
       "\n",
       "    .dataframe thead th {\n",
       "        text-align: right;\n",
       "    }\n",
       "</style>\n",
       "<table border=\"1\" class=\"dataframe\">\n",
       "  <thead>\n",
       "    <tr style=\"text-align: right;\">\n",
       "      <th></th>\n",
       "      <th>Length ave. (nm)</th>\n",
       "      <th>Diameter ave. (nm)</th>\n",
       "      <th>BET (m2/g)</th>\n",
       "      <th>Purity (%)</th>\n",
       "      <th>Zave (batch)</th>\n",
       "      <th>PdI (batch)</th>\n",
       "      <th>Zave (12.5 ug/ml)</th>\n",
       "      <th>PdI  (12.5 ug/ml)</th>\n",
       "      <th>Zave  (200 ug/ml)</th>\n",
       "      <th>PdI  (200 ug/ml)</th>\n",
       "      <th>...</th>\n",
       "      <th>COOH mmol/g</th>\n",
       "      <th>Endotoxins (EU/mg)</th>\n",
       "      <th>Diameter min. (nm)</th>\n",
       "      <th>Diameter max. (nm)</th>\n",
       "      <th>Type_COOH</th>\n",
       "      <th>Type_NH2</th>\n",
       "      <th>Type_OH</th>\n",
       "      <th>Type_PRISTINE</th>\n",
       "      <th>% Total Impurities</th>\n",
       "      <th>Genotoxicity</th>\n",
       "    </tr>\n",
       "  </thead>\n",
       "  <tbody>\n",
       "    <tr>\n",
       "      <th>0</th>\n",
       "      <td>0.000000</td>\n",
       "      <td>0.198214</td>\n",
       "      <td>0.559322</td>\n",
       "      <td>0.934783</td>\n",
       "      <td>0.036390</td>\n",
       "      <td>0.349333</td>\n",
       "      <td>0.020378</td>\n",
       "      <td>0.234910</td>\n",
       "      <td>0.067882</td>\n",
       "      <td>0.306306</td>\n",
       "      <td>...</td>\n",
       "      <td>0.079208</td>\n",
       "      <td>0.34</td>\n",
       "      <td>0.332558</td>\n",
       "      <td>0.206494</td>\n",
       "      <td>0.0</td>\n",
       "      <td>0.0</td>\n",
       "      <td>0.0</td>\n",
       "      <td>1.0</td>\n",
       "      <td>0.134906</td>\n",
       "      <td>0</td>\n",
       "    </tr>\n",
       "    <tr>\n",
       "      <th>1</th>\n",
       "      <td>0.093822</td>\n",
       "      <td>0.283929</td>\n",
       "      <td>0.567797</td>\n",
       "      <td>1.000000</td>\n",
       "      <td>0.066958</td>\n",
       "      <td>0.730667</td>\n",
       "      <td>0.132460</td>\n",
       "      <td>0.375204</td>\n",
       "      <td>0.054205</td>\n",
       "      <td>0.570571</td>\n",
       "      <td>...</td>\n",
       "      <td>0.405941</td>\n",
       "      <td>0.42</td>\n",
       "      <td>0.390698</td>\n",
       "      <td>0.298701</td>\n",
       "      <td>0.0</td>\n",
       "      <td>0.0</td>\n",
       "      <td>1.0</td>\n",
       "      <td>0.0</td>\n",
       "      <td>0.075646</td>\n",
       "      <td>0</td>\n",
       "    </tr>\n",
       "    <tr>\n",
       "      <th>2</th>\n",
       "      <td>0.039432</td>\n",
       "      <td>0.342857</td>\n",
       "      <td>0.521186</td>\n",
       "      <td>1.000000</td>\n",
       "      <td>0.035861</td>\n",
       "      <td>0.413333</td>\n",
       "      <td>0.014556</td>\n",
       "      <td>0.097879</td>\n",
       "      <td>0.031408</td>\n",
       "      <td>0.357357</td>\n",
       "      <td>...</td>\n",
       "      <td>1.000000</td>\n",
       "      <td>0.50</td>\n",
       "      <td>0.372093</td>\n",
       "      <td>0.394805</td>\n",
       "      <td>1.0</td>\n",
       "      <td>0.0</td>\n",
       "      <td>0.0</td>\n",
       "      <td>0.0</td>\n",
       "      <td>0.048780</td>\n",
       "      <td>0</td>\n",
       "    </tr>\n",
       "    <tr>\n",
       "      <th>3</th>\n",
       "      <td>0.048716</td>\n",
       "      <td>0.796429</td>\n",
       "      <td>0.271186</td>\n",
       "      <td>0.923913</td>\n",
       "      <td>0.011777</td>\n",
       "      <td>0.026667</td>\n",
       "      <td>0.000000</td>\n",
       "      <td>0.000000</td>\n",
       "      <td>0.013171</td>\n",
       "      <td>0.000000</td>\n",
       "      <td>...</td>\n",
       "      <td>0.034653</td>\n",
       "      <td>0.48</td>\n",
       "      <td>0.872093</td>\n",
       "      <td>0.775325</td>\n",
       "      <td>0.0</td>\n",
       "      <td>0.0</td>\n",
       "      <td>0.0</td>\n",
       "      <td>1.0</td>\n",
       "      <td>0.219889</td>\n",
       "      <td>0</td>\n",
       "    </tr>\n",
       "    <tr>\n",
       "      <th>4</th>\n",
       "      <td>0.156550</td>\n",
       "      <td>0.387500</td>\n",
       "      <td>0.237288</td>\n",
       "      <td>0.934783</td>\n",
       "      <td>0.045124</td>\n",
       "      <td>0.024000</td>\n",
       "      <td>0.425036</td>\n",
       "      <td>0.365416</td>\n",
       "      <td>0.241641</td>\n",
       "      <td>0.822823</td>\n",
       "      <td>...</td>\n",
       "      <td>0.044554</td>\n",
       "      <td>0.52</td>\n",
       "      <td>0.444186</td>\n",
       "      <td>0.419481</td>\n",
       "      <td>0.0</td>\n",
       "      <td>0.0</td>\n",
       "      <td>1.0</td>\n",
       "      <td>0.0</td>\n",
       "      <td>0.190736</td>\n",
       "      <td>1</td>\n",
       "    </tr>\n",
       "  </tbody>\n",
       "</table>\n",
       "<p>5 rows × 35 columns</p>\n",
       "</div>"
      ],
      "text/plain": [
       "   Length ave. (nm)   Diameter ave. (nm)  BET (m2/g)  Purity (%)  \\\n",
       "0           0.000000            0.198214    0.559322    0.934783   \n",
       "1           0.093822            0.283929    0.567797    1.000000   \n",
       "2           0.039432            0.342857    0.521186    1.000000   \n",
       "3           0.048716            0.796429    0.271186    0.923913   \n",
       "4           0.156550            0.387500    0.237288    0.934783   \n",
       "\n",
       "   Zave (batch)  PdI (batch)  Zave (12.5 ug/ml)  PdI  (12.5 ug/ml)  \\\n",
       "0      0.036390     0.349333           0.020378           0.234910   \n",
       "1      0.066958     0.730667           0.132460           0.375204   \n",
       "2      0.035861     0.413333           0.014556           0.097879   \n",
       "3      0.011777     0.026667           0.000000           0.000000   \n",
       "4      0.045124     0.024000           0.425036           0.365416   \n",
       "\n",
       "   Zave  (200 ug/ml)  PdI  (200 ug/ml)  ...  COOH mmol/g  Endotoxins (EU/mg)  \\\n",
       "0           0.067882          0.306306  ...     0.079208                0.34   \n",
       "1           0.054205          0.570571  ...     0.405941                0.42   \n",
       "2           0.031408          0.357357  ...     1.000000                0.50   \n",
       "3           0.013171          0.000000  ...     0.034653                0.48   \n",
       "4           0.241641          0.822823  ...     0.044554                0.52   \n",
       "\n",
       "   Diameter min. (nm)  Diameter max. (nm)  Type_COOH  Type_NH2  Type_OH  \\\n",
       "0            0.332558            0.206494        0.0       0.0      0.0   \n",
       "1            0.390698            0.298701        0.0       0.0      1.0   \n",
       "2            0.372093            0.394805        1.0       0.0      0.0   \n",
       "3            0.872093            0.775325        0.0       0.0      0.0   \n",
       "4            0.444186            0.419481        0.0       0.0      1.0   \n",
       "\n",
       "   Type_PRISTINE  % Total Impurities  Genotoxicity  \n",
       "0            1.0            0.134906             0  \n",
       "1            0.0            0.075646             0  \n",
       "2            0.0            0.048780             0  \n",
       "3            1.0            0.219889             0  \n",
       "4            0.0            0.190736             1  \n",
       "\n",
       "[5 rows x 35 columns]"
      ]
     },
     "execution_count": 1,
     "metadata": {},
     "output_type": "execute_result"
    }
   ],
   "source": [
    "import matplotlib.pyplot as plt\n",
    "import pandas as pd\n",
    "import numpy as np\n",
    "import seaborn as sns\n",
    "import joblib\n",
    "from datetime import datetime\n",
    "from Bayesian_Optimization import optimize_rfc, optimize_lr\n",
    "from sklearn.ensemble import RandomForestClassifier\n",
    "from sklearn.linear_model import LogisticRegression\n",
    "from sklearn.model_selection import cross_val_score\n",
    "from sklearn.metrics import (accuracy_score,matthews_corrcoef,\n",
    "                             classification_report, confusion_matrix)\n",
    "%matplotlib inline\n",
    "\n",
    "df = pd.read_csv('pre-precessed_dataset.csv')\n",
    "codes = open('codes.txt','r').readlines()\n",
    "\n",
    "clf = joblib.load('RF_model.sav')\n",
    "logmodel = joblib.load('LR_model.sav')\n",
    "\n",
    "df.head()"
   ]
  },
  {
   "cell_type": "markdown",
   "metadata": {},
   "source": [
    "### Train-Test Split"
   ]
  },
  {
   "cell_type": "code",
   "execution_count": 2,
   "metadata": {},
   "outputs": [],
   "source": [
    "from Kennard_Stone import kennardstonealgorithm"
   ]
  },
  {
   "cell_type": "markdown",
   "metadata": {},
   "source": [
    "Using the Kennart-Stone algorithm, we split the dataset into 2 sets, one for training and one for validation"
   ]
  },
  {
   "cell_type": "code",
   "execution_count": 3,
   "metadata": {},
   "outputs": [],
   "source": [
    "train, test, train_labels, test_labels = kennardstonealgorithm(df,'Genotoxicity',5)"
   ]
  },
  {
   "cell_type": "code",
   "execution_count": 4,
   "metadata": {},
   "outputs": [
    {
     "name": "stdout",
     "output_type": "stream",
     "text": [
      "Training Features Shape: (10, 34)\n",
      "Training Labels Shape: (10,)\n",
      "Testing Features Shape: (5, 34)\n",
      "Testing Labels Shape: (5,)\n"
     ]
    }
   ],
   "source": [
    "print('Training Features Shape:', train.shape)\n",
    "print('Training Labels Shape:', train_labels.shape)\n",
    "print('Testing Features Shape:', test.shape)\n",
    "print('Testing Labels Shape:', test_labels.shape)"
   ]
  },
  {
   "cell_type": "code",
   "execution_count": 5,
   "metadata": {},
   "outputs": [
    {
     "name": "stdout",
     "output_type": "stream",
     "text": [
      "The names of the testing samples are:\n",
      "=====================================\n",
      "NRCWE- 040\n",
      "NRCWE- 045\n",
      "NRCWE- 048\n",
      "NM-401\n",
      "NM-402\n"
     ]
    }
   ],
   "source": [
    "print('The names of the testing samples are:')\n",
    "print('=====================================')\n",
    "for i in test.index:\n",
    "    print(codes[i][:-1])"
   ]
  },
  {
   "cell_type": "markdown",
   "metadata": {},
   "source": [
    "### RFE for RF"
   ]
  },
  {
   "cell_type": "markdown",
   "metadata": {},
   "source": [
    "#### 1st iteration"
   ]
  },
  {
   "cell_type": "markdown",
   "metadata": {},
   "source": [
    "Step 1: Get the features' importance"
   ]
  },
  {
   "cell_type": "code",
   "execution_count": 14,
   "metadata": {
    "scrolled": false
   },
   "outputs": [
    {
     "name": "stdout",
     "output_type": "stream",
     "text": [
      "Variable: Length ave. (nm)     Importance: 0.18\n",
      "Variable: Zave (12.5 ug/ml)    Importance: 0.17\n",
      "Variable: ROS                  Importance: 0.07\n",
      "Variable: BET (m2/g)           Importance: 0.06\n",
      "Variable: Zave  (200 ug/ml)    Importance: 0.06\n",
      "Variable: PdI (batch)          Importance: 0.05\n",
      "Variable: PdI  (200 ug/ml)     Importance: 0.05\n",
      "Variable: Diameter ave. (nm)   Importance: 0.04\n",
      "Variable: Purity (%)           Importance: 0.04\n",
      "Variable: Endotoxins (EU/mg)   Importance: 0.03\n",
      "Variable: % Total Impurities   Importance: 0.03\n",
      "Variable: PdI  (12.5 ug/ml)    Importance: 0.02\n",
      "Variable: 200 (ug/ml)_via      Importance: 0.02\n",
      "Variable: 25 (ug/ml)_prolif    Importance: 0.02\n",
      "Variable: 200 (ug/ml)_prolif   Importance: 0.02\n",
      "Variable: OH mmol/g            Importance: 0.02\n",
      "Variable: COOH mmol/g          Importance: 0.02\n",
      "Variable: Diameter max. (nm)   Importance: 0.02\n",
      "Variable: Type_PRISTINE        Importance: 0.02\n",
      "Variable: Zave (batch)         Importance: 0.01\n",
      "Variable: 50 (ug/ml)_via       Importance: 0.01\n",
      "Variable: 12.5 (ug/ml)_prolif  Importance: 0.01\n",
      "Variable: 50 (ug/ml)_prolif    Importance: 0.01\n",
      "Variable: 100 (ug/ml)_prolif   Importance: 0.01\n",
      "Variable: CEA: C.H.N.O (wt%)   Importance: 0.01\n",
      "Variable: Peak (ug/ml)         Importance: 0.0\n",
      "Variable: 0 (ug/ml)_via        Importance: 0.0\n",
      "Variable: 12.5 (ug/ml)_via     Importance: 0.0\n",
      "Variable: 25 (ug/ml)_via       Importance: 0.0\n",
      "Variable: 100 (ug/ml)_via      Importance: 0.0\n",
      "Variable: Diameter min. (nm)   Importance: 0.0\n",
      "Variable: Type_COOH            Importance: 0.0\n",
      "Variable: Type_NH2             Importance: 0.0\n",
      "Variable: Type_OH              Importance: 0.0\n"
     ]
    }
   ],
   "source": [
    "# Get numerical feature importances and feature names\n",
    "importances = list(clf.feature_importances_)\n",
    "feature_list = list(train.columns)\n",
    "\n",
    "# List of tuples with variable and importance\n",
    "feature_importances = [(feature, round(importance, 2)) for feature, importance in zip(feature_list, importances)]\n",
    "\n",
    "# Sort the feature importances by most important first\n",
    "feature_importances = sorted(feature_importances, key = lambda x: x[1], reverse = True)\n",
    "\n",
    "# Print out the feature and importances \n",
    "[print('Variable: {:20} Importance: {}'.format(*pair)) for pair in feature_importances];"
   ]
  },
  {
   "cell_type": "markdown",
   "metadata": {},
   "source": [
    "Step 2: Exclude features with importance less than 0.04"
   ]
  },
  {
   "cell_type": "code",
   "execution_count": 7,
   "metadata": {
    "scrolled": true
   },
   "outputs": [
    {
     "data": {
      "text/html": [
       "<div>\n",
       "<style scoped>\n",
       "    .dataframe tbody tr th:only-of-type {\n",
       "        vertical-align: middle;\n",
       "    }\n",
       "\n",
       "    .dataframe tbody tr th {\n",
       "        vertical-align: top;\n",
       "    }\n",
       "\n",
       "    .dataframe thead th {\n",
       "        text-align: right;\n",
       "    }\n",
       "</style>\n",
       "<table border=\"1\" class=\"dataframe\">\n",
       "  <thead>\n",
       "    <tr style=\"text-align: right;\">\n",
       "      <th></th>\n",
       "      <th>Length ave. (nm)</th>\n",
       "      <th>Diameter ave. (nm)</th>\n",
       "      <th>BET (m2/g)</th>\n",
       "      <th>Purity (%)</th>\n",
       "      <th>PdI (batch)</th>\n",
       "      <th>Zave (12.5 ug/ml)</th>\n",
       "      <th>Zave  (200 ug/ml)</th>\n",
       "      <th>PdI  (200 ug/ml)</th>\n",
       "      <th>ROS</th>\n",
       "      <th>Genotoxicity</th>\n",
       "    </tr>\n",
       "  </thead>\n",
       "  <tbody>\n",
       "    <tr>\n",
       "      <th>0</th>\n",
       "      <td>0.000000</td>\n",
       "      <td>0.198214</td>\n",
       "      <td>0.559322</td>\n",
       "      <td>0.934783</td>\n",
       "      <td>0.349333</td>\n",
       "      <td>0.020378</td>\n",
       "      <td>0.067882</td>\n",
       "      <td>0.306306</td>\n",
       "      <td>0.220779</td>\n",
       "      <td>0</td>\n",
       "    </tr>\n",
       "    <tr>\n",
       "      <th>1</th>\n",
       "      <td>0.093822</td>\n",
       "      <td>0.283929</td>\n",
       "      <td>0.567797</td>\n",
       "      <td>1.000000</td>\n",
       "      <td>0.730667</td>\n",
       "      <td>0.132460</td>\n",
       "      <td>0.054205</td>\n",
       "      <td>0.570571</td>\n",
       "      <td>0.389610</td>\n",
       "      <td>0</td>\n",
       "    </tr>\n",
       "    <tr>\n",
       "      <th>2</th>\n",
       "      <td>0.039432</td>\n",
       "      <td>0.342857</td>\n",
       "      <td>0.521186</td>\n",
       "      <td>1.000000</td>\n",
       "      <td>0.413333</td>\n",
       "      <td>0.014556</td>\n",
       "      <td>0.031408</td>\n",
       "      <td>0.357357</td>\n",
       "      <td>0.103896</td>\n",
       "      <td>0</td>\n",
       "    </tr>\n",
       "    <tr>\n",
       "      <th>3</th>\n",
       "      <td>0.048716</td>\n",
       "      <td>0.796429</td>\n",
       "      <td>0.271186</td>\n",
       "      <td>0.923913</td>\n",
       "      <td>0.026667</td>\n",
       "      <td>0.000000</td>\n",
       "      <td>0.013171</td>\n",
       "      <td>0.000000</td>\n",
       "      <td>0.298701</td>\n",
       "      <td>0</td>\n",
       "    </tr>\n",
       "    <tr>\n",
       "      <th>4</th>\n",
       "      <td>0.156550</td>\n",
       "      <td>0.387500</td>\n",
       "      <td>0.237288</td>\n",
       "      <td>0.934783</td>\n",
       "      <td>0.024000</td>\n",
       "      <td>0.425036</td>\n",
       "      <td>0.241641</td>\n",
       "      <td>0.822823</td>\n",
       "      <td>0.220779</td>\n",
       "      <td>1</td>\n",
       "    </tr>\n",
       "  </tbody>\n",
       "</table>\n",
       "</div>"
      ],
      "text/plain": [
       "   Length ave. (nm)   Diameter ave. (nm)  BET (m2/g)  Purity (%)  PdI (batch)  \\\n",
       "0           0.000000            0.198214    0.559322    0.934783     0.349333   \n",
       "1           0.093822            0.283929    0.567797    1.000000     0.730667   \n",
       "2           0.039432            0.342857    0.521186    1.000000     0.413333   \n",
       "3           0.048716            0.796429    0.271186    0.923913     0.026667   \n",
       "4           0.156550            0.387500    0.237288    0.934783     0.024000   \n",
       "\n",
       "   Zave (12.5 ug/ml)  Zave  (200 ug/ml)  PdI  (200 ug/ml)       ROS  \\\n",
       "0           0.020378           0.067882          0.306306  0.220779   \n",
       "1           0.132460           0.054205          0.570571  0.389610   \n",
       "2           0.014556           0.031408          0.357357  0.103896   \n",
       "3           0.000000           0.013171          0.000000  0.298701   \n",
       "4           0.425036           0.241641          0.822823  0.220779   \n",
       "\n",
       "   Genotoxicity  \n",
       "0             0  \n",
       "1             0  \n",
       "2             0  \n",
       "3             0  \n",
       "4             1  "
      ]
     },
     "execution_count": 7,
     "metadata": {},
     "output_type": "execute_result"
    }
   ],
   "source": [
    "df_rf = df.copy()\n",
    "\n",
    "for i in range(len(feature_importances)):\n",
    "    if feature_importances[i][1]<0.04:\n",
    "        df_rf.drop(feature_importances[i][0], axis=1, inplace=True)\n",
    "\n",
    "df_rf.head()"
   ]
  },
  {
   "cell_type": "markdown",
   "metadata": {},
   "source": [
    "Step 3: Train - Test split"
   ]
  },
  {
   "cell_type": "code",
   "execution_count": 8,
   "metadata": {},
   "outputs": [],
   "source": [
    "train_rf, test_rf, train_labels_rf, test_labels_rf = kennardstonealgorithm(df_rf,'Genotoxicity',5)"
   ]
  },
  {
   "cell_type": "markdown",
   "metadata": {},
   "source": [
    "Step 4: Optimize Random Forest"
   ]
  },
  {
   "cell_type": "code",
   "execution_count": 9,
   "metadata": {
    "scrolled": false
   },
   "outputs": [
    {
     "name": "stdout",
     "output_type": "stream",
     "text": [
      "|   iter    |  target   | max_fe... | min_sa... | n_esti... |\n",
      "-------------------------------------------------------------\n",
      "| \u001b[0m 1       \u001b[0m | \u001b[0m 100.0   \u001b[0m | \u001b[0m 0.6498  \u001b[0m | \u001b[0m 0.4754  \u001b[0m | \u001b[0m 185.7   \u001b[0m |\n",
      "| \u001b[0m 2       \u001b[0m | \u001b[0m 100.0   \u001b[0m | \u001b[0m 0.7395  \u001b[0m | \u001b[0m 0.07885 \u001b[0m | \u001b[0m 47.44   \u001b[0m |\n",
      "| \u001b[0m 3       \u001b[0m | \u001b[0m 100.0   \u001b[0m | \u001b[0m 0.5232  \u001b[0m | \u001b[0m 0.4332  \u001b[0m | \u001b[0m 154.3   \u001b[0m |\n",
      "| \u001b[0m 4       \u001b[0m | \u001b[0m 100.0   \u001b[0m | \u001b[0m 0.7832  \u001b[0m | \u001b[0m 0.01127 \u001b[0m | \u001b[0m 242.8   \u001b[0m |\n",
      "| \u001b[0m 5       \u001b[0m | \u001b[0m 100.0   \u001b[0m | \u001b[0m 0.833   \u001b[0m | \u001b[0m 0.107   \u001b[0m | \u001b[0m 53.64   \u001b[0m |\n",
      "| \u001b[0m 6       \u001b[0m | \u001b[0m 80.0    \u001b[0m | \u001b[0m 0.6342  \u001b[0m | \u001b[0m 0.253   \u001b[0m | \u001b[0m 10.0    \u001b[0m |\n",
      "| \u001b[0m 7       \u001b[0m | \u001b[0m 100.0   \u001b[0m | \u001b[0m 0.5546  \u001b[0m | \u001b[0m 0.4438  \u001b[0m | \u001b[0m 162.1   \u001b[0m |\n",
      "| \u001b[0m 8       \u001b[0m | \u001b[0m 100.0   \u001b[0m | \u001b[0m 0.6108  \u001b[0m | \u001b[0m 0.4622  \u001b[0m | \u001b[0m 176.0   \u001b[0m |\n",
      "| \u001b[0m 9       \u001b[0m | \u001b[0m 100.0   \u001b[0m | \u001b[0m 0.7635  \u001b[0m | \u001b[0m 0.08227 \u001b[0m | \u001b[0m 233.9   \u001b[0m |\n",
      "| \u001b[0m 10      \u001b[0m | \u001b[0m 100.0   \u001b[0m | \u001b[0m 0.5     \u001b[0m | \u001b[0m 0.001   \u001b[0m | \u001b[0m 197.9   \u001b[0m |\n",
      "| \u001b[0m 11      \u001b[0m | \u001b[0m 100.0   \u001b[0m | \u001b[0m 0.6935  \u001b[0m | \u001b[0m 0.1891  \u001b[0m | \u001b[0m 214.3   \u001b[0m |\n",
      "| \u001b[0m 12      \u001b[0m | \u001b[0m 100.0   \u001b[0m | \u001b[0m 0.9     \u001b[0m | \u001b[0m 0.001   \u001b[0m | \u001b[0m 139.5   \u001b[0m |\n",
      "| \u001b[0m 13      \u001b[0m | \u001b[0m 100.0   \u001b[0m | \u001b[0m 0.5     \u001b[0m | \u001b[0m 0.5     \u001b[0m | \u001b[0m 124.7   \u001b[0m |\n",
      "| \u001b[0m 14      \u001b[0m | \u001b[0m 100.0   \u001b[0m | \u001b[0m 0.9     \u001b[0m | \u001b[0m 0.001   \u001b[0m | \u001b[0m 108.8   \u001b[0m |\n",
      "| \u001b[0m 15      \u001b[0m | \u001b[0m 100.0   \u001b[0m | \u001b[0m 0.5     \u001b[0m | \u001b[0m 0.5     \u001b[0m | \u001b[0m 91.34   \u001b[0m |\n",
      "=============================================================\n",
      "\n",
      "\n",
      "Final result: The optimal model's accuracy is 100.0 and the optimal parameters are n_estimators=185, min_samples_split=0.47540643889854817 and max_features=0.649816047538945\n"
     ]
    }
   ],
   "source": [
    "# Get the time that the optimization started\n",
    "start_time = datetime.now().strftime(\"%H:%M:%S\")\n",
    "\n",
    "# Boundaries of the hyperparameters\n",
    "bo_dict={\"n_estimators\": (10,250), \"min_samples_split\": (0.001,0.5), \"max_features\": (0.5, 0.9)}\n",
    "\n",
    "# Optimization\n",
    "rf_optimum = optimize_rfc(train_rf,train_labels_rf,test_rf,test_labels_rf,bo_dict,10,5)\n",
    "\n",
    "# Get the time that the optimization ended\n",
    "end_time = datetime.now().strftime(\"%H:%M:%S\")"
   ]
  },
  {
   "cell_type": "code",
   "execution_count": 10,
   "metadata": {
    "scrolled": true
   },
   "outputs": [
    {
     "name": "stdout",
     "output_type": "stream",
     "text": [
      "Minutes to execute: 0.42\n"
     ]
    }
   ],
   "source": [
    "print('Minutes to execute:', \n",
    "      round((datetime.strptime(end_time, '%H:%M:%S') - datetime.strptime(start_time, '%H:%M:%S')).seconds/60,2))"
   ]
  },
  {
   "cell_type": "markdown",
   "metadata": {},
   "source": [
    "Step 5: Test model's performance (on the testing set)"
   ]
  },
  {
   "cell_type": "code",
   "execution_count": 11,
   "metadata": {},
   "outputs": [
    {
     "name": "stdout",
     "output_type": "stream",
     "text": [
      "RF's training accuracy: 1.0\n"
     ]
    }
   ],
   "source": [
    "# Declare the model\n",
    "clf = RandomForestClassifier(n_estimators=rf_optimum['params']['n_estimators'], max_features=rf_optimum['params']['max_features'], min_samples_split=rf_optimum['params']['min_samples_split'],  random_state=42)\n",
    "\n",
    "# Train the model on training data\n",
    "clf.fit(train_rf, train_labels_rf);\n",
    "\n",
    "# Use the model's predict method\n",
    "predictions = clf.predict(test_rf)\n",
    "\n",
    "# Print the Train accuracy\n",
    "print(\"RF's training accuracy:\", accuracy_score(test_labels_rf, predictions))"
   ]
  },
  {
   "cell_type": "code",
   "execution_count": 12,
   "metadata": {},
   "outputs": [
    {
     "name": "stdout",
     "output_type": "stream",
     "text": [
      "              precision    recall  f1-score   support\n",
      "\n",
      "           0       1.00      1.00      1.00         4\n",
      "           1       1.00      1.00      1.00         1\n",
      "\n",
      "   micro avg       1.00      1.00      1.00         5\n",
      "   macro avg       1.00      1.00      1.00         5\n",
      "weighted avg       1.00      1.00      1.00         5\n",
      "\n"
     ]
    }
   ],
   "source": [
    "# Print the classification report\n",
    "print(classification_report(test_labels_rf,predictions))"
   ]
  },
  {
   "cell_type": "code",
   "execution_count": 13,
   "metadata": {},
   "outputs": [
    {
     "name": "stdout",
     "output_type": "stream",
     "text": [
      "Confusion Matrix:\n",
      "4 | 0\n",
      "-----\n",
      "0 | 1\n"
     ]
    }
   ],
   "source": [
    "cm = confusion_matrix(test_labels_rf,predictions)\n",
    "print('Confusion Matrix:')\n",
    "print(cm[0][0],'|',cm[0][1])\n",
    "print('-----')\n",
    "print(cm[1][0],'|',cm[1][1])"
   ]
  },
  {
   "cell_type": "code",
   "execution_count": 17,
   "metadata": {},
   "outputs": [
    {
     "name": "stdout",
     "output_type": "stream",
     "text": [
      "Specificity: 1.0\n",
      "Sensitivity: 1.0\n"
     ]
    }
   ],
   "source": [
    "tn, fp, fn, tp = confusion_matrix(test_labels_rf,predictions).ravel()\n",
    "specificity = tn / (tn + fp)\n",
    "sensitivity = tp / (tp + fn)\n",
    "print('Specificity:',specificity)\n",
    "print('Sensitivity:',sensitivity)"
   ]
  },
  {
   "cell_type": "code",
   "execution_count": 14,
   "metadata": {
    "scrolled": true
   },
   "outputs": [
    {
     "name": "stdout",
     "output_type": "stream",
     "text": [
      "MCC: 1.0\n"
     ]
    }
   ],
   "source": [
    "# Print the MCC\n",
    "print('MCC:', matthews_corrcoef(test_labels_rf,predictions))"
   ]
  },
  {
   "cell_type": "code",
   "execution_count": 15,
   "metadata": {},
   "outputs": [
    {
     "name": "stdout",
     "output_type": "stream",
     "text": [
      "List of scores: [0.25 1.   1.   0.5 ]\n",
      "Mean of Cross Validtation: 0.6875\n"
     ]
    }
   ],
   "source": [
    "#Print the Cross-Validation Score\n",
    "scores = cross_val_score(clf, train_rf, train_labels_rf, cv=4)\n",
    "\n",
    "print('List of scores:', scores)\n",
    "print('Mean of Cross Validtation:', scores.mean())"
   ]
  },
  {
   "cell_type": "markdown",
   "metadata": {},
   "source": [
    "#### 2nd iteration"
   ]
  },
  {
   "cell_type": "markdown",
   "metadata": {},
   "source": [
    "Step 1: Get the features' importance"
   ]
  },
  {
   "cell_type": "code",
   "execution_count": 42,
   "metadata": {
    "scrolled": true
   },
   "outputs": [
    {
     "name": "stdout",
     "output_type": "stream",
     "text": [
      "Variable: Purity (%)           Importance: 0.202\n",
      "Variable: Length ave. (nm)     Importance: 0.162\n",
      "Variable: PdI  (200 ug/ml)     Importance: 0.155\n",
      "Variable: Zave (12.5 ug/ml)    Importance: 0.113\n",
      "Variable: Diameter ave. (nm)   Importance: 0.1\n",
      "Variable: BET (m2/g)           Importance: 0.088\n",
      "Variable: Zave  (200 ug/ml)    Importance: 0.087\n",
      "Variable: ROS                  Importance: 0.051\n",
      "Variable: OH mmol/g            Importance: 0.026\n"
     ]
    }
   ],
   "source": [
    "# Get numerical feature importances and feature names\n",
    "importances = list(clf.feature_importances_)\n",
    "feature_list = list(train_rf.columns)\n",
    "\n",
    "# List of tuples with variable and importance\n",
    "feature_importances = [(feature, round(importance, 2)) for feature, importance in zip(feature_list, importances)]\n",
    "\n",
    "# Sort the feature importances by most important first\n",
    "feature_importances = sorted(feature_importances, key = lambda x: x[1], reverse = True)\n",
    "\n",
    "# Print out the feature and importances \n",
    "[print('Variable: {:20} Importance: {}'.format(*pair)) for pair in feature_importances];"
   ]
  },
  {
   "cell_type": "markdown",
   "metadata": {},
   "source": [
    "Step 2: Exclude features with importance less than 0.1"
   ]
  },
  {
   "cell_type": "code",
   "execution_count": 94,
   "metadata": {},
   "outputs": [
    {
     "data": {
      "text/html": [
       "<div>\n",
       "<style scoped>\n",
       "    .dataframe tbody tr th:only-of-type {\n",
       "        vertical-align: middle;\n",
       "    }\n",
       "\n",
       "    .dataframe tbody tr th {\n",
       "        vertical-align: top;\n",
       "    }\n",
       "\n",
       "    .dataframe thead th {\n",
       "        text-align: right;\n",
       "    }\n",
       "</style>\n",
       "<table border=\"1\" class=\"dataframe\">\n",
       "  <thead>\n",
       "    <tr style=\"text-align: right;\">\n",
       "      <th></th>\n",
       "      <th>Length ave. (nm)</th>\n",
       "      <th>Diameter ave. (nm)</th>\n",
       "      <th>Purity (%)</th>\n",
       "      <th>Zave (12.5 ug/ml)</th>\n",
       "      <th>PdI  (200 ug/ml)</th>\n",
       "      <th>Genotoxicity</th>\n",
       "    </tr>\n",
       "  </thead>\n",
       "  <tbody>\n",
       "    <tr>\n",
       "      <th>0</th>\n",
       "      <td>0.000000</td>\n",
       "      <td>0.198214</td>\n",
       "      <td>0.934783</td>\n",
       "      <td>0.020378</td>\n",
       "      <td>0.306306</td>\n",
       "      <td>0.0</td>\n",
       "    </tr>\n",
       "    <tr>\n",
       "      <th>1</th>\n",
       "      <td>0.093822</td>\n",
       "      <td>0.283929</td>\n",
       "      <td>1.000000</td>\n",
       "      <td>0.132460</td>\n",
       "      <td>0.570571</td>\n",
       "      <td>0.0</td>\n",
       "    </tr>\n",
       "    <tr>\n",
       "      <th>2</th>\n",
       "      <td>0.039432</td>\n",
       "      <td>0.342857</td>\n",
       "      <td>1.000000</td>\n",
       "      <td>0.014556</td>\n",
       "      <td>0.357357</td>\n",
       "      <td>0.0</td>\n",
       "    </tr>\n",
       "    <tr>\n",
       "      <th>3</th>\n",
       "      <td>0.048716</td>\n",
       "      <td>0.796429</td>\n",
       "      <td>0.923913</td>\n",
       "      <td>0.000000</td>\n",
       "      <td>0.000000</td>\n",
       "      <td>0.0</td>\n",
       "    </tr>\n",
       "    <tr>\n",
       "      <th>4</th>\n",
       "      <td>0.156550</td>\n",
       "      <td>0.387500</td>\n",
       "      <td>0.934783</td>\n",
       "      <td>0.425036</td>\n",
       "      <td>0.822823</td>\n",
       "      <td>1.0</td>\n",
       "    </tr>\n",
       "  </tbody>\n",
       "</table>\n",
       "</div>"
      ],
      "text/plain": [
       "   Length ave. (nm)   Diameter ave. (nm)  Purity (%)  Zave (12.5 ug/ml)  \\\n",
       "0           0.000000            0.198214    0.934783           0.020378   \n",
       "1           0.093822            0.283929    1.000000           0.132460   \n",
       "2           0.039432            0.342857    1.000000           0.014556   \n",
       "3           0.048716            0.796429    0.923913           0.000000   \n",
       "4           0.156550            0.387500    0.934783           0.425036   \n",
       "\n",
       "   PdI  (200 ug/ml)  Genotoxicity  \n",
       "0          0.306306           0.0  \n",
       "1          0.570571           0.0  \n",
       "2          0.357357           0.0  \n",
       "3          0.000000           0.0  \n",
       "4          0.822823           1.0  "
      ]
     },
     "execution_count": 94,
     "metadata": {},
     "output_type": "execute_result"
    }
   ],
   "source": [
    "for i in range(len(feature_importances)):\n",
    "    if feature_importances[i][1]<0.1:\n",
    "        df_rf.drop(feature_importances[i][0], axis=1, inplace=True)\n",
    "\n",
    "df_rf.head()"
   ]
  },
  {
   "cell_type": "markdown",
   "metadata": {},
   "source": [
    "Step 3: Train - Test split"
   ]
  },
  {
   "cell_type": "code",
   "execution_count": 17,
   "metadata": {},
   "outputs": [],
   "source": [
    "train_rf, test_rf, train_labels_rf, test_labels_rf = kennardstonealgorithm(df_rf,'Genotoxicity',5)"
   ]
  },
  {
   "cell_type": "markdown",
   "metadata": {},
   "source": [
    "Step 4: Optimize Random Forest"
   ]
  },
  {
   "cell_type": "code",
   "execution_count": 19,
   "metadata": {
    "scrolled": false
   },
   "outputs": [
    {
     "name": "stdout",
     "output_type": "stream",
     "text": [
      "|   iter    |  target   | max_fe... | min_sa... | n_esti... |\n",
      "-------------------------------------------------------------\n",
      "| \u001b[0m 1       \u001b[0m | \u001b[0m 100.0   \u001b[0m | \u001b[0m 0.6498  \u001b[0m | \u001b[0m 0.4754  \u001b[0m | \u001b[0m 185.7   \u001b[0m |\n",
      "| \u001b[0m 2       \u001b[0m | \u001b[0m 100.0   \u001b[0m | \u001b[0m 0.7395  \u001b[0m | \u001b[0m 0.07885 \u001b[0m | \u001b[0m 47.44   \u001b[0m |\n",
      "| \u001b[0m 3       \u001b[0m | \u001b[0m 100.0   \u001b[0m | \u001b[0m 0.5232  \u001b[0m | \u001b[0m 0.4332  \u001b[0m | \u001b[0m 154.3   \u001b[0m |\n",
      "| \u001b[0m 4       \u001b[0m | \u001b[0m 100.0   \u001b[0m | \u001b[0m 0.7832  \u001b[0m | \u001b[0m 0.01127 \u001b[0m | \u001b[0m 242.8   \u001b[0m |\n",
      "| \u001b[0m 5       \u001b[0m | \u001b[0m 100.0   \u001b[0m | \u001b[0m 0.833   \u001b[0m | \u001b[0m 0.107   \u001b[0m | \u001b[0m 53.64   \u001b[0m |\n",
      "| \u001b[0m 6       \u001b[0m | \u001b[0m 80.0    \u001b[0m | \u001b[0m 0.6342  \u001b[0m | \u001b[0m 0.253   \u001b[0m | \u001b[0m 10.0    \u001b[0m |\n",
      "| \u001b[0m 7       \u001b[0m | \u001b[0m 100.0   \u001b[0m | \u001b[0m 0.5546  \u001b[0m | \u001b[0m 0.4438  \u001b[0m | \u001b[0m 162.1   \u001b[0m |\n",
      "| \u001b[0m 8       \u001b[0m | \u001b[0m 100.0   \u001b[0m | \u001b[0m 0.6108  \u001b[0m | \u001b[0m 0.4622  \u001b[0m | \u001b[0m 176.0   \u001b[0m |\n",
      "| \u001b[0m 9       \u001b[0m | \u001b[0m 100.0   \u001b[0m | \u001b[0m 0.7635  \u001b[0m | \u001b[0m 0.08227 \u001b[0m | \u001b[0m 233.9   \u001b[0m |\n",
      "| \u001b[0m 10      \u001b[0m | \u001b[0m 100.0   \u001b[0m | \u001b[0m 0.5     \u001b[0m | \u001b[0m 0.001   \u001b[0m | \u001b[0m 197.9   \u001b[0m |\n",
      "| \u001b[0m 11      \u001b[0m | \u001b[0m 100.0   \u001b[0m | \u001b[0m 0.6935  \u001b[0m | \u001b[0m 0.1891  \u001b[0m | \u001b[0m 214.3   \u001b[0m |\n",
      "| \u001b[0m 12      \u001b[0m | \u001b[0m 100.0   \u001b[0m | \u001b[0m 0.9     \u001b[0m | \u001b[0m 0.001   \u001b[0m | \u001b[0m 139.5   \u001b[0m |\n",
      "| \u001b[0m 13      \u001b[0m | \u001b[0m 100.0   \u001b[0m | \u001b[0m 0.5     \u001b[0m | \u001b[0m 0.5     \u001b[0m | \u001b[0m 124.7   \u001b[0m |\n",
      "| \u001b[0m 14      \u001b[0m | \u001b[0m 100.0   \u001b[0m | \u001b[0m 0.9     \u001b[0m | \u001b[0m 0.001   \u001b[0m | \u001b[0m 108.8   \u001b[0m |\n",
      "| \u001b[0m 15      \u001b[0m | \u001b[0m 100.0   \u001b[0m | \u001b[0m 0.5     \u001b[0m | \u001b[0m 0.5     \u001b[0m | \u001b[0m 91.34   \u001b[0m |\n",
      "=============================================================\n",
      "\n",
      "\n",
      "Final result: The optimal model's accuracy is 100.0 and the optimal parameters are n_estimators=185, min_samples_split=0.47540643889854817 and max_features=0.649816047538945\n"
     ]
    }
   ],
   "source": [
    "# Get the time that the optimization started\n",
    "start_time = datetime.now().strftime(\"%H:%M:%S\")\n",
    "\n",
    "# Boundaries of the hyperparameters\n",
    "bo_dict={\"n_estimators\": (10,250), \"min_samples_split\": (0.001,0.5), \"max_features\": (0.5, 0.9)}\n",
    "\n",
    "# Optimization\n",
    "rf_optimum = optimize_rfc(train_rf,train_labels_rf,test_rf,test_labels_rf,bo_dict,10,5)\n",
    "\n",
    "# Get the time that the optimization ended\n",
    "end_time = datetime.now().strftime(\"%H:%M:%S\")"
   ]
  },
  {
   "cell_type": "code",
   "execution_count": 20,
   "metadata": {
    "scrolled": true
   },
   "outputs": [
    {
     "name": "stdout",
     "output_type": "stream",
     "text": [
      "Minutes to execute: 0.43\n"
     ]
    }
   ],
   "source": [
    "print('Minutes to execute:', \n",
    "      round((datetime.strptime(end_time, '%H:%M:%S') - datetime.strptime(start_time, '%H:%M:%S')).seconds/60,2))"
   ]
  },
  {
   "cell_type": "markdown",
   "metadata": {},
   "source": [
    "Step 5: Test model's performance (on the testing set)"
   ]
  },
  {
   "cell_type": "code",
   "execution_count": 21,
   "metadata": {},
   "outputs": [
    {
     "name": "stdout",
     "output_type": "stream",
     "text": [
      "RF's training accuracy: 1.0\n"
     ]
    }
   ],
   "source": [
    "# Declare the model\n",
    "clf = RandomForestClassifier(n_estimators=rf_optimum['params']['n_estimators'], max_features=rf_optimum['params']['max_features'], min_samples_split=rf_optimum['params']['min_samples_split'],  random_state=42)\n",
    "\n",
    "# Train the model on training data\n",
    "clf.fit(train_rf, train_labels_rf);\n",
    "\n",
    "# Use the model's predict method\n",
    "predictions = clf.predict(test_rf)\n",
    "\n",
    "# Print the Train accuracy\n",
    "print(\"RF's training accuracy:\", accuracy_score(test_labels_rf, predictions))"
   ]
  },
  {
   "cell_type": "code",
   "execution_count": 22,
   "metadata": {},
   "outputs": [
    {
     "name": "stdout",
     "output_type": "stream",
     "text": [
      "              precision    recall  f1-score   support\n",
      "\n",
      "           0       1.00      1.00      1.00         4\n",
      "           1       1.00      1.00      1.00         1\n",
      "\n",
      "   micro avg       1.00      1.00      1.00         5\n",
      "   macro avg       1.00      1.00      1.00         5\n",
      "weighted avg       1.00      1.00      1.00         5\n",
      "\n"
     ]
    }
   ],
   "source": [
    "# Print the classification report\n",
    "print(classification_report(test_labels_rf,predictions))"
   ]
  },
  {
   "cell_type": "code",
   "execution_count": 23,
   "metadata": {},
   "outputs": [
    {
     "name": "stdout",
     "output_type": "stream",
     "text": [
      "Confusion Matrix:\n",
      "4 | 0\n",
      "-----\n",
      "0 | 1\n"
     ]
    }
   ],
   "source": [
    "cm = confusion_matrix(test_labels_rf,predictions)\n",
    "print('Confusion Matrix:')\n",
    "print(cm[0][0],'|',cm[0][1])\n",
    "print('-----')\n",
    "print(cm[1][0],'|',cm[1][1])"
   ]
  },
  {
   "cell_type": "code",
   "execution_count": 18,
   "metadata": {},
   "outputs": [
    {
     "name": "stdout",
     "output_type": "stream",
     "text": [
      "Specificity: 1.0\n",
      "Sensitivity: 1.0\n"
     ]
    }
   ],
   "source": [
    "tn, fp, fn, tp = confusion_matrix(test_labels_rf,predictions).ravel()\n",
    "specificity = tn / (tn + fp)\n",
    "sensitivity = tp / (tp + fn)\n",
    "print('Specificity:',specificity)\n",
    "print('Sensitivity:',sensitivity)"
   ]
  },
  {
   "cell_type": "code",
   "execution_count": 24,
   "metadata": {},
   "outputs": [
    {
     "name": "stdout",
     "output_type": "stream",
     "text": [
      "MCC: 1.0\n"
     ]
    }
   ],
   "source": [
    "# Print the MCC\n",
    "print('MCC:', matthews_corrcoef(test_labels_rf,predictions))"
   ]
  },
  {
   "cell_type": "code",
   "execution_count": 26,
   "metadata": {},
   "outputs": [
    {
     "name": "stdout",
     "output_type": "stream",
     "text": [
      "List of scores: [0.25 1.   1.   0.5 ]\n",
      "Mean of Cross Validtation: 0.6875\n"
     ]
    }
   ],
   "source": [
    "#Print the Cross-Validation Score\n",
    "scores = cross_val_score(clf, train_rf, train_labels_rf, cv=4)\n",
    "\n",
    "print('List of scores:', scores)\n",
    "print('Mean of Cross Validtation:', scores.mean())"
   ]
  },
  {
   "cell_type": "markdown",
   "metadata": {},
   "source": [
    "#### 3rd iteration"
   ]
  },
  {
   "cell_type": "markdown",
   "metadata": {},
   "source": [
    "Step 1: Get the features' importance"
   ]
  },
  {
   "cell_type": "code",
   "execution_count": 54,
   "metadata": {},
   "outputs": [
    {
     "name": "stdout",
     "output_type": "stream",
     "text": [
      "Variable: Purity (%)           Importance: 0.357\n",
      "Variable: Length ave. (nm)     Importance: 0.219\n",
      "Variable: Zave (12.5 ug/ml)    Importance: 0.188\n",
      "Variable: Diameter ave. (nm)   Importance: 0.119\n",
      "Variable: PdI  (200 ug/ml)     Importance: 0.101\n"
     ]
    }
   ],
   "source": [
    "# Get numerical feature importances and feature names\n",
    "importances = list(clf.feature_importances_)\n",
    "feature_list = list(train_rf.columns)\n",
    "\n",
    "# List of tuples with variable and importance\n",
    "feature_importances = [(feature, round(importance, 2)) for feature, importance in zip(feature_list, importances)]\n",
    "\n",
    "# Sort the feature importances by most important first\n",
    "feature_importances = sorted(feature_importances, key = lambda x: x[1], reverse = True)\n",
    "\n",
    "# Print out the feature and importances \n",
    "[print('Variable: {:20} Importance: {}'.format(*pair)) for pair in feature_importances];"
   ]
  },
  {
   "cell_type": "markdown",
   "metadata": {},
   "source": [
    "Step 2: Exclude features with importance less than 0.1"
   ]
  },
  {
   "cell_type": "code",
   "execution_count": 154,
   "metadata": {},
   "outputs": [
    {
     "data": {
      "text/html": [
       "<div>\n",
       "<style scoped>\n",
       "    .dataframe tbody tr th:only-of-type {\n",
       "        vertical-align: middle;\n",
       "    }\n",
       "\n",
       "    .dataframe tbody tr th {\n",
       "        vertical-align: top;\n",
       "    }\n",
       "\n",
       "    .dataframe thead th {\n",
       "        text-align: right;\n",
       "    }\n",
       "</style>\n",
       "<table border=\"1\" class=\"dataframe\">\n",
       "  <thead>\n",
       "    <tr style=\"text-align: right;\">\n",
       "      <th></th>\n",
       "      <th>Length ave. (nm)</th>\n",
       "      <th>Diameter ave. (nm)</th>\n",
       "      <th>Purity (%)</th>\n",
       "      <th>Zave (12.5 ug/ml)</th>\n",
       "      <th>Genotoxicity</th>\n",
       "    </tr>\n",
       "  </thead>\n",
       "  <tbody>\n",
       "    <tr>\n",
       "      <th>0</th>\n",
       "      <td>0.000000</td>\n",
       "      <td>0.198214</td>\n",
       "      <td>0.934783</td>\n",
       "      <td>0.020378</td>\n",
       "      <td>0.0</td>\n",
       "    </tr>\n",
       "    <tr>\n",
       "      <th>1</th>\n",
       "      <td>0.093822</td>\n",
       "      <td>0.283929</td>\n",
       "      <td>1.000000</td>\n",
       "      <td>0.132460</td>\n",
       "      <td>0.0</td>\n",
       "    </tr>\n",
       "    <tr>\n",
       "      <th>2</th>\n",
       "      <td>0.039432</td>\n",
       "      <td>0.342857</td>\n",
       "      <td>1.000000</td>\n",
       "      <td>0.014556</td>\n",
       "      <td>0.0</td>\n",
       "    </tr>\n",
       "    <tr>\n",
       "      <th>3</th>\n",
       "      <td>0.048716</td>\n",
       "      <td>0.796429</td>\n",
       "      <td>0.923913</td>\n",
       "      <td>0.000000</td>\n",
       "      <td>0.0</td>\n",
       "    </tr>\n",
       "    <tr>\n",
       "      <th>4</th>\n",
       "      <td>0.156550</td>\n",
       "      <td>0.387500</td>\n",
       "      <td>0.934783</td>\n",
       "      <td>0.425036</td>\n",
       "      <td>1.0</td>\n",
       "    </tr>\n",
       "  </tbody>\n",
       "</table>\n",
       "</div>"
      ],
      "text/plain": [
       "   Length ave. (nm)   Diameter ave. (nm)  Purity (%)  Zave (12.5 ug/ml)  \\\n",
       "0           0.000000            0.198214    0.934783           0.020378   \n",
       "1           0.093822            0.283929    1.000000           0.132460   \n",
       "2           0.039432            0.342857    1.000000           0.014556   \n",
       "3           0.048716            0.796429    0.923913           0.000000   \n",
       "4           0.156550            0.387500    0.934783           0.425036   \n",
       "\n",
       "   Genotoxicity  \n",
       "0           0.0  \n",
       "1           0.0  \n",
       "2           0.0  \n",
       "3           0.0  \n",
       "4           1.0  "
      ]
     },
     "execution_count": 154,
     "metadata": {},
     "output_type": "execute_result"
    }
   ],
   "source": [
    "for i in range(len(feature_importances)):\n",
    "    if feature_importances[i][1]<0.119:\n",
    "        df_rf.drop(feature_importances[i][0], axis=1, inplace=True)\n",
    "\n",
    "df_rf.head()"
   ]
  },
  {
   "cell_type": "markdown",
   "metadata": {},
   "source": [
    "Step 3: Train - Test split"
   ]
  },
  {
   "cell_type": "code",
   "execution_count": 29,
   "metadata": {},
   "outputs": [],
   "source": [
    "train_rf, test_rf, train_labels_rf, test_labels_rf = kennardstonealgorithm(df_rf,'Genotoxicity',5)"
   ]
  },
  {
   "cell_type": "markdown",
   "metadata": {},
   "source": [
    "Step 4: Optimize Random Forest"
   ]
  },
  {
   "cell_type": "code",
   "execution_count": 66,
   "metadata": {},
   "outputs": [
    {
     "name": "stdout",
     "output_type": "stream",
     "text": [
      "|   iter    |  target   | max_fe... | min_sa... | n_esti... |\n",
      "-------------------------------------------------------------\n",
      "| \u001b[0m 1       \u001b[0m | \u001b[0m 80.0    \u001b[0m | \u001b[0m 0.6498  \u001b[0m | \u001b[0m 0.4754  \u001b[0m | \u001b[0m 185.7   \u001b[0m |\n",
      "| \u001b[0m 2       \u001b[0m | \u001b[0m 80.0    \u001b[0m | \u001b[0m 0.7395  \u001b[0m | \u001b[0m 0.07885 \u001b[0m | \u001b[0m 47.44   \u001b[0m |\n",
      "| \u001b[0m 3       \u001b[0m | \u001b[0m 80.0    \u001b[0m | \u001b[0m 0.5232  \u001b[0m | \u001b[0m 0.4332  \u001b[0m | \u001b[0m 154.3   \u001b[0m |\n",
      "| \u001b[0m 4       \u001b[0m | \u001b[0m 80.0    \u001b[0m | \u001b[0m 0.7832  \u001b[0m | \u001b[0m 0.01127 \u001b[0m | \u001b[0m 242.8   \u001b[0m |\n",
      "| \u001b[0m 5       \u001b[0m | \u001b[0m 80.0    \u001b[0m | \u001b[0m 0.833   \u001b[0m | \u001b[0m 0.107   \u001b[0m | \u001b[0m 53.64   \u001b[0m |\n",
      "| \u001b[0m 6       \u001b[0m | \u001b[0m 60.0    \u001b[0m | \u001b[0m 0.6342  \u001b[0m | \u001b[0m 0.253   \u001b[0m | \u001b[0m 10.0    \u001b[0m |\n",
      "| \u001b[0m 7       \u001b[0m | \u001b[0m 80.0    \u001b[0m | \u001b[0m 0.5546  \u001b[0m | \u001b[0m 0.4438  \u001b[0m | \u001b[0m 162.1   \u001b[0m |\n",
      "| \u001b[0m 8       \u001b[0m | \u001b[0m 80.0    \u001b[0m | \u001b[0m 0.6108  \u001b[0m | \u001b[0m 0.4622  \u001b[0m | \u001b[0m 176.0   \u001b[0m |\n",
      "| \u001b[0m 9       \u001b[0m | \u001b[0m 80.0    \u001b[0m | \u001b[0m 0.7635  \u001b[0m | \u001b[0m 0.08227 \u001b[0m | \u001b[0m 233.9   \u001b[0m |\n",
      "| \u001b[95m 10      \u001b[0m | \u001b[95m 100.0   \u001b[0m | \u001b[95m 0.5     \u001b[0m | \u001b[95m 0.001   \u001b[0m | \u001b[95m 197.9   \u001b[0m |\n",
      "=============================================================\n",
      "\n",
      "\n",
      "Final result: The optimal model's accuracy is 100.0 and the optimal parameters are n_estimators=197, min_samples_split=0.001 and max_features=0.5\n"
     ]
    }
   ],
   "source": [
    "# Get the time that the optimization started\n",
    "start_time = datetime.now().strftime(\"%H:%M:%S\")\n",
    "\n",
    "# Boundaries of the hyperparameters\n",
    "bo_dict={\"n_estimators\": (10,250), \"min_samples_split\": (0.001,0.5), \"max_features\": (0.5, 0.9)}\n",
    "\n",
    "# Optimization\n",
    "rf_optimum = optimize_rfc(train_rf,train_labels_rf,test_rf,test_labels_rf,bo_dict,10,5)\n",
    "\n",
    "# Get the time that the optimization ended\n",
    "end_time = datetime.now().strftime(\"%H:%M:%S\")"
   ]
  },
  {
   "cell_type": "code",
   "execution_count": 31,
   "metadata": {
    "scrolled": true
   },
   "outputs": [
    {
     "name": "stdout",
     "output_type": "stream",
     "text": [
      "Minutes to execute: 0.4\n"
     ]
    }
   ],
   "source": [
    "print('Minutes to execute:', \n",
    "      round((datetime.strptime(end_time, '%H:%M:%S') - datetime.strptime(start_time, '%H:%M:%S')).seconds/60,2))"
   ]
  },
  {
   "cell_type": "markdown",
   "metadata": {},
   "source": [
    "Step 5: Test model's performance (on the testing set)"
   ]
  },
  {
   "cell_type": "code",
   "execution_count": 32,
   "metadata": {},
   "outputs": [
    {
     "name": "stdout",
     "output_type": "stream",
     "text": [
      "RF's training accuracy: 1.0\n"
     ]
    }
   ],
   "source": [
    "# Declare the model\n",
    "clf = RandomForestClassifier(n_estimators=rf_optimum['params']['n_estimators'], max_features=rf_optimum['params']['max_features'], min_samples_split=rf_optimum['params']['min_samples_split'],  random_state=42)\n",
    "\n",
    "# Train the model on training data\n",
    "clf.fit(train_rf, train_labels_rf);\n",
    "\n",
    "# Use the model's predict method\n",
    "predictions = clf.predict(test_rf)\n",
    "\n",
    "# Print the Train accuracy\n",
    "print(\"RF's training accuracy:\", accuracy_score(test_labels_rf, predictions))"
   ]
  },
  {
   "cell_type": "code",
   "execution_count": 33,
   "metadata": {
    "scrolled": true
   },
   "outputs": [
    {
     "name": "stdout",
     "output_type": "stream",
     "text": [
      "              precision    recall  f1-score   support\n",
      "\n",
      "           0       1.00      1.00      1.00         4\n",
      "           1       1.00      1.00      1.00         1\n",
      "\n",
      "   micro avg       1.00      1.00      1.00         5\n",
      "   macro avg       1.00      1.00      1.00         5\n",
      "weighted avg       1.00      1.00      1.00         5\n",
      "\n"
     ]
    }
   ],
   "source": [
    "# Print the classification report\n",
    "print(classification_report(test_labels_rf,predictions))"
   ]
  },
  {
   "cell_type": "code",
   "execution_count": 34,
   "metadata": {},
   "outputs": [
    {
     "name": "stdout",
     "output_type": "stream",
     "text": [
      "Confusion Matrix:\n",
      "4 | 0\n",
      "-----\n",
      "0 | 1\n"
     ]
    }
   ],
   "source": [
    "cm = confusion_matrix(test_labels_rf,predictions)\n",
    "print('Confusion Matrix:')\n",
    "print(cm[0][0],'|',cm[0][1])\n",
    "print('-----')\n",
    "print(cm[1][0],'|',cm[1][1])"
   ]
  },
  {
   "cell_type": "code",
   "execution_count": 19,
   "metadata": {},
   "outputs": [
    {
     "name": "stdout",
     "output_type": "stream",
     "text": [
      "Specificity: 1.0\n",
      "Sensitivity: 1.0\n"
     ]
    }
   ],
   "source": [
    "tn, fp, fn, tp = confusion_matrix(test_labels_rf,predictions).ravel()\n",
    "specificity = tn / (tn + fp)\n",
    "sensitivity = tp / (tp + fn)\n",
    "print('Specificity:',specificity)\n",
    "print('Sensitivity:',sensitivity)"
   ]
  },
  {
   "cell_type": "code",
   "execution_count": 35,
   "metadata": {},
   "outputs": [
    {
     "name": "stdout",
     "output_type": "stream",
     "text": [
      "MCC: 1.0\n"
     ]
    }
   ],
   "source": [
    "# Print the MCC\n",
    "print('MCC:', matthews_corrcoef(test_labels_rf,predictions))"
   ]
  },
  {
   "cell_type": "code",
   "execution_count": 36,
   "metadata": {},
   "outputs": [
    {
     "name": "stdout",
     "output_type": "stream",
     "text": [
      "List of scores: [0.25 1.   1.   0.5 ]\n",
      "Mean of Cross Validtation: 0.6875\n"
     ]
    }
   ],
   "source": [
    "#Print the Cross-Validation Score\n",
    "scores = cross_val_score(clf, train_rf, train_labels_rf, cv=4)\n",
    "\n",
    "print('List of scores:', scores)\n",
    "print('Mean of Cross Validtation:', scores.mean())"
   ]
  },
  {
   "cell_type": "markdown",
   "metadata": {},
   "source": [
    "Hence, the final RF model is the above, using 4 features, and the importance of the features is the following "
   ]
  },
  {
   "cell_type": "code",
   "execution_count": 172,
   "metadata": {},
   "outputs": [
    {
     "name": "stdout",
     "output_type": "stream",
     "text": [
      "Variable: Length ave. (nm)     Importance: 0.321\n",
      "Variable: Purity (%)           Importance: 0.3\n",
      "Variable: Diameter ave. (nm)   Importance: 0.207\n",
      "Variable: Zave (12.5 ug/ml)    Importance: 0.172\n"
     ]
    }
   ],
   "source": [
    "# Get numerical feature importances and feature names\n",
    "importances = list(clf.feature_importances_)\n",
    "feature_list = list(train_rf.columns)\n",
    "\n",
    "# List of tuples with variable and importance\n",
    "feature_importances = [(feature, round(importance, 2)) for feature, importance in zip(feature_list, importances)]\n",
    "\n",
    "# Sort the feature importances by most important first\n",
    "feature_importances = sorted(feature_importances, key = lambda x: x[1], reverse = True)\n",
    "\n",
    "# Print out the feature and importances \n",
    "[print('Variable: {:20} Importance: {}'.format(*pair)) for pair in feature_importances];"
   ]
  },
  {
   "cell_type": "markdown",
   "metadata": {},
   "source": [
    "The classification probabilities of the testing samples: "
   ]
  },
  {
   "cell_type": "code",
   "execution_count": 203,
   "metadata": {
    "scrolled": true
   },
   "outputs": [
    {
     "name": "stdout",
     "output_type": "stream",
     "text": [
      "-----------------------------------------------------------------\n",
      "  Sample                                    Prob(0)    Prob(1)\n",
      "-----------------------------------------------------------------\n",
      "NRCWE- 040                               [0.78172589 0.21827411]\n",
      "NRCWE- 041                               [0.68020305 0.31979695]\n",
      "NRCWE- 042                               [0.87309645 0.12690355]\n",
      "NRCWE- 045                               [0.19796954 0.80203046]\n",
      "NRCWE- 048                               [0.50253807 0.49746193]\n"
     ]
    }
   ],
   "source": [
    "print('-----------------------------------------------------------------')\n",
    "print('  Sample                                    Prob(0)    Prob(1)')\n",
    "print('-----------------------------------------------------------------')\n",
    "for i in test_rf.index:\n",
    "    print('{:40} {}'.format(codes[i][:-1],clf.predict_proba(np.array(test_rf.loc[i]).reshape(1, -1))[0]));"
   ]
  },
  {
   "cell_type": "markdown",
   "metadata": {},
   "source": [
    "### RFE for LR"
   ]
  },
  {
   "cell_type": "markdown",
   "metadata": {},
   "source": [
    "#### 1st iteration"
   ]
  },
  {
   "cell_type": "markdown",
   "metadata": {},
   "source": [
    "Step 1: Get the features' importance"
   ]
  },
  {
   "cell_type": "code",
   "execution_count": 44,
   "metadata": {
    "scrolled": false
   },
   "outputs": [
    {
     "name": "stdout",
     "output_type": "stream",
     "text": [
      "Variable: PdI  (200 ug/ml)     Importance: 6.45\n",
      "Variable: Length ave. (nm)     Importance: 3.42\n",
      "Variable: Zave (12.5 ug/ml)    Importance: 3.21\n",
      "Variable: Peak (ug/ml)         Importance: 1.03\n",
      "Variable: 200 (ug/ml)_prolif   Importance: 0.79\n",
      "Variable: Type_OH              Importance: 0.31\n",
      "Variable: Diameter ave. (nm)   Importance: 0.0\n",
      "Variable: BET (m2/g)           Importance: 0.0\n",
      "Variable: Zave (batch)         Importance: 0.0\n",
      "Variable: PdI  (12.5 ug/ml)    Importance: 0.0\n",
      "Variable: Zave  (200 ug/ml)    Importance: 0.0\n",
      "Variable: ROS                  Importance: 0.0\n",
      "Variable: 0 (ug/ml)_via        Importance: 0.0\n",
      "Variable: 12.5 (ug/ml)_via     Importance: 0.0\n",
      "Variable: 25 (ug/ml)_via       Importance: 0.0\n",
      "Variable: 50 (ug/ml)_via       Importance: 0.0\n",
      "Variable: 100 (ug/ml)_via      Importance: 0.0\n",
      "Variable: 200 (ug/ml)_via      Importance: 0.0\n",
      "Variable: 12.5 (ug/ml)_prolif  Importance: 0.0\n",
      "Variable: 25 (ug/ml)_prolif    Importance: 0.0\n",
      "Variable: 50 (ug/ml)_prolif    Importance: 0.0\n",
      "Variable: 100 (ug/ml)_prolif   Importance: 0.0\n",
      "Variable: CEA: C.H.N.O (wt%)   Importance: 0.0\n",
      "Variable: OH mmol/g            Importance: 0.0\n",
      "Variable: COOH mmol/g          Importance: 0.0\n",
      "Variable: Endotoxins (EU/mg)   Importance: 0.0\n",
      "Variable: Diameter min. (nm)   Importance: 0.0\n",
      "Variable: Diameter max. (nm)   Importance: 0.0\n",
      "Variable: Type_COOH            Importance: 0.0\n",
      "Variable: Type_NH2             Importance: 0.0\n",
      "Variable: Type_PRISTINE        Importance: 0.0\n",
      "Variable: % Total Impurities   Importance: 0.0\n",
      "Variable: Purity (%)           Importance: -6.1\n",
      "Variable: PdI (batch)          Importance: -6.85\n"
     ]
    }
   ],
   "source": [
    "# Get numerical feature importances and feature names\n",
    "importances = list(logmodel.coef_.reshape(logmodel.coef_.shape[1]))\n",
    "feature_list = list(train.columns)\n",
    "\n",
    "# List of tuples with variable and importance\n",
    "feature_importances = [(feature, round(importance, 2)) for feature, importance in zip(feature_list, importances)]\n",
    "\n",
    "# Sort the feature importances by most important first\n",
    "feature_importances = sorted(feature_importances, key = lambda x: x[1], reverse = True)\n",
    "\n",
    "# Print out the feature and importances \n",
    "[print('Variable: {:20} Importance: {}'.format(*pair)) for pair in feature_importances];"
   ]
  },
  {
   "cell_type": "markdown",
   "metadata": {},
   "source": [
    "Step 2: Exclude features with zero importance"
   ]
  },
  {
   "cell_type": "code",
   "execution_count": 45,
   "metadata": {
    "scrolled": false
   },
   "outputs": [
    {
     "data": {
      "text/html": [
       "<div>\n",
       "<style scoped>\n",
       "    .dataframe tbody tr th:only-of-type {\n",
       "        vertical-align: middle;\n",
       "    }\n",
       "\n",
       "    .dataframe tbody tr th {\n",
       "        vertical-align: top;\n",
       "    }\n",
       "\n",
       "    .dataframe thead th {\n",
       "        text-align: right;\n",
       "    }\n",
       "</style>\n",
       "<table border=\"1\" class=\"dataframe\">\n",
       "  <thead>\n",
       "    <tr style=\"text-align: right;\">\n",
       "      <th></th>\n",
       "      <th>Length ave. (nm)</th>\n",
       "      <th>Purity (%)</th>\n",
       "      <th>PdI (batch)</th>\n",
       "      <th>Zave (12.5 ug/ml)</th>\n",
       "      <th>PdI  (200 ug/ml)</th>\n",
       "      <th>Peak (ug/ml)</th>\n",
       "      <th>200 (ug/ml)_prolif</th>\n",
       "      <th>Type_OH</th>\n",
       "      <th>Genotoxicity</th>\n",
       "    </tr>\n",
       "  </thead>\n",
       "  <tbody>\n",
       "    <tr>\n",
       "      <th>0</th>\n",
       "      <td>0.000000</td>\n",
       "      <td>0.934783</td>\n",
       "      <td>0.349333</td>\n",
       "      <td>0.020378</td>\n",
       "      <td>0.306306</td>\n",
       "      <td>1.0</td>\n",
       "      <td>0.495238</td>\n",
       "      <td>0.0</td>\n",
       "      <td>0</td>\n",
       "    </tr>\n",
       "    <tr>\n",
       "      <th>1</th>\n",
       "      <td>0.093822</td>\n",
       "      <td>1.000000</td>\n",
       "      <td>0.730667</td>\n",
       "      <td>0.132460</td>\n",
       "      <td>0.570571</td>\n",
       "      <td>1.0</td>\n",
       "      <td>0.466667</td>\n",
       "      <td>1.0</td>\n",
       "      <td>0</td>\n",
       "    </tr>\n",
       "    <tr>\n",
       "      <th>2</th>\n",
       "      <td>0.039432</td>\n",
       "      <td>1.000000</td>\n",
       "      <td>0.413333</td>\n",
       "      <td>0.014556</td>\n",
       "      <td>0.357357</td>\n",
       "      <td>1.0</td>\n",
       "      <td>0.438095</td>\n",
       "      <td>0.0</td>\n",
       "      <td>0</td>\n",
       "    </tr>\n",
       "    <tr>\n",
       "      <th>3</th>\n",
       "      <td>0.048716</td>\n",
       "      <td>0.923913</td>\n",
       "      <td>0.026667</td>\n",
       "      <td>0.000000</td>\n",
       "      <td>0.000000</td>\n",
       "      <td>1.0</td>\n",
       "      <td>0.866667</td>\n",
       "      <td>0.0</td>\n",
       "      <td>0</td>\n",
       "    </tr>\n",
       "    <tr>\n",
       "      <th>4</th>\n",
       "      <td>0.156550</td>\n",
       "      <td>0.934783</td>\n",
       "      <td>0.024000</td>\n",
       "      <td>0.425036</td>\n",
       "      <td>0.822823</td>\n",
       "      <td>1.0</td>\n",
       "      <td>0.638095</td>\n",
       "      <td>1.0</td>\n",
       "      <td>1</td>\n",
       "    </tr>\n",
       "  </tbody>\n",
       "</table>\n",
       "</div>"
      ],
      "text/plain": [
       "   Length ave. (nm)   Purity (%)  PdI (batch)  Zave (12.5 ug/ml)  \\\n",
       "0           0.000000    0.934783     0.349333           0.020378   \n",
       "1           0.093822    1.000000     0.730667           0.132460   \n",
       "2           0.039432    1.000000     0.413333           0.014556   \n",
       "3           0.048716    0.923913     0.026667           0.000000   \n",
       "4           0.156550    0.934783     0.024000           0.425036   \n",
       "\n",
       "   PdI  (200 ug/ml)  Peak (ug/ml)  200 (ug/ml)_prolif  Type_OH  Genotoxicity  \n",
       "0          0.306306           1.0            0.495238      0.0             0  \n",
       "1          0.570571           1.0            0.466667      1.0             0  \n",
       "2          0.357357           1.0            0.438095      0.0             0  \n",
       "3          0.000000           1.0            0.866667      0.0             0  \n",
       "4          0.822823           1.0            0.638095      1.0             1  "
      ]
     },
     "execution_count": 45,
     "metadata": {},
     "output_type": "execute_result"
    }
   ],
   "source": [
    "df_lr = df.copy()\n",
    "\n",
    "for i in range(len(feature_importances)):\n",
    "    if feature_importances[i][1]==0.0:\n",
    "        df_lr.drop(feature_importances[i][0], axis=1, inplace=True)\n",
    "\n",
    "df_lr.head()"
   ]
  },
  {
   "cell_type": "markdown",
   "metadata": {},
   "source": [
    "Step 3: Train - Test split"
   ]
  },
  {
   "cell_type": "code",
   "execution_count": 46,
   "metadata": {},
   "outputs": [],
   "source": [
    "train_lr, test_lr, train_labels_lr, test_labels_lr = kennardstonealgorithm(df_lr,'Genotoxicity',5)"
   ]
  },
  {
   "cell_type": "markdown",
   "metadata": {},
   "source": [
    "Step 4: Optimize Logistic Regression"
   ]
  },
  {
   "cell_type": "code",
   "execution_count": 52,
   "metadata": {
    "scrolled": false
   },
   "outputs": [
    {
     "name": "stdout",
     "output_type": "stream",
     "text": [
      "Optimizing for l1 norm\n",
      "|   iter    |  target   |     C     |\n",
      "-------------------------------------\n",
      "| \u001b[0m 1       \u001b[0m | \u001b[0m 80.0    \u001b[0m | \u001b[0m 437.1   \u001b[0m |\n",
      "| \u001b[0m 2       \u001b[0m | \u001b[0m 80.0    \u001b[0m | \u001b[0m 955.6   \u001b[0m |\n",
      "| \u001b[0m 3       \u001b[0m | \u001b[0m 80.0    \u001b[0m | \u001b[0m 758.8   \u001b[0m |\n",
      "| \u001b[0m 4       \u001b[0m | \u001b[0m 80.0    \u001b[0m | \u001b[0m 100.0   \u001b[0m |\n",
      "| \u001b[0m 5       \u001b[0m | \u001b[0m 80.0    \u001b[0m | \u001b[0m 100.0   \u001b[0m |\n",
      "| \u001b[0m 6       \u001b[0m | \u001b[0m 80.0    \u001b[0m | \u001b[0m 999.9   \u001b[0m |\n",
      "| \u001b[0m 7       \u001b[0m | \u001b[0m 80.0    \u001b[0m | \u001b[0m 100.1   \u001b[0m |\n",
      "| \u001b[0m 8       \u001b[0m | \u001b[0m 80.0    \u001b[0m | \u001b[0m 1e+03   \u001b[0m |\n",
      "=====================================\n",
      "Optimizing for l2 norm\n",
      "|   iter    |  target   |     C     |\n",
      "-------------------------------------\n",
      "| \u001b[0m 1       \u001b[0m | \u001b[0m 80.0    \u001b[0m | \u001b[0m 437.1   \u001b[0m |\n",
      "| \u001b[0m 2       \u001b[0m | \u001b[0m 80.0    \u001b[0m | \u001b[0m 955.6   \u001b[0m |\n",
      "| \u001b[0m 3       \u001b[0m | \u001b[0m 80.0    \u001b[0m | \u001b[0m 758.8   \u001b[0m |\n",
      "| \u001b[0m 4       \u001b[0m | \u001b[0m 80.0    \u001b[0m | \u001b[0m 100.0   \u001b[0m |\n",
      "| \u001b[0m 5       \u001b[0m | \u001b[0m 80.0    \u001b[0m | \u001b[0m 100.0   \u001b[0m |\n",
      "| \u001b[0m 6       \u001b[0m | \u001b[0m 80.0    \u001b[0m | \u001b[0m 999.9   \u001b[0m |\n",
      "| \u001b[0m 7       \u001b[0m | \u001b[0m 80.0    \u001b[0m | \u001b[0m 100.1   \u001b[0m |\n",
      "| \u001b[0m 8       \u001b[0m | \u001b[0m 80.0    \u001b[0m | \u001b[0m 1e+03   \u001b[0m |\n",
      "=====================================\n",
      "\n",
      "\n",
      "Final result: The optimal model's accuracy is 80.0 and the optimal parameters are C=437.0861069626262 and penalty=l1\n"
     ]
    }
   ],
   "source": [
    "# Get the time that the optimization started\n",
    "start_time = datetime.now().strftime(\"%H:%M:%S\")\n",
    "\n",
    "# Boundaries of the hyperparameters\n",
    "bo_dict = {'C': (100,1000)}\n",
    "import warnings\n",
    "warnings.filterwarnings(\"ignore\", category=FutureWarning)\n",
    "\n",
    "# Optimization\n",
    "lr_optimum = optimize_lr(train_lr,train_labels_lr,test_lr,test_labels_lr,bo_dict,5,3)\n",
    "\n",
    "# Get the time that the optimization ended\n",
    "end_time = datetime.now().strftime(\"%H:%M:%S\")"
   ]
  },
  {
   "cell_type": "code",
   "execution_count": 54,
   "metadata": {
    "scrolled": true
   },
   "outputs": [
    {
     "name": "stdout",
     "output_type": "stream",
     "text": [
      "Minutes to execute: 0.45\n"
     ]
    }
   ],
   "source": [
    "print('Minutes to execute:', \n",
    "      round((datetime.strptime(end_time, '%H:%M:%S') - datetime.strptime(start_time, '%H:%M:%S')).seconds/60,2))"
   ]
  },
  {
   "cell_type": "markdown",
   "metadata": {},
   "source": [
    "Step 5: Test model's performance (on the testing set)"
   ]
  },
  {
   "cell_type": "code",
   "execution_count": 56,
   "metadata": {},
   "outputs": [
    {
     "name": "stdout",
     "output_type": "stream",
     "text": [
      "LR's training accuracy: 0.8\n"
     ]
    }
   ],
   "source": [
    "# Declare the model\n",
    "logmodel = LogisticRegression(C=lr_optimum['params']['C'], penalty=lr_optimum['params']['norm'],random_state=42)\n",
    "\n",
    "# Train the model on training data\n",
    "logmodel.fit(train_lr, train_labels_lr);\n",
    "\n",
    "# Use the model's predict method\n",
    "predictions = logmodel.predict(test_lr)\n",
    "\n",
    "# Print the Train accuracy\n",
    "print(\"LR's training accuracy:\", accuracy_score(test_labels_lr, predictions))"
   ]
  },
  {
   "cell_type": "code",
   "execution_count": 57,
   "metadata": {},
   "outputs": [
    {
     "name": "stdout",
     "output_type": "stream",
     "text": [
      "              precision    recall  f1-score   support\n",
      "\n",
      "           0       0.75      1.00      0.86         3\n",
      "           1       1.00      0.50      0.67         2\n",
      "\n",
      "   micro avg       0.80      0.80      0.80         5\n",
      "   macro avg       0.88      0.75      0.76         5\n",
      "weighted avg       0.85      0.80      0.78         5\n",
      "\n"
     ]
    }
   ],
   "source": [
    "# Print the classification report\n",
    "print(classification_report(test_labels_lr,predictions))"
   ]
  },
  {
   "cell_type": "code",
   "execution_count": 58,
   "metadata": {},
   "outputs": [
    {
     "name": "stdout",
     "output_type": "stream",
     "text": [
      "Confusion Matrix:\n",
      "3 | 0\n",
      "-----\n",
      "1 | 1\n"
     ]
    }
   ],
   "source": [
    "cm = confusion_matrix(test_labels_lr,predictions)\n",
    "print('Confusion Matrix:')\n",
    "print(cm[0][0],'|',cm[0][1])\n",
    "print('-----')\n",
    "print(cm[1][0],'|',cm[1][1])"
   ]
  },
  {
   "cell_type": "code",
   "execution_count": 30,
   "metadata": {},
   "outputs": [
    {
     "name": "stdout",
     "output_type": "stream",
     "text": [
      "Specificity: 1.0\n",
      "Sensitivity: 0.5\n"
     ]
    }
   ],
   "source": [
    "tn, fp, fn, tp = confusion_matrix(test_labels_lr,predictions).ravel()\n",
    "specificity = tn / (tn + fp)\n",
    "sensitivity = tp / (tp + fn)\n",
    "print('Specificity:',specificity)\n",
    "print('Sensitivity:',sensitivity)"
   ]
  },
  {
   "cell_type": "code",
   "execution_count": 59,
   "metadata": {},
   "outputs": [
    {
     "name": "stdout",
     "output_type": "stream",
     "text": [
      "MCC: 0.6123724356957946\n"
     ]
    }
   ],
   "source": [
    "# Print the MCC\n",
    "print('MCC:', matthews_corrcoef(test_labels_lr,predictions))"
   ]
  },
  {
   "cell_type": "code",
   "execution_count": 60,
   "metadata": {},
   "outputs": [
    {
     "name": "stdout",
     "output_type": "stream",
     "text": [
      "List of scores: [0.66666667 0.66666667 1.         0.5       ]\n",
      "Mean of Cross Validtation: 0.7083333333333333\n"
     ]
    }
   ],
   "source": [
    "#Print the Cross-Validation Score\n",
    "scores = cross_val_score(logmodel, train_lr, train_labels_lr, cv=4)\n",
    "\n",
    "print('List of scores:', scores)\n",
    "print('Mean of Cross Validtation:', scores.mean())"
   ]
  },
  {
   "cell_type": "markdown",
   "metadata": {},
   "source": [
    "#### 2nd iteration"
   ]
  },
  {
   "cell_type": "markdown",
   "metadata": {},
   "source": [
    "Step 1: Get the features' importance"
   ]
  },
  {
   "cell_type": "code",
   "execution_count": 61,
   "metadata": {
    "scrolled": false
   },
   "outputs": [
    {
     "name": "stdout",
     "output_type": "stream",
     "text": [
      "Variable: Zave (12.5 ug/ml)    Importance: 17.96\n",
      "Variable: Type_OH              Importance: 8.58\n",
      "Variable: 200 (ug/ml)_prolif   Importance: 6.89\n",
      "Variable: Length ave. (nm)     Importance: 0.0\n",
      "Variable: PdI  (200 ug/ml)     Importance: 0.0\n",
      "Variable: Peak (ug/ml)         Importance: 0.0\n",
      "Variable: PdI (batch)          Importance: -8.58\n",
      "Variable: Purity (%)           Importance: -15.76\n"
     ]
    }
   ],
   "source": [
    "# Get numerical feature importances and feature names\n",
    "importances = list(logmodel.coef_.reshape(logmodel.coef_.shape[1]))\n",
    "feature_list = list(train_lr.columns)\n",
    "\n",
    "# List of tuples with variable and importance\n",
    "feature_importances = [(feature, round(importance, 2)) for feature, importance in zip(feature_list, importances)]\n",
    "\n",
    "# Sort the feature importances by most important first\n",
    "feature_importances = sorted(feature_importances, key = lambda x: x[1], reverse = True)\n",
    "\n",
    "# Print out the feature and importances \n",
    "[print('Variable: {:20} Importance: {}'.format(*pair)) for pair in feature_importances];"
   ]
  },
  {
   "cell_type": "markdown",
   "metadata": {},
   "source": [
    "Step 2: Exclude features with zero importance"
   ]
  },
  {
   "cell_type": "code",
   "execution_count": 62,
   "metadata": {
    "scrolled": false
   },
   "outputs": [
    {
     "data": {
      "text/html": [
       "<div>\n",
       "<style scoped>\n",
       "    .dataframe tbody tr th:only-of-type {\n",
       "        vertical-align: middle;\n",
       "    }\n",
       "\n",
       "    .dataframe tbody tr th {\n",
       "        vertical-align: top;\n",
       "    }\n",
       "\n",
       "    .dataframe thead th {\n",
       "        text-align: right;\n",
       "    }\n",
       "</style>\n",
       "<table border=\"1\" class=\"dataframe\">\n",
       "  <thead>\n",
       "    <tr style=\"text-align: right;\">\n",
       "      <th></th>\n",
       "      <th>Purity (%)</th>\n",
       "      <th>PdI (batch)</th>\n",
       "      <th>Zave (12.5 ug/ml)</th>\n",
       "      <th>200 (ug/ml)_prolif</th>\n",
       "      <th>Type_OH</th>\n",
       "      <th>Genotoxicity</th>\n",
       "    </tr>\n",
       "  </thead>\n",
       "  <tbody>\n",
       "    <tr>\n",
       "      <th>0</th>\n",
       "      <td>0.934783</td>\n",
       "      <td>0.349333</td>\n",
       "      <td>0.020378</td>\n",
       "      <td>0.495238</td>\n",
       "      <td>0.0</td>\n",
       "      <td>0</td>\n",
       "    </tr>\n",
       "    <tr>\n",
       "      <th>1</th>\n",
       "      <td>1.000000</td>\n",
       "      <td>0.730667</td>\n",
       "      <td>0.132460</td>\n",
       "      <td>0.466667</td>\n",
       "      <td>1.0</td>\n",
       "      <td>0</td>\n",
       "    </tr>\n",
       "    <tr>\n",
       "      <th>2</th>\n",
       "      <td>1.000000</td>\n",
       "      <td>0.413333</td>\n",
       "      <td>0.014556</td>\n",
       "      <td>0.438095</td>\n",
       "      <td>0.0</td>\n",
       "      <td>0</td>\n",
       "    </tr>\n",
       "    <tr>\n",
       "      <th>3</th>\n",
       "      <td>0.923913</td>\n",
       "      <td>0.026667</td>\n",
       "      <td>0.000000</td>\n",
       "      <td>0.866667</td>\n",
       "      <td>0.0</td>\n",
       "      <td>0</td>\n",
       "    </tr>\n",
       "    <tr>\n",
       "      <th>4</th>\n",
       "      <td>0.934783</td>\n",
       "      <td>0.024000</td>\n",
       "      <td>0.425036</td>\n",
       "      <td>0.638095</td>\n",
       "      <td>1.0</td>\n",
       "      <td>1</td>\n",
       "    </tr>\n",
       "  </tbody>\n",
       "</table>\n",
       "</div>"
      ],
      "text/plain": [
       "   Purity (%)  PdI (batch)  Zave (12.5 ug/ml)  200 (ug/ml)_prolif  Type_OH  \\\n",
       "0    0.934783     0.349333           0.020378            0.495238      0.0   \n",
       "1    1.000000     0.730667           0.132460            0.466667      1.0   \n",
       "2    1.000000     0.413333           0.014556            0.438095      0.0   \n",
       "3    0.923913     0.026667           0.000000            0.866667      0.0   \n",
       "4    0.934783     0.024000           0.425036            0.638095      1.0   \n",
       "\n",
       "   Genotoxicity  \n",
       "0             0  \n",
       "1             0  \n",
       "2             0  \n",
       "3             0  \n",
       "4             1  "
      ]
     },
     "execution_count": 62,
     "metadata": {},
     "output_type": "execute_result"
    }
   ],
   "source": [
    "for i in range(len(feature_importances)):\n",
    "    if feature_importances[i][1]==0.0:\n",
    "        df_lr.drop(feature_importances[i][0], axis=1, inplace=True)\n",
    "\n",
    "df_lr.head()"
   ]
  },
  {
   "cell_type": "markdown",
   "metadata": {},
   "source": [
    "Step 3: Train - Test split"
   ]
  },
  {
   "cell_type": "code",
   "execution_count": 63,
   "metadata": {},
   "outputs": [],
   "source": [
    "train_lr, test_lr, train_labels_lr, test_labels_lr = kennardstonealgorithm(df_lr,'Genotoxicity',5)"
   ]
  },
  {
   "cell_type": "markdown",
   "metadata": {},
   "source": [
    "Step 4: Optimize Logistic Regression"
   ]
  },
  {
   "cell_type": "code",
   "execution_count": 64,
   "metadata": {
    "scrolled": false
   },
   "outputs": [
    {
     "name": "stdout",
     "output_type": "stream",
     "text": [
      "Optimizing for l1 norm\n",
      "|   iter    |  target   |     C     |\n",
      "-------------------------------------\n",
      "| \u001b[0m 1       \u001b[0m | \u001b[0m 100.0   \u001b[0m | \u001b[0m 1.375e+0\u001b[0m |\n",
      "| \u001b[0m 2       \u001b[0m | \u001b[0m 100.0   \u001b[0m | \u001b[0m 1.951e+0\u001b[0m |\n",
      "| \u001b[0m 3       \u001b[0m | \u001b[0m 100.0   \u001b[0m | \u001b[0m 1.732e+0\u001b[0m |\n",
      "| \u001b[0m 4       \u001b[0m | \u001b[0m 100.0   \u001b[0m | \u001b[0m 1e+03   \u001b[0m |\n",
      "| \u001b[0m 5       \u001b[0m | \u001b[0m 100.0   \u001b[0m | \u001b[0m 1e+03   \u001b[0m |\n",
      "| \u001b[0m 6       \u001b[0m | \u001b[0m 100.0   \u001b[0m | \u001b[0m 2e+03   \u001b[0m |\n",
      "| \u001b[0m 7       \u001b[0m | \u001b[0m 100.0   \u001b[0m | \u001b[0m 1e+03   \u001b[0m |\n",
      "| \u001b[0m 8       \u001b[0m | \u001b[0m 100.0   \u001b[0m | \u001b[0m 2e+03   \u001b[0m |\n",
      "=====================================\n",
      "Optimizing for l2 norm\n",
      "|   iter    |  target   |     C     |\n",
      "-------------------------------------\n",
      "| \u001b[0m 1       \u001b[0m | \u001b[0m 100.0   \u001b[0m | \u001b[0m 1.375e+0\u001b[0m |\n",
      "| \u001b[0m 2       \u001b[0m | \u001b[0m 100.0   \u001b[0m | \u001b[0m 1.951e+0\u001b[0m |\n",
      "| \u001b[0m 3       \u001b[0m | \u001b[0m 100.0   \u001b[0m | \u001b[0m 1.732e+0\u001b[0m |\n",
      "| \u001b[0m 4       \u001b[0m | \u001b[0m 100.0   \u001b[0m | \u001b[0m 1e+03   \u001b[0m |\n",
      "| \u001b[0m 5       \u001b[0m | \u001b[0m 100.0   \u001b[0m | \u001b[0m 1e+03   \u001b[0m |\n",
      "| \u001b[0m 6       \u001b[0m | \u001b[0m 100.0   \u001b[0m | \u001b[0m 2e+03   \u001b[0m |\n",
      "| \u001b[0m 7       \u001b[0m | \u001b[0m 100.0   \u001b[0m | \u001b[0m 1e+03   \u001b[0m |\n",
      "| \u001b[0m 8       \u001b[0m | \u001b[0m 100.0   \u001b[0m | \u001b[0m 2e+03   \u001b[0m |\n",
      "=====================================\n",
      "\n",
      "\n",
      "Final result: The optimal model's accuracy is 100.0 and the optimal parameters are C=1374.5401188473625 and penalty=l1\n"
     ]
    }
   ],
   "source": [
    "# Get the time that the optimization started\n",
    "start_time = datetime.now().strftime(\"%H:%M:%S\")\n",
    "\n",
    "# Boundaries of the hyperparameters\n",
    "bo_dict = {'C': (1000,2000)}\n",
    "import warnings\n",
    "warnings.filterwarnings(\"ignore\", category=FutureWarning)\n",
    "\n",
    "# Optimization\n",
    "lr_optimum = optimize_lr(train_lr,train_labels_lr,test_lr,test_labels_lr,bo_dict,5,3)\n",
    "\n",
    "# Get the time that the optimization ended\n",
    "end_time = datetime.now().strftime(\"%H:%M:%S\")"
   ]
  },
  {
   "cell_type": "code",
   "execution_count": 65,
   "metadata": {
    "scrolled": true
   },
   "outputs": [
    {
     "name": "stdout",
     "output_type": "stream",
     "text": [
      "Minutes to execute: 0.4\n"
     ]
    }
   ],
   "source": [
    "print('Minutes to execute:', \n",
    "      round((datetime.strptime(end_time, '%H:%M:%S') - datetime.strptime(start_time, '%H:%M:%S')).seconds/60,2))"
   ]
  },
  {
   "cell_type": "markdown",
   "metadata": {},
   "source": [
    "Step 5: Test model's performance (on the testing set)"
   ]
  },
  {
   "cell_type": "code",
   "execution_count": 66,
   "metadata": {},
   "outputs": [
    {
     "name": "stdout",
     "output_type": "stream",
     "text": [
      "LR's training accuracy: 1.0\n"
     ]
    }
   ],
   "source": [
    "# Declare the model\n",
    "logmodel = LogisticRegression(C=lr_optimum['params']['C'], penalty=lr_optimum['params']['norm'],random_state=42)\n",
    "\n",
    "# Train the model on training data\n",
    "logmodel.fit(train_lr, train_labels_lr);\n",
    "\n",
    "# Use the model's predict method\n",
    "predictions = logmodel.predict(test_lr)\n",
    "\n",
    "# Print the Train accuracy\n",
    "print(\"LR's training accuracy:\", accuracy_score(test_labels_lr, predictions))"
   ]
  },
  {
   "cell_type": "code",
   "execution_count": 67,
   "metadata": {},
   "outputs": [
    {
     "name": "stdout",
     "output_type": "stream",
     "text": [
      "              precision    recall  f1-score   support\n",
      "\n",
      "           0       1.00      1.00      1.00         4\n",
      "           1       1.00      1.00      1.00         1\n",
      "\n",
      "   micro avg       1.00      1.00      1.00         5\n",
      "   macro avg       1.00      1.00      1.00         5\n",
      "weighted avg       1.00      1.00      1.00         5\n",
      "\n"
     ]
    }
   ],
   "source": [
    "# Print the classification report\n",
    "print(classification_report(test_labels_lr,predictions))"
   ]
  },
  {
   "cell_type": "code",
   "execution_count": 68,
   "metadata": {},
   "outputs": [
    {
     "name": "stdout",
     "output_type": "stream",
     "text": [
      "Confusion Matrix:\n",
      "4 | 0\n",
      "-----\n",
      "0 | 1\n"
     ]
    }
   ],
   "source": [
    "cm = confusion_matrix(test_labels_lr,predictions)\n",
    "print('Confusion Matrix:')\n",
    "print(cm[0][0],'|',cm[0][1])\n",
    "print('-----')\n",
    "print(cm[1][0],'|',cm[1][1])"
   ]
  },
  {
   "cell_type": "code",
   "execution_count": 32,
   "metadata": {},
   "outputs": [
    {
     "name": "stdout",
     "output_type": "stream",
     "text": [
      "Specificity: 1.0\n",
      "Sensitivity: 1.0\n"
     ]
    }
   ],
   "source": [
    "tn, fp, fn, tp = confusion_matrix(test_labels_lr,predictions).ravel()\n",
    "specificity = tn / (tn + fp)\n",
    "sensitivity = tp / (tp + fn)\n",
    "print('Specificity:',specificity)\n",
    "print('Sensitivity:',sensitivity)"
   ]
  },
  {
   "cell_type": "code",
   "execution_count": 69,
   "metadata": {},
   "outputs": [
    {
     "name": "stdout",
     "output_type": "stream",
     "text": [
      "MCC: 1.0\n"
     ]
    }
   ],
   "source": [
    "# Print the MCC\n",
    "print('MCC:', matthews_corrcoef(test_labels_lr,predictions))"
   ]
  },
  {
   "cell_type": "code",
   "execution_count": 70,
   "metadata": {},
   "outputs": [
    {
     "name": "stdout",
     "output_type": "stream",
     "text": [
      "List of scores: [0.5 0.5 1.  0.5]\n",
      "Mean of Cross Validtation: 0.625\n"
     ]
    }
   ],
   "source": [
    "#Print the Cross-Validation Score\n",
    "scores = cross_val_score(logmodel, train_lr, train_labels_lr, cv=4)\n",
    "\n",
    "print('List of scores:', scores)\n",
    "print('Mean of Cross Validtation:', scores.mean())"
   ]
  },
  {
   "cell_type": "markdown",
   "metadata": {},
   "source": [
    "#### 3rd iteration"
   ]
  },
  {
   "cell_type": "markdown",
   "metadata": {},
   "source": [
    "Step 1: Get the features' importance"
   ]
  },
  {
   "cell_type": "code",
   "execution_count": 71,
   "metadata": {
    "scrolled": false
   },
   "outputs": [
    {
     "name": "stdout",
     "output_type": "stream",
     "text": [
      "Variable: Zave (12.5 ug/ml)    Importance: 15.21\n",
      "Variable: Type_OH              Importance: 6.97\n",
      "Variable: 200 (ug/ml)_prolif   Importance: -0.92\n",
      "Variable: Purity (%)           Importance: -25.65\n",
      "Variable: PdI (batch)          Importance: -31.59\n"
     ]
    }
   ],
   "source": [
    "# Get numerical feature importances and feature names\n",
    "importances = list(logmodel.coef_.reshape(logmodel.coef_.shape[1]))\n",
    "feature_list = list(train_lr.columns)\n",
    "\n",
    "# List of tuples with variable and importance\n",
    "feature_importances = [(feature, round(importance, 2)) for feature, importance in zip(feature_list, importances)]\n",
    "\n",
    "# Sort the feature importances by most important first\n",
    "feature_importances = sorted(feature_importances, key = lambda x: x[1], reverse = True)\n",
    "\n",
    "# Print out the feature and importances \n",
    "[print('Variable: {:20} Importance: {}'.format(*pair)) for pair in feature_importances];"
   ]
  },
  {
   "cell_type": "markdown",
   "metadata": {},
   "source": [
    "Step 2: Exclude features with minimum absolute importance"
   ]
  },
  {
   "cell_type": "code",
   "execution_count": 72,
   "metadata": {
    "scrolled": false
   },
   "outputs": [
    {
     "data": {
      "text/html": [
       "<div>\n",
       "<style scoped>\n",
       "    .dataframe tbody tr th:only-of-type {\n",
       "        vertical-align: middle;\n",
       "    }\n",
       "\n",
       "    .dataframe tbody tr th {\n",
       "        vertical-align: top;\n",
       "    }\n",
       "\n",
       "    .dataframe thead th {\n",
       "        text-align: right;\n",
       "    }\n",
       "</style>\n",
       "<table border=\"1\" class=\"dataframe\">\n",
       "  <thead>\n",
       "    <tr style=\"text-align: right;\">\n",
       "      <th></th>\n",
       "      <th>Purity (%)</th>\n",
       "      <th>PdI (batch)</th>\n",
       "      <th>Zave (12.5 ug/ml)</th>\n",
       "      <th>Type_OH</th>\n",
       "      <th>Genotoxicity</th>\n",
       "    </tr>\n",
       "  </thead>\n",
       "  <tbody>\n",
       "    <tr>\n",
       "      <th>0</th>\n",
       "      <td>0.934783</td>\n",
       "      <td>0.349333</td>\n",
       "      <td>0.020378</td>\n",
       "      <td>0.0</td>\n",
       "      <td>0</td>\n",
       "    </tr>\n",
       "    <tr>\n",
       "      <th>1</th>\n",
       "      <td>1.000000</td>\n",
       "      <td>0.730667</td>\n",
       "      <td>0.132460</td>\n",
       "      <td>1.0</td>\n",
       "      <td>0</td>\n",
       "    </tr>\n",
       "    <tr>\n",
       "      <th>2</th>\n",
       "      <td>1.000000</td>\n",
       "      <td>0.413333</td>\n",
       "      <td>0.014556</td>\n",
       "      <td>0.0</td>\n",
       "      <td>0</td>\n",
       "    </tr>\n",
       "    <tr>\n",
       "      <th>3</th>\n",
       "      <td>0.923913</td>\n",
       "      <td>0.026667</td>\n",
       "      <td>0.000000</td>\n",
       "      <td>0.0</td>\n",
       "      <td>0</td>\n",
       "    </tr>\n",
       "    <tr>\n",
       "      <th>4</th>\n",
       "      <td>0.934783</td>\n",
       "      <td>0.024000</td>\n",
       "      <td>0.425036</td>\n",
       "      <td>1.0</td>\n",
       "      <td>1</td>\n",
       "    </tr>\n",
       "  </tbody>\n",
       "</table>\n",
       "</div>"
      ],
      "text/plain": [
       "   Purity (%)  PdI (batch)  Zave (12.5 ug/ml)  Type_OH  Genotoxicity\n",
       "0    0.934783     0.349333           0.020378      0.0             0\n",
       "1    1.000000     0.730667           0.132460      1.0             0\n",
       "2    1.000000     0.413333           0.014556      0.0             0\n",
       "3    0.923913     0.026667           0.000000      0.0             0\n",
       "4    0.934783     0.024000           0.425036      1.0             1"
      ]
     },
     "execution_count": 72,
     "metadata": {},
     "output_type": "execute_result"
    }
   ],
   "source": [
    "for i in range(len(feature_importances)):\n",
    "    if feature_importances[i][1]==-0.92:\n",
    "        df_lr.drop(feature_importances[i][0], axis=1, inplace=True)\n",
    "\n",
    "df_lr.head()"
   ]
  },
  {
   "cell_type": "markdown",
   "metadata": {},
   "source": [
    "Step 3: Train - Test split"
   ]
  },
  {
   "cell_type": "code",
   "execution_count": 73,
   "metadata": {},
   "outputs": [],
   "source": [
    "train_lr, test_lr, train_labels_lr, test_labels_lr = kennardstonealgorithm(df_lr,'Genotoxicity',5)"
   ]
  },
  {
   "cell_type": "markdown",
   "metadata": {},
   "source": [
    "Step 4: Optimize Logistic Regression"
   ]
  },
  {
   "cell_type": "code",
   "execution_count": 74,
   "metadata": {
    "scrolled": false
   },
   "outputs": [
    {
     "name": "stdout",
     "output_type": "stream",
     "text": [
      "Optimizing for l1 norm\n",
      "|   iter    |  target   |     C     |\n",
      "-------------------------------------\n",
      "| \u001b[0m 1       \u001b[0m | \u001b[0m 100.0   \u001b[0m | \u001b[0m 1.375e+0\u001b[0m |\n",
      "| \u001b[0m 2       \u001b[0m | \u001b[0m 100.0   \u001b[0m | \u001b[0m 1.951e+0\u001b[0m |\n",
      "| \u001b[0m 3       \u001b[0m | \u001b[0m 100.0   \u001b[0m | \u001b[0m 1.732e+0\u001b[0m |\n",
      "| \u001b[0m 4       \u001b[0m | \u001b[0m 100.0   \u001b[0m | \u001b[0m 1e+03   \u001b[0m |\n",
      "| \u001b[0m 5       \u001b[0m | \u001b[0m 100.0   \u001b[0m | \u001b[0m 1e+03   \u001b[0m |\n",
      "| \u001b[0m 6       \u001b[0m | \u001b[0m 100.0   \u001b[0m | \u001b[0m 2e+03   \u001b[0m |\n",
      "| \u001b[0m 7       \u001b[0m | \u001b[0m 100.0   \u001b[0m | \u001b[0m 1e+03   \u001b[0m |\n",
      "| \u001b[0m 8       \u001b[0m | \u001b[0m 100.0   \u001b[0m | \u001b[0m 2e+03   \u001b[0m |\n",
      "=====================================\n",
      "Optimizing for l2 norm\n",
      "|   iter    |  target   |     C     |\n",
      "-------------------------------------\n",
      "| \u001b[0m 1       \u001b[0m | \u001b[0m 100.0   \u001b[0m | \u001b[0m 1.375e+0\u001b[0m |\n",
      "| \u001b[0m 2       \u001b[0m | \u001b[0m 100.0   \u001b[0m | \u001b[0m 1.951e+0\u001b[0m |\n",
      "| \u001b[0m 3       \u001b[0m | \u001b[0m 100.0   \u001b[0m | \u001b[0m 1.732e+0\u001b[0m |\n",
      "| \u001b[0m 4       \u001b[0m | \u001b[0m 100.0   \u001b[0m | \u001b[0m 1e+03   \u001b[0m |\n",
      "| \u001b[0m 5       \u001b[0m | \u001b[0m 100.0   \u001b[0m | \u001b[0m 1e+03   \u001b[0m |\n",
      "| \u001b[0m 6       \u001b[0m | \u001b[0m 100.0   \u001b[0m | \u001b[0m 2e+03   \u001b[0m |\n",
      "| \u001b[0m 7       \u001b[0m | \u001b[0m 100.0   \u001b[0m | \u001b[0m 1e+03   \u001b[0m |\n",
      "| \u001b[0m 8       \u001b[0m | \u001b[0m 100.0   \u001b[0m | \u001b[0m 2e+03   \u001b[0m |\n",
      "=====================================\n",
      "\n",
      "\n",
      "Final result: The optimal model's accuracy is 100.0 and the optimal parameters are C=1374.5401188473625 and penalty=l1\n"
     ]
    }
   ],
   "source": [
    "# Get the time that the optimization started\n",
    "start_time = datetime.now().strftime(\"%H:%M:%S\")\n",
    "\n",
    "# Boundaries of the hyperparameters\n",
    "bo_dict = {'C': (1000,2000)}\n",
    "import warnings\n",
    "warnings.filterwarnings(\"ignore\", category=FutureWarning)\n",
    "\n",
    "# Optimization\n",
    "lr_optimum = optimize_lr(train_lr,train_labels_lr,test_lr,test_labels_lr,bo_dict,5,3)\n",
    "\n",
    "# Get the time that the optimization ended\n",
    "end_time = datetime.now().strftime(\"%H:%M:%S\")"
   ]
  },
  {
   "cell_type": "code",
   "execution_count": 75,
   "metadata": {
    "scrolled": true
   },
   "outputs": [
    {
     "name": "stdout",
     "output_type": "stream",
     "text": [
      "Minutes to execute: 0.4\n"
     ]
    }
   ],
   "source": [
    "print('Minutes to execute:', \n",
    "      round((datetime.strptime(end_time, '%H:%M:%S') - datetime.strptime(start_time, '%H:%M:%S')).seconds/60,2))"
   ]
  },
  {
   "cell_type": "markdown",
   "metadata": {},
   "source": [
    "Step 5: Test model's performance (on the testing set)"
   ]
  },
  {
   "cell_type": "code",
   "execution_count": 76,
   "metadata": {},
   "outputs": [
    {
     "name": "stdout",
     "output_type": "stream",
     "text": [
      "LR's training accuracy: 1.0\n"
     ]
    }
   ],
   "source": [
    "# Declare the model\n",
    "logmodel = LogisticRegression(C=lr_optimum['params']['C'], penalty=lr_optimum['params']['norm'],random_state=42)\n",
    "\n",
    "# Train the model on training data\n",
    "logmodel.fit(train_lr, train_labels_lr);\n",
    "\n",
    "# Use the model's predict method\n",
    "predictions = logmodel.predict(test_lr)\n",
    "\n",
    "# Print the Train accuracy\n",
    "print(\"LR's training accuracy:\", accuracy_score(test_labels_lr, predictions))"
   ]
  },
  {
   "cell_type": "code",
   "execution_count": 77,
   "metadata": {},
   "outputs": [
    {
     "name": "stdout",
     "output_type": "stream",
     "text": [
      "              precision    recall  f1-score   support\n",
      "\n",
      "           0       1.00      1.00      1.00         4\n",
      "           1       1.00      1.00      1.00         1\n",
      "\n",
      "   micro avg       1.00      1.00      1.00         5\n",
      "   macro avg       1.00      1.00      1.00         5\n",
      "weighted avg       1.00      1.00      1.00         5\n",
      "\n"
     ]
    }
   ],
   "source": [
    "# Print the classification report\n",
    "print(classification_report(test_labels_lr,predictions))"
   ]
  },
  {
   "cell_type": "code",
   "execution_count": 78,
   "metadata": {},
   "outputs": [
    {
     "name": "stdout",
     "output_type": "stream",
     "text": [
      "Confusion Matrix:\n",
      "4 | 0\n",
      "-----\n",
      "0 | 1\n"
     ]
    }
   ],
   "source": [
    "cm = confusion_matrix(test_labels_lr,predictions)\n",
    "print('Confusion Matrix:')\n",
    "print(cm[0][0],'|',cm[0][1])\n",
    "print('-----')\n",
    "print(cm[1][0],'|',cm[1][1])"
   ]
  },
  {
   "cell_type": "code",
   "execution_count": 33,
   "metadata": {},
   "outputs": [
    {
     "name": "stdout",
     "output_type": "stream",
     "text": [
      "Specificity: 1.0\n",
      "Sensitivity: 1.0\n"
     ]
    }
   ],
   "source": [
    "tn, fp, fn, tp = confusion_matrix(test_labels_lr,predictions).ravel()\n",
    "specificity = tn / (tn + fp)\n",
    "sensitivity = tp / (tp + fn)\n",
    "print('Specificity:',specificity)\n",
    "print('Sensitivity:',sensitivity)"
   ]
  },
  {
   "cell_type": "code",
   "execution_count": 79,
   "metadata": {},
   "outputs": [
    {
     "name": "stdout",
     "output_type": "stream",
     "text": [
      "MCC: 1.0\n"
     ]
    }
   ],
   "source": [
    "# Print the MCC\n",
    "print('MCC:', matthews_corrcoef(test_labels_lr,predictions))"
   ]
  },
  {
   "cell_type": "code",
   "execution_count": 80,
   "metadata": {},
   "outputs": [
    {
     "name": "stdout",
     "output_type": "stream",
     "text": [
      "List of scores: [0.75 0.5  1.   1.  ]\n",
      "Mean of Cross Validtation: 0.8125\n"
     ]
    }
   ],
   "source": [
    "#Print the Cross-Validation Score\n",
    "scores = cross_val_score(logmodel, train_lr, train_labels_lr, cv=4)\n",
    "\n",
    "print('List of scores:', scores)\n",
    "print('Mean of Cross Validtation:', scores.mean())"
   ]
  },
  {
   "cell_type": "markdown",
   "metadata": {},
   "source": [
    "Hence, the final LR model is the above, using 4 features, and the importance of the features is the following "
   ]
  },
  {
   "cell_type": "code",
   "execution_count": 81,
   "metadata": {},
   "outputs": [
    {
     "name": "stdout",
     "output_type": "stream",
     "text": [
      "Variable: Zave (12.5 ug/ml)    Importance: 18.96\n",
      "Variable: Type_OH              Importance: 4.97\n",
      "Variable: Purity (%)           Importance: -21.24\n",
      "Variable: PdI (batch)          Importance: -24.59\n"
     ]
    }
   ],
   "source": [
    "# Get numerical feature importances and feature names\n",
    "importances = list(logmodel.coef_.reshape(logmodel.coef_.shape[1]))\n",
    "feature_list = list(train_lr.columns)\n",
    "\n",
    "# List of tuples with variable and importance\n",
    "feature_importances = [(feature, round(importance, 2)) for feature, importance in zip(feature_list, importances)]\n",
    "\n",
    "# Sort the feature importances by most important first\n",
    "feature_importances = sorted(feature_importances, key = lambda x: x[1], reverse = True)\n",
    "\n",
    "# Print out the feature and importances \n",
    "[print('Variable: {:20} Importance: {}'.format(*pair)) for pair in feature_importances];"
   ]
  },
  {
   "cell_type": "markdown",
   "metadata": {},
   "source": [
    "The classification probabilities of the testing samples: "
   ]
  },
  {
   "cell_type": "code",
   "execution_count": 87,
   "metadata": {
    "scrolled": true
   },
   "outputs": [
    {
     "name": "stdout",
     "output_type": "stream",
     "text": [
      "-----------------------------------------------------------------\n",
      "  Sample                                    Prob(0)    Prob(1)\n",
      "-----------------------------------------------------------------\n",
      "NRCWE- 040                               [9.99998509e-01 1.49121463e-06]\n",
      "NRCWE- 042                               [9.99999931e-01 6.92746154e-08]\n",
      "NRCWE- 047                               [9.99900051e-01 9.99494510e-05]\n",
      "NM-401                                   [0.75733008 0.24266992]\n",
      "NM-402                                   [0.01026531 0.98973469]\n"
     ]
    }
   ],
   "source": [
    "print('-----------------------------------------------------------------')\n",
    "print('  Sample                                    Prob(0)    Prob(1)')\n",
    "print('-----------------------------------------------------------------')\n",
    "for i in test_lr.index:\n",
    "    print('{:40} {}'.format(codes[i][:-1],logmodel.predict_proba(np.array(test_lr.loc[i]).reshape(1, -1))[0]));"
   ]
  },
  {
   "cell_type": "markdown",
   "metadata": {},
   "source": [
    "Hence, the Logistic Regression model (using 4 features) is the best model for the genotoxicity classification of MWCNTs. Below are the metrics on the training dataset:"
   ]
  },
  {
   "cell_type": "code",
   "execution_count": 88,
   "metadata": {},
   "outputs": [
    {
     "name": "stdout",
     "output_type": "stream",
     "text": [
      "LR's training accuracy: 1.0\n"
     ]
    }
   ],
   "source": [
    "# Use the model's predict method\n",
    "predictions = logmodel.predict(train_lr)\n",
    "\n",
    "# Print the Train accuracy\n",
    "print(\"LR's training accuracy:\", accuracy_score(train_labels_lr, predictions))"
   ]
  },
  {
   "cell_type": "code",
   "execution_count": 89,
   "metadata": {},
   "outputs": [
    {
     "name": "stdout",
     "output_type": "stream",
     "text": [
      "              precision    recall  f1-score   support\n",
      "\n",
      "           0       1.00      1.00      1.00         5\n",
      "           1       1.00      1.00      1.00         5\n",
      "\n",
      "   micro avg       1.00      1.00      1.00        10\n",
      "   macro avg       1.00      1.00      1.00        10\n",
      "weighted avg       1.00      1.00      1.00        10\n",
      "\n"
     ]
    }
   ],
   "source": [
    "# Print the classification report\n",
    "print(classification_report(train_labels_lr,predictions))"
   ]
  },
  {
   "cell_type": "code",
   "execution_count": 90,
   "metadata": {},
   "outputs": [
    {
     "name": "stdout",
     "output_type": "stream",
     "text": [
      "Confusion Matrix:\n",
      "5 | 0\n",
      "-----\n",
      "0 | 5\n"
     ]
    }
   ],
   "source": [
    "cm = confusion_matrix(train_labels_lr,predictions)\n",
    "print('Confusion Matrix:')\n",
    "print(cm[0][0],'|',cm[0][1])\n",
    "print('-----')\n",
    "print(cm[1][0],'|',cm[1][1])"
   ]
  },
  {
   "cell_type": "code",
   "execution_count": 34,
   "metadata": {},
   "outputs": [
    {
     "name": "stdout",
     "output_type": "stream",
     "text": [
      "Specificity: 1.0\n",
      "Sensitivity: 1.0\n"
     ]
    }
   ],
   "source": [
    "tn, fp, fn, tp = confusion_matrix(train_labels_lr,predictions).ravel()\n",
    "specificity = tn / (tn + fp)\n",
    "sensitivity = tp / (tp + fn)\n",
    "print('Specificity:',specificity)\n",
    "print('Sensitivity:',sensitivity)"
   ]
  },
  {
   "cell_type": "code",
   "execution_count": 91,
   "metadata": {},
   "outputs": [
    {
     "name": "stdout",
     "output_type": "stream",
     "text": [
      "MCC: 1.0\n"
     ]
    }
   ],
   "source": [
    "# Print the MCC\n",
    "print('MCC:', matthews_corrcoef(train_labels_lr,predictions))"
   ]
  },
  {
   "cell_type": "markdown",
   "metadata": {},
   "source": [
    "The classification probabilities of the training samples: "
   ]
  },
  {
   "cell_type": "code",
   "execution_count": 93,
   "metadata": {
    "scrolled": true
   },
   "outputs": [
    {
     "name": "stdout",
     "output_type": "stream",
     "text": [
      "-----------------------------------------------------------------\n",
      "  Sample                                    Prob(0)    Prob(1)\n",
      "-----------------------------------------------------------------\n",
      "NRCWE- 041                               [9.99999962e-01 3.83361988e-08]\n",
      "NRCWE- 043                               [0.99645338 0.00354662]\n",
      "NRCWE- 044                               [7.22976631e-04 9.99277023e-01]\n",
      "NRCWE- 045                               [0.00463586 0.99536414]\n",
      "NRCWE- 046                               [0.99851594 0.00148406]\n",
      "NRCWE- 048                               [9.9999994e-01 6.0059791e-08]\n",
      "NRCWE- 049                               [1.00000000e+00 3.02581161e-13]\n",
      "NM-400                                   [3.91782473e-04 9.99608218e-01]\n",
      "NM-403                                   [2.93295812e-07 9.99999707e-01]\n",
      "NRCWE-006                                [1.79900945e-05 9.99982010e-01]\n"
     ]
    }
   ],
   "source": [
    "print('-----------------------------------------------------------------')\n",
    "print('  Sample                                    Prob(0)    Prob(1)')\n",
    "print('-----------------------------------------------------------------')\n",
    "for i in train_lr.index:\n",
    "    print('{:40} {}'.format(codes[i][:-1],logmodel.predict_proba(np.array(train_lr.loc[i]).reshape(1, -1))[0]));"
   ]
  },
  {
   "cell_type": "markdown",
   "metadata": {},
   "source": [
    "### Domain of Applicability"
   ]
  },
  {
   "cell_type": "code",
   "execution_count": 94,
   "metadata": {},
   "outputs": [],
   "source": [
    "test_names = [codes[i] for i in test_lr.index]"
   ]
  },
  {
   "cell_type": "code",
   "execution_count": 95,
   "metadata": {},
   "outputs": [
    {
     "name": "stdout",
     "output_type": "stream",
     "text": [
      "The Leverage threshold is: 1.2\n"
     ]
    }
   ],
   "source": [
    "leverage_threshold = 3*train_lr.shape[1]/train_lr.shape[0]\n",
    "print('The Leverage threshold is:', round(leverage_threshold, 2))"
   ]
  },
  {
   "cell_type": "code",
   "execution_count": 96,
   "metadata": {},
   "outputs": [],
   "source": [
    "# Labels are the values we want to predict\n",
    "l_train_labels = np.array(train_labels_lr)\n",
    "l_test_labels = np.array(test_labels_lr)\n",
    "# Convert to numpy array\n",
    "l_test = np.array(test_lr)\n",
    "l_train = np.array(train_lr)"
   ]
  },
  {
   "cell_type": "code",
   "execution_count": 97,
   "metadata": {},
   "outputs": [
    {
     "name": "stdout",
     "output_type": "stream",
     "text": [
      "Sample: NRCWE- 040                               Leverage Value:  0.26    Reliability: reliable            \n",
      "Sample: NRCWE- 042                               Leverage Value:   0.3    Reliability: reliable            \n",
      "Sample: NRCWE- 047                               Leverage Value:  0.52    Reliability: reliable            \n",
      "Sample: NM-401                                   Leverage Value:  0.26    Reliability: reliable            \n",
      "Sample: NM-402                                   Leverage Value:  0.19    Reliability: reliable            \n"
     ]
    }
   ],
   "source": [
    "from numpy.linalg import matrix_power\n",
    "H=list()\n",
    "reliability=list()\n",
    "for i in range(len(l_test)):\n",
    "    H.append(l_test[i].T@(matrix_power(l_train.T@l_train, -1))@l_test[i])\n",
    "    if H[i]<=leverage_threshold:\n",
    "        reliability.append('reliable')\n",
    "    else:\n",
    "        reliability.append('unreliable')\n",
    "\n",
    "LV = [(sample[:-1], round(l_val, 2),rely) for sample, l_val, rely in zip(test_names, H, reliability)]\n",
    "for i in range(len(l_test)):\n",
    "    [print('Sample: {:40} Leverage Value: {:5}    Reliability: {:20}'.format(LV[i][0],LV[i][1],LV[i][2]))];"
   ]
  }
 ],
 "metadata": {
  "kernelspec": {
   "display_name": "Python 3",
   "language": "python",
   "name": "python3"
  },
  "language_info": {
   "codemirror_mode": {
    "name": "ipython",
    "version": 3
   },
   "file_extension": ".py",
   "mimetype": "text/x-python",
   "name": "python",
   "nbconvert_exporter": "python",
   "pygments_lexer": "ipython3",
   "version": "3.6.7"
  }
 },
 "nbformat": 4,
 "nbformat_minor": 2
}
