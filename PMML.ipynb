{
 "cells": [
  {
   "cell_type": "markdown",
   "metadata": {},
   "source": [
    "### Import the Libraries and Dataset"
   ]
  },
  {
   "cell_type": "code",
   "execution_count": 1,
   "metadata": {
    "scrolled": false
   },
   "outputs": [
    {
     "data": {
      "text/html": [
       "<div>\n",
       "<style scoped>\n",
       "    .dataframe tbody tr th:only-of-type {\n",
       "        vertical-align: middle;\n",
       "    }\n",
       "\n",
       "    .dataframe tbody tr th {\n",
       "        vertical-align: top;\n",
       "    }\n",
       "\n",
       "    .dataframe thead th {\n",
       "        text-align: right;\n",
       "    }\n",
       "</style>\n",
       "<table border=\"1\" class=\"dataframe\">\n",
       "  <thead>\n",
       "    <tr style=\"text-align: right;\">\n",
       "      <th></th>\n",
       "      <th>Code</th>\n",
       "      <th>Type</th>\n",
       "      <th>Length ave. (nm)</th>\n",
       "      <th>Diameter ave. (nm)</th>\n",
       "      <th>Diameter std</th>\n",
       "      <th>BET (m2/g)</th>\n",
       "      <th>Fe content</th>\n",
       "      <th>Co content</th>\n",
       "      <th>Ni content</th>\n",
       "      <th>Mg content</th>\n",
       "      <th>...</th>\n",
       "      <th>12.5 (ug/ml)_prolif</th>\n",
       "      <th>25 (ug/ml)_prolif</th>\n",
       "      <th>50 (ug/ml)_prolif</th>\n",
       "      <th>100 (ug/ml)_prolif</th>\n",
       "      <th>200 (ug/ml)_prolif</th>\n",
       "      <th>CEA: C.H.N.O (wt%)</th>\n",
       "      <th>OH mmol/g</th>\n",
       "      <th>COOH mmol/g</th>\n",
       "      <th>Endotoxins (EU/mg)</th>\n",
       "      <th>Genotoxicity</th>\n",
       "    </tr>\n",
       "  </thead>\n",
       "  <tbody>\n",
       "    <tr>\n",
       "      <th>0</th>\n",
       "      <td>NRCWE- 040</td>\n",
       "      <td>PRISTINE</td>\n",
       "      <td>518.9</td>\n",
       "      <td>22.1</td>\n",
       "      <td>7.8</td>\n",
       "      <td>150</td>\n",
       "      <td>0.200</td>\n",
       "      <td>0.001</td>\n",
       "      <td>0.56</td>\n",
       "      <td>0.01</td>\n",
       "      <td>...</td>\n",
       "      <td>95</td>\n",
       "      <td>85</td>\n",
       "      <td>60</td>\n",
       "      <td>67</td>\n",
       "      <td>62</td>\n",
       "      <td>96</td>\n",
       "      <td>0.35</td>\n",
       "      <td>0.18</td>\n",
       "      <td>0.18</td>\n",
       "      <td>0</td>\n",
       "    </tr>\n",
       "    <tr>\n",
       "      <th>1</th>\n",
       "      <td>NRCWE- 041</td>\n",
       "      <td>OH</td>\n",
       "      <td>1005.0</td>\n",
       "      <td>26.9</td>\n",
       "      <td>10.1</td>\n",
       "      <td>152</td>\n",
       "      <td>0.130</td>\n",
       "      <td>0.001</td>\n",
       "      <td>0.31</td>\n",
       "      <td>0.02</td>\n",
       "      <td>...</td>\n",
       "      <td>79</td>\n",
       "      <td>62</td>\n",
       "      <td>50</td>\n",
       "      <td>54</td>\n",
       "      <td>59</td>\n",
       "      <td>97</td>\n",
       "      <td>1.69</td>\n",
       "      <td>0.84</td>\n",
       "      <td>NaN</td>\n",
       "      <td>0</td>\n",
       "    </tr>\n",
       "    <tr>\n",
       "      <th>2</th>\n",
       "      <td>NRCWE- 042</td>\n",
       "      <td>COOH</td>\n",
       "      <td>723.2</td>\n",
       "      <td>30.2</td>\n",
       "      <td>14.2</td>\n",
       "      <td>141</td>\n",
       "      <td>0.080</td>\n",
       "      <td>0.000</td>\n",
       "      <td>0.21</td>\n",
       "      <td>0.03</td>\n",
       "      <td>...</td>\n",
       "      <td>89</td>\n",
       "      <td>96</td>\n",
       "      <td>72</td>\n",
       "      <td>79</td>\n",
       "      <td>56</td>\n",
       "      <td>96</td>\n",
       "      <td>4.09</td>\n",
       "      <td>2.04</td>\n",
       "      <td>0.26</td>\n",
       "      <td>0</td>\n",
       "    </tr>\n",
       "    <tr>\n",
       "      <th>3</th>\n",
       "      <td>NRCWE- 043</td>\n",
       "      <td>PRISTINE</td>\n",
       "      <td>771.3</td>\n",
       "      <td>55.6</td>\n",
       "      <td>18.1</td>\n",
       "      <td>82</td>\n",
       "      <td>0.008</td>\n",
       "      <td>0.001</td>\n",
       "      <td>1.20</td>\n",
       "      <td>0.01</td>\n",
       "      <td>...</td>\n",
       "      <td>105</td>\n",
       "      <td>115</td>\n",
       "      <td>114</td>\n",
       "      <td>111</td>\n",
       "      <td>101</td>\n",
       "      <td>96</td>\n",
       "      <td>0.18</td>\n",
       "      <td>0.09</td>\n",
       "      <td>0.25</td>\n",
       "      <td>0</td>\n",
       "    </tr>\n",
       "    <tr>\n",
       "      <th>4</th>\n",
       "      <td>NRCWE- 044</td>\n",
       "      <td>OH</td>\n",
       "      <td>1330.0</td>\n",
       "      <td>32.7</td>\n",
       "      <td>13.6</td>\n",
       "      <td>74</td>\n",
       "      <td>0.004</td>\n",
       "      <td>0.002</td>\n",
       "      <td>1.04</td>\n",
       "      <td>0.02</td>\n",
       "      <td>...</td>\n",
       "      <td>99</td>\n",
       "      <td>96</td>\n",
       "      <td>95</td>\n",
       "      <td>91</td>\n",
       "      <td>77</td>\n",
       "      <td>97</td>\n",
       "      <td>0.23</td>\n",
       "      <td>0.11</td>\n",
       "      <td>0.27</td>\n",
       "      <td>1</td>\n",
       "    </tr>\n",
       "  </tbody>\n",
       "</table>\n",
       "<p>5 rows × 37 columns</p>\n",
       "</div>"
      ],
      "text/plain": [
       "         Code      Type  Length ave. (nm)   Diameter ave. (nm)  Diameter std  \\\n",
       "0  NRCWE- 040  PRISTINE              518.9                22.1           7.8   \n",
       "1  NRCWE- 041        OH             1005.0                26.9          10.1   \n",
       "2  NRCWE- 042      COOH              723.2                30.2          14.2   \n",
       "3  NRCWE- 043  PRISTINE              771.3                55.6          18.1   \n",
       "4  NRCWE- 044        OH             1330.0                32.7          13.6   \n",
       "\n",
       "   BET (m2/g)  Fe content  Co content  Ni content  Mg content  ...  \\\n",
       "0         150       0.200       0.001        0.56        0.01  ...   \n",
       "1         152       0.130       0.001        0.31        0.02  ...   \n",
       "2         141       0.080       0.000        0.21        0.03  ...   \n",
       "3          82       0.008       0.001        1.20        0.01  ...   \n",
       "4          74       0.004       0.002        1.04        0.02  ...   \n",
       "\n",
       "   12.5 (ug/ml)_prolif  25 (ug/ml)_prolif  50 (ug/ml)_prolif  \\\n",
       "0                   95                 85                 60   \n",
       "1                   79                 62                 50   \n",
       "2                   89                 96                 72   \n",
       "3                  105                115                114   \n",
       "4                   99                 96                 95   \n",
       "\n",
       "   100 (ug/ml)_prolif  200 (ug/ml)_prolif  CEA: C.H.N.O (wt%)  OH mmol/g  \\\n",
       "0                  67                  62                  96       0.35   \n",
       "1                  54                  59                  97       1.69   \n",
       "2                  79                  56                  96       4.09   \n",
       "3                 111                 101                  96       0.18   \n",
       "4                  91                  77                  97       0.23   \n",
       "\n",
       "   COOH mmol/g  Endotoxins (EU/mg)  Genotoxicity  \n",
       "0         0.18                0.18             0  \n",
       "1         0.84                 NaN             0  \n",
       "2         2.04                0.26             0  \n",
       "3         0.09                0.25             0  \n",
       "4         0.11                0.27             1  \n",
       "\n",
       "[5 rows x 37 columns]"
      ]
     },
     "execution_count": 1,
     "metadata": {},
     "output_type": "execute_result"
    }
   ],
   "source": [
    "from sklearn2pmml.pipeline import PMMLPipeline\n",
    "from sklearn2pmml import sklearn2pmml\n",
    "import pandas as pd\n",
    "import numpy as np\n",
    "\n",
    "df = pd.read_csv('original_data.csv')\n",
    "df.head()"
   ]
  },
  {
   "cell_type": "markdown",
   "metadata": {},
   "source": [
    "One-Hot encode the data using pandas get_dummies"
   ]
  },
  {
   "cell_type": "code",
   "execution_count": 2,
   "metadata": {},
   "outputs": [],
   "source": [
    "df = pd.get_dummies(df)"
   ]
  },
  {
   "cell_type": "markdown",
   "metadata": {},
   "source": [
    "We will drop the columns that we do not need for our model"
   ]
  },
  {
   "cell_type": "code",
   "execution_count": 3,
   "metadata": {},
   "outputs": [],
   "source": [
    "all_columns = list(df.drop('Genotoxicity',axis=1).columns)\n",
    "keep = ['Purity (%)','Zave (12.5 ug/ml)','PdI (batch)','Type_OH']\n",
    "\n",
    "for i in all_columns:\n",
    "    if i not in keep:\n",
    "        df.drop(i,axis=1,inplace=True)"
   ]
  },
  {
   "cell_type": "code",
   "execution_count": 4,
   "metadata": {},
   "outputs": [
    {
     "data": {
      "text/html": [
       "<div>\n",
       "<style scoped>\n",
       "    .dataframe tbody tr th:only-of-type {\n",
       "        vertical-align: middle;\n",
       "    }\n",
       "\n",
       "    .dataframe tbody tr th {\n",
       "        vertical-align: top;\n",
       "    }\n",
       "\n",
       "    .dataframe thead th {\n",
       "        text-align: right;\n",
       "    }\n",
       "</style>\n",
       "<table border=\"1\" class=\"dataframe\">\n",
       "  <thead>\n",
       "    <tr style=\"text-align: right;\">\n",
       "      <th></th>\n",
       "      <th>Purity (%)</th>\n",
       "      <th>PdI (batch)</th>\n",
       "      <th>Zave (12.5 ug/ml)</th>\n",
       "      <th>Genotoxicity</th>\n",
       "      <th>Type_OH</th>\n",
       "    </tr>\n",
       "  </thead>\n",
       "  <tbody>\n",
       "    <tr>\n",
       "      <th>0</th>\n",
       "      <td>98.6</td>\n",
       "      <td>0.358</td>\n",
       "      <td>159</td>\n",
       "      <td>0</td>\n",
       "      <td>0</td>\n",
       "    </tr>\n",
       "    <tr>\n",
       "      <th>1</th>\n",
       "      <td>99.2</td>\n",
       "      <td>0.501</td>\n",
       "      <td>236</td>\n",
       "      <td>0</td>\n",
       "      <td>1</td>\n",
       "    </tr>\n",
       "    <tr>\n",
       "      <th>2</th>\n",
       "      <td>99.2</td>\n",
       "      <td>0.382</td>\n",
       "      <td>155</td>\n",
       "      <td>0</td>\n",
       "      <td>0</td>\n",
       "    </tr>\n",
       "    <tr>\n",
       "      <th>3</th>\n",
       "      <td>98.5</td>\n",
       "      <td>0.237</td>\n",
       "      <td>145</td>\n",
       "      <td>0</td>\n",
       "      <td>0</td>\n",
       "    </tr>\n",
       "    <tr>\n",
       "      <th>4</th>\n",
       "      <td>98.6</td>\n",
       "      <td>0.236</td>\n",
       "      <td>437</td>\n",
       "      <td>1</td>\n",
       "      <td>1</td>\n",
       "    </tr>\n",
       "  </tbody>\n",
       "</table>\n",
       "</div>"
      ],
      "text/plain": [
       "   Purity (%)  PdI (batch)  Zave (12.5 ug/ml)  Genotoxicity  Type_OH\n",
       "0        98.6        0.358                159             0        0\n",
       "1        99.2        0.501                236             0        1\n",
       "2        99.2        0.382                155             0        0\n",
       "3        98.5        0.237                145             0        0\n",
       "4        98.6        0.236                437             1        1"
      ]
     },
     "execution_count": 4,
     "metadata": {},
     "output_type": "execute_result"
    }
   ],
   "source": [
    "df.head()"
   ]
  },
  {
   "cell_type": "markdown",
   "metadata": {},
   "source": [
    "### Instantiate and fit a scaling object"
   ]
  },
  {
   "cell_type": "code",
   "execution_count": 5,
   "metadata": {},
   "outputs": [
    {
     "name": "stderr",
     "output_type": "stream",
     "text": [
      "c:\\users\\user\\desktop\\test-jupyter\\lib\\site-packages\\sklearn\\preprocessing\\data.py:323: DataConversionWarning: Data with input dtype uint8, int64, float64 were all converted to float64 by MinMaxScaler.\n",
      "  return self.partial_fit(X, y)\n"
     ]
    }
   ],
   "source": [
    "from sklearn.preprocessing import MinMaxScaler\n",
    "scaler = MinMaxScaler()\n",
    "scaler.fit(df)\n",
    "scaled_data = pd.DataFrame(index=range(len(df)), columns=df.columns, data=scaler.transform(df))"
   ]
  },
  {
   "cell_type": "code",
   "execution_count": 6,
   "metadata": {},
   "outputs": [
    {
     "data": {
      "text/html": [
       "<div>\n",
       "<style scoped>\n",
       "    .dataframe tbody tr th:only-of-type {\n",
       "        vertical-align: middle;\n",
       "    }\n",
       "\n",
       "    .dataframe tbody tr th {\n",
       "        vertical-align: top;\n",
       "    }\n",
       "\n",
       "    .dataframe thead th {\n",
       "        text-align: right;\n",
       "    }\n",
       "</style>\n",
       "<table border=\"1\" class=\"dataframe\">\n",
       "  <thead>\n",
       "    <tr style=\"text-align: right;\">\n",
       "      <th></th>\n",
       "      <th>Purity (%)</th>\n",
       "      <th>PdI (batch)</th>\n",
       "      <th>Zave (12.5 ug/ml)</th>\n",
       "      <th>Genotoxicity</th>\n",
       "      <th>Type_OH</th>\n",
       "    </tr>\n",
       "  </thead>\n",
       "  <tbody>\n",
       "    <tr>\n",
       "      <th>0</th>\n",
       "      <td>0.934783</td>\n",
       "      <td>0.349333</td>\n",
       "      <td>0.020378</td>\n",
       "      <td>0.0</td>\n",
       "      <td>0.0</td>\n",
       "    </tr>\n",
       "    <tr>\n",
       "      <th>1</th>\n",
       "      <td>1.000000</td>\n",
       "      <td>0.730667</td>\n",
       "      <td>0.132460</td>\n",
       "      <td>0.0</td>\n",
       "      <td>1.0</td>\n",
       "    </tr>\n",
       "    <tr>\n",
       "      <th>2</th>\n",
       "      <td>1.000000</td>\n",
       "      <td>0.413333</td>\n",
       "      <td>0.014556</td>\n",
       "      <td>0.0</td>\n",
       "      <td>0.0</td>\n",
       "    </tr>\n",
       "    <tr>\n",
       "      <th>3</th>\n",
       "      <td>0.923913</td>\n",
       "      <td>0.026667</td>\n",
       "      <td>0.000000</td>\n",
       "      <td>0.0</td>\n",
       "      <td>0.0</td>\n",
       "    </tr>\n",
       "    <tr>\n",
       "      <th>4</th>\n",
       "      <td>0.934783</td>\n",
       "      <td>0.024000</td>\n",
       "      <td>0.425036</td>\n",
       "      <td>1.0</td>\n",
       "      <td>1.0</td>\n",
       "    </tr>\n",
       "  </tbody>\n",
       "</table>\n",
       "</div>"
      ],
      "text/plain": [
       "   Purity (%)  PdI (batch)  Zave (12.5 ug/ml)  Genotoxicity  Type_OH\n",
       "0    0.934783     0.349333           0.020378           0.0      0.0\n",
       "1    1.000000     0.730667           0.132460           0.0      1.0\n",
       "2    1.000000     0.413333           0.014556           0.0      0.0\n",
       "3    0.923913     0.026667           0.000000           0.0      0.0\n",
       "4    0.934783     0.024000           0.425036           1.0      1.0"
      ]
     },
     "execution_count": 6,
     "metadata": {},
     "output_type": "execute_result"
    }
   ],
   "source": [
    "scaled_data.head()"
   ]
  },
  {
   "cell_type": "markdown",
   "metadata": {},
   "source": [
    "### Load the final model"
   ]
  },
  {
   "cell_type": "code",
   "execution_count": 7,
   "metadata": {},
   "outputs": [],
   "source": [
    "import joblib\n",
    "logmodel = joblib.load('Final_model.sav')"
   ]
  },
  {
   "cell_type": "code",
   "execution_count": 8,
   "metadata": {},
   "outputs": [],
   "source": [
    "from sklearn.linear_model import LogisticRegression\n",
    "logmodel = LogisticRegression(C=1374.54, penalty='l1', random_state=42)"
   ]
  },
  {
   "cell_type": "markdown",
   "metadata": {},
   "source": [
    "### Extract the endpoint column"
   ]
  },
  {
   "cell_type": "code",
   "execution_count": 9,
   "metadata": {},
   "outputs": [],
   "source": [
    "labels = df.pop('Genotoxicity')"
   ]
  },
  {
   "cell_type": "markdown",
   "metadata": {},
   "source": [
    "### Create the PMML"
   ]
  },
  {
   "cell_type": "code",
   "execution_count": 10,
   "metadata": {},
   "outputs": [],
   "source": [
    "pipeline = PMMLPipeline([(\"scale\",scaler),(\"classifier\",logmodel)])"
   ]
  },
  {
   "cell_type": "code",
   "execution_count": 11,
   "metadata": {},
   "outputs": [
    {
     "name": "stderr",
     "output_type": "stream",
     "text": [
      "c:\\users\\user\\desktop\\test-jupyter\\lib\\site-packages\\sklearn\\preprocessing\\data.py:323: DataConversionWarning: Data with input dtype uint8, int64, float64 were all converted to float64 by MinMaxScaler.\n",
      "  return self.partial_fit(X, y)\n",
      "c:\\users\\user\\desktop\\test-jupyter\\lib\\site-packages\\sklearn\\linear_model\\logistic.py:433: FutureWarning: Default solver will be changed to 'lbfgs' in 0.22. Specify a solver to silence this warning.\n",
      "  FutureWarning)\n"
     ]
    }
   ],
   "source": [
    "pipeline.fit(df,labels);"
   ]
  },
  {
   "cell_type": "code",
   "execution_count": 12,
   "metadata": {},
   "outputs": [],
   "source": [
    "sklearn2pmml(pipeline, \"PMML_for_MWCNTs.pmml\", with_repr = True);"
   ]
  }
 ],
 "metadata": {
  "kernelspec": {
   "display_name": "Python 3",
   "language": "python",
   "name": "python3"
  },
  "language_info": {
   "codemirror_mode": {
    "name": "ipython",
    "version": 3
   },
   "file_extension": ".py",
   "mimetype": "text/x-python",
   "name": "python",
   "nbconvert_exporter": "python",
   "pygments_lexer": "ipython3",
   "version": "3.6.7"
  }
 },
 "nbformat": 4,
 "nbformat_minor": 2
}
