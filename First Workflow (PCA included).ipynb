{
 "cells": [
  {
   "cell_type": "markdown",
   "metadata": {},
   "source": [
    "### Import the Lirbraries and load the Dataset, Code names"
   ]
  },
  {
   "cell_type": "code",
   "execution_count": 1,
   "metadata": {},
   "outputs": [
    {
     "data": {
      "text/html": [
       "<div>\n",
       "<style scoped>\n",
       "    .dataframe tbody tr th:only-of-type {\n",
       "        vertical-align: middle;\n",
       "    }\n",
       "\n",
       "    .dataframe tbody tr th {\n",
       "        vertical-align: top;\n",
       "    }\n",
       "\n",
       "    .dataframe thead th {\n",
       "        text-align: right;\n",
       "    }\n",
       "</style>\n",
       "<table border=\"1\" class=\"dataframe\">\n",
       "  <thead>\n",
       "    <tr style=\"text-align: right;\">\n",
       "      <th></th>\n",
       "      <th>Length ave. (nm)</th>\n",
       "      <th>Diameter ave. (nm)</th>\n",
       "      <th>BET (m2/g)</th>\n",
       "      <th>Purity (%)</th>\n",
       "      <th>Zave (batch)</th>\n",
       "      <th>PdI (batch)</th>\n",
       "      <th>Zave (12.5 ug/ml)</th>\n",
       "      <th>PdI  (12.5 ug/ml)</th>\n",
       "      <th>Zave  (200 ug/ml)</th>\n",
       "      <th>PdI  (200 ug/ml)</th>\n",
       "      <th>...</th>\n",
       "      <th>COOH mmol/g</th>\n",
       "      <th>Endotoxins (EU/mg)</th>\n",
       "      <th>Diameter min. (nm)</th>\n",
       "      <th>Diameter max. (nm)</th>\n",
       "      <th>Type_COOH</th>\n",
       "      <th>Type_NH2</th>\n",
       "      <th>Type_OH</th>\n",
       "      <th>Type_PRISTINE</th>\n",
       "      <th>% Total Impurities</th>\n",
       "      <th>Genotoxicity</th>\n",
       "    </tr>\n",
       "  </thead>\n",
       "  <tbody>\n",
       "    <tr>\n",
       "      <th>0</th>\n",
       "      <td>0.000000</td>\n",
       "      <td>0.198214</td>\n",
       "      <td>0.559322</td>\n",
       "      <td>0.934783</td>\n",
       "      <td>0.036390</td>\n",
       "      <td>0.349333</td>\n",
       "      <td>0.020378</td>\n",
       "      <td>0.234910</td>\n",
       "      <td>0.067882</td>\n",
       "      <td>0.306306</td>\n",
       "      <td>...</td>\n",
       "      <td>0.079208</td>\n",
       "      <td>0.34</td>\n",
       "      <td>0.332558</td>\n",
       "      <td>0.206494</td>\n",
       "      <td>0</td>\n",
       "      <td>0</td>\n",
       "      <td>0</td>\n",
       "      <td>1</td>\n",
       "      <td>0.134906</td>\n",
       "      <td>0</td>\n",
       "    </tr>\n",
       "    <tr>\n",
       "      <th>1</th>\n",
       "      <td>0.093822</td>\n",
       "      <td>0.283929</td>\n",
       "      <td>0.567797</td>\n",
       "      <td>1.000000</td>\n",
       "      <td>0.066958</td>\n",
       "      <td>0.730667</td>\n",
       "      <td>0.132460</td>\n",
       "      <td>0.375204</td>\n",
       "      <td>0.054205</td>\n",
       "      <td>0.570571</td>\n",
       "      <td>...</td>\n",
       "      <td>0.405941</td>\n",
       "      <td>0.42</td>\n",
       "      <td>0.390698</td>\n",
       "      <td>0.298701</td>\n",
       "      <td>0</td>\n",
       "      <td>0</td>\n",
       "      <td>1</td>\n",
       "      <td>0</td>\n",
       "      <td>0.075646</td>\n",
       "      <td>0</td>\n",
       "    </tr>\n",
       "    <tr>\n",
       "      <th>2</th>\n",
       "      <td>0.039432</td>\n",
       "      <td>0.342857</td>\n",
       "      <td>0.521186</td>\n",
       "      <td>1.000000</td>\n",
       "      <td>0.035861</td>\n",
       "      <td>0.413333</td>\n",
       "      <td>0.014556</td>\n",
       "      <td>0.097879</td>\n",
       "      <td>0.031408</td>\n",
       "      <td>0.357357</td>\n",
       "      <td>...</td>\n",
       "      <td>1.000000</td>\n",
       "      <td>0.50</td>\n",
       "      <td>0.372093</td>\n",
       "      <td>0.394805</td>\n",
       "      <td>1</td>\n",
       "      <td>0</td>\n",
       "      <td>0</td>\n",
       "      <td>0</td>\n",
       "      <td>0.048780</td>\n",
       "      <td>0</td>\n",
       "    </tr>\n",
       "    <tr>\n",
       "      <th>3</th>\n",
       "      <td>0.048716</td>\n",
       "      <td>0.796429</td>\n",
       "      <td>0.271186</td>\n",
       "      <td>0.923913</td>\n",
       "      <td>0.011777</td>\n",
       "      <td>0.026667</td>\n",
       "      <td>0.000000</td>\n",
       "      <td>0.000000</td>\n",
       "      <td>0.013171</td>\n",
       "      <td>0.000000</td>\n",
       "      <td>...</td>\n",
       "      <td>0.034653</td>\n",
       "      <td>0.48</td>\n",
       "      <td>0.872093</td>\n",
       "      <td>0.775325</td>\n",
       "      <td>0</td>\n",
       "      <td>0</td>\n",
       "      <td>0</td>\n",
       "      <td>1</td>\n",
       "      <td>0.219889</td>\n",
       "      <td>0</td>\n",
       "    </tr>\n",
       "    <tr>\n",
       "      <th>4</th>\n",
       "      <td>0.156550</td>\n",
       "      <td>0.387500</td>\n",
       "      <td>0.237288</td>\n",
       "      <td>0.934783</td>\n",
       "      <td>0.045124</td>\n",
       "      <td>0.024000</td>\n",
       "      <td>0.425036</td>\n",
       "      <td>0.365416</td>\n",
       "      <td>0.241641</td>\n",
       "      <td>0.822823</td>\n",
       "      <td>...</td>\n",
       "      <td>0.044554</td>\n",
       "      <td>0.52</td>\n",
       "      <td>0.444186</td>\n",
       "      <td>0.419481</td>\n",
       "      <td>0</td>\n",
       "      <td>0</td>\n",
       "      <td>1</td>\n",
       "      <td>0</td>\n",
       "      <td>0.190736</td>\n",
       "      <td>1</td>\n",
       "    </tr>\n",
       "  </tbody>\n",
       "</table>\n",
       "<p>5 rows × 24 columns</p>\n",
       "</div>"
      ],
      "text/plain": [
       "   Length ave. (nm)   Diameter ave. (nm)  BET (m2/g)  Purity (%)  \\\n",
       "0           0.000000            0.198214    0.559322    0.934783   \n",
       "1           0.093822            0.283929    0.567797    1.000000   \n",
       "2           0.039432            0.342857    0.521186    1.000000   \n",
       "3           0.048716            0.796429    0.271186    0.923913   \n",
       "4           0.156550            0.387500    0.237288    0.934783   \n",
       "\n",
       "   Zave (batch)  PdI (batch)  Zave (12.5 ug/ml)  PdI  (12.5 ug/ml)  \\\n",
       "0      0.036390     0.349333           0.020378           0.234910   \n",
       "1      0.066958     0.730667           0.132460           0.375204   \n",
       "2      0.035861     0.413333           0.014556           0.097879   \n",
       "3      0.011777     0.026667           0.000000           0.000000   \n",
       "4      0.045124     0.024000           0.425036           0.365416   \n",
       "\n",
       "   Zave  (200 ug/ml)  PdI  (200 ug/ml)  ...  COOH mmol/g  Endotoxins (EU/mg)  \\\n",
       "0           0.067882          0.306306  ...     0.079208                0.34   \n",
       "1           0.054205          0.570571  ...     0.405941                0.42   \n",
       "2           0.031408          0.357357  ...     1.000000                0.50   \n",
       "3           0.013171          0.000000  ...     0.034653                0.48   \n",
       "4           0.241641          0.822823  ...     0.044554                0.52   \n",
       "\n",
       "   Diameter min. (nm)  Diameter max. (nm)  Type_COOH  Type_NH2  Type_OH  \\\n",
       "0            0.332558            0.206494          0         0        0   \n",
       "1            0.390698            0.298701          0         0        1   \n",
       "2            0.372093            0.394805          1         0        0   \n",
       "3            0.872093            0.775325          0         0        0   \n",
       "4            0.444186            0.419481          0         0        1   \n",
       "\n",
       "   Type_PRISTINE  % Total Impurities  Genotoxicity  \n",
       "0              1            0.134906             0  \n",
       "1              0            0.075646             0  \n",
       "2              0            0.048780             0  \n",
       "3              1            0.219889             0  \n",
       "4              0            0.190736             1  \n",
       "\n",
       "[5 rows x 24 columns]"
      ]
     },
     "execution_count": 1,
     "metadata": {},
     "output_type": "execute_result"
    }
   ],
   "source": [
    "import matplotlib.pyplot as plt\n",
    "import pandas as pd\n",
    "import numpy as np\n",
    "import seaborn as sns\n",
    "from datetime import datetime\n",
    "%matplotlib inline\n",
    "\n",
    "df = pd.read_csv('pre-precessed_dataset.csv')\n",
    "codes = open('codes.txt','r').readlines()\n",
    "\n",
    "df.head()"
   ]
  },
  {
   "cell_type": "markdown",
   "metadata": {},
   "source": [
    "### PCA Transformation"
   ]
  },
  {
   "cell_type": "markdown",
   "metadata": {},
   "source": [
    "In order to transform the dataset, we must select the number of the Principal Components to keep."
   ]
  },
  {
   "cell_type": "code",
   "execution_count": 2,
   "metadata": {},
   "outputs": [],
   "source": [
    "# Extract the endpoint, so that the transformation will not be biased\n",
    "endpoint = df.pop('Genotoxicity')"
   ]
  },
  {
   "cell_type": "code",
   "execution_count": 3,
   "metadata": {},
   "outputs": [
    {
     "data": {
      "text/plain": [
       "<Figure size 432x288 with 0 Axes>"
      ]
     },
     "metadata": {},
     "output_type": "display_data"
    },
    {
     "data": {
      "image/png": "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\n",
      "text/plain": [
       "<Figure size 1080x576 with 1 Axes>"
      ]
     },
     "metadata": {
      "needs_background": "light"
     },
     "output_type": "display_data"
    }
   ],
   "source": [
    "from sklearn.decomposition import PCA\n",
    "\n",
    "#Fitting the PCA algorithm with our Data\n",
    "pca = PCA().fit(df)\n",
    "\n",
    "plt.figure()\n",
    "plt.figure(figsize=(15,8))\n",
    "\n",
    "plt.plot(np.cumsum(pca.explained_variance_ratio_),linewidth=6)\n",
    "plt.xlabel('Number of Components', fontsize=20, fontweight = 'bold')\n",
    "plt.ylabel('Variance (%)', fontsize=20, fontweight = 'bold')\n",
    "#plt.title('Dataset Explained Variance', fontsize=20, fontweight = 'bold')\n",
    "plt.grid(linestyle='-', linewidth=2)\n",
    "plt.xticks(np.arange(0, len(df), 1))\n",
    "plt.savefig('PCA.png')\n",
    "plt.show()"
   ]
  },
  {
   "cell_type": "code",
   "execution_count": 4,
   "metadata": {},
   "outputs": [],
   "source": [
    "# 9 Principal Components were kept, in order to exclude the noise and not lose information\n",
    "n_comp =9\n",
    "pca = PCA(n_components=n_comp)\n",
    "x_pca = pca.fit_transform(df)\n",
    "\n",
    "name_lst=[]\n",
    "for i in range(n_comp):\n",
    "    name_lst.append('Principal Component {}'.format(i))\n",
    "    \n",
    "x_pca = pd.DataFrame(x_pca,list(range(len(x_pca))),name_lst)\n"
   ]
  },
  {
   "cell_type": "code",
   "execution_count": 5,
   "metadata": {},
   "outputs": [
    {
     "data": {
      "image/png": "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\n",
      "text/plain": [
       "<Figure size 2880x1296 with 1 Axes>"
      ]
     },
     "metadata": {
      "needs_background": "light"
     },
     "output_type": "display_data"
    }
   ],
   "source": [
    "data=df.copy()\n",
    "features = list(data.columns)\n",
    "\n",
    "pca_data = pca.fit_transform(data)\n",
    "pca_inv_data = pca.inverse_transform(np.eye(n_comp))\n",
    "\n",
    "fig = plt.figure(figsize=(40, 18))\n",
    "plt.plot(pca_inv_data.mean(axis=0), '--o', label = 'mean', linewidth=5.0)\n",
    "plt.plot(np.square(pca_inv_data.std(axis=0)), '--o', label = 'variance', linewidth=5.0)\n",
    "\n",
    "plt.legend(loc='upper right',fontsize=30)\n",
    "plt.ylabel('PCA Contribution', fontsize=30, fontweight = 'bold');\n",
    "plt.xlabel('Feature', fontsize=30, fontweight = 'bold');\n",
    "plt.tick_params(axis='both', which='major', labelsize=18);\n",
    "plt.tick_params(axis='both', which='minor', labelsize=12);\n",
    "\n",
    "plt.xlim([-1, 24])\n",
    "ticks = range(-1,22)\n",
    "plt.xticks(ticks, features, fontsize=18, rotation=45, fontweight='bold');\n",
    "fig.savefig('variance_vs_mean_plot.png')"
   ]
  },
  {
   "cell_type": "code",
   "execution_count": 6,
   "metadata": {},
   "outputs": [],
   "source": [
    "x_pca['Genotoxicity'] = endpoint"
   ]
  },
  {
   "cell_type": "code",
   "execution_count": 7,
   "metadata": {},
   "outputs": [
    {
     "data": {
      "text/html": [
       "<div>\n",
       "<style scoped>\n",
       "    .dataframe tbody tr th:only-of-type {\n",
       "        vertical-align: middle;\n",
       "    }\n",
       "\n",
       "    .dataframe tbody tr th {\n",
       "        vertical-align: top;\n",
       "    }\n",
       "\n",
       "    .dataframe thead th {\n",
       "        text-align: right;\n",
       "    }\n",
       "</style>\n",
       "<table border=\"1\" class=\"dataframe\">\n",
       "  <thead>\n",
       "    <tr style=\"text-align: right;\">\n",
       "      <th></th>\n",
       "      <th>Principal Component 0</th>\n",
       "      <th>Principal Component 1</th>\n",
       "      <th>Principal Component 2</th>\n",
       "      <th>Principal Component 3</th>\n",
       "      <th>Principal Component 4</th>\n",
       "      <th>Principal Component 5</th>\n",
       "      <th>Principal Component 6</th>\n",
       "      <th>Principal Component 7</th>\n",
       "      <th>Principal Component 8</th>\n",
       "      <th>Genotoxicity</th>\n",
       "    </tr>\n",
       "  </thead>\n",
       "  <tbody>\n",
       "    <tr>\n",
       "      <th>0</th>\n",
       "      <td>-0.009322</td>\n",
       "      <td>-0.238087</td>\n",
       "      <td>0.179291</td>\n",
       "      <td>0.297485</td>\n",
       "      <td>-0.224081</td>\n",
       "      <td>0.505105</td>\n",
       "      <td>0.192025</td>\n",
       "      <td>-0.003979</td>\n",
       "      <td>0.023610</td>\n",
       "      <td>0</td>\n",
       "    </tr>\n",
       "    <tr>\n",
       "      <th>1</th>\n",
       "      <td>-0.314282</td>\n",
       "      <td>0.728056</td>\n",
       "      <td>-0.652374</td>\n",
       "      <td>0.122277</td>\n",
       "      <td>-0.298215</td>\n",
       "      <td>0.154214</td>\n",
       "      <td>-0.407120</td>\n",
       "      <td>-0.140482</td>\n",
       "      <td>0.027035</td>\n",
       "      <td>0</td>\n",
       "    </tr>\n",
       "    <tr>\n",
       "      <th>2</th>\n",
       "      <td>-0.231450</td>\n",
       "      <td>1.210853</td>\n",
       "      <td>0.872377</td>\n",
       "      <td>0.109662</td>\n",
       "      <td>0.193975</td>\n",
       "      <td>0.212002</td>\n",
       "      <td>-0.588820</td>\n",
       "      <td>-0.289467</td>\n",
       "      <td>0.135531</td>\n",
       "      <td>0</td>\n",
       "    </tr>\n",
       "    <tr>\n",
       "      <th>3</th>\n",
       "      <td>0.799279</td>\n",
       "      <td>-0.059817</td>\n",
       "      <td>0.376742</td>\n",
       "      <td>0.225677</td>\n",
       "      <td>-0.535255</td>\n",
       "      <td>0.660894</td>\n",
       "      <td>0.342425</td>\n",
       "      <td>0.201262</td>\n",
       "      <td>-0.055648</td>\n",
       "      <td>0</td>\n",
       "    </tr>\n",
       "    <tr>\n",
       "      <th>4</th>\n",
       "      <td>0.207372</td>\n",
       "      <td>0.598267</td>\n",
       "      <td>-0.744105</td>\n",
       "      <td>0.116494</td>\n",
       "      <td>-0.494650</td>\n",
       "      <td>-0.377100</td>\n",
       "      <td>-0.131616</td>\n",
       "      <td>0.212818</td>\n",
       "      <td>-0.207934</td>\n",
       "      <td>1</td>\n",
       "    </tr>\n",
       "  </tbody>\n",
       "</table>\n",
       "</div>"
      ],
      "text/plain": [
       "   Principal Component 0  Principal Component 1  Principal Component 2  \\\n",
       "0              -0.009322              -0.238087               0.179291   \n",
       "1              -0.314282               0.728056              -0.652374   \n",
       "2              -0.231450               1.210853               0.872377   \n",
       "3               0.799279              -0.059817               0.376742   \n",
       "4               0.207372               0.598267              -0.744105   \n",
       "\n",
       "   Principal Component 3  Principal Component 4  Principal Component 5  \\\n",
       "0               0.297485              -0.224081               0.505105   \n",
       "1               0.122277              -0.298215               0.154214   \n",
       "2               0.109662               0.193975               0.212002   \n",
       "3               0.225677              -0.535255               0.660894   \n",
       "4               0.116494              -0.494650              -0.377100   \n",
       "\n",
       "   Principal Component 6  Principal Component 7  Principal Component 8  \\\n",
       "0               0.192025              -0.003979               0.023610   \n",
       "1              -0.407120              -0.140482               0.027035   \n",
       "2              -0.588820              -0.289467               0.135531   \n",
       "3               0.342425               0.201262              -0.055648   \n",
       "4              -0.131616               0.212818              -0.207934   \n",
       "\n",
       "   Genotoxicity  \n",
       "0             0  \n",
       "1             0  \n",
       "2             0  \n",
       "3             0  \n",
       "4             1  "
      ]
     },
     "execution_count": 7,
     "metadata": {},
     "output_type": "execute_result"
    }
   ],
   "source": [
    "x_pca.head()"
   ]
  },
  {
   "cell_type": "markdown",
   "metadata": {},
   "source": [
    "### Train-Test Split"
   ]
  },
  {
   "cell_type": "code",
   "execution_count": 8,
   "metadata": {},
   "outputs": [],
   "source": [
    "from Kennard_Stone import kennardstonealgorithm"
   ]
  },
  {
   "cell_type": "markdown",
   "metadata": {},
   "source": [
    "Using the Kennart-Stone algorithm, we split the dataset into 2 sets, one for training and one for validation"
   ]
  },
  {
   "cell_type": "code",
   "execution_count": 9,
   "metadata": {},
   "outputs": [],
   "source": [
    "train, test, train_labels, test_labels = kennardstonealgorithm(x_pca,'Genotoxicity',5)"
   ]
  },
  {
   "cell_type": "code",
   "execution_count": 10,
   "metadata": {},
   "outputs": [
    {
     "name": "stdout",
     "output_type": "stream",
     "text": [
      "Training Features Shape: (10, 9)\n",
      "Training Labels Shape: (10,)\n",
      "Testing Features Shape: (5, 9)\n",
      "Testing Labels Shape: (5,)\n"
     ]
    }
   ],
   "source": [
    "print('Training Features Shape:', train.shape)\n",
    "print('Training Labels Shape:', train_labels.shape)\n",
    "print('Testing Features Shape:', test.shape)\n",
    "print('Testing Labels Shape:', test_labels.shape)"
   ]
  },
  {
   "cell_type": "code",
   "execution_count": 85,
   "metadata": {},
   "outputs": [
    {
     "data": {
      "text/plain": [
       "Int64Index([0, 1, 8, 11, 12], dtype='int64')"
      ]
     },
     "execution_count": 85,
     "metadata": {},
     "output_type": "execute_result"
    }
   ],
   "source": [
    "test.index"
   ]
  },
  {
   "cell_type": "code",
   "execution_count": 87,
   "metadata": {},
   "outputs": [
    {
     "name": "stdout",
     "output_type": "stream",
     "text": [
      "The names of the testing samples are:\n",
      "=====================================\n",
      "NRCWE- 040\n",
      "NRCWE- 041\n",
      "NRCWE- 048\n",
      "NM-401\n",
      "NM-402\n"
     ]
    }
   ],
   "source": [
    "print('The names of the testing samples are:')\n",
    "print('=====================================')\n",
    "test_codes = [codes[i][:-1] for i in test.index]\n",
    "for code in test_codes:\n",
    "    print(code)"
   ]
  },
  {
   "cell_type": "code",
   "execution_count": 12,
   "metadata": {
    "scrolled": false
   },
   "outputs": [
    {
     "data": {
      "image/png": "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\n",
      "text/plain": [
       "<Figure size 1080x576 with 1 Axes>"
      ]
     },
     "metadata": {
      "needs_background": "light"
     },
     "output_type": "display_data"
    }
   ],
   "source": [
    "plt.figure(figsize=(15,8))\n",
    "plt.scatter(x_pca.iloc[:,0],x_pca.iloc[:,1], c=x_pca.Genotoxicity);\n",
    "plt.xlabel('First Principal Component', fontsize=20);\n",
    "plt.ylabel('Second Principal Component', fontsize=20);"
   ]
  },
  {
   "cell_type": "markdown",
   "metadata": {},
   "source": [
    "### Domain of Applicability"
   ]
  },
  {
   "cell_type": "code",
   "execution_count": 13,
   "metadata": {},
   "outputs": [],
   "source": [
    "# Convert to numpy array\n",
    "np_train_labels = np.array(train_labels)\n",
    "np_test_labels = np.array(test_labels)\n",
    "np_test = np.array(test)\n",
    "np_train = np.array(train)"
   ]
  },
  {
   "cell_type": "code",
   "execution_count": 14,
   "metadata": {},
   "outputs": [
    {
     "name": "stdout",
     "output_type": "stream",
     "text": [
      "The Leverage threshold is: 2.7\n"
     ]
    }
   ],
   "source": [
    "leverage_threshold = 3*np_train.shape[1]/np_train.shape[0]\n",
    "print('The Leverage threshold is:', round(leverage_threshold, 2))"
   ]
  },
  {
   "cell_type": "code",
   "execution_count": 89,
   "metadata": {},
   "outputs": [
    {
     "name": "stdout",
     "output_type": "stream",
     "text": [
      "Sample: NRCWE- 040    Leverage Value: 0.37    Reliability: reliable\n",
      "Sample: NRCWE- 041    Leverage Value: 1.2    Reliability: reliable\n",
      "Sample: NRCWE- 048    Leverage Value: 2.93    Reliability: unreliable\n",
      "Sample: NM-401        Leverage Value: 2.63    Reliability: reliable\n",
      "Sample: NM-402        Leverage Value: 1.78    Reliability: reliable\n"
     ]
    }
   ],
   "source": [
    "from numpy.linalg import matrix_power\n",
    "H=[]\n",
    "reliability=[]\n",
    "for i in range(len(np_test)):\n",
    "    H.append(np_test[i].T@(matrix_power(np_train.T@np_train, -1))@np_test[i])\n",
    "    if H[i]<=leverage_threshold:\n",
    "        reliability.append('reliable')\n",
    "    else:\n",
    "        reliability.append('unreliable')\n",
    "\n",
    "LV = [(sample, round(l_val, 2),rely) for sample, l_val, rely in zip(test_codes, H, reliability)]\n",
    "for i in range(len(np_test)):\n",
    "    [print('Sample: {:13} Leverage Value: {}    Reliability: {}'.format(LV[i][0],LV[i][1],LV[i][2]))];"
   ]
  },
  {
   "cell_type": "markdown",
   "metadata": {},
   "source": [
    "### Import Bayesian Optimization Tool and Search for the Best Model"
   ]
  },
  {
   "cell_type": "code",
   "execution_count": 16,
   "metadata": {},
   "outputs": [],
   "source": [
    "from Bayesian_Optimization import BayesOpt"
   ]
  },
  {
   "cell_type": "code",
   "execution_count": 17,
   "metadata": {},
   "outputs": [],
   "source": [
    "bo = BayesOpt(train, train_labels, folds=4, log_scaling=False)"
   ]
  },
  {
   "cell_type": "markdown",
   "metadata": {},
   "source": [
    "#### Optimization for the SVM model"
   ]
  },
  {
   "cell_type": "code",
   "execution_count": 18,
   "metadata": {
    "scrolled": true
   },
   "outputs": [
    {
     "name": "stdout",
     "output_type": "stream",
     "text": [
      "Optimizing for linear kernel\n",
      "|   iter    |  target   |     C     |   gamma   |\n",
      "-------------------------------------------------\n",
      "| \u001b[0m 1       \u001b[0m | \u001b[0m 0.7083  \u001b[0m | \u001b[0m 4.371   \u001b[0m | \u001b[0m 0.9512  \u001b[0m |\n",
      "| \u001b[0m 2       \u001b[0m | \u001b[0m 0.7083  \u001b[0m | \u001b[0m 7.588   \u001b[0m | \u001b[0m 0.6027  \u001b[0m |\n",
      "| \u001b[0m 3       \u001b[0m | \u001b[0m 0.7083  \u001b[0m | \u001b[0m 2.404   \u001b[0m | \u001b[0m 0.1644  \u001b[0m |\n",
      "| \u001b[0m 4       \u001b[0m | \u001b[0m 0.7083  \u001b[0m | \u001b[0m 1.523   \u001b[0m | \u001b[0m 0.8675  \u001b[0m |\n",
      "| \u001b[0m 5       \u001b[0m | \u001b[0m 0.7083  \u001b[0m | \u001b[0m 6.41    \u001b[0m | \u001b[0m 0.711   \u001b[0m |\n",
      "Error related to scaling.\n",
      "Optimizing for poly kernel\n",
      "|   iter    |  target   |     C     |   gamma   |\n",
      "-------------------------------------------------\n",
      "| \u001b[0m 1       \u001b[0m | \u001b[0m 0.4167  \u001b[0m | \u001b[0m 4.371   \u001b[0m | \u001b[0m 0.9512  \u001b[0m |\n",
      "| \u001b[0m 2       \u001b[0m | \u001b[0m 0.4167  \u001b[0m | \u001b[0m 7.588   \u001b[0m | \u001b[0m 0.6027  \u001b[0m |\n",
      "| \u001b[0m 3       \u001b[0m | \u001b[0m 0.2917  \u001b[0m | \u001b[0m 2.404   \u001b[0m | \u001b[0m 0.1644  \u001b[0m |\n",
      "| \u001b[0m 4       \u001b[0m | \u001b[0m 0.4167  \u001b[0m | \u001b[0m 1.523   \u001b[0m | \u001b[0m 0.8675  \u001b[0m |\n",
      "| \u001b[0m 5       \u001b[0m | \u001b[0m 0.4167  \u001b[0m | \u001b[0m 6.41    \u001b[0m | \u001b[0m 0.711   \u001b[0m |\n",
      "| \u001b[0m 6       \u001b[0m | \u001b[0m 0.4167  \u001b[0m | \u001b[0m 7.61    \u001b[0m | \u001b[0m 0.506   \u001b[0m |\n",
      "| \u001b[0m 7       \u001b[0m | \u001b[0m 0.2917  \u001b[0m | \u001b[0m 5.293   \u001b[0m | \u001b[0m 0.1913  \u001b[0m |\n",
      "| \u001b[0m 8       \u001b[0m | \u001b[0m 0.2917  \u001b[0m | \u001b[0m 6.918   \u001b[0m | \u001b[0m 0.14    \u001b[0m |\n",
      "| \u001b[0m 9       \u001b[0m | \u001b[0m 0.4167  \u001b[0m | \u001b[0m 8.072   \u001b[0m | \u001b[0m 0.646   \u001b[0m |\n",
      "| \u001b[0m 10      \u001b[0m | \u001b[0m 0.2917  \u001b[0m | \u001b[0m 1.0     \u001b[0m | \u001b[0m 0.6371  \u001b[0m |\n",
      "| \u001b[0m 11      \u001b[0m | \u001b[0m 0.4167  \u001b[0m | \u001b[0m 1.909   \u001b[0m | \u001b[0m 1.0     \u001b[0m |\n",
      "| \u001b[0m 12      \u001b[0m | \u001b[0m 0.4167  \u001b[0m | \u001b[0m 3.842   \u001b[0m | \u001b[0m 1.0     \u001b[0m |\n",
      "| \u001b[0m 13      \u001b[0m | \u001b[0m 0.4167  \u001b[0m | \u001b[0m 4.022   \u001b[0m | \u001b[0m 0.4606  \u001b[0m |\n",
      "| \u001b[0m 14      \u001b[0m | \u001b[0m 0.4167  \u001b[0m | \u001b[0m 1.519   \u001b[0m | \u001b[0m 0.8813  \u001b[0m |\n",
      "| \u001b[0m 15      \u001b[0m | \u001b[0m 0.2917  \u001b[0m | \u001b[0m 8.388   \u001b[0m | \u001b[0m 0.01    \u001b[0m |\n",
      "=================================================\n",
      "Optimizing for rbf kernel\n",
      "|   iter    |  target   |     C     |   gamma   |\n",
      "-------------------------------------------------\n",
      "| \u001b[0m 1       \u001b[0m | \u001b[0m 0.2917  \u001b[0m | \u001b[0m 4.371   \u001b[0m | \u001b[0m 0.9512  \u001b[0m |\n",
      "| \u001b[95m 2       \u001b[0m | \u001b[95m 0.3333  \u001b[0m | \u001b[95m 7.588   \u001b[0m | \u001b[95m 0.6027  \u001b[0m |\n",
      "| \u001b[0m 3       \u001b[0m | \u001b[0m 0.3333  \u001b[0m | \u001b[0m 2.404   \u001b[0m | \u001b[0m 0.1644  \u001b[0m |\n",
      "| \u001b[95m 4       \u001b[0m | \u001b[95m 0.4167  \u001b[0m | \u001b[95m 1.523   \u001b[0m | \u001b[95m 0.8675  \u001b[0m |\n",
      "| \u001b[0m 5       \u001b[0m | \u001b[0m 0.3333  \u001b[0m | \u001b[0m 6.41    \u001b[0m | \u001b[0m 0.711   \u001b[0m |\n",
      "| \u001b[0m 6       \u001b[0m | \u001b[0m 0.3333  \u001b[0m | \u001b[0m 1.564   \u001b[0m | \u001b[0m 0.8409  \u001b[0m |\n",
      "| \u001b[0m 7       \u001b[0m | \u001b[0m 0.3333  \u001b[0m | \u001b[0m 8.456   \u001b[0m | \u001b[0m 0.3073  \u001b[0m |\n",
      "| \u001b[0m 8       \u001b[0m | \u001b[0m 0.3333  \u001b[0m | \u001b[0m 1.912   \u001b[0m | \u001b[0m 0.5265  \u001b[0m |\n",
      "| \u001b[0m 9       \u001b[0m | \u001b[0m 0.4167  \u001b[0m | \u001b[0m 1.051   \u001b[0m | \u001b[0m 0.4691  \u001b[0m |\n",
      "| \u001b[0m 10      \u001b[0m | \u001b[0m 0.3333  \u001b[0m | \u001b[0m 7.008   \u001b[0m | \u001b[0m 0.6458  \u001b[0m |\n",
      "| \u001b[0m 11      \u001b[0m | \u001b[0m 0.4167  \u001b[0m | \u001b[0m 1.292   \u001b[0m | \u001b[0m 0.2231  \u001b[0m |\n",
      "| \u001b[0m 12      \u001b[0m | \u001b[0m 0.3333  \u001b[0m | \u001b[0m 4.976   \u001b[0m | \u001b[0m 0.8261  \u001b[0m |\n",
      "| \u001b[0m 13      \u001b[0m | \u001b[0m 0.3333  \u001b[0m | \u001b[0m 1.168   \u001b[0m | \u001b[0m 0.4439  \u001b[0m |\n",
      "| \u001b[0m 14      \u001b[0m | \u001b[0m 0.3333  \u001b[0m | \u001b[0m 4.556   \u001b[0m | \u001b[0m 0.4925  \u001b[0m |\n",
      "| \u001b[0m 15      \u001b[0m | \u001b[0m 0.3333  \u001b[0m | \u001b[0m 7.212   \u001b[0m | \u001b[0m 0.1312  \u001b[0m |\n",
      "=================================================\n",
      "Optimizing for sigmoid kernel\n",
      "|   iter    |  target   |     C     |   gamma   |\n",
      "-------------------------------------------------\n",
      "| \u001b[0m 1       \u001b[0m | \u001b[0m 0.5417  \u001b[0m | \u001b[0m 4.371   \u001b[0m | \u001b[0m 0.9512  \u001b[0m |\n",
      "| \u001b[95m 2       \u001b[0m | \u001b[95m 0.625   \u001b[0m | \u001b[95m 7.588   \u001b[0m | \u001b[95m 0.6027  \u001b[0m |\n",
      "| \u001b[0m 3       \u001b[0m | \u001b[0m 0.4583  \u001b[0m | \u001b[0m 2.404   \u001b[0m | \u001b[0m 0.1644  \u001b[0m |\n",
      "| \u001b[95m 4       \u001b[0m | \u001b[95m 0.7083  \u001b[0m | \u001b[95m 1.523   \u001b[0m | \u001b[95m 0.8675  \u001b[0m |\n",
      "| \u001b[0m 5       \u001b[0m | \u001b[0m 0.625   \u001b[0m | \u001b[0m 6.41    \u001b[0m | \u001b[0m 0.711   \u001b[0m |\n",
      "| \u001b[0m 6       \u001b[0m | \u001b[0m 0.7083  \u001b[0m | \u001b[0m 1.547   \u001b[0m | \u001b[0m 0.8993  \u001b[0m |\n",
      "| \u001b[0m 7       \u001b[0m | \u001b[0m 0.7083  \u001b[0m | \u001b[0m 1.0     \u001b[0m | \u001b[0m 1.0     \u001b[0m |\n",
      "| \u001b[0m 8       \u001b[0m | \u001b[0m 0.4167  \u001b[0m | \u001b[0m 10.0    \u001b[0m | \u001b[0m 0.01    \u001b[0m |\n",
      "| \u001b[0m 9       \u001b[0m | \u001b[0m 0.4167  \u001b[0m | \u001b[0m 1.0     \u001b[0m | \u001b[0m 0.01    \u001b[0m |\n",
      "| \u001b[0m 10      \u001b[0m | \u001b[0m 0.4167  \u001b[0m | \u001b[0m 5.6     \u001b[0m | \u001b[0m 0.01    \u001b[0m |\n",
      "| \u001b[0m 11      \u001b[0m | \u001b[0m 0.5417  \u001b[0m | \u001b[0m 8.492   \u001b[0m | \u001b[0m 1.0     \u001b[0m |\n",
      "| \u001b[0m 12      \u001b[0m | \u001b[0m 0.4167  \u001b[0m | \u001b[0m 7.047   \u001b[0m | \u001b[0m 0.01    \u001b[0m |\n",
      "| \u001b[0m 13      \u001b[0m | \u001b[0m 0.5417  \u001b[0m | \u001b[0m 7.04    \u001b[0m | \u001b[0m 1.0     \u001b[0m |\n",
      "| \u001b[0m 14      \u001b[0m | \u001b[0m 0.7083  \u001b[0m | \u001b[0m 1.298   \u001b[0m | \u001b[0m 0.9963  \u001b[0m |\n",
      "| \u001b[0m 15      \u001b[0m | \u001b[0m 0.4167  \u001b[0m | \u001b[0m 8.288   \u001b[0m | \u001b[0m 0.01    \u001b[0m |\n",
      "=================================================\n",
      "\n",
      "\n",
      "Final result: The optimal model's accuracy is 0.7083333333333333 and the optimal parameters are C=4.370861069626263, gamma=0.951207163345817 and kernel=linear\n"
     ]
    }
   ],
   "source": [
    "# Get the time that the optimization started\n",
    "start_time = datetime.now().strftime(\"%H:%M:%S\")\n",
    "\n",
    "# # Boundaries of the hyperparameters\n",
    "params = {'C': (1,10), 'gamma':(0.01,1)}\n",
    "\n",
    "# Optimization\n",
    "svm_optimum = bo.optimize_svm(params)\n",
    "\n",
    "# Get the time that the optimization ended\n",
    "end_time = datetime.now().strftime(\"%H:%M:%S\")"
   ]
  },
  {
   "cell_type": "code",
   "execution_count": 19,
   "metadata": {
    "scrolled": true
   },
   "outputs": [
    {
     "name": "stdout",
     "output_type": "stream",
     "text": [
      "Minutes to execute: 0.03\n"
     ]
    }
   ],
   "source": [
    "print('Minutes to execute:', \n",
    "      round((datetime.strptime(end_time, '%H:%M:%S') - datetime.strptime(start_time, '%H:%M:%S')).seconds/60,2))"
   ]
  },
  {
   "cell_type": "markdown",
   "metadata": {},
   "source": [
    "#### Optimization for the RF model"
   ]
  },
  {
   "cell_type": "code",
   "execution_count": 20,
   "metadata": {
    "scrolled": false
   },
   "outputs": [
    {
     "name": "stdout",
     "output_type": "stream",
     "text": [
      "|   iter    |  target   | max_fe... | min_sa... | n_esti... |\n",
      "-------------------------------------------------------------\n",
      "| \u001b[0m 1       \u001b[0m | \u001b[0m 0.5     \u001b[0m | \u001b[0m 0.3996  \u001b[0m | \u001b[0m 0.4803  \u001b[0m | \u001b[0m 7.588   \u001b[0m |\n",
      "| \u001b[95m 2       \u001b[0m | \u001b[95m 0.75    \u001b[0m | \u001b[95m 0.5789  \u001b[0m | \u001b[95m 0.1624  \u001b[0m | \u001b[95m 2.404   \u001b[0m |\n",
      "| \u001b[0m 3       \u001b[0m | \u001b[0m 0.5833  \u001b[0m | \u001b[0m 0.1465  \u001b[0m | \u001b[0m 0.4465  \u001b[0m | \u001b[0m 6.41    \u001b[0m |\n",
      "| \u001b[0m 4       \u001b[0m | \u001b[0m 0.75    \u001b[0m | \u001b[0m 0.6665  \u001b[0m | \u001b[0m 0.1082  \u001b[0m | \u001b[0m 9.729   \u001b[0m |\n",
      "| \u001b[0m 5       \u001b[0m | \u001b[0m 0.75    \u001b[0m | \u001b[0m 0.766   \u001b[0m | \u001b[0m 0.1849  \u001b[0m | \u001b[0m 2.636   \u001b[0m |\n",
      "| \u001b[0m 6       \u001b[0m | \u001b[0m 0.5833  \u001b[0m | \u001b[0m 0.9     \u001b[0m | \u001b[0m 0.5     \u001b[0m | \u001b[0m 1.0     \u001b[0m |\n",
      "| \u001b[0m 7       \u001b[0m | \u001b[0m 0.375   \u001b[0m | \u001b[0m 0.1     \u001b[0m | \u001b[0m 0.1     \u001b[0m | \u001b[0m 3.625   \u001b[0m |\n",
      "| \u001b[0m 8       \u001b[0m | \u001b[0m 0.4167  \u001b[0m | \u001b[0m 0.1     \u001b[0m | \u001b[0m 0.5     \u001b[0m | \u001b[0m 10.0    \u001b[0m |\n",
      "| \u001b[0m 9       \u001b[0m | \u001b[0m 0.75    \u001b[0m | \u001b[0m 0.9     \u001b[0m | \u001b[0m 0.4408  \u001b[0m | \u001b[0m 2.312   \u001b[0m |\n",
      "| \u001b[0m 10      \u001b[0m | \u001b[0m 0.75    \u001b[0m | \u001b[0m 0.8817  \u001b[0m | \u001b[0m 0.1025  \u001b[0m | \u001b[0m 9.199   \u001b[0m |\n",
      "| \u001b[95m 11      \u001b[0m | \u001b[95m 0.8333  \u001b[0m | \u001b[95m 0.6983  \u001b[0m | \u001b[95m 0.1025  \u001b[0m | \u001b[95m 9.727   \u001b[0m |\n",
      "| \u001b[0m 12      \u001b[0m | \u001b[0m 0.8333  \u001b[0m | \u001b[0m 0.7547  \u001b[0m | \u001b[0m 0.1527  \u001b[0m | \u001b[0m 9.732   \u001b[0m |\n",
      "| \u001b[0m 13      \u001b[0m | \u001b[0m 0.8333  \u001b[0m | \u001b[0m 0.7674  \u001b[0m | \u001b[0m 0.1418  \u001b[0m | \u001b[0m 9.859   \u001b[0m |\n",
      "| \u001b[0m 14      \u001b[0m | \u001b[0m 0.75    \u001b[0m | \u001b[0m 0.8679  \u001b[0m | \u001b[0m 0.1     \u001b[0m | \u001b[0m 9.771   \u001b[0m |\n",
      "| \u001b[0m 15      \u001b[0m | \u001b[0m 0.8333  \u001b[0m | \u001b[0m 0.7702  \u001b[0m | \u001b[0m 0.1     \u001b[0m | \u001b[0m 9.601   \u001b[0m |\n",
      "=============================================================\n",
      "\n",
      "\n",
      "Final result: The optimal model's score is 0.8333333333333333 and the optimal parameters are n_estimators=9, min_samples_split=0.10254364431397069 and max_features=0.6982728571858958\n"
     ]
    }
   ],
   "source": [
    "# Get the time that the optimization started\n",
    "start_time = datetime.now().strftime(\"%H:%M:%S\")\n",
    "\n",
    "# Boundaries of the hyperparameters\n",
    "params={\"n_estimators\": (1,10), \"min_samples_split\": (0.1,0.5), \"max_features\": (0.1, 0.9)}\n",
    "\n",
    "# Optimization\n",
    "rf_optimum = bo.optimize_rf(params)\n",
    "\n",
    "# Get the time that the optimization ended\n",
    "end_time = datetime.now().strftime(\"%H:%M:%S\")"
   ]
  },
  {
   "cell_type": "code",
   "execution_count": 22,
   "metadata": {
    "scrolled": true
   },
   "outputs": [
    {
     "name": "stdout",
     "output_type": "stream",
     "text": [
      "Minutes to execute: 0.02\n"
     ]
    }
   ],
   "source": [
    "print('Minutes to execute:', \n",
    "      round((datetime.strptime(end_time, '%H:%M:%S') - datetime.strptime(start_time, '%H:%M:%S')).seconds/60,2))"
   ]
  },
  {
   "cell_type": "markdown",
   "metadata": {},
   "source": [
    "#### Optimization for the LR model"
   ]
  },
  {
   "cell_type": "code",
   "execution_count": 23,
   "metadata": {
    "scrolled": false
   },
   "outputs": [
    {
     "name": "stdout",
     "output_type": "stream",
     "text": [
      "Optimizing for l1 penalty\n",
      "|   iter    |  target   |     C     |\n",
      "-------------------------------------\n",
      "| \u001b[0m 1       \u001b[0m | \u001b[0m nan     \u001b[0m | \u001b[0m 43.71   \u001b[0m |\n",
      "| \u001b[0m 2       \u001b[0m | \u001b[0m nan     \u001b[0m | \u001b[0m 95.56   \u001b[0m |\n",
      "| \u001b[0m 3       \u001b[0m | \u001b[0m nan     \u001b[0m | \u001b[0m 75.88   \u001b[0m |\n",
      "| \u001b[0m 4       \u001b[0m | \u001b[0m nan     \u001b[0m | \u001b[0m 63.88   \u001b[0m |\n",
      "| \u001b[0m 5       \u001b[0m | \u001b[0m nan     \u001b[0m | \u001b[0m 24.04   \u001b[0m |\n",
      "Error related to scaling.\n",
      "Optimizing for l2 penalty\n",
      "|   iter    |  target   |     C     |\n",
      "-------------------------------------\n",
      "| \u001b[0m 1       \u001b[0m | \u001b[0m 0.5417  \u001b[0m | \u001b[0m 43.71   \u001b[0m |\n",
      "| \u001b[0m 2       \u001b[0m | \u001b[0m 0.5417  \u001b[0m | \u001b[0m 95.56   \u001b[0m |\n",
      "| \u001b[0m 3       \u001b[0m | \u001b[0m 0.5417  \u001b[0m | \u001b[0m 75.88   \u001b[0m |\n",
      "| \u001b[0m 4       \u001b[0m | \u001b[0m 0.5417  \u001b[0m | \u001b[0m 63.88   \u001b[0m |\n",
      "| \u001b[0m 5       \u001b[0m | \u001b[0m 0.4583  \u001b[0m | \u001b[0m 24.04   \u001b[0m |\n",
      "| \u001b[0m 6       \u001b[0m | \u001b[0m 0.5417  \u001b[0m | \u001b[0m 53.29   \u001b[0m |\n"
      "| \u001b[0m 7       \u001b[0m | \u001b[0m 0.5417  \u001b[0m | \u001b[0m 45.57   \u001b[0m |\n",
      "| \u001b[0m 8       \u001b[0m | \u001b[0m 0.5417  \u001b[0m | \u001b[0m 86.13   \u001b[0m |\n",
      "| \u001b[0m 9       \u001b[0m | \u001b[0m 0.5417  \u001b[0m | \u001b[0m 100.0   \u001b[0m |\n",
      "| \u001b[0m 10      \u001b[0m | \u001b[0m 0.5417  \u001b[0m | \u001b[0m 69.91   \u001b[0m |\n",
      "| \u001b[0m 11      \u001b[0m | \u001b[0m 0.5417  \u001b[0m | \u001b[0m 58.45   \u001b[0m |\n",
      "| \u001b[0m 12      \u001b[0m | \u001b[0m 0.5417  \u001b[0m | \u001b[0m 81.21   \u001b[0m |\n",
      "| \u001b[0m 13      \u001b[0m | \u001b[0m 0.5417  \u001b[0m | \u001b[0m 90.92   \u001b[0m |\n",
      "| \u001b[0m 14      \u001b[0m | \u001b[0m 0.5417  \u001b[0m | \u001b[0m 66.91   \u001b[0m |\n",
      "| \u001b[0m 15      \u001b[0m | \u001b[0m 0.5417  \u001b[0m | \u001b[0m 49.91   \u001b[0m |\n",
      "=====================================\n",
      "\n",
      "\n",
      "Final result: The optimal model's accuracy is 0.5416666666666666 and the optimal parameters are C=43.708610696262625 and penalty=l2\n"
     ]
    }
   ],
   "source": [
    "# Get the time that the optimization started\n",
    "start_time = datetime.now().strftime(\"%H:%M:%S\")\n",
    "\n",
    "# Boundaries of the hyperparameters\n",
    "params={'C' : (10,100)}\n",
    "\n",
    "# Optimization\n",
    "import warnings\n",
    "warnings.filterwarnings(\"ignore\", category=FutureWarning)\n",
    "\n",
    "lr_optimum = bo.optimize_lr(params)\n",
    "\n",
    "# Get the time that the optimization ended\n",
    "end_time = datetime.now().strftime(\"%H:%M:%S\")"
   ]
  },
  {
   "cell_type": "code",
   "execution_count": 24,
   "metadata": {
    "scrolled": true
   },
   "outputs": [
    {
     "name": "stdout",
     "output_type": "stream",
     "text": [
      "Minutes to execute: 0.02\n"
     ]
    }
   ],
   "source": [
    "print('Minutes to execute:', \n",
    "      round((datetime.strptime(end_time, '%H:%M:%S') - datetime.strptime(start_time, '%H:%M:%S')).seconds/60,2))"
   ]
  },
  {
   "cell_type": "markdown",
   "metadata": {},
   "source": [
    "### Fit the models and Test the performance"
   ]
  },
  {
   "cell_type": "code",
   "execution_count": 25,
   "metadata": {},
   "outputs": [],
   "source": [
    "from sklearn.svm import SVC\n",
    "from sklearn.ensemble import RandomForestClassifier\n",
    "from sklearn.linear_model import LogisticRegression\n",
    "from sklearn.naive_bayes import GaussianNB\n",
    "\n",
    "\n",
    "from sklearn.model_selection import cross_val_score\n",
    "from sklearn.metrics import (accuracy_score,matthews_corrcoef,\n",
    "                             classification_report, confusion_matrix)"
   ]
  },
  {
   "cell_type": "markdown",
   "metadata": {},
   "source": [
    "#### Fit SVM"
   ]
  },
  {
   "cell_type": "code",
   "execution_count": 26,
   "metadata": {},
   "outputs": [],
   "source": [
    "# Declare the model\n",
    "svc = SVC(C=svm_optimum['params']['C'], gamma=svm_optimum['params']['gamma'], kernel=svm_optimum['params']['kernel'], random_state=42)\n",
    "\n",
    "# Train the model on training data\n",
    "svc.fit(train, train_labels);"
   ]
  },
  {
   "cell_type": "markdown",
   "metadata": {},
   "source": [
    "###### Metrics on the Training set"
   ]
  },
  {
   "cell_type": "code",
   "execution_count": 27,
   "metadata": {},
   "outputs": [],
   "source": [
    "# Use the model's predict method \n",
    "predictions = svc.predict(train)"
   ]
  },
  {
   "cell_type": "code",
   "execution_count": 28,
   "metadata": {},
   "outputs": [
    {
     "name": "stdout",
     "output_type": "stream",
     "text": [
      "SVM's training accuracy: 1.0\n"
     ]
    }
   ],
   "source": [
    "# Print the Training accuracy\n",
    "print(\"SVM's training accuracy:\", accuracy_score(train_labels, predictions))"
   ]
  },
  {
   "cell_type": "code",
   "execution_count": 29,
   "metadata": {},
   "outputs": [
    {
     "name": "stdout",
     "output_type": "stream",
     "text": [
      "              precision    recall  f1-score   support\n",
      "\n",
      "           0       1.00      1.00      1.00         5\n",
      "           1       1.00      1.00      1.00         5\n",
      "\n",
      "    accuracy                           1.00        10\n",
      "   macro avg       1.00      1.00      1.00        10\n",
      "weighted avg       1.00      1.00      1.00        10\n",
      "\n"
     ]
    }
   ],
   "source": [
    "# Print the classification report\n",
    "print(classification_report(train_labels,predictions))"
   ]
  },
  {
   "cell_type": "code",
   "execution_count": 30,
   "metadata": {},
   "outputs": [
    {
     "name": "stdout",
     "output_type": "stream",
     "text": [
      "Confusion Matrix:\n",
      "5 | 0\n",
      "-----\n",
      "0 | 5\n"
     ]
    }
   ],
   "source": [
    "cm = confusion_matrix(train_labels,predictions)\n",
    "print('Confusion Matrix:')\n",
    "print(cm[0][0],'|',cm[0][1])\n",
    "print('-----')\n",
    "print(cm[1][0],'|',cm[1][1])"
   ]
  },
  {
   "cell_type": "code",
   "execution_count": 31,
   "metadata": {},
   "outputs": [
    {
     "name": "stdout",
     "output_type": "stream",
     "text": [
      "Specificity: 1.0\n",
      "Sensitivity: 1.0\n"
     ]
    }
   ],
   "source": [
    "tn, fp, fn, tp = confusion_matrix(train_labels,predictions).ravel()\n",
    "specificity = tn / (tn + fp)\n",
    "sensitivity = tp / (tp + fn)\n",
    "print('Specificity:',specificity)\n",
    "print('Sensitivity:',sensitivity)"
   ]
  },
  {
   "cell_type": "code",
   "execution_count": 32,
   "metadata": {},
   "outputs": [
    {
     "name": "stdout",
     "output_type": "stream",
     "text": [
      "MCC: 1.0\n"
     ]
    }
   ],
   "source": [
    "# Print the MCC\n",
    "print('MCC:', matthews_corrcoef(train_labels,predictions))"
   ]
  },
  {
   "cell_type": "code",
   "execution_count": 33,
   "metadata": {},
   "outputs": [
    {
     "name": "stdout",
     "output_type": "stream",
     "text": [
      "List of scores: [0.66666667 0.66666667 1.         0.5       ]\n",
      "Mean of Cross Validtation: 0.7083333333333333\n"
     ]
    }
   ],
   "source": [
    "#Print the Cross-Validation Score\n",
    "scores = cross_val_score(svc, train, train_labels, cv=4)\n",
    "\n",
    "print('List of scores:', scores)\n",
    "print('Mean of Cross Validtation:', scores.mean())"
   ]
  },
  {
   "cell_type": "markdown",
   "metadata": {},
   "source": [
    "###### Metrics on the Testing set"
   ]
  },
  {
   "cell_type": "code",
   "execution_count": 34,
   "metadata": {},
   "outputs": [],
   "source": [
    "# Use the model's predict method\n",
    "predictions = svc.predict(test)"
   ]
  },
  {
   "cell_type": "code",
   "execution_count": 35,
   "metadata": {},
   "outputs": [
    {
     "name": "stdout",
     "output_type": "stream",
     "text": [
      "SVM's testing accuracy: 0.8\n"
     ]
    }
   ],
   "source": [
    "# Print the Testing accuracy\n",
    "print(\"SVM's testing accuracy:\", accuracy_score(test_labels, predictions))"
   ]
  },
  {
   "cell_type": "code",
   "execution_count": 36,
   "metadata": {},
   "outputs": [
    {
     "name": "stdout",
     "output_type": "stream",
     "text": [
      "              precision    recall  f1-score   support\n",
      "\n",
      "           0       1.00      0.75      0.86         4\n",
      "           1       0.50      1.00      0.67         1\n",
      "\n",
      "    accuracy                           0.80         5\n",
      "   macro avg       0.75      0.88      0.76         5\n",
      "weighted avg       0.90      0.80      0.82         5\n",
      "\n"
     ]
    }
   ],
   "source": [
    "# Print the classification report\n",
    "print(classification_report(test_labels,predictions))"
   ]
  },
  {
   "cell_type": "code",
   "execution_count": 37,
   "metadata": {},
   "outputs": [
    {
     "name": "stdout",
     "output_type": "stream",
     "text": [
      "Confusion Matrix:\n",
      "3 | 1\n",
      "-----\n",
      "0 | 1\n"
     ]
    }
   ],
   "source": [
    "cm = confusion_matrix(test_labels,predictions)\n",
    "print('Confusion Matrix:')\n",
    "print(cm[0][0],'|',cm[0][1])\n",
    "print('-----')\n",
    "print(cm[1][0],'|',cm[1][1])"
   ]
  },
  {
   "cell_type": "code",
   "execution_count": 38,
   "metadata": {},
   "outputs": [
    {
     "name": "stdout",
     "output_type": "stream",
     "text": [
      "Specificity: 0.75\n",
      "Sensitivity: 1.0\n"
     ]
    }
   ],
   "source": [
    "tn, fp, fn, tp = confusion_matrix(test_labels,predictions).ravel()\n",
    "specificity = tn / (tn + fp)\n",
    "sensitivity = tp / (tp + fn)\n",
    "print('Specificity:',specificity)\n",
    "print('Sensitivity:',sensitivity)"
   ]
  },
  {
   "cell_type": "code",
   "execution_count": 39,
   "metadata": {},
   "outputs": [
    {
     "name": "stdout",
     "output_type": "stream",
     "text": [
      "MCC: 0.6123724356957946\n"
     ]
    }
   ],
   "source": [
    "# Print the MCC\n",
    "print('MCC:', matthews_corrcoef(test_labels,predictions))"
   ]
  },
  {
   "cell_type": "markdown",
   "metadata": {},
   "source": [
    "#### Fit RF"
   ]
  },
  {
   "cell_type": "code",
   "execution_count": 40,
   "metadata": {},
   "outputs": [],
   "source": [
    "# Declare the model\n",
    "clf = RandomForestClassifier(n_estimators=rf_optimum['params']['n_estimators'], max_features=rf_optimum['params']['max_features'], min_samples_split=rf_optimum['params']['min_samples_split'],  random_state=42)\n",
    "\n",
    "# Train the model on training data\n",
    "clf.fit(train, train_labels);"
   ]
  },
  {
   "cell_type": "markdown",
   "metadata": {},
   "source": [
    "###### Metrics on the Training set"
   ]
  },
  {
   "cell_type": "code",
   "execution_count": 41,
   "metadata": {},
   "outputs": [],
   "source": [
    "# Use the model's predict method\n",
    "predictions = clf.predict(train)"
   ]
  },
  {
   "cell_type": "code",
   "execution_count": 42,
   "metadata": {},
   "outputs": [
    {
     "name": "stdout",
     "output_type": "stream",
     "text": [
      "RF's training accuracy: 1.0\n"
     ]
    }
   ],
   "source": [
    "# Print the Train accuracy\n",
    "print(\"RF's training accuracy:\", accuracy_score(train_labels, predictions))"
   ]
  },
  {
   "cell_type": "code",
   "execution_count": 43,
   "metadata": {},
   "outputs": [
    {
     "name": "stdout",
     "output_type": "stream",
     "text": [
      "              precision    recall  f1-score   support\n",
      "\n",
      "           0       1.00      1.00      1.00         5\n",
      "           1       1.00      1.00      1.00         5\n",
      "\n",
      "    accuracy                           1.00        10\n",
      "   macro avg       1.00      1.00      1.00        10\n",
      "weighted avg       1.00      1.00      1.00        10\n",
      "\n"
     ]
    }
   ],
   "source": [
    "# Print the classification report\n",
    "print(classification_report(train_labels,predictions))"
   ]
  },
  {
   "cell_type": "code",
   "execution_count": 44,
   "metadata": {},
   "outputs": [
    {
     "name": "stdout",
     "output_type": "stream",
     "text": [
      "Confusion Matrix:\n",
      "5 | 0\n",
      "-----\n",
      "0 | 5\n"
     ]
    }
   ],
   "source": [
    "cm = confusion_matrix(train_labels,predictions)\n",
    "print('Confusion Matrix:')\n",
    "print(cm[0][0],'|',cm[0][1])\n",
    "print('-----')\n",
    "print(cm[1][0],'|',cm[1][1])"
   ]
  },
  {
   "cell_type": "code",
   "execution_count": 45,
   "metadata": {},
   "outputs": [
    {
     "name": "stdout",
     "output_type": "stream",
     "text": [
      "Specificity: 1.0\n",
      "Sensitivity: 1.0\n"
     ]
    }
   ],
   "source": [
    "tn, fp, fn, tp = confusion_matrix(train_labels,predictions).ravel()\n",
    "specificity = tn / (tn + fp)\n",
    "sensitivity = tp / (tp + fn)\n",
    "print('Specificity:',specificity)\n",
    "print('Sensitivity:',sensitivity)"
   ]
  },
  {
   "cell_type": "code",
   "execution_count": 46,
   "metadata": {},
   "outputs": [
    {
     "name": "stdout",
     "output_type": "stream",
     "text": [
      "MCC: 1.0\n"
     ]
    }
   ],
   "source": [
    "# Print the MCC\n",
    "print('MCC:', matthews_corrcoef(train_labels,predictions))"
   ]
  },
  {
   "cell_type": "code",
   "execution_count": 47,
   "metadata": {},
   "outputs": [
    {
     "name": "stdout",
     "output_type": "stream",
     "text": [
      "List of scores: [0.66666667 0.66666667 1.         1.        ]\n",
      "Mean of Cross Validtation: 0.8333333333333333\n"
     ]
    }
   ],
   "source": [
    "#Print the Cross-Validation Score\n",
    "scores = cross_val_score(clf, train, train_labels, cv=4)\n",
    "\n",
    "print('List of scores:', scores)\n",
    "print('Mean of Cross Validtation:', scores.mean())"
   ]
  },
  {
   "cell_type": "markdown",
   "metadata": {},
   "source": [
    "###### Metrics on the Testing set"
   ]
  },
  {
   "cell_type": "code",
   "execution_count": 48,
   "metadata": {},
   "outputs": [],
   "source": [
    "# Use the model's predict method\n",
    "predictions = clf.predict(test)"
   ]
  },
  {
   "cell_type": "code",
   "execution_count": 49,
   "metadata": {},
   "outputs": [
    {
     "name": "stdout",
     "output_type": "stream",
     "text": [
      "RF's testing accuracy: 0.8\n"
     ]
    }
   ],
   "source": [
    "# Print the Test accuracy\n",
    "print(\"RF's testing accuracy:\", accuracy_score(test_labels, predictions))"
   ]
  },
  {
   "cell_type": "code",
   "execution_count": 50,
   "metadata": {},
   "outputs": [
    {
     "name": "stdout",
     "output_type": "stream",
     "text": [
      "              precision    recall  f1-score   support\n",
      "\n",
      "           0       0.80      1.00      0.89         4\n",
      "           1       0.00      0.00      0.00         1\n",
      "\n",
      "    accuracy                           0.80         5\n",
      "   macro avg       0.40      0.50      0.44         5\n",
      "weighted avg       0.64      0.80      0.71         5\n",
      "\n"
     ]
    }
   ],
   "source": [
    "# Print the classification report\n",
    "print(classification_report(test_labels,predictions))"
   ]
  },
  {
   "cell_type": "code",
   "execution_count": 51,
   "metadata": {},
   "outputs": [
    {
     "name": "stdout",
     "output_type": "stream",
     "text": [
      "Confusion Matrix:\n",
      "4 | 0\n",
      "-----\n",
      "1 | 0\n"
     ]
    }
   ],
   "source": [
    "cm = confusion_matrix(test_labels,predictions)\n",
    "print('Confusion Matrix:')\n",
    "print(cm[0][0],'|',cm[0][1])\n",
    "print('-----')\n",
    "print(cm[1][0],'|',cm[1][1])"
   ]
  },
  {
   "cell_type": "code",
   "execution_count": 52,
   "metadata": {},
   "outputs": [
    {
     "name": "stdout",
     "output_type": "stream",
     "text": [
      "Specificity: 1.0\n",
      "Sensitivity: 0.0\n"
     ]
    }
   ],
   "source": [
    "tn, fp, fn, tp = confusion_matrix(test_labels,predictions).ravel()\n",
    "specificity = tn / (tn + fp)\n",
    "sensitivity = tp / (tp + fn)\n",
    "print('Specificity:',specificity)\n",
    "print('Sensitivity:',sensitivity)"
   ]
  },
  {
   "cell_type": "code",
   "execution_count": 53,
   "metadata": {},
   "outputs": [
    {
     "name": "stdout",
     "output_type": "stream",
     "text": [
      "MCC: 0.0\n"
     ]
    }
   ],
   "source": [
    "# Print the MCC\n",
    "print('MCC:', matthews_corrcoef(test_labels,predictions))"
   ]
  },
  {
   "cell_type": "markdown",
   "metadata": {},
   "source": [
    "#### Fit LR"
   ]
  },
  {
   "cell_type": "code",
   "execution_count": 54,
   "metadata": {},
   "outputs": [],
   "source": [
    "# Declare the model\n",
    "logmodel = LogisticRegression(C=lr_optimum['params']['C'], penalty=lr_optimum['params']['penalty'],random_state=42)\n",
    "\n",
    "# Train the model on training data\n",
    "logmodel.fit(train, train_labels);"
   ]
  },
  {
   "cell_type": "markdown",
   "metadata": {},
   "source": [
    "###### Metrics on the Training set"
   ]
  },
  {
   "cell_type": "code",
   "execution_count": 55,
   "metadata": {},
   "outputs": [],
   "source": [
    "# Use the model's predict method\n",
    "predictions = logmodel.predict(train)"
   ]
  },
  {
   "cell_type": "code",
   "execution_count": 56,
   "metadata": {},
   "outputs": [
    {
     "name": "stdout",
     "output_type": "stream",
     "text": [
      "LR's training accuracy: 1.0\n"
     ]
    }
   ],
   "source": [
    "# Print the train accuracy\n",
    "print(\"LR's training accuracy:\", accuracy_score(train_labels, predictions))"
   ]
  },
  {
   "cell_type": "code",
   "execution_count": 57,
   "metadata": {},
   "outputs": [
    {
     "name": "stdout",
     "output_type": "stream",
     "text": [
      "              precision    recall  f1-score   support\n",
      "\n",
      "           0       1.00      1.00      1.00         5\n",
      "           1       1.00      1.00      1.00         5\n",
      "\n",
      "    accuracy                           1.00        10\n",
      "   macro avg       1.00      1.00      1.00        10\n",
      "weighted avg       1.00      1.00      1.00        10\n",
      "\n"
     ]
    }
   ],
   "source": [
    "# Print the classification report\n",
    "print(classification_report(train_labels,predictions))"
   ]
  },
  {
   "cell_type": "code",
   "execution_count": 58,
   "metadata": {},
   "outputs": [
    {
     "name": "stdout",
     "output_type": "stream",
     "text": [
      "Confusion Matrix:\n",
      "5 | 0\n",
      "-----\n",
      "0 | 5\n"
     ]
    }
   ],
   "source": [
    "cm = confusion_matrix(train_labels,predictions)\n",
    "print('Confusion Matrix:')\n",
    "print(cm[0][0],'|',cm[0][1])\n",
    "print('-----')\n",
    "print(cm[1][0],'|',cm[1][1])"
   ]
  },
  {
   "cell_type": "code",
   "execution_count": 59,
   "metadata": {},
   "outputs": [
    {
     "name": "stdout",
     "output_type": "stream",
     "text": [
      "Specificity: 1.0\n",
      "Sensitivity: 1.0\n"
     ]
    }
   ],
   "source": [
    "tn, fp, fn, tp = confusion_matrix(train_labels,predictions).ravel()\n",
    "specificity = tn / (tn + fp)\n",
    "sensitivity = tp / (tp + fn)\n",
    "print('Specificity:',specificity)\n",
    "print('Sensitivity:',sensitivity)"
   ]
  },
  {
   "cell_type": "code",
   "execution_count": 60,
   "metadata": {},
   "outputs": [
    {
     "name": "stdout",
     "output_type": "stream",
     "text": [
      "MCC: 1.0\n"
     ]
    }
   ],
   "source": [
    "# Print the MCC\n",
    "print('MCC:', matthews_corrcoef(train_labels,predictions))"
   ]
  },
  {
   "cell_type": "code",
   "execution_count": 61,
   "metadata": {},
   "outputs": [
    {
     "name": "stdout",
     "output_type": "stream",
     "text": [
      "List of scores: [0.33333333 0.33333333 1.         0.5       ]\n",
      "Mean of Cross Validtation: 0.5416666666666666\n"
     ]
    }
   ],
   "source": [
    "#Print the Cross-Validation Score\n",
    "scores = cross_val_score(logmodel, train, train_labels, cv=4)\n",
    "\n",
    "print('List of scores:', scores)\n",
    "print('Mean of Cross Validtation:', scores.mean())"
   ]
  },
  {
   "cell_type": "markdown",
   "metadata": {},
   "source": [
    "###### Metrics on the Testing set"
   ]
  },
  {
   "cell_type": "code",
   "execution_count": 62,
   "metadata": {},
   "outputs": [],
   "source": [
    "# Use the model's predict method\n",
    "predictions = logmodel.predict(test)"
   ]
  },
  {
   "cell_type": "code",
   "execution_count": 63,
   "metadata": {},
   "outputs": [
    {
     "name": "stdout",
     "output_type": "stream",
     "text": [
      "LR's testing accuracy: 0.8\n"
     ]
    }
   ],
   "source": [
    "# Print the Test accuracy\n",
    "print(\"LR's testing accuracy:\", accuracy_score(test_labels, predictions))"
   ]
  },
  {
   "cell_type": "code",
   "execution_count": 64,
   "metadata": {},
   "outputs": [
    {
     "name": "stdout",
     "output_type": "stream",
     "text": [
      "              precision    recall  f1-score   support\n",
      "\n",
      "           0       1.00      0.75      0.86         4\n",
      "           1       0.50      1.00      0.67         1\n",
      "\n",
      "    accuracy                           0.80         5\n",
      "   macro avg       0.75      0.88      0.76         5\n",
      "weighted avg       0.90      0.80      0.82         5\n",
      "\n"
     ]
    }
   ],
   "source": [
    "# Print the classification report\n",
    "print(classification_report(test_labels,predictions))"
   ]
  },
  {
   "cell_type": "code",
   "execution_count": 65,
   "metadata": {},
   "outputs": [
    {
     "name": "stdout",
     "output_type": "stream",
     "text": [
      "Confusion Matrix:\n",
      "3 | 1\n",
      "-----\n",
      "0 | 1\n"
     ]
    }
   ],
   "source": [
    "cm = confusion_matrix(test_labels,predictions)\n",
    "print('Confusion Matrix:')\n",
    "print(cm[0][0],'|',cm[0][1])\n",
    "print('-----')\n",
    "print(cm[1][0],'|',cm[1][1])"
   ]
  },
  {
   "cell_type": "code",
   "execution_count": 66,
   "metadata": {},
   "outputs": [
    {
     "name": "stdout",
     "output_type": "stream",
     "text": [
      "Specificity: 0.75\n",
      "Sensitivity: 1.0\n"
     ]
    }
   ],
   "source": [
    "tn, fp, fn, tp = confusion_matrix(test_labels,predictions).ravel()\n",
    "specificity = tn / (tn + fp)\n",
    "sensitivity = tp / (tp + fn)\n",
    "print('Specificity:',specificity)\n",
    "print('Sensitivity:',sensitivity)"
   ]
  },
  {
   "cell_type": "code",
   "execution_count": 67,
   "metadata": {},
   "outputs": [
    {
     "name": "stdout",
     "output_type": "stream",
     "text": [
      "MCC: 0.6123724356957946\n"
     ]
    }
   ],
   "source": [
    "# Print the MCC\n",
    "print('MCC:', matthews_corrcoef(test_labels,predictions))"
   ]
  },
  {
   "cell_type": "markdown",
   "metadata": {},
   "source": [
    "#### Fit NB"
   ]
  },
  {
   "cell_type": "code",
   "execution_count": 68,
   "metadata": {},
   "outputs": [],
   "source": [
    "# Declare the model\n",
    "gnb = GaussianNB()\n",
    "\n",
    "# Train the model on training data\n",
    "gnb.fit(train,train_labels);"
   ]
  },
  {
   "cell_type": "markdown",
   "metadata": {},
   "source": [
    "###### Metrics on the Training set"
   ]
  },
  {
   "cell_type": "code",
   "execution_count": 69,
   "metadata": {},
   "outputs": [],
   "source": [
    "# Use the model's predict method\n",
    "predictions = gnb.predict(train)"
   ]
  },
  {
   "cell_type": "code",
   "execution_count": 70,
   "metadata": {},
   "outputs": [
    {
     "name": "stdout",
     "output_type": "stream",
     "text": [
      "NB's accuracy: 1.0\n"
     ]
    }
   ],
   "source": [
    "# Print the train accuracy\n",
    "print(\"NB's accuracy:\", accuracy_score(train_labels,predictions))"
   ]
  },
  {
   "cell_type": "code",
   "execution_count": 71,
   "metadata": {},
   "outputs": [
    {
     "name": "stdout",
     "output_type": "stream",
     "text": [
      "              precision    recall  f1-score   support\n",
      "\n",
      "           0       1.00      1.00      1.00         5\n",
      "           1       1.00      1.00      1.00         5\n",
      "\n",
      "    accuracy                           1.00        10\n",
      "   macro avg       1.00      1.00      1.00        10\n",
      "weighted avg       1.00      1.00      1.00        10\n",
      "\n"
     ]
    }
   ],
   "source": [
    "# Print the classification report\n",
    "print(classification_report(train_labels,predictions))"
   ]
  },
  {
   "cell_type": "code",
   "execution_count": 72,
   "metadata": {},
   "outputs": [
    {
     "name": "stdout",
     "output_type": "stream",
     "text": [
      "Confusion Matrix:\n",
      "5 | 0\n",
      "-----\n",
      "0 | 5\n"
     ]
    }
   ],
   "source": [
    "cm = confusion_matrix(train_labels,predictions)\n",
    "print('Confusion Matrix:')\n",
    "print(cm[0][0],'|',cm[0][1])\n",
    "print('-----')\n",
    "print(cm[1][0],'|',cm[1][1])"
   ]
  },
  {
   "cell_type": "code",
   "execution_count": 73,
   "metadata": {},
   "outputs": [
    {
     "name": "stdout",
     "output_type": "stream",
     "text": [
      "Specificity: 1.0\n",
      "Sensitivity: 1.0\n"
     ]
    }
   ],
   "source": [
    "tn, fp, fn, tp = confusion_matrix(train_labels,predictions).ravel()\n",
    "specificity = tn / (tn + fp)\n",
    "sensitivity = tp / (tp + fn)\n",
    "print('Specificity:',specificity)\n",
    "print('Sensitivity:',sensitivity)"
   ]
  },
  {
   "cell_type": "code",
   "execution_count": 74,
   "metadata": {},
   "outputs": [
    {
     "name": "stdout",
     "output_type": "stream",
     "text": [
      "MCC: 1.0\n"
     ]
    }
   ],
   "source": [
    "# Print the MCC\n",
    "print('MCC:', matthews_corrcoef(train_labels,predictions))"
   ]
  },
  {
   "cell_type": "code",
   "execution_count": 75,
   "metadata": {
    "scrolled": true
   },
   "outputs": [
    {
     "name": "stdout",
     "output_type": "stream",
     "text": [
      "List of scores: [0.33333333 0.66666667 1.         0.5       ]\n",
      "Mean of Cross Validtation: 0.625\n"
     ]
    }
   ],
   "source": [
    "#Print the Cross-Validation Score\n",
    "scores = cross_val_score(gnb, train, train_labels, cv=4)\n",
    "\n",
    "print('List of scores:', scores)\n",
    "print('Mean of Cross Validtation:', scores.mean())"
   ]
  },
  {
   "cell_type": "markdown",
   "metadata": {},
   "source": [
    "###### Metrics on the Testing set"
   ]
  },
  {
   "cell_type": "code",
   "execution_count": 76,
   "metadata": {},
   "outputs": [],
   "source": [
    "# Use the model's predict method on the test data\n",
    "predictions = gnb.predict(test)"
   ]
  },
  {
   "cell_type": "code",
   "execution_count": 77,
   "metadata": {},
   "outputs": [
    {
     "name": "stdout",
     "output_type": "stream",
     "text": [
      "NB's accuracy: 0.6\n"
     ]
    }
   ],
   "source": [
    "# Print the Test accuracy\n",
    "print(\"NB's accuracy:\", accuracy_score(test_labels,predictions))"
   ]
  },
  {
   "cell_type": "code",
   "execution_count": 78,
   "metadata": {},
   "outputs": [
    {
     "name": "stdout",
     "output_type": "stream",
     "text": [
      "              precision    recall  f1-score   support\n",
      "\n",
      "           0       0.75      0.75      0.75         4\n",
      "           1       0.00      0.00      0.00         1\n",
      "\n",
      "    accuracy                           0.60         5\n",
      "   macro avg       0.38      0.38      0.38         5\n",
      "weighted avg       0.60      0.60      0.60         5\n",
      "\n"
     ]
    }
   ],
   "source": [
    "# Print the classification report\n",
    "print(classification_report(test_labels,predictions))"
   ]
  },
  {
   "cell_type": "code",
   "execution_count": 79,
   "metadata": {},
   "outputs": [
    {
     "name": "stdout",
     "output_type": "stream",
     "text": [
      "Confusion Matrix:\n",
      "3 | 1\n",
      "-----\n",
      "1 | 0\n"
     ]
    }
   ],
   "source": [
    "cm = confusion_matrix(test_labels,predictions)\n",
    "print('Confusion Matrix:')\n",
    "print(cm[0][0],'|',cm[0][1])\n",
    "print('-----')\n",
    "print(cm[1][0],'|',cm[1][1])"
   ]
  },
  {
   "cell_type": "code",
   "execution_count": 80,
   "metadata": {},
   "outputs": [
    {
     "name": "stdout",
     "output_type": "stream",
     "text": [
      "Specificity: 0.75\n",
      "Sensitivity: 0.0\n"
     ]
    }
   ],
   "source": [
    "tn, fp, fn, tp = confusion_matrix(test_labels,predictions).ravel()\n",
    "specificity = tn / (tn + fp)\n",
    "sensitivity = tp / (tp + fn)\n",
    "print('Specificity:',specificity)\n",
    "print('Sensitivity:',sensitivity)"
   ]
  },
  {
   "cell_type": "code",
   "execution_count": 81,
   "metadata": {},
   "outputs": [
    {
     "name": "stdout",
     "output_type": "stream",
     "text": [
      "MCC: -0.25\n"
     ]
    }
   ],
   "source": [
    "# Print the MCC\n",
    "print('MCC:', matthews_corrcoef(test_labels,predictions))"
   ]
  }
 ],
 "metadata": {
  "kernelspec": {
   "display_name": "Python 3",
   "language": "python",
   "name": "python3"
  },
  "language_info": {
   "codemirror_mode": {
    "name": "ipython",
    "version": 3
   },
   "file_extension": ".py",
   "mimetype": "text/x-python",
   "name": "python",
   "nbconvert_exporter": "python",
   "pygments_lexer": "ipython3",
   "version": "3.8.5"
  }
 },
 "nbformat": 4,
 "nbformat_minor": 2
}
