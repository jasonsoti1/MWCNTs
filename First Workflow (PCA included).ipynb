{
 "cells": [
  {
   "cell_type": "markdown",
   "metadata": {},
   "source": [
    "### Import the Lirbraries and load the Dataset, Code names"
   ]
  },
  {
   "cell_type": "code",
   "execution_count": 1,
   "metadata": {},
   "outputs": [
    {
     "data": {
      "text/html": [
       "<div>\n",
       "<style scoped>\n",
       "    .dataframe tbody tr th:only-of-type {\n",
       "        vertical-align: middle;\n",
       "    }\n",
       "\n",
       "    .dataframe tbody tr th {\n",
       "        vertical-align: top;\n",
       "    }\n",
       "\n",
       "    .dataframe thead th {\n",
       "        text-align: right;\n",
       "    }\n",
       "</style>\n",
       "<table border=\"1\" class=\"dataframe\">\n",
       "  <thead>\n",
       "    <tr style=\"text-align: right;\">\n",
       "      <th></th>\n",
       "      <th>Length ave. (nm)</th>\n",
       "      <th>Diameter ave. (nm)</th>\n",
       "      <th>BET (m2/g)</th>\n",
       "      <th>Purity (%)</th>\n",
       "      <th>Zave (batch)</th>\n",
       "      <th>PdI (batch)</th>\n",
       "      <th>Zave (12.5 ug/ml)</th>\n",
       "      <th>PdI  (12.5 ug/ml)</th>\n",
       "      <th>Zave  (200 ug/ml)</th>\n",
       "      <th>PdI  (200 ug/ml)</th>\n",
       "      <th>...</th>\n",
       "      <th>COOH mmol/g</th>\n",
       "      <th>Endotoxins (EU/mg)</th>\n",
       "      <th>Diameter min. (nm)</th>\n",
       "      <th>Diameter max. (nm)</th>\n",
       "      <th>Type_COOH</th>\n",
       "      <th>Type_NH2</th>\n",
       "      <th>Type_OH</th>\n",
       "      <th>Type_PRISTINE</th>\n",
       "      <th>% Total Impurities</th>\n",
       "      <th>Genotoxicity</th>\n",
       "    </tr>\n",
       "  </thead>\n",
       "  <tbody>\n",
       "    <tr>\n",
       "      <th>0</th>\n",
       "      <td>0.000000</td>\n",
       "      <td>0.198214</td>\n",
       "      <td>0.559322</td>\n",
       "      <td>0.934783</td>\n",
       "      <td>0.036390</td>\n",
       "      <td>0.349333</td>\n",
       "      <td>0.020378</td>\n",
       "      <td>0.234910</td>\n",
       "      <td>0.067882</td>\n",
       "      <td>0.306306</td>\n",
       "      <td>...</td>\n",
       "      <td>0.079208</td>\n",
       "      <td>0.34</td>\n",
       "      <td>0.332558</td>\n",
       "      <td>0.206494</td>\n",
       "      <td>0.0</td>\n",
       "      <td>0.0</td>\n",
       "      <td>0.0</td>\n",
       "      <td>1.0</td>\n",
       "      <td>0.134906</td>\n",
       "      <td>0</td>\n",
       "    </tr>\n",
       "    <tr>\n",
       "      <th>1</th>\n",
       "      <td>0.093822</td>\n",
       "      <td>0.283929</td>\n",
       "      <td>0.567797</td>\n",
       "      <td>1.000000</td>\n",
       "      <td>0.066958</td>\n",
       "      <td>0.730667</td>\n",
       "      <td>0.132460</td>\n",
       "      <td>0.375204</td>\n",
       "      <td>0.054205</td>\n",
       "      <td>0.570571</td>\n",
       "      <td>...</td>\n",
       "      <td>0.405941</td>\n",
       "      <td>0.42</td>\n",
       "      <td>0.390698</td>\n",
       "      <td>0.298701</td>\n",
       "      <td>0.0</td>\n",
       "      <td>0.0</td>\n",
       "      <td>1.0</td>\n",
       "      <td>0.0</td>\n",
       "      <td>0.075646</td>\n",
       "      <td>0</td>\n",
       "    </tr>\n",
       "    <tr>\n",
       "      <th>2</th>\n",
       "      <td>0.039432</td>\n",
       "      <td>0.342857</td>\n",
       "      <td>0.521186</td>\n",
       "      <td>1.000000</td>\n",
       "      <td>0.035861</td>\n",
       "      <td>0.413333</td>\n",
       "      <td>0.014556</td>\n",
       "      <td>0.097879</td>\n",
       "      <td>0.031408</td>\n",
       "      <td>0.357357</td>\n",
       "      <td>...</td>\n",
       "      <td>1.000000</td>\n",
       "      <td>0.50</td>\n",
       "      <td>0.372093</td>\n",
       "      <td>0.394805</td>\n",
       "      <td>1.0</td>\n",
       "      <td>0.0</td>\n",
       "      <td>0.0</td>\n",
       "      <td>0.0</td>\n",
       "      <td>0.048780</td>\n",
       "      <td>0</td>\n",
       "    </tr>\n",
       "    <tr>\n",
       "      <th>3</th>\n",
       "      <td>0.048716</td>\n",
       "      <td>0.796429</td>\n",
       "      <td>0.271186</td>\n",
       "      <td>0.923913</td>\n",
       "      <td>0.011777</td>\n",
       "      <td>0.026667</td>\n",
       "      <td>0.000000</td>\n",
       "      <td>0.000000</td>\n",
       "      <td>0.013171</td>\n",
       "      <td>0.000000</td>\n",
       "      <td>...</td>\n",
       "      <td>0.034653</td>\n",
       "      <td>0.48</td>\n",
       "      <td>0.872093</td>\n",
       "      <td>0.775325</td>\n",
       "      <td>0.0</td>\n",
       "      <td>0.0</td>\n",
       "      <td>0.0</td>\n",
       "      <td>1.0</td>\n",
       "      <td>0.219889</td>\n",
       "      <td>0</td>\n",
       "    </tr>\n",
       "    <tr>\n",
       "      <th>4</th>\n",
       "      <td>0.156550</td>\n",
       "      <td>0.387500</td>\n",
       "      <td>0.237288</td>\n",
       "      <td>0.934783</td>\n",
       "      <td>0.045124</td>\n",
       "      <td>0.024000</td>\n",
       "      <td>0.425036</td>\n",
       "      <td>0.365416</td>\n",
       "      <td>0.241641</td>\n",
       "      <td>0.822823</td>\n",
       "      <td>...</td>\n",
       "      <td>0.044554</td>\n",
       "      <td>0.52</td>\n",
       "      <td>0.444186</td>\n",
       "      <td>0.419481</td>\n",
       "      <td>0.0</td>\n",
       "      <td>0.0</td>\n",
       "      <td>1.0</td>\n",
       "      <td>0.0</td>\n",
       "      <td>0.190736</td>\n",
       "      <td>1</td>\n",
       "    </tr>\n",
       "  </tbody>\n",
       "</table>\n",
       "<p>5 rows × 35 columns</p>\n",
       "</div>"
      ],
      "text/plain": [
       "   Length ave. (nm)   Diameter ave. (nm)  BET (m2/g)  Purity (%)  \\\n",
       "0           0.000000            0.198214    0.559322    0.934783   \n",
       "1           0.093822            0.283929    0.567797    1.000000   \n",
       "2           0.039432            0.342857    0.521186    1.000000   \n",
       "3           0.048716            0.796429    0.271186    0.923913   \n",
       "4           0.156550            0.387500    0.237288    0.934783   \n",
       "\n",
       "   Zave (batch)  PdI (batch)  Zave (12.5 ug/ml)  PdI  (12.5 ug/ml)  \\\n",
       "0      0.036390     0.349333           0.020378           0.234910   \n",
       "1      0.066958     0.730667           0.132460           0.375204   \n",
       "2      0.035861     0.413333           0.014556           0.097879   \n",
       "3      0.011777     0.026667           0.000000           0.000000   \n",
       "4      0.045124     0.024000           0.425036           0.365416   \n",
       "\n",
       "   Zave  (200 ug/ml)  PdI  (200 ug/ml)  ...  COOH mmol/g  Endotoxins (EU/mg)  \\\n",
       "0           0.067882          0.306306  ...     0.079208                0.34   \n",
       "1           0.054205          0.570571  ...     0.405941                0.42   \n",
       "2           0.031408          0.357357  ...     1.000000                0.50   \n",
       "3           0.013171          0.000000  ...     0.034653                0.48   \n",
       "4           0.241641          0.822823  ...     0.044554                0.52   \n",
       "\n",
       "   Diameter min. (nm)  Diameter max. (nm)  Type_COOH  Type_NH2  Type_OH  \\\n",
       "0            0.332558            0.206494        0.0       0.0      0.0   \n",
       "1            0.390698            0.298701        0.0       0.0      1.0   \n",
       "2            0.372093            0.394805        1.0       0.0      0.0   \n",
       "3            0.872093            0.775325        0.0       0.0      0.0   \n",
       "4            0.444186            0.419481        0.0       0.0      1.0   \n",
       "\n",
       "   Type_PRISTINE  % Total Impurities  Genotoxicity  \n",
       "0            1.0            0.134906             0  \n",
       "1            0.0            0.075646             0  \n",
       "2            0.0            0.048780             0  \n",
       "3            1.0            0.219889             0  \n",
       "4            0.0            0.190736             1  \n",
       "\n",
       "[5 rows x 35 columns]"
      ]
     },
     "execution_count": 1,
     "metadata": {},
     "output_type": "execute_result"
    }
   ],
   "source": [
    "import matplotlib.pyplot as plt\n",
    "import pandas as pd\n",
    "import numpy as np\n",
    "import seaborn as sns\n",
    "from datetime import datetime\n",
    "%matplotlib inline\n",
    "\n",
    "df = pd.read_csv('pre-precessed_dataset.csv')\n",
    "codes = open('codes.txt','r').readlines()\n",
    "\n",
    "df.head()"
   ]
  },
  {
   "cell_type": "markdown",
   "metadata": {},
   "source": [
    "### PCA Transformation"
   ]
  },
  {
   "cell_type": "markdown",
   "metadata": {},
   "source": [
    "In order to transform the dataset, we must select the number of the Principal Components to keep."
   ]
  },
  {
   "cell_type": "code",
   "execution_count": 2,
   "metadata": {},
   "outputs": [],
   "source": [
    "# Extract the endpoint, so that the transformation will not be biased\n",
    "endpoint = df.pop('Genotoxicity')"
   ]
  },
  {
   "cell_type": "code",
   "execution_count": 3,
   "metadata": {},
   "outputs": [
    {
     "data": {
      "text/plain": [
       "<Figure size 432x288 with 0 Axes>"
      ]
     },
     "metadata": {},
     "output_type": "display_data"
    },
    {
     "data": {
      "image/png": "[encoded data removed]",
      "text/plain": [
       "<Figure size 1080x576 with 1 Axes>"
      ]
     },
     "metadata": {
      "needs_background": "light"
     },
     "output_type": "display_data"
    }
   ],
   "source": [
    "from sklearn.decomposition import PCA\n",
    "\n",
    "#Fitting the PCA algorithm with our Data\n",
    "pca = PCA().fit(df)\n",
    "\n",
    "plt.figure()\n",
    "plt.figure(figsize=(15,8))\n",
    "\n",
    "plt.plot(np.cumsum(pca.explained_variance_ratio_),linewidth=6)\n",
    "plt.xlabel('Number of Components', fontsize=20, fontweight = 'bold')\n",
    "plt.ylabel('Variance (%)', fontsize=20, fontweight = 'bold')\n",
    "#plt.title('Dataset Explained Variance', fontsize=20, fontweight = 'bold')\n",
    "plt.grid(linestyle='-', linewidth=2)\n",
    "plt.xticks(np.arange(0, len(df), 1))\n",
    "plt.savefig('PCA.png')\n",
    "plt.show()"
   ]
  },
  {
   "cell_type": "code",
   "execution_count": 4,
   "metadata": {},
   "outputs": [],
   "source": [
    "# 9 Principal Components were kept, in order to exclude the noise and not lose information\n",
    "n_comp =9\n",
    "pca = PCA(n_components=n_comp)\n",
    "x_pca = pca.fit_transform(df)\n",
    "\n",
    "name_lst=[]\n",
    "for i in range(n_comp):\n",
    "    name_lst.append('Principal Component {}'.format(i))\n",
    "    \n",
    "x_pca = pd.DataFrame(x_pca,list(range(len(x_pca))),name_lst)\n"
   ]
  },
  {
   "cell_type": "code",
   "execution_count": 5,
   "metadata": {},
   "outputs": [
    {
     "data": {
      "image/png": "[encoded data removed]",
      "text/plain": [
       "<Figure size 2880x1296 with 1 Axes>"
      ]
     },
     "metadata": {
      "needs_background": "light"
     },
     "output_type": "display_data"
    }
   ],
   "source": [
    "data=df.copy()\n",
    "features = list(data.columns)\n",
    "\n",
    "pca_data = pca.fit_transform(data)\n",
    "pca_inv_data = pca.inverse_transform(np.eye(n_comp))\n",
    "\n",
    "fig = plt.figure(figsize=(40, 18))\n",
    "plt.plot(pca_inv_data.mean(axis=0), '--o', label = 'mean', linewidth=5.0)\n",
    "plt.plot(np.square(pca_inv_data.std(axis=0)), '--o', label = 'variance', linewidth=5.0)\n",
    "\n",
    "plt.legend(loc='upper right',fontsize=30)\n",
    "plt.ylabel('PCA Contribution', fontsize=30, fontweight = 'bold');\n",
    "plt.xlabel('Feature', fontsize=30, fontweight = 'bold');\n",
    "plt.tick_params(axis='both', which='major', labelsize=18);\n",
    "plt.tick_params(axis='both', which='minor', labelsize=12);\n",
    "\n",
    "plt.xlim([-1, 35])\n",
    "ticks = range(-1,34)\n",
    "plt.xticks(ticks, features, fontsize=18, rotation=45, fontweight='bold');\n",
    "fig.savefig('variance_vs_mean_plot.png')"
   ]
  },
  {
   "cell_type": "code",
   "execution_count": 6,
   "metadata": {},
   "outputs": [],
   "source": [
    "x_pca['Genotoxicity'] = endpoint"
   ]
  },
  {
   "cell_type": "code",
   "execution_count": 7,
   "metadata": {},
   "outputs": [
    {
     "data": {
      "text/html": [
       "<div>\n",
       "<style scoped>\n",
       "    .dataframe tbody tr th:only-of-type {\n",
       "        vertical-align: middle;\n",
       "    }\n",
       "\n",
       "    .dataframe tbody tr th {\n",
       "        vertical-align: top;\n",
       "    }\n",
       "\n",
       "    .dataframe thead th {\n",
       "        text-align: right;\n",
       "    }\n",
       "</style>\n",
       "<table border=\"1\" class=\"dataframe\">\n",
       "  <thead>\n",
       "    <tr style=\"text-align: right;\">\n",
       "      <th></th>\n",
       "      <th>Principal Component 0</th>\n",
       "      <th>Principal Component 1</th>\n",
       "      <th>Principal Component 2</th>\n",
       "      <th>Principal Component 3</th>\n",
       "      <th>Principal Component 4</th>\n",
       "      <th>Principal Component 5</th>\n",
       "      <th>Principal Component 6</th>\n",
       "      <th>Principal Component 7</th>\n",
       "      <th>Principal Component 8</th>\n",
       "      <th>Genotoxicity</th>\n",
       "    </tr>\n",
       "  </thead>\n",
       "  <tbody>\n",
       "    <tr>\n",
       "      <th>0</th>\n",
       "      <td>0.217795</td>\n",
       "      <td>0.043651</td>\n",
       "      <td>0.046635</td>\n",
       "      <td>-0.483518</td>\n",
       "      <td>-0.462534</td>\n",
       "      <td>0.104073</td>\n",
       "      <td>0.117055</td>\n",
       "      <td>0.567357</td>\n",
       "      <td>-0.226720</td>\n",
       "      <td>0</td>\n",
       "    </tr>\n",
       "    <tr>\n",
       "      <th>1</th>\n",
       "      <td>0.546827</td>\n",
       "      <td>1.170945</td>\n",
       "      <td>-0.684714</td>\n",
       "      <td>-0.107559</td>\n",
       "      <td>-0.615303</td>\n",
       "      <td>0.543937</td>\n",
       "      <td>-0.319369</td>\n",
       "      <td>0.173835</td>\n",
       "      <td>0.053568</td>\n",
       "      <td>0</td>\n",
       "    </tr>\n",
       "    <tr>\n",
       "      <th>2</th>\n",
       "      <td>0.107842</td>\n",
       "      <td>1.306918</td>\n",
       "      <td>0.774619</td>\n",
       "      <td>-0.620141</td>\n",
       "      <td>0.195768</td>\n",
       "      <td>0.376223</td>\n",
       "      <td>0.059924</td>\n",
       "      <td>0.060519</td>\n",
       "      <td>0.196869</td>\n",
       "      <td>0</td>\n",
       "    </tr>\n",
       "    <tr>\n",
       "      <th>3</th>\n",
       "      <td>0.053869</td>\n",
       "      <td>-0.540837</td>\n",
       "      <td>1.222405</td>\n",
       "      <td>0.370042</td>\n",
       "      <td>-0.696248</td>\n",
       "      <td>-0.332422</td>\n",
       "      <td>0.460409</td>\n",
       "      <td>0.308189</td>\n",
       "      <td>-0.012788</td>\n",
       "      <td>0</td>\n",
       "    </tr>\n",
       "    <tr>\n",
       "      <th>4</th>\n",
       "      <td>0.037026</td>\n",
       "      <td>0.395050</td>\n",
       "      <td>0.020649</td>\n",
       "      <td>0.790298</td>\n",
       "      <td>-0.665678</td>\n",
       "      <td>-0.206716</td>\n",
       "      <td>-0.243203</td>\n",
       "      <td>-0.523065</td>\n",
       "      <td>0.124208</td>\n",
       "      <td>1</td>\n",
       "    </tr>\n",
       "  </tbody>\n",
       "</table>\n",
       "</div>"
      ],
      "text/plain": [
       "   Principal Component 0  Principal Component 1  Principal Component 2  \\\n",
       "0               0.217795               0.043651               0.046635   \n",
       "1               0.546827               1.170945              -0.684714   \n",
       "2               0.107842               1.306918               0.774619   \n",
       "3               0.053869              -0.540837               1.222405   \n",
       "4               0.037026               0.395050               0.020649   \n",
       "\n",
       "   Principal Component 3  Principal Component 4  Principal Component 5  \\\n",
       "0              -0.483518              -0.462534               0.104073   \n",
       "1              -0.107559              -0.615303               0.543937   \n",
       "2              -0.620141               0.195768               0.376223   \n",
       "3               0.370042              -0.696248              -0.332422   \n",
       "4               0.790298              -0.665678              -0.206716   \n",
       "\n",
       "   Principal Component 6  Principal Component 7  Principal Component 8  \\\n",
       "0               0.117055               0.567357              -0.226720   \n",
       "1              -0.319369               0.173835               0.053568   \n",
       "2               0.059924               0.060519               0.196869   \n",
       "3               0.460409               0.308189              -0.012788   \n",
       "4              -0.243203              -0.523065               0.124208   \n",
       "\n",
       "   Genotoxicity  \n",
       "0             0  \n",
       "1             0  \n",
       "2             0  \n",
       "3             0  \n",
       "4             1  "
      ]
     },
     "execution_count": 7,
     "metadata": {},
     "output_type": "execute_result"
    }
   ],
   "source": [
    "x_pca.head()"
   ]
  },
  {
   "cell_type": "markdown",
   "metadata": {},
   "source": [
    "### Train-Test Split"
   ]
  },
  {
   "cell_type": "code",
   "execution_count": 8,
   "metadata": {},
   "outputs": [],
   "source": [
    "from Kennard_Stone import kennardstonealgorithm"
   ]
  },
  {
   "cell_type": "markdown",
   "metadata": {},
   "source": [
    "Using the Kennart-Stone algorithm, we split the dataset into 2 sets, one for training and one for validation"
   ]
  },
  {
   "cell_type": "code",
   "execution_count": 9,
   "metadata": {},
   "outputs": [],
   "source": [
    "train, test, train_labels, test_labels = kennardstonealgorithm(x_pca,'Genotoxicity',5)"
   ]
  },
  {
   "cell_type": "code",
   "execution_count": 10,
   "metadata": {},
   "outputs": [
    {
     "name": "stdout",
     "output_type": "stream",
     "text": [
      "Training Features Shape: (10, 9)\n",
      "Training Labels Shape: (10,)\n",
      "Testing Features Shape: (5, 9)\n",
      "Testing Labels Shape: (5,)\n"
     ]
    }
   ],
   "source": [
    "print('Training Features Shape:', train.shape)\n",
    "print('Training Labels Shape:', train_labels.shape)\n",
    "print('Testing Features Shape:', test.shape)\n",
    "print('Testing Labels Shape:', test_labels.shape)"
   ]
  },
  {
   "cell_type": "code",
   "execution_count": 11,
   "metadata": {},
   "outputs": [
    {
     "name": "stdout",
     "output_type": "stream",
     "text": [
      "The names of the testing samples are:\n",
      "=====================================\n",
      "NRCWE- 040\n",
      "NRCWE- 045\n",
      "NRCWE- 048\n",
      "NM-401\n",
      "NM-402\n"
     ]
    }
   ],
   "source": [
    "print('The names of the testing samples are:')\n",
    "print('=====================================')\n",
    "for i in test.index:\n",
    "    print(codes[i][:-1])"
   ]
  },
  {
   "cell_type": "code",
   "execution_count": 12,
   "metadata": {
    "scrolled": false
   },
   "outputs": [
    {
     "data": {
      "image/png": "[encoded data removed]",
      "text/plain": [
       "<Figure size 1080x576 with 1 Axes>"
      ]
     },
     "metadata": {
      "needs_background": "light"
     },
     "output_type": "display_data"
    }
   ],
   "source": [
    "plt.figure(figsize=(15,8))\n",
    "plt.scatter(x_pca.iloc[:,0],x_pca.iloc[:,1], c=x_pca.Genotoxicity);\n",
    "plt.xlabel('First Principal Component', fontsize=20);\n",
    "plt.ylabel('Second Principal Component', fontsize=20);"
   ]
  },
  {
   "cell_type": "markdown",
   "metadata": {},
   "source": [
    "### Domain of Applicability"
   ]
  },
  {
   "cell_type": "code",
   "execution_count": 13,
   "metadata": {},
   "outputs": [],
   "source": [
    "# Convert to numpy array\n",
    "np_train_labels = np.array(train_labels)\n",
    "np_test_labels = np.array(test_labels)\n",
    "np_test = np.array(test)\n",
    "np_train = np.array(train)"
   ]
  },
  {
   "cell_type": "code",
   "execution_count": 14,
   "metadata": {},
   "outputs": [
    {
     "name": "stdout",
     "output_type": "stream",
     "text": [
      "The Leverage threshold is: 2.7\n"
     ]
    }
   ],
   "source": [
    "leverage_threshold = 3*np_train.shape[1]/np_train.shape[0]\n",
    "print('The Leverage threshold is:', round(leverage_threshold, 2))"
   ]
  },
  {
   "cell_type": "code",
   "execution_count": 15,
   "metadata": {},
   "outputs": [
    {
     "name": "stdout",
     "output_type": "stream",
     "text": [
      "Sample: NRCWE- 040    Leverage Value: 1.15    Reliability: reliable\n",
      "Sample: NRCWE- 041    Leverage Value: 2.17    Reliability: reliable\n",
      "Sample: NRCWE- 042    Leverage Value: 1.82    Reliability: reliable\n",
      "Sample: NRCWE- 043    Leverage Value: 1.73    Reliability: reliable\n",
      "Sample: NRCWE- 044    Leverage Value: 0.75    Reliability: reliable\n"
     ]
    }
   ],
   "source": [
    "from numpy.linalg import matrix_power\n",
    "H=[]\n",
    "reliability=[]\n",
    "for i in range(len(np_test)):\n",
    "    H.append(np_test[i].T@(matrix_power(np_train.T@np_train, -1))@np_test[i])\n",
    "    if H[i]<=leverage_threshold:\n",
    "        reliability.append('reliable')\n",
    "    else:\n",
    "        reliability.append('unreliable')\n",
    "\n",
    "LV = [(sample[:-1], round(l_val, 2),rely) for sample, l_val, rely in zip(codes, H, reliability)]\n",
    "for i in range(len(np_test)):\n",
    "    [print('Sample: {:13} Leverage Value: {}    Reliability: {}'.format(LV[i][0],LV[i][1],LV[i][2]))];"
   ]
  },
  {
   "cell_type": "markdown",
   "metadata": {},
   "source": [
    "### Import Bayesian Optimization Tool and Search for the Best Model"
   ]
  },
  {
   "cell_type": "code",
   "execution_count": 16,
   "metadata": {},
   "outputs": [],
   "source": [
    "from Bayesian_Optimization import optimize_svm, optimize_rfc, optimize_lr"
   ]
  },
  {
   "cell_type": "markdown",
   "metadata": {},
   "source": [
    "#### Optimization for the SVM model"
   ]
  },
  {
   "cell_type": "code",
   "execution_count": 17,
   "metadata": {
    "scrolled": false
   },
   "outputs": [
    {
     "name": "stdout",
     "output_type": "stream",
     "text": [
      "Optimizing for linear kernel\n",
      "|   iter    |  target   |     C     |   gamma   |\n",
      "-------------------------------------------------\n",
      "| \u001b[0m 1       \u001b[0m | \u001b[0m 100.0   \u001b[0m | \u001b[0m 312.4   \u001b[0m | \u001b[0m 1.951   \u001b[0m |\n",
      "| \u001b[0m 2       \u001b[0m | \u001b[0m 100.0   \u001b[0m | \u001b[0m 419.6   \u001b[0m | \u001b[0m 1.599   \u001b[0m |\n",
      "| \u001b[0m 3       \u001b[0m | \u001b[0m 100.0   \u001b[0m | \u001b[0m 200.0   \u001b[0m | \u001b[0m 1.253   \u001b[0m |\n",
      "| \u001b[0m 4       \u001b[0m | \u001b[0m 100.0   \u001b[0m | \u001b[0m 500.0   \u001b[0m | \u001b[0m 1.799   \u001b[0m |\n",
      "| \u001b[0m 5       \u001b[0m | \u001b[0m 100.0   \u001b[0m | \u001b[0m 200.0   \u001b[0m | \u001b[0m 1.872   \u001b[0m |\n",
      "| \u001b[0m 6       \u001b[0m | \u001b[0m 100.0   \u001b[0m | \u001b[0m 500.0   \u001b[0m | \u001b[0m 1.006   \u001b[0m |\n",
      "| \u001b[0m 7       \u001b[0m | \u001b[0m 100.0   \u001b[0m | \u001b[0m 200.0   \u001b[0m | \u001b[0m 1.409   \u001b[0m |\n",
      "=================================================\n",
      "Optimizing for poly kernel\n",
      "|   iter    |  target   |     C     |   gamma   |\n",
      "-------------------------------------------------\n",
      "| \u001b[0m 1       \u001b[0m | \u001b[0m 60.0    \u001b[0m | \u001b[0m 312.4   \u001b[0m | \u001b[0m 1.951   \u001b[0m |\n",
      "| \u001b[0m 2       \u001b[0m | \u001b[0m 60.0    \u001b[0m | \u001b[0m 419.6   \u001b[0m | \u001b[0m 1.599   \u001b[0m |\n",
      "| \u001b[0m 3       \u001b[0m | \u001b[0m 60.0    \u001b[0m | \u001b[0m 200.0   \u001b[0m | \u001b[0m 1.253   \u001b[0m |\n",
      "| \u001b[0m 4       \u001b[0m | \u001b[0m 60.0    \u001b[0m | \u001b[0m 500.0   \u001b[0m | \u001b[0m 1.799   \u001b[0m |\n",
      "| \u001b[0m 5       \u001b[0m | \u001b[0m 60.0    \u001b[0m | \u001b[0m 200.0   \u001b[0m | \u001b[0m 1.872   \u001b[0m |\n",
      "| \u001b[0m 6       \u001b[0m | \u001b[0m 60.0    \u001b[0m | \u001b[0m 500.0   \u001b[0m | \u001b[0m 1.006   \u001b[0m |\n",
      "| \u001b[0m 7       \u001b[0m | \u001b[0m 60.0    \u001b[0m | \u001b[0m 200.0   \u001b[0m | \u001b[0m 1.409   \u001b[0m |\n",
      "=================================================\n",
      "Optimizing for rbf kernel\n",
      "|   iter    |  target   |     C     |   gamma   |\n",
      "-------------------------------------------------\n",
      "| \u001b[0m 1       \u001b[0m | \u001b[0m 40.0    \u001b[0m | \u001b[0m 312.4   \u001b[0m | \u001b[0m 1.951   \u001b[0m |\n",
      "| \u001b[0m 2       \u001b[0m | \u001b[0m 40.0    \u001b[0m | \u001b[0m 419.6   \u001b[0m | \u001b[0m 1.599   \u001b[0m |\n",
      "| \u001b[95m 3       \u001b[0m | \u001b[95m 60.0    \u001b[0m | \u001b[95m 200.0   \u001b[0m | \u001b[95m 1.253   \u001b[0m |\n",
      "| \u001b[0m 4       \u001b[0m | \u001b[0m 40.0    \u001b[0m | \u001b[0m 201.2   \u001b[0m | \u001b[0m 1.832   \u001b[0m |\n",
      "| \u001b[0m 5       \u001b[0m | \u001b[0m 60.0    \u001b[0m | \u001b[0m 225.8   \u001b[0m | \u001b[0m 1.267   \u001b[0m |\n",
      "| \u001b[0m 6       \u001b[0m | \u001b[0m 40.0    \u001b[0m | \u001b[0m 290.2   \u001b[0m | \u001b[0m 1.478   \u001b[0m |\n",
      "| \u001b[0m 7       \u001b[0m | \u001b[0m 60.0    \u001b[0m | \u001b[0m 254.4   \u001b[0m | \u001b[0m 1.251   \u001b[0m |\n",
      "=================================================\n",
      "Optimizing for sigmoid kernel\n",
      "|   iter    |  target   |     C     |   gamma   |\n",
      "-------------------------------------------------\n",
      "| \u001b[0m 1       \u001b[0m | \u001b[0m 60.0    \u001b[0m | \u001b[0m 312.4   \u001b[0m | \u001b[0m 1.951   \u001b[0m |\n",
      "| \u001b[0m 2       \u001b[0m | \u001b[0m 60.0    \u001b[0m | \u001b[0m 419.6   \u001b[0m | \u001b[0m 1.599   \u001b[0m |\n",
      "| \u001b[95m 3       \u001b[0m | \u001b[95m 80.0    \u001b[0m | \u001b[95m 200.0   \u001b[0m | \u001b[95m 1.253   \u001b[0m |\n",
      "| \u001b[0m 4       \u001b[0m | \u001b[0m 60.0    \u001b[0m | \u001b[0m 201.2   \u001b[0m | \u001b[0m 1.832   \u001b[0m |\n",
      "| \u001b[0m 5       \u001b[0m | \u001b[0m 80.0    \u001b[0m | \u001b[0m 225.8   \u001b[0m | \u001b[0m 1.267   \u001b[0m |\n",
      "| \u001b[0m 6       \u001b[0m | \u001b[0m 60.0    \u001b[0m | \u001b[0m 290.2   \u001b[0m | \u001b[0m 1.478   \u001b[0m |\n",
      "| \u001b[0m 7       \u001b[0m | \u001b[0m 80.0    \u001b[0m | \u001b[0m 254.4   \u001b[0m | \u001b[0m 1.251   \u001b[0m |\n",
      "=================================================\n",
      "\n",
      "\n",
      "Final result: The optimal model's accuracy is 100.0 and the optimal parameters are C=312.36203565420874, gamma=1.9507143064099162 and kernel=linear\n"
     ]
    }
   ],
   "source": [
    "# Get the time that the optimization started\n",
    "start_time = datetime.now().strftime(\"%H:%M:%S\")\n",
    "\n",
    "# Boundaries of the hyperparameters\n",
    "bo_dict={'C':(200,500) , 'gamma' : (1,2)}\n",
    "\n",
    "# Optimization\n",
    "svm_optimum = optimize_svm(train,train_labels,test,test_labels,bo_dict,5,2)\n",
    "\n",
    "# Get the time that the optimization ended\n",
    "end_time = datetime.now().strftime(\"%H:%M:%S\")"
   ]
  },
  {
   "cell_type": "code",
   "execution_count": 19,
   "metadata": {
    "scrolled": true
   },
   "outputs": [
    {
     "name": "stdout",
     "output_type": "stream",
     "text": [
      "Minutes to execute: 0.62\n"
     ]
    }
   ],
   "source": [
    "print('Minutes to execute:', \n",
    "      round((datetime.strptime(end_time, '%H:%M:%S') - datetime.strptime(start_time, '%H:%M:%S')).seconds/60,2))"
   ]
  },
  {
   "cell_type": "markdown",
   "metadata": {},
   "source": [
    "#### Optimization for the RF model"
   ]
  },
  {
   "cell_type": "code",
   "execution_count": 20,
   "metadata": {
    "scrolled": false
   },
   "outputs": [
    {
     "name": "stdout",
     "output_type": "stream",
     "text": [
      "|   iter    |  target   | max_fe... | min_sa... | n_esti... |\n",
      "-------------------------------------------------------------\n",
      "| \u001b[0m 1       \u001b[0m | \u001b[0m 60.0    \u001b[0m | \u001b[0m 0.6498  \u001b[0m | \u001b[0m 0.8606  \u001b[0m | \u001b[0m 734.7   \u001b[0m |\n",
      "| \u001b[95m 2       \u001b[0m | \u001b[95m 100.0   \u001b[0m | \u001b[95m 0.7395  \u001b[0m | \u001b[95m 0.2248  \u001b[0m | \u001b[95m 164.4   \u001b[0m |\n",
      "| \u001b[0m 3       \u001b[0m | \u001b[0m 60.0    \u001b[0m | \u001b[0m 0.5232  \u001b[0m | \u001b[0m 0.7929  \u001b[0m | \u001b[0m 605.1   \u001b[0m |\n",
      "| \u001b[0m 4       \u001b[0m | \u001b[0m 100.0   \u001b[0m | \u001b[0m 0.7427  \u001b[0m | \u001b[0m 0.2107  \u001b[0m | \u001b[0m 152.4   \u001b[0m |\n",
      "| \u001b[0m 5       \u001b[0m | \u001b[0m 60.0    \u001b[0m | \u001b[0m 0.5     \u001b[0m | \u001b[0m 0.9     \u001b[0m | \u001b[0m 158.4   \u001b[0m |\n",
      "| \u001b[0m 6       \u001b[0m | \u001b[0m 100.0   \u001b[0m | \u001b[0m 0.7929  \u001b[0m | \u001b[0m 0.2655  \u001b[0m | \u001b[0m 164.4   \u001b[0m |\n",
      "| \u001b[0m 7       \u001b[0m | \u001b[0m 100.0   \u001b[0m | \u001b[0m 0.7686  \u001b[0m | \u001b[0m 0.2305  \u001b[0m | \u001b[0m 164.5   \u001b[0m |\n",
      "| \u001b[0m 8       \u001b[0m | \u001b[0m 100.0   \u001b[0m | \u001b[0m 0.6867  \u001b[0m | \u001b[0m 0.3426  \u001b[0m | \u001b[0m 164.5   \u001b[0m |\n",
      "| \u001b[0m 9       \u001b[0m | \u001b[0m 100.0   \u001b[0m | \u001b[0m 0.7485  \u001b[0m | \u001b[0m 0.1923  \u001b[0m | \u001b[0m 152.2   \u001b[0m |\n",
      "| \u001b[0m 10      \u001b[0m | \u001b[0m 100.0   \u001b[0m | \u001b[0m 0.7624  \u001b[0m | \u001b[0m 0.351   \u001b[0m | \u001b[0m 152.3   \u001b[0m |\n",
      "| \u001b[0m 11      \u001b[0m | \u001b[0m 100.0   \u001b[0m | \u001b[0m 0.9     \u001b[0m | \u001b[0m 0.2324  \u001b[0m | \u001b[0m 152.3   \u001b[0m |\n",
      "| \u001b[0m 12      \u001b[0m | \u001b[0m 100.0   \u001b[0m | \u001b[0m 0.7975  \u001b[0m | \u001b[0m 0.2519  \u001b[0m | \u001b[0m 152.3   \u001b[0m |\n",
      "| \u001b[0m 13      \u001b[0m | \u001b[0m 60.0    \u001b[0m | \u001b[0m 0.5     \u001b[0m | \u001b[0m 0.3365  \u001b[0m | \u001b[0m 152.3   \u001b[0m |\n",
      "| \u001b[0m 14      \u001b[0m | \u001b[0m 100.0   \u001b[0m | \u001b[0m 0.8251  \u001b[0m | \u001b[0m 0.185   \u001b[0m | \u001b[0m 152.2   \u001b[0m |\n",
      "| \u001b[0m 15      \u001b[0m | \u001b[0m 100.0   \u001b[0m | \u001b[0m 0.795   \u001b[0m | \u001b[0m 0.2974  \u001b[0m | \u001b[0m 164.5   \u001b[0m |\n",
      "| \u001b[0m 16      \u001b[0m | \u001b[0m 100.0   \u001b[0m | \u001b[0m 0.7342  \u001b[0m | \u001b[0m 0.2745  \u001b[0m | \u001b[0m 164.5   \u001b[0m |\n",
      "| \u001b[0m 17      \u001b[0m | \u001b[0m 100.0   \u001b[0m | \u001b[0m 0.8871  \u001b[0m | \u001b[0m 0.2766  \u001b[0m | \u001b[0m 152.3   \u001b[0m |\n",
      "| \u001b[0m 18      \u001b[0m | \u001b[0m 100.0   \u001b[0m | \u001b[0m 0.6975  \u001b[0m | \u001b[0m 0.3044  \u001b[0m | \u001b[0m 164.5   \u001b[0m |\n",
      "=============================================================\n",
      "\n",
      "\n",
      "Final result: The optimal model's accuracy is 100.0 and the optimal parameters are n_estimators=164, min_samples_split=0.22481491235394924 and max_features=0.7394633936788146\n"
     ]
    }
   ],
   "source": [
    "# Get the time that the optimization started\n",
    "start_time = datetime.now().strftime(\"%H:%M:%S\")\n",
    "\n",
    "# Boundaries of the hyperparameters\n",
    "bo_dict={\"n_estimators\": (10,1000), \"min_samples_split\": (0.1,0.9), \"max_features\": (0.5, 0.9)}\n",
    "\n",
    "# Optimization\n",
    "rf_optimum = optimize_rfc(train,train_labels,test,test_labels,bo_dict,15,3)\n",
    "\n",
    "# Get the time that the optimization ended\n",
    "end_time = datetime.now().strftime(\"%H:%M:%S\")"
   ]
  },
  {
   "cell_type": "code",
   "execution_count": 21,
   "metadata": {
    "scrolled": true
   },
   "outputs": [
    {
     "name": "stdout",
     "output_type": "stream",
     "text": [
      "Minutes to execute: 0.25\n"
     ]
    }
   ],
   "source": [
    "print('Minutes to execute:', \n",
    "      round((datetime.strptime(end_time, '%H:%M:%S') - datetime.strptime(start_time, '%H:%M:%S')).seconds/60,2))"
   ]
  },
  {
   "cell_type": "markdown",
   "metadata": {},
   "source": [
    "#### Optimization for the LR model"
   ]
  },
  {
   "cell_type": "code",
   "execution_count": 22,
   "metadata": {
    "scrolled": false
   },
   "outputs": [
    {
     "name": "stdout",
     "output_type": "stream",
     "text": [
      "Optimizing for l1 norm\n",
      "|   iter    |  target   |     C     |\n",
      "-------------------------------------\n",
      "| \u001b[0m 1       \u001b[0m | \u001b[0m 100.0   \u001b[0m | \u001b[0m 98.73   \u001b[0m |\n",
      "| \u001b[0m 2       \u001b[0m | \u001b[0m 100.0   \u001b[0m | \u001b[0m 127.5   \u001b[0m |\n",
      "| \u001b[0m 3       \u001b[0m | \u001b[0m 100.0   \u001b[0m | \u001b[0m 80.0    \u001b[0m |\n",
      "| \u001b[0m 4       \u001b[0m | \u001b[0m 100.0   \u001b[0m | \u001b[0m 130.0   \u001b[0m |\n",
      "| \u001b[0m 5       \u001b[0m | \u001b[0m 100.0   \u001b[0m | \u001b[0m 80.01   \u001b[0m |\n",
      "=====================================\n",
      "Optimizing for l2 norm\n",
      "|   iter    |  target   |     C     |\n",
      "-------------------------------------\n",
      "| \u001b[0m 1       \u001b[0m | \u001b[0m 80.0    \u001b[0m | \u001b[0m 98.73   \u001b[0m |\n",
      "| \u001b[0m 2       \u001b[0m | \u001b[0m 80.0    \u001b[0m | \u001b[0m 127.5   \u001b[0m |\n",
      "| \u001b[0m 3       \u001b[0m | \u001b[0m 80.0    \u001b[0m | \u001b[0m 80.0    \u001b[0m |\n",
      "| \u001b[0m 4       \u001b[0m | \u001b[0m 80.0    \u001b[0m | \u001b[0m 130.0   \u001b[0m |\n",
      "| \u001b[0m 5       \u001b[0m | \u001b[0m 80.0    \u001b[0m | \u001b[0m 80.01   \u001b[0m |\n",
      "=====================================\n",
      "\n",
      "\n",
      "Final result: The optimal model's accuracy is 100.0 and the optimal parameters are C=98.72700594236812 and penalty=l1\n"
     ]
    }
   ],
   "source": [
    "# Get the time that the optimization started\n",
    "start_time = datetime.now().strftime(\"%H:%M:%S\")\n",
    "\n",
    "# Boundaries of the hyperparameters\n",
    "bo_dict={'C' : (80,130)}\n",
    "\n",
    "# Optimization\n",
    "import warnings\n",
    "warnings.filterwarnings(\"ignore\", category=FutureWarning)\n",
    "lr_optimum = optimize_lr(train,train_labels,test,test_labels,bo_dict,3,2)\n",
    "\n",
    "# Get the time that the optimization ended\n",
    "end_time = datetime.now().strftime(\"%H:%M:%S\")"
   ]
  },
  {
   "cell_type": "code",
   "execution_count": 23,
   "metadata": {
    "scrolled": true
   },
   "outputs": [
    {
     "name": "stdout",
     "output_type": "stream",
     "text": [
      "Minutes to execute: 0.13\n"
     ]
    }
   ],
   "source": [
    "print('Minutes to execute:', \n",
    "      round((datetime.strptime(end_time, '%H:%M:%S') - datetime.strptime(start_time, '%H:%M:%S')).seconds/60,2))"
   ]
  },
  {
   "cell_type": "markdown",
   "metadata": {},
   "source": [
    "### Fit the models and Test the performance"
   ]
  },
  {
   "cell_type": "code",
   "execution_count": 19,
   "metadata": {},
   "outputs": [],
   "source": [
    "from sklearn.svm import SVC\n",
    "from sklearn.ensemble import RandomForestClassifier\n",
    "from sklearn.linear_model import LogisticRegression\n",
    "from sklearn.naive_bayes import GaussianNB\n",
    "\n",
    "\n",
    "from sklearn.model_selection import cross_val_score\n",
    "from sklearn.metrics import (accuracy_score,matthews_corrcoef,\n",
    "                             classification_report, confusion_matrix)"
   ]
  },
  {
   "cell_type": "markdown",
   "metadata": {},
   "source": [
    "#### Fit SVM"
   ]
  },
  {
   "cell_type": "code",
   "execution_count": 25,
   "metadata": {},
   "outputs": [],
   "source": [
    "# Declare the model\n",
    "svc = SVC(C=svm_optimum['params']['C'], gamma=svm_optimum['params']['gamma'], kernel=svm_optimum['params']['kernel'], random_state=42)\n",
    "\n",
    "# Train the model on training data\n",
    "svc.fit(train, train_labels);"
   ]
  },
  {
   "cell_type": "markdown",
   "metadata": {},
   "source": [
    "###### Metrics on the Training set"
   ]
  },
  {
   "cell_type": "code",
   "execution_count": 26,
   "metadata": {},
   "outputs": [],
   "source": [
    "# Use the model's predict method \n",
    "predictions = svc.predict(train)"
   ]
  },
  {
   "cell_type": "code",
   "execution_count": 27,
   "metadata": {},
   "outputs": [
    {
     "name": "stdout",
     "output_type": "stream",
     "text": [
      "SVM's training accuracy: 1.0\n"
     ]
    }
   ],
   "source": [
    "# Print the Training accuracy\n",
    "print(\"SVM's training accuracy:\", accuracy_score(train_labels, predictions))"
   ]
  },
  {
   "cell_type": "code",
   "execution_count": 28,
   "metadata": {},
   "outputs": [
    {
     "name": "stdout",
     "output_type": "stream",
     "text": [
      "              precision    recall  f1-score   support\n",
      "\n",
      "           0       1.00      1.00      1.00         6\n",
      "           1       1.00      1.00      1.00         4\n",
      "\n",
      "   micro avg       1.00      1.00      1.00        10\n",
      "   macro avg       1.00      1.00      1.00        10\n",
      "weighted avg       1.00      1.00      1.00        10\n",
      "\n"
     ]
    }
   ],
   "source": [
    "# Print the classification report\n",
    "print(classification_report(train_labels,predictions))"
   ]
  },
  {
   "cell_type": "code",
   "execution_count": 29,
   "metadata": {},
   "outputs": [
    {
     "name": "stdout",
     "output_type": "stream",
     "text": [
      "Confusion Matrix:\n",
      "6 | 0\n",
      "-----\n",
      "0 | 4\n"
     ]
    }
   ],
   "source": [
    "cm = confusion_matrix(train_labels,predictions)\n",
    "print('Confusion Matrix:')\n",
    "print(cm[0][0],'|',cm[0][1])\n",
    "print('-----')\n",
    "print(cm[1][0],'|',cm[1][1])"
   ]
  },
  {
   "cell_type": "code",
   "execution_count": 26,
   "metadata": {},
   "outputs": [
    {
     "name": "stdout",
     "output_type": "stream",
     "text": [
      "Specificity: 1.0\n",
      "Sensitivity: 1.0\n"
     ]
    }
   ],
   "source": [
    "tn, fp, fn, tp = confusion_matrix(train_labels,predictions).ravel()\n",
    "specificity = tn / (tn + fp)\n",
    "sensitivity = tp / (tp + fn)\n",
    "print('Specificity:',specificity)\n",
    "print('Sensitivity:',sensitivity)"
   ]
  },
  {
   "cell_type": "code",
   "execution_count": 30,
   "metadata": {},
   "outputs": [
    {
     "name": "stdout",
     "output_type": "stream",
     "text": [
      "MCC: 1.0\n"
     ]
    }
   ],
   "source": [
    "# Print the MCC\n",
    "print('MCC:', matthews_corrcoef(train_labels,predictions))"
   ]
  },
  {
   "cell_type": "code",
   "execution_count": 31,
   "metadata": {},
   "outputs": [
    {
     "name": "stdout",
     "output_type": "stream",
     "text": [
      "List of scores: [0.66666667 0.66666667 0.5        1.        ]\n",
      "Mean of Cross Validtation: 0.7083333333333333\n"
     ]
    }
   ],
   "source": [
    "#Print the Cross-Validation Score\n",
    "scores = cross_val_score(svc, train, train_labels, cv=4)\n",
    "\n",
    "print('List of scores:', scores)\n",
    "print('Mean of Cross Validtation:', scores.mean())"
   ]
  },
  {
   "cell_type": "markdown",
   "metadata": {},
   "source": [
    "###### Metrics on the Testing set"
   ]
  },
  {
   "cell_type": "code",
   "execution_count": 32,
   "metadata": {},
   "outputs": [],
   "source": [
    "# Use the model's predict method\n",
    "predictions = svc.predict(test)"
   ]
  },
  {
   "cell_type": "code",
   "execution_count": 33,
   "metadata": {},
   "outputs": [
    {
     "name": "stdout",
     "output_type": "stream",
     "text": [
      "SVM's testing accuracy: 1.0\n"
     ]
    }
   ],
   "source": [
    "# Print the Testing accuracy\n",
    "print(\"SVM's testing accuracy:\", accuracy_score(test_labels, predictions))"
   ]
  },
  {
   "cell_type": "code",
   "execution_count": 34,
   "metadata": {},
   "outputs": [
    {
     "name": "stdout",
     "output_type": "stream",
     "text": [
      "              precision    recall  f1-score   support\n",
      "\n",
      "           0       1.00      1.00      1.00         3\n",
      "           1       1.00      1.00      1.00         2\n",
      "\n",
      "   micro avg       1.00      1.00      1.00         5\n",
      "   macro avg       1.00      1.00      1.00         5\n",
      "weighted avg       1.00      1.00      1.00         5\n",
      "\n"
     ]
    }
   ],
   "source": [
    "# Print the classification report\n",
    "print(classification_report(test_labels,predictions))"
   ]
  },
  {
   "cell_type": "code",
   "execution_count": 35,
   "metadata": {},
   "outputs": [
    {
     "name": "stdout",
     "output_type": "stream",
     "text": [
      "Confusion Matrix:\n",
      "3 | 0\n",
      "-----\n",
      "0 | 2\n"
     ]
    }
   ],
   "source": [
    "cm = confusion_matrix(test_labels,predictions)\n",
    "print('Confusion Matrix:')\n",
    "print(cm[0][0],'|',cm[0][1])\n",
    "print('-----')\n",
    "print(cm[1][0],'|',cm[1][1])"
   ]
  },
  {
   "cell_type": "code",
   "execution_count": 28,
   "metadata": {},
   "outputs": [
    {
     "name": "stdout",
     "output_type": "stream",
     "text": [
      "Specificity: 1.0\n",
      "Sensitivity: 1.0\n"
     ]
    }
   ],
   "source": [
    "tn, fp, fn, tp = confusion_matrix(test_labels,predictions).ravel()\n",
    "specificity = tn / (tn + fp)\n",
    "sensitivity = tp / (tp + fn)\n",
    "print('Specificity:',specificity)\n",
    "print('Sensitivity:',sensitivity)"
   ]
  },
  {
   "cell_type": "code",
   "execution_count": 36,
   "metadata": {},
   "outputs": [
    {
     "name": "stdout",
     "output_type": "stream",
     "text": [
      "MCC: 1.0\n"
     ]
    }
   ],
   "source": [
    "# Print the MCC\n",
    "print('MCC:', matthews_corrcoef(test_labels,predictions))"
   ]
  },
  {
   "cell_type": "markdown",
   "metadata": {},
   "source": [
    "#### Fit RF"
   ]
  },
  {
   "cell_type": "code",
   "execution_count": 37,
   "metadata": {},
   "outputs": [],
   "source": [
    "# Declare the model\n",
    "clf = RandomForestClassifier(n_estimators=rf_optimum['params']['n_estimators'], max_features=rf_optimum['params']['max_features'], min_samples_split=rf_optimum['params']['min_samples_split'],  random_state=42)\n",
    "\n",
    "# Train the model on training data\n",
    "clf.fit(train, train_labels);"
   ]
  },
  {
   "cell_type": "markdown",
   "metadata": {},
   "source": [
    "###### Metrics on the Training set"
   ]
  },
  {
   "cell_type": "code",
   "execution_count": 38,
   "metadata": {},
   "outputs": [],
   "source": [
    "# Use the model's predict method\n",
    "predictions = clf.predict(train)"
   ]
  },
  {
   "cell_type": "code",
   "execution_count": 39,
   "metadata": {},
   "outputs": [
    {
     "name": "stdout",
     "output_type": "stream",
     "text": [
      "RF's training accuracy: 1.0\n"
     ]
    }
   ],
   "source": [
    "# Print the Train accuracy\n",
    "print(\"RF's training accuracy:\", accuracy_score(train_labels, predictions))"
   ]
  },
  {
   "cell_type": "code",
   "execution_count": 40,
   "metadata": {},
   "outputs": [
    {
     "name": "stdout",
     "output_type": "stream",
     "text": [
      "              precision    recall  f1-score   support\n",
      "\n",
      "           0       1.00      1.00      1.00         6\n",
      "           1       1.00      1.00      1.00         4\n",
      "\n",
      "   micro avg       1.00      1.00      1.00        10\n",
      "   macro avg       1.00      1.00      1.00        10\n",
      "weighted avg       1.00      1.00      1.00        10\n",
      "\n"
     ]
    }
   ],
   "source": [
    "# Print the classification report\n",
    "print(classification_report(train_labels,predictions))"
   ]
  },
  {
   "cell_type": "code",
   "execution_count": 41,
   "metadata": {},
   "outputs": [
    {
     "name": "stdout",
     "output_type": "stream",
     "text": [
      "Confusion Matrix:\n",
      "6 | 0\n",
      "-----\n",
      "0 | 4\n"
     ]
    }
   ],
   "source": [
    "cm = confusion_matrix(train_labels,predictions)\n",
    "print('Confusion Matrix:')\n",
    "print(cm[0][0],'|',cm[0][1])\n",
    "print('-----')\n",
    "print(cm[1][0],'|',cm[1][1])"
   ]
  },
  {
   "cell_type": "code",
   "execution_count": 29,
   "metadata": {},
   "outputs": [
    {
     "name": "stdout",
     "output_type": "stream",
     "text": [
      "Specificity: 1.0\n",
      "Sensitivity: 1.0\n"
     ]
    }
   ],
   "source": [
    "tn, fp, fn, tp = confusion_matrix(train_labels,predictions).ravel()\n",
    "specificity = tn / (tn + fp)\n",
    "sensitivity = tp / (tp + fn)\n",
    "print('Specificity:',specificity)\n",
    "print('Sensitivity:',sensitivity)"
   ]
  },
  {
   "cell_type": "code",
   "execution_count": 42,
   "metadata": {},
   "outputs": [
    {
     "name": "stdout",
     "output_type": "stream",
     "text": [
      "MCC: 1.0\n"
     ]
    }
   ],
   "source": [
    "# Print the MCC\n",
    "print('MCC:', matthews_corrcoef(train_labels,predictions))"
   ]
  },
  {
   "cell_type": "code",
   "execution_count": 43,
   "metadata": {},
   "outputs": [
    {
     "name": "stdout",
     "output_type": "stream",
     "text": [
      "List of scores: [0.33333333 0.33333333 0.5        0.        ]\n",
      "Mean of Cross Validtation: 0.29166666666666663\n"
     ]
    }
   ],
   "source": [
    "#Print the Cross-Validation Score\n",
    "scores = cross_val_score(clf, train, train_labels, cv=4)\n",
    "\n",
    "print('List of scores:', scores)\n",
    "print('Mean of Cross Validtation:', scores.mean())"
   ]
  },
  {
   "cell_type": "markdown",
   "metadata": {},
   "source": [
    "###### Metrics on the Testing set"
   ]
  },
  {
   "cell_type": "code",
   "execution_count": 44,
   "metadata": {},
   "outputs": [],
   "source": [
    "# Use the model's predict method\n",
    "predictions = clf.predict(test)"
   ]
  },
  {
   "cell_type": "code",
   "execution_count": 45,
   "metadata": {},
   "outputs": [
    {
     "name": "stdout",
     "output_type": "stream",
     "text": [
      "RF's testing accuracy: 1.0\n"
     ]
    }
   ],
   "source": [
    "# Print the Test accuracy\n",
    "print(\"RF's testing accuracy:\", accuracy_score(test_labels, predictions))"
   ]
  },
  {
   "cell_type": "code",
   "execution_count": 46,
   "metadata": {},
   "outputs": [
    {
     "name": "stdout",
     "output_type": "stream",
     "text": [
      "              precision    recall  f1-score   support\n",
      "\n",
      "           0       1.00      1.00      1.00         3\n",
      "           1       1.00      1.00      1.00         2\n",
      "\n",
      "   micro avg       1.00      1.00      1.00         5\n",
      "   macro avg       1.00      1.00      1.00         5\n",
      "weighted avg       1.00      1.00      1.00         5\n",
      "\n"
     ]
    }
   ],
   "source": [
    "# Print the classification report\n",
    "print(classification_report(test_labels,predictions))"
   ]
  },
  {
   "cell_type": "code",
   "execution_count": 47,
   "metadata": {},
   "outputs": [
    {
     "name": "stdout",
     "output_type": "stream",
     "text": [
      "Confusion Matrix:\n",
      "3 | 0\n",
      "-----\n",
      "0 | 2\n"
     ]
    }
   ],
   "source": [
    "cm = confusion_matrix(test_labels,predictions)\n",
    "print('Confusion Matrix:')\n",
    "print(cm[0][0],'|',cm[0][1])\n",
    "print('-----')\n",
    "print(cm[1][0],'|',cm[1][1])"
   ]
  },
  {
   "cell_type": "code",
   "execution_count": 30,
   "metadata": {},
   "outputs": [
    {
     "name": "stdout",
     "output_type": "stream",
     "text": [
      "Specificity: 1.0\n",
      "Sensitivity: 1.0\n"
     ]
    }
   ],
   "source": [
    "tn, fp, fn, tp = confusion_matrix(test_labels,predictions).ravel()\n",
    "specificity = tn / (tn + fp)\n",
    "sensitivity = tp / (tp + fn)\n",
    "print('Specificity:',specificity)\n",
    "print('Sensitivity:',sensitivity)"
   ]
  },
  {
   "cell_type": "code",
   "execution_count": 48,
   "metadata": {},
   "outputs": [
    {
     "name": "stdout",
     "output_type": "stream",
     "text": [
      "MCC: 1.0\n"
     ]
    }
   ],
   "source": [
    "# Print the MCC\n",
    "print('MCC:', matthews_corrcoef(test_labels,predictions))"
   ]
  },
  {
   "cell_type": "markdown",
   "metadata": {},
   "source": [
    "#### Fit LR"
   ]
  },
  {
   "cell_type": "code",
   "execution_count": 49,
   "metadata": {},
   "outputs": [],
   "source": [
    "# Declare the model\n",
    "logmodel = LogisticRegression(C=lr_optimum['params']['C'], penalty=lr_optimum['params']['norm'],random_state=42)\n",
    "\n",
    "# Train the model on training data\n",
    "logmodel.fit(train, train_labels);"
   ]
  },
  {
   "cell_type": "markdown",
   "metadata": {},
   "source": [
    "###### Metrics on the Training set"
   ]
  },
  {
   "cell_type": "code",
   "execution_count": 50,
   "metadata": {},
   "outputs": [],
   "source": [
    "# Use the model's predict method\n",
    "predictions = logmodel.predict(train)"
   ]
  },
  {
   "cell_type": "code",
   "execution_count": 51,
   "metadata": {},
   "outputs": [
    {
     "name": "stdout",
     "output_type": "stream",
     "text": [
      "LR's training accuracy: 1.0\n"
     ]
    }
   ],
   "source": [
    "# Print the train accuracy\n",
    "print(\"LR's training accuracy:\", accuracy_score(train_labels, predictions))"
   ]
  },
  {
   "cell_type": "code",
   "execution_count": 52,
   "metadata": {},
   "outputs": [
    {
     "name": "stdout",
     "output_type": "stream",
     "text": [
      "              precision    recall  f1-score   support\n",
      "\n",
      "           0       1.00      1.00      1.00         6\n",
      "           1       1.00      1.00      1.00         4\n",
      "\n",
      "   micro avg       1.00      1.00      1.00        10\n",
      "   macro avg       1.00      1.00      1.00        10\n",
      "weighted avg       1.00      1.00      1.00        10\n",
      "\n"
     ]
    }
   ],
   "source": [
    "# Print the classification report\n",
    "print(classification_report(train_labels,predictions))"
   ]
  },
  {
   "cell_type": "code",
   "execution_count": 53,
   "metadata": {},
   "outputs": [
    {
     "name": "stdout",
     "output_type": "stream",
     "text": [
      "Confusion Matrix:\n",
      "6 | 0\n",
      "-----\n",
      "0 | 4\n"
     ]
    }
   ],
   "source": [
    "cm = confusion_matrix(train_labels,predictions)\n",
    "print('Confusion Matrix:')\n",
    "print(cm[0][0],'|',cm[0][1])\n",
    "print('-----')\n",
    "print(cm[1][0],'|',cm[1][1])"
   ]
  },
  {
   "cell_type": "code",
   "execution_count": 31,
   "metadata": {},
   "outputs": [
    {
     "name": "stdout",
     "output_type": "stream",
     "text": [
      "Specificity: 1.0\n",
      "Sensitivity: 1.0\n"
     ]
    }
   ],
   "source": [
    "tn, fp, fn, tp = confusion_matrix(train_labels,predictions).ravel()\n",
    "specificity = tn / (tn + fp)\n",
    "sensitivity = tp / (tp + fn)\n",
    "print('Specificity:',specificity)\n",
    "print('Sensitivity:',sensitivity)"
   ]
  },
  {
   "cell_type": "code",
   "execution_count": 54,
   "metadata": {},
   "outputs": [
    {
     "name": "stdout",
     "output_type": "stream",
     "text": [
      "MCC: 1.0\n"
     ]
    }
   ],
   "source": [
    "# Print the MCC\n",
    "print('MCC:', matthews_corrcoef(train_labels,predictions))"
   ]
  },
  {
   "cell_type": "code",
   "execution_count": 55,
   "metadata": {},
   "outputs": [
    {
     "name": "stdout",
     "output_type": "stream",
     "text": [
      "List of scores: [0.33333333 0.66666667 1.         0.5       ]\n",
      "Mean of Cross Validtation: 0.625\n"
     ]
    }
   ],
   "source": [
    "#Print the Cross-Validation Score\n",
    "scores = cross_val_score(logmodel, train, train_labels, cv=4)\n",
    "\n",
    "print('List of scores:', scores)\n",
    "print('Mean of Cross Validtation:', scores.mean())"
   ]
  },
  {
   "cell_type": "markdown",
   "metadata": {},
   "source": [
    "###### Metrics on the Testing set"
   ]
  },
  {
   "cell_type": "code",
   "execution_count": 56,
   "metadata": {},
   "outputs": [],
   "source": [
    "# Use the model's predict method\n",
    "predictions = logmodel.predict(test)"
   ]
  },
  {
   "cell_type": "code",
   "execution_count": 57,
   "metadata": {},
   "outputs": [
    {
     "name": "stdout",
     "output_type": "stream",
     "text": [
      "LR's testing accuracy: 1.0\n"
     ]
    }
   ],
   "source": [
    "# Print the Test accuracy\n",
    "print(\"LR's testing accuracy:\", accuracy_score(test_labels, predictions))"
   ]
  },
  {
   "cell_type": "code",
   "execution_count": 58,
   "metadata": {},
   "outputs": [
    {
     "name": "stdout",
     "output_type": "stream",
     "text": [
      "              precision    recall  f1-score   support\n",
      "\n",
      "           0       1.00      1.00      1.00         3\n",
      "           1       1.00      1.00      1.00         2\n",
      "\n",
      "   micro avg       1.00      1.00      1.00         5\n",
      "   macro avg       1.00      1.00      1.00         5\n",
      "weighted avg       1.00      1.00      1.00         5\n",
      "\n"
     ]
    }
   ],
   "source": [
    "# Print the classification report\n",
    "print(classification_report(test_labels,predictions))"
   ]
  },
  {
   "cell_type": "code",
   "execution_count": 59,
   "metadata": {},
   "outputs": [
    {
     "name": "stdout",
     "output_type": "stream",
     "text": [
      "Confusion Matrix:\n",
      "3 | 0\n",
      "-----\n",
      "0 | 2\n"
     ]
    }
   ],
   "source": [
    "cm = confusion_matrix(test_labels,predictions)\n",
    "print('Confusion Matrix:')\n",
    "print(cm[0][0],'|',cm[0][1])\n",
    "print('-----')\n",
    "print(cm[1][0],'|',cm[1][1])"
   ]
  },
  {
   "cell_type": "code",
   "execution_count": 32,
   "metadata": {},
   "outputs": [
    {
     "name": "stdout",
     "output_type": "stream",
     "text": [
      "Specificity: 1.0\n",
      "Sensitivity: 1.0\n"
     ]
    }
   ],
   "source": [
    "tn, fp, fn, tp = confusion_matrix(test_labels,predictions).ravel()\n",
    "specificity = tn / (tn + fp)\n",
    "sensitivity = tp / (tp + fn)\n",
    "print('Specificity:',specificity)\n",
    "print('Sensitivity:',sensitivity)"
   ]
  },
  {
   "cell_type": "code",
   "execution_count": 60,
   "metadata": {},
   "outputs": [
    {
     "name": "stdout",
     "output_type": "stream",
     "text": [
      "MCC: 1.0\n"
     ]
    }
   ],
   "source": [
    "# Print the MCC\n",
    "print('MCC:', matthews_corrcoef(test_labels,predictions))"
   ]
  },
  {
   "cell_type": "markdown",
   "metadata": {},
   "source": [
    "#### Fit NB"
   ]
  },
  {
   "cell_type": "code",
   "execution_count": 61,
   "metadata": {},
   "outputs": [],
   "source": [
    "# Declare the model\n",
    "gnb = GaussianNB()\n",
    "\n",
    "# Train the model on training data\n",
    "gnb.fit(train,train_labels);"
   ]
  },
  {
   "cell_type": "markdown",
   "metadata": {},
   "source": [
    "###### Metrics on the Training set"
   ]
  },
  {
   "cell_type": "code",
   "execution_count": 62,
   "metadata": {},
   "outputs": [],
   "source": [
    "# Use the model's predict method\n",
    "predictions = gnb.predict(train)"
   ]
  },
  {
   "cell_type": "code",
   "execution_count": 63,
   "metadata": {},
   "outputs": [
    {
     "name": "stdout",
     "output_type": "stream",
     "text": [
      "NB's accuracy: 1.0\n"
     ]
    }
   ],
   "source": [
    "# Print the train accuracy\n",
    "print(\"NB's accuracy:\", accuracy_score(train_labels,predictions))"
   ]
  },
  {
   "cell_type": "code",
   "execution_count": 64,
   "metadata": {},
   "outputs": [
    {
     "name": "stdout",
     "output_type": "stream",
     "text": [
      "              precision    recall  f1-score   support\n",
      "\n",
      "           0       1.00      1.00      1.00         6\n",
      "           1       1.00      1.00      1.00         4\n",
      "\n",
      "   micro avg       1.00      1.00      1.00        10\n",
      "   macro avg       1.00      1.00      1.00        10\n",
      "weighted avg       1.00      1.00      1.00        10\n",
      "\n"
     ]
    }
   ],
   "source": [
    "# Print the classification report\n",
    "print(classification_report(train_labels,predictions))"
   ]
  },
  {
   "cell_type": "code",
   "execution_count": 65,
   "metadata": {},
   "outputs": [
    {
     "name": "stdout",
     "output_type": "stream",
     "text": [
      "Confusion Matrix:\n",
      "6 | 0\n",
      "-----\n",
      "0 | 4\n"
     ]
    }
   ],
   "source": [
    "cm = confusion_matrix(train_labels,predictions)\n",
    "print('Confusion Matrix:')\n",
    "print(cm[0][0],'|',cm[0][1])\n",
    "print('-----')\n",
    "print(cm[1][0],'|',cm[1][1])"
   ]
  },
  {
   "cell_type": "code",
   "execution_count": 33,
   "metadata": {},
   "outputs": [
    {
     "name": "stdout",
     "output_type": "stream",
     "text": [
      "Specificity: 1.0\n",
      "Sensitivity: 1.0\n"
     ]
    }
   ],
   "source": [
    "tn, fp, fn, tp = confusion_matrix(train_labels,predictions).ravel()\n",
    "specificity = tn / (tn + fp)\n",
    "sensitivity = tp / (tp + fn)\n",
    "print('Specificity:',specificity)\n",
    "print('Sensitivity:',sensitivity)"
   ]
  },
  {
   "cell_type": "code",
   "execution_count": 66,
   "metadata": {},
   "outputs": [
    {
     "name": "stdout",
     "output_type": "stream",
     "text": [
      "MCC: 1.0\n"
     ]
    }
   ],
   "source": [
    "# Print the MCC\n",
    "print('MCC:', matthews_corrcoef(train_labels,predictions))"
   ]
  },
  {
   "cell_type": "code",
   "execution_count": 67,
   "metadata": {
    "scrolled": true
   },
   "outputs": [
    {
     "name": "stdout",
     "output_type": "stream",
     "text": [
      "List of scores: [0.66666667 0.66666667 0.5        1.        ]\n",
      "Mean of Cross Validtation: 0.7083333333333333\n"
     ]
    }
   ],
   "source": [
    "#Print the Cross-Validation Score\n",
    "scores = cross_val_score(gnb, train, train_labels, cv=4)\n",
    "\n",
    "print('List of scores:', scores)\n",
    "print('Mean of Cross Validtation:', scores.mean())"
   ]
  },
  {
   "cell_type": "markdown",
   "metadata": {},
   "source": [
    "###### Metrics on the Testing set"
   ]
  },
  {
   "cell_type": "code",
   "execution_count": 68,
   "metadata": {},
   "outputs": [],
   "source": [
    "# Use the model's predict method on the test data\n",
    "predictions = gnb.predict(test)"
   ]
  },
  {
   "cell_type": "code",
   "execution_count": 69,
   "metadata": {},
   "outputs": [
    {
     "name": "stdout",
     "output_type": "stream",
     "text": [
      "NB's accuracy: 0.6\n"
     ]
    }
   ],
   "source": [
    "# Print the Test accuracy\n",
    "print(\"NB's accuracy:\", accuracy_score(test_labels,predictions))"
   ]
  },
  {
   "cell_type": "code",
   "execution_count": 70,
   "metadata": {},
   "outputs": [
    {
     "name": "stdout",
     "output_type": "stream",
     "text": [
      "              precision    recall  f1-score   support\n",
      "\n",
      "           0       0.67      0.67      0.67         3\n",
      "           1       0.50      0.50      0.50         2\n",
      "\n",
      "   micro avg       0.60      0.60      0.60         5\n",
      "   macro avg       0.58      0.58      0.58         5\n",
      "weighted avg       0.60      0.60      0.60         5\n",
      "\n"
     ]
    }
   ],
   "source": [
    "# Print the classification report\n",
    "print(classification_report(test_labels,predictions))"
   ]
  },
  {
   "cell_type": "code",
   "execution_count": 71,
   "metadata": {},
   "outputs": [
    {
     "name": "stdout",
     "output_type": "stream",
     "text": [
      "Confusion Matrix:\n",
      "2 | 1\n",
      "-----\n",
      "1 | 1\n"
     ]
    }
   ],
   "source": [
    "cm = confusion_matrix(test_labels,predictions)\n",
    "print('Confusion Matrix:')\n",
    "print(cm[0][0],'|',cm[0][1])\n",
    "print('-----')\n",
    "print(cm[1][0],'|',cm[1][1])"
   ]
  },
  {
   "cell_type": "code",
   "execution_count": 36,
   "metadata": {},
   "outputs": [
    {
     "name": "stdout",
     "output_type": "stream",
     "text": [
      "Specificity: 0.6666666666666666\n",
      "Sensitivity: 0.5\n"
     ]
    }
   ],
   "source": [
    "tn, fp, fn, tp = confusion_matrix(test_labels,predictions).ravel()\n",
    "specificity = tn / (tn + fp)\n",
    "sensitivity = tp / (tp + fn)\n",
    "print('Specificity:',specificity)\n",
    "print('Sensitivity:',sensitivity)"
   ]
  },
  {
   "cell_type": "code",
   "execution_count": 73,
   "metadata": {},
   "outputs": [
    {
     "name": "stdout",
     "output_type": "stream",
     "text": [
      "MCC: 0.16666666666666666\n"
     ]
    }
   ],
   "source": [
    "# Print the MCC\n",
    "print('MCC:', matthews_corrcoef(test_labels,predictions))"
   ]
  }
 ],
 "metadata": {
  "kernelspec": {
   "display_name": "Python 3",
   "language": "python",
   "name": "python3"
  },
  "language_info": {
   "codemirror_mode": {
    "name": "ipython",
    "version": 3
   },
   "file_extension": ".py",
   "mimetype": "text/x-python",
   "name": "python",
   "nbconvert_exporter": "python",
   "pygments_lexer": "ipython3",
   "version": "3.8.2"
  }
 },
 "nbformat": 4,
 "nbformat_minor": 2
}
