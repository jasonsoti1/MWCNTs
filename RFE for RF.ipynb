{
 "cells": [
  {
   "cell_type": "markdown",
   "metadata": {},
   "source": [
    "### Import the Lirbraries and load the Dataset, Code names and models"
   ]
  },
  {
   "cell_type": "code",
   "execution_count": 1,
   "metadata": {},
   "outputs": [
    {
     "data": {
      "text/html": [
       "<div>\n",
       "<style scoped>\n",
       "    .dataframe tbody tr th:only-of-type {\n",
       "        vertical-align: middle;\n",
       "    }\n",
       "\n",
       "    .dataframe tbody tr th {\n",
       "        vertical-align: top;\n",
       "    }\n",
       "\n",
       "    .dataframe thead th {\n",
       "        text-align: right;\n",
       "    }\n",
       "</style>\n",
       "<table border=\"1\" class=\"dataframe\">\n",
       "  <thead>\n",
       "    <tr style=\"text-align: right;\">\n",
       "      <th></th>\n",
       "      <th>Length ave. (nm)</th>\n",
       "      <th>Diameter ave. (nm)</th>\n",
       "      <th>BET (m2/g)</th>\n",
       "      <th>Purity (%)</th>\n",
       "      <th>Zave (batch)</th>\n",
       "      <th>PdI (batch)</th>\n",
       "      <th>Zave (12.5 ug/ml)</th>\n",
       "      <th>PdI  (12.5 ug/ml)</th>\n",
       "      <th>Zave  (200 ug/ml)</th>\n",
       "      <th>PdI  (200 ug/ml)</th>\n",
       "      <th>...</th>\n",
       "      <th>COOH mmol/g</th>\n",
       "      <th>Endotoxins (EU/mg)</th>\n",
       "      <th>Diameter min. (nm)</th>\n",
       "      <th>Diameter max. (nm)</th>\n",
       "      <th>Type_COOH</th>\n",
       "      <th>Type_NH2</th>\n",
       "      <th>Type_OH</th>\n",
       "      <th>Type_PRISTINE</th>\n",
       "      <th>% Total Impurities</th>\n",
       "      <th>Genotoxicity</th>\n",
       "    </tr>\n",
       "  </thead>\n",
       "  <tbody>\n",
       "    <tr>\n",
       "      <th>0</th>\n",
       "      <td>0.000000</td>\n",
       "      <td>0.198214</td>\n",
       "      <td>0.559322</td>\n",
       "      <td>0.934783</td>\n",
       "      <td>0.036390</td>\n",
       "      <td>0.349333</td>\n",
       "      <td>0.020378</td>\n",
       "      <td>0.234910</td>\n",
       "      <td>0.067882</td>\n",
       "      <td>0.306306</td>\n",
       "      <td>...</td>\n",
       "      <td>0.079208</td>\n",
       "      <td>0.34</td>\n",
       "      <td>0.332558</td>\n",
       "      <td>0.206494</td>\n",
       "      <td>0</td>\n",
       "      <td>0</td>\n",
       "      <td>0</td>\n",
       "      <td>1</td>\n",
       "      <td>0.134906</td>\n",
       "      <td>0</td>\n",
       "    </tr>\n",
       "    <tr>\n",
       "      <th>1</th>\n",
       "      <td>0.093822</td>\n",
       "      <td>0.283929</td>\n",
       "      <td>0.567797</td>\n",
       "      <td>1.000000</td>\n",
       "      <td>0.066958</td>\n",
       "      <td>0.730667</td>\n",
       "      <td>0.132460</td>\n",
       "      <td>0.375204</td>\n",
       "      <td>0.054205</td>\n",
       "      <td>0.570571</td>\n",
       "      <td>...</td>\n",
       "      <td>0.405941</td>\n",
       "      <td>0.42</td>\n",
       "      <td>0.390698</td>\n",
       "      <td>0.298701</td>\n",
       "      <td>0</td>\n",
       "      <td>0</td>\n",
       "      <td>1</td>\n",
       "      <td>0</td>\n",
       "      <td>0.075646</td>\n",
       "      <td>0</td>\n",
       "    </tr>\n",
       "    <tr>\n",
       "      <th>2</th>\n",
       "      <td>0.039432</td>\n",
       "      <td>0.342857</td>\n",
       "      <td>0.521186</td>\n",
       "      <td>1.000000</td>\n",
       "      <td>0.035861</td>\n",
       "      <td>0.413333</td>\n",
       "      <td>0.014556</td>\n",
       "      <td>0.097879</td>\n",
       "      <td>0.031408</td>\n",
       "      <td>0.357357</td>\n",
       "      <td>...</td>\n",
       "      <td>1.000000</td>\n",
       "      <td>0.50</td>\n",
       "      <td>0.372093</td>\n",
       "      <td>0.394805</td>\n",
       "      <td>1</td>\n",
       "      <td>0</td>\n",
       "      <td>0</td>\n",
       "      <td>0</td>\n",
       "      <td>0.048780</td>\n",
       "      <td>0</td>\n",
       "    </tr>\n",
       "    <tr>\n",
       "      <th>3</th>\n",
       "      <td>0.048716</td>\n",
       "      <td>0.796429</td>\n",
       "      <td>0.271186</td>\n",
       "      <td>0.923913</td>\n",
       "      <td>0.011777</td>\n",
       "      <td>0.026667</td>\n",
       "      <td>0.000000</td>\n",
       "      <td>0.000000</td>\n",
       "      <td>0.013171</td>\n",
       "      <td>0.000000</td>\n",
       "      <td>...</td>\n",
       "      <td>0.034653</td>\n",
       "      <td>0.48</td>\n",
       "      <td>0.872093</td>\n",
       "      <td>0.775325</td>\n",
       "      <td>0</td>\n",
       "      <td>0</td>\n",
       "      <td>0</td>\n",
       "      <td>1</td>\n",
       "      <td>0.219889</td>\n",
       "      <td>0</td>\n",
       "    </tr>\n",
       "    <tr>\n",
       "      <th>4</th>\n",
       "      <td>0.156550</td>\n",
       "      <td>0.387500</td>\n",
       "      <td>0.237288</td>\n",
       "      <td>0.934783</td>\n",
       "      <td>0.045124</td>\n",
       "      <td>0.024000</td>\n",
       "      <td>0.425036</td>\n",
       "      <td>0.365416</td>\n",
       "      <td>0.241641</td>\n",
       "      <td>0.822823</td>\n",
       "      <td>...</td>\n",
       "      <td>0.044554</td>\n",
       "      <td>0.52</td>\n",
       "      <td>0.444186</td>\n",
       "      <td>0.419481</td>\n",
       "      <td>0</td>\n",
       "      <td>0</td>\n",
       "      <td>1</td>\n",
       "      <td>0</td>\n",
       "      <td>0.190736</td>\n",
       "      <td>1</td>\n",
       "    </tr>\n",
       "  </tbody>\n",
       "</table>\n",
       "<p>5 rows × 24 columns</p>\n",
       "</div>"
      ],
      "text/plain": [
       "   Length ave. (nm)   Diameter ave. (nm)  BET (m2/g)  Purity (%)  \\\n",
       "0           0.000000            0.198214    0.559322    0.934783   \n",
       "1           0.093822            0.283929    0.567797    1.000000   \n",
       "2           0.039432            0.342857    0.521186    1.000000   \n",
       "3           0.048716            0.796429    0.271186    0.923913   \n",
       "4           0.156550            0.387500    0.237288    0.934783   \n",
       "\n",
       "   Zave (batch)  PdI (batch)  Zave (12.5 ug/ml)  PdI  (12.5 ug/ml)  \\\n",
       "0      0.036390     0.349333           0.020378           0.234910   \n",
       "1      0.066958     0.730667           0.132460           0.375204   \n",
       "2      0.035861     0.413333           0.014556           0.097879   \n",
       "3      0.011777     0.026667           0.000000           0.000000   \n",
       "4      0.045124     0.024000           0.425036           0.365416   \n",
       "\n",
       "   Zave  (200 ug/ml)  PdI  (200 ug/ml)  ...  COOH mmol/g  Endotoxins (EU/mg)  \\\n",
       "0           0.067882          0.306306  ...     0.079208                0.34   \n",
       "1           0.054205          0.570571  ...     0.405941                0.42   \n",
       "2           0.031408          0.357357  ...     1.000000                0.50   \n",
       "3           0.013171          0.000000  ...     0.034653                0.48   \n",
       "4           0.241641          0.822823  ...     0.044554                0.52   \n",
       "\n",
       "   Diameter min. (nm)  Diameter max. (nm)  Type_COOH  Type_NH2  Type_OH  \\\n",
       "0            0.332558            0.206494          0         0        0   \n",
       "1            0.390698            0.298701          0         0        1   \n",
       "2            0.372093            0.394805          1         0        0   \n",
       "3            0.872093            0.775325          0         0        0   \n",
       "4            0.444186            0.419481          0         0        1   \n",
       "\n",
       "   Type_PRISTINE  % Total Impurities  Genotoxicity  \n",
       "0              1            0.134906             0  \n",
       "1              0            0.075646             0  \n",
       "2              0            0.048780             0  \n",
       "3              1            0.219889             0  \n",
       "4              0            0.190736             1  \n",
       "\n",
       "[5 rows x 24 columns]"
      ]
     },
     "execution_count": 1,
     "metadata": {},
     "output_type": "execute_result"
    }
   ],
   "source": [
    "from Kennard_Stone import kennardstonealgorithm\n",
    "import matplotlib.pyplot as plt\n",
    "import pandas as pd\n",
    "import numpy as np\n",
    "import seaborn as sns\n",
    "import joblib\n",
    "from datetime import datetime\n",
    "from Bayesian_Optimization import BayesOpt\n",
    "from sklearn.ensemble import RandomForestClassifier\n",
    "from sklearn.model_selection import cross_val_score\n",
    "from sklearn.metrics import (accuracy_score,matthews_corrcoef,\n",
    "                             classification_report, confusion_matrix)\n",
    "%matplotlib inline\n",
    "\n",
    "df = pd.read_csv('pre-precessed_dataset.csv')\n",
    "codes = open('codes.txt','r').readlines()\n",
    "\n",
    "clf = joblib.load('RF_model.sav')\n",
    "\n",
    "df.head()"
   ]
  },
  {
   "cell_type": "markdown",
   "metadata": {},
   "source": [
    "Keep the same train test split"
   ]
  },
  {
   "cell_type": "code",
   "execution_count": 2,
   "metadata": {},
   "outputs": [],
   "source": [
    "test = df.loc[[0,1,8,11,12]]\n",
    "train = df.drop(index=[0,1,8,11,12],axis=0)\n",
    "\n",
    "train_labels = train.pop('Genotoxicity')\n",
    "test_labels = test.pop('Genotoxicity')"
   ]
  },
  {
   "cell_type": "code",
   "execution_count": 3,
   "metadata": {},
   "outputs": [],
   "source": [
    "# Keep the test codes\n",
    "test_codes = [codes[i][:-1] for i in test.index]"
   ]
  },
  {
   "cell_type": "markdown",
   "metadata": {},
   "source": [
    "### RFE for RF"
   ]
  },
  {
   "cell_type": "markdown",
   "metadata": {},
   "source": [
    "#### 1st iteration"
   ]
  },
  {
   "cell_type": "markdown",
   "metadata": {},
   "source": [
    "Get the features' importance"
   ]
  },
  {
   "cell_type": "code",
   "execution_count": 4,
   "metadata": {
    "scrolled": false
   },
   "outputs": [
    {
     "name": "stdout",
     "output_type": "stream",
     "text": [
      "Variable: Length ave. (nm)     Importance: 0.444\n",
      "Variable: Zave (12.5 ug/ml)    Importance: 0.111\n",
      "Variable: PdI  (12.5 ug/ml)    Importance: 0.111\n",
      "Variable: Zave  (200 ug/ml)    Importance: 0.111\n",
      "Variable: Purity (%)           Importance: 0.074\n",
      "Variable: ROS                  Importance: 0.074\n",
      "Variable: Endotoxins (EU/mg)   Importance: 0.037\n",
      "Variable: Diameter max. (nm)   Importance: 0.037\n",
      "Variable: Diameter ave. (nm)   Importance: 0.0\n",
      "Variable: BET (m2/g)           Importance: 0.0\n",
      "Variable: Zave (batch)         Importance: 0.0\n",
      "Variable: PdI (batch)          Importance: 0.0\n",
      "Variable: PdI  (200 ug/ml)     Importance: 0.0\n",
      "Variable: Peak (ug/ml)         Importance: 0.0\n",
      "Variable: CEA: C.H.N.O (wt%)   Importance: 0.0\n",
      "Variable: OH mmol/g            Importance: 0.0\n",
      "Variable: COOH mmol/g          Importance: 0.0\n",
      "Variable: Diameter min. (nm)   Importance: 0.0\n",
      "Variable: Type_COOH            Importance: 0.0\n",
      "Variable: Type_NH2             Importance: 0.0\n",
      "Variable: Type_OH              Importance: 0.0\n",
      "Variable: Type_PRISTINE        Importance: 0.0\n",
      "Variable: % Total Impurities   Importance: 0.0\n"
     ]
    }
   ],
   "source": [
    "# Get numerical feature importances and feature names\n",
    "importances = list(clf.feature_importances_)\n",
    "feature_list = list(df.drop('Genotoxicity',axis=1).columns)\n",
    "\n",
    "# List of tuples with variable and importance\n",
    "feature_importances = [(feature, round(importance, 3)) for feature, importance in zip(feature_list, importances)]\n",
    "\n",
    "# Sort the feature importances by most important first\n",
    "feature_importances = sorted(feature_importances, key = lambda x: x[1], reverse = True)\n",
    "\n",
    "# Print out the feature and importances \n",
    "[print('Variable: {:20} Importance: {}'.format(*pair)) for pair in feature_importances];"
   ]
  },
  {
   "cell_type": "markdown",
   "metadata": {},
   "source": [
    "Exclude features with zero importance"
   ]
  },
  {
   "cell_type": "code",
   "execution_count": 5,
   "metadata": {},
   "outputs": [
    {
     "data": {
      "text/html": [
       "<div>\n",
       "<style scoped>\n",
       "    .dataframe tbody tr th:only-of-type {\n",
       "        vertical-align: middle;\n",
       "    }\n",
       "\n",
       "    .dataframe tbody tr th {\n",
       "        vertical-align: top;\n",
       "    }\n",
       "\n",
       "    .dataframe thead th {\n",
       "        text-align: right;\n",
       "    }\n",
       "</style>\n",
       "<table border=\"1\" class=\"dataframe\">\n",
       "  <thead>\n",
       "    <tr style=\"text-align: right;\">\n",
       "      <th></th>\n",
       "      <th>Length ave. (nm)</th>\n",
       "      <th>Purity (%)</th>\n",
       "      <th>Zave (12.5 ug/ml)</th>\n",
       "      <th>PdI  (12.5 ug/ml)</th>\n",
       "      <th>Zave  (200 ug/ml)</th>\n",
       "      <th>ROS</th>\n",
       "      <th>Endotoxins (EU/mg)</th>\n",
       "      <th>Diameter max. (nm)</th>\n",
       "    </tr>\n",
       "  </thead>\n",
       "  <tbody>\n",
       "    <tr>\n",
       "      <th>2</th>\n",
       "      <td>0.039432</td>\n",
       "      <td>1.000000</td>\n",
       "      <td>0.014556</td>\n",
       "      <td>0.097879</td>\n",
       "      <td>0.031408</td>\n",
       "      <td>0.103896</td>\n",
       "      <td>0.50</td>\n",
       "      <td>0.394805</td>\n",
       "    </tr>\n",
       "    <tr>\n",
       "      <th>3</th>\n",
       "      <td>0.048716</td>\n",
       "      <td>0.923913</td>\n",
       "      <td>0.000000</td>\n",
       "      <td>0.000000</td>\n",
       "      <td>0.013171</td>\n",
       "      <td>0.298701</td>\n",
       "      <td>0.48</td>\n",
       "      <td>0.775325</td>\n",
       "    </tr>\n",
       "    <tr>\n",
       "      <th>4</th>\n",
       "      <td>0.156550</td>\n",
       "      <td>0.934783</td>\n",
       "      <td>0.425036</td>\n",
       "      <td>0.365416</td>\n",
       "      <td>0.241641</td>\n",
       "      <td>0.220779</td>\n",
       "      <td>0.52</td>\n",
       "      <td>0.419481</td>\n",
       "    </tr>\n",
       "    <tr>\n",
       "      <th>5</th>\n",
       "      <td>0.199591</td>\n",
       "      <td>0.684783</td>\n",
       "      <td>0.278020</td>\n",
       "      <td>0.363785</td>\n",
       "      <td>0.084600</td>\n",
       "      <td>0.194805</td>\n",
       "      <td>0.66</td>\n",
       "      <td>0.412987</td>\n",
       "    </tr>\n",
       "    <tr>\n",
       "      <th>6</th>\n",
       "      <td>0.038274</td>\n",
       "      <td>0.945652</td>\n",
       "      <td>0.659389</td>\n",
       "      <td>0.407830</td>\n",
       "      <td>0.522290</td>\n",
       "      <td>0.857143</td>\n",
       "      <td>0.36</td>\n",
       "      <td>0.405195</td>\n",
       "    </tr>\n",
       "  </tbody>\n",
       "</table>\n",
       "</div>"
      ],
      "text/plain": [
       "   Length ave. (nm)   Purity (%)  Zave (12.5 ug/ml)  PdI  (12.5 ug/ml)  \\\n",
       "2           0.039432    1.000000           0.014556           0.097879   \n",
       "3           0.048716    0.923913           0.000000           0.000000   \n",
       "4           0.156550    0.934783           0.425036           0.365416   \n",
       "5           0.199591    0.684783           0.278020           0.363785   \n",
       "6           0.038274    0.945652           0.659389           0.407830   \n",
       "\n",
       "   Zave  (200 ug/ml)       ROS  Endotoxins (EU/mg)  Diameter max. (nm)  \n",
       "2           0.031408  0.103896                0.50            0.394805  \n",
       "3           0.013171  0.298701                0.48            0.775325  \n",
       "4           0.241641  0.220779                0.52            0.419481  \n",
       "5           0.084600  0.194805                0.66            0.412987  \n",
       "6           0.522290  0.857143                0.36            0.405195  "
      ]
     },
     "execution_count": 5,
     "metadata": {},
     "output_type": "execute_result"
    }
   ],
   "source": [
    "for i in range(len(feature_importances)):\n",
    "    if feature_importances[i][1]==0.0:\n",
    "        train.drop(feature_importances[i][0], axis=1, inplace=True)\n",
    "        test.drop(feature_importances[i][0], axis=1, inplace=True)\n",
    "        \n",
    "train.head()"
   ]
  },
  {
   "cell_type": "markdown",
   "metadata": {},
   "source": [
    "Optimize Random Forest"
   ]
  },
  {
   "cell_type": "code",
   "execution_count": 6,
   "metadata": {},
   "outputs": [],
   "source": [
    "bo = BayesOpt(train, train_labels, folds = 4, n_iter=30,log_scaling=False)"
   ]
  },
  {
   "cell_type": "code",
   "execution_count": 7,
   "metadata": {
    "scrolled": false
   },
   "outputs": [
    {
     "name": "stdout",
     "output_type": "stream",
     "text": [
      "|   iter    |  target   | max_fe... | min_sa... | n_esti... |\n",
      "-------------------------------------------------------------\n",
      "| \u001b[0m 1       \u001b[0m | \u001b[0m 0.6667  \u001b[0m | \u001b[0m 0.3996  \u001b[0m | \u001b[0m 0.8606  \u001b[0m | \u001b[0m 16.25   \u001b[0m |\n",
      "| \u001b[95m 2       \u001b[0m | \u001b[95m 0.75    \u001b[0m | \u001b[95m 0.5789  \u001b[0m | \u001b[95m 0.2248  \u001b[0m | \u001b[95m 8.184   \u001b[0m |\n",
      "| \u001b[0m 3       \u001b[0m | \u001b[0m 0.75    \u001b[0m | \u001b[0m 0.1465  \u001b[0m | \u001b[0m 0.7929  \u001b[0m | \u001b[0m 14.42   \u001b[0m |\n",
      "| \u001b[95m 4       \u001b[0m | \u001b[95m 0.8333  \u001b[0m | \u001b[95m 0.6665  \u001b[0m | \u001b[95m 0.1165  \u001b[0m | \u001b[95m 19.58   \u001b[0m |\n",
      "| \u001b[0m 5       \u001b[0m | \u001b[0m 0.75    \u001b[0m | \u001b[0m 0.766   \u001b[0m | \u001b[0m 0.2699  \u001b[0m | \u001b[0m 8.546   \u001b[0m |\n",
      "| \u001b[0m 6       \u001b[0m | \u001b[0m 0.75    \u001b[0m | \u001b[0m 0.1013  \u001b[0m | \u001b[0m 0.7614  \u001b[0m | \u001b[0m 19.96   \u001b[0m |\n",
      "| \u001b[0m 7       \u001b[0m | \u001b[0m 0.75    \u001b[0m | \u001b[0m 0.9     \u001b[0m | \u001b[0m 0.1     \u001b[0m | \u001b[0m 18.95   \u001b[0m |\n",
      "| \u001b[0m 8       \u001b[0m | \u001b[0m 0.8333  \u001b[0m | \u001b[0m 0.6887  \u001b[0m | \u001b[0m 0.1     \u001b[0m | \u001b[0m 19.62   \u001b[0m |\n",
      "| \u001b[0m 9       \u001b[0m | \u001b[0m 0.75    \u001b[0m | \u001b[0m 0.8839  \u001b[0m | \u001b[0m 0.6701  \u001b[0m | \u001b[0m 19.76   \u001b[0m |\n",
      "| \u001b[0m 10      \u001b[0m | \u001b[0m 0.7083  \u001b[0m | \u001b[0m 0.181   \u001b[0m | \u001b[0m 0.1056  \u001b[0m | \u001b[0m 19.74   \u001b[0m |\n",
      "| \u001b[0m 11      \u001b[0m | \u001b[0m 0.75    \u001b[0m | \u001b[0m 0.9     \u001b[0m | \u001b[0m 0.1     \u001b[0m | \u001b[0m 19.5    \u001b[0m |\n",
      "| \u001b[0m 12      \u001b[0m | \u001b[0m 0.8333  \u001b[0m | \u001b[0m 0.636   \u001b[0m | \u001b[0m 0.2379  \u001b[0m | \u001b[0m 19.68   \u001b[0m |\n",
      "| \u001b[0m 13      \u001b[0m | \u001b[0m 0.75    \u001b[0m | \u001b[0m 0.8012  \u001b[0m | \u001b[0m 0.1406  \u001b[0m | \u001b[0m 19.96   \u001b[0m |\n",
      "| \u001b[0m 14      \u001b[0m | \u001b[0m 0.8333  \u001b[0m | \u001b[0m 0.5417  \u001b[0m | \u001b[0m 0.1     \u001b[0m | \u001b[0m 19.68   \u001b[0m |\n",
      "| \u001b[0m 15      \u001b[0m | \u001b[0m 0.8333  \u001b[0m | \u001b[0m 0.4985  \u001b[0m | \u001b[0m 0.403   \u001b[0m | \u001b[0m 19.43   \u001b[0m |\n",
      "| \u001b[0m 16      \u001b[0m | \u001b[0m 0.4167  \u001b[0m | \u001b[0m 0.3466  \u001b[0m | \u001b[0m 0.7889  \u001b[0m | \u001b[0m 7.314   \u001b[0m |\n",
      "| \u001b[0m 17      \u001b[0m | \u001b[0m 0.4167  \u001b[0m | \u001b[0m 0.256   \u001b[0m | \u001b[0m 0.9     \u001b[0m | \u001b[0m 18.75   \u001b[0m |\n",
      "| \u001b[0m 18      \u001b[0m | \u001b[0m 0.75    \u001b[0m | \u001b[0m 0.8876  \u001b[0m | \u001b[0m 0.1097  \u001b[0m | \u001b[0m 18.96   \u001b[0m |\n",
      "| \u001b[0m 19      \u001b[0m | \u001b[0m 0.8333  \u001b[0m | \u001b[0m 0.5899  \u001b[0m | \u001b[0m 0.1492  \u001b[0m | \u001b[0m 11.95   \u001b[0m |\n",
      "| \u001b[0m 20      \u001b[0m | \u001b[0m 0.8333  \u001b[0m | \u001b[0m 0.4511  \u001b[0m | \u001b[0m 0.3495  \u001b[0m | \u001b[0m 12.71   \u001b[0m |\n",
      "| \u001b[0m 21      \u001b[0m | \u001b[0m 0.5     \u001b[0m | \u001b[0m 0.1142  \u001b[0m | \u001b[0m 0.8089  \u001b[0m | \u001b[0m 12.11   \u001b[0m |\n",
      "| \u001b[0m 22      \u001b[0m | \u001b[0m 0.75    \u001b[0m | \u001b[0m 0.9     \u001b[0m | \u001b[0m 0.1     \u001b[0m | \u001b[0m 12.52   \u001b[0m |\n",
      "| \u001b[95m 23      \u001b[0m | \u001b[95m 0.9167  \u001b[0m | \u001b[95m 0.3691  \u001b[0m | \u001b[95m 0.1465  \u001b[0m | \u001b[95m 18.3    \u001b[0m |\n",
      "| \u001b[0m 24      \u001b[0m | \u001b[0m 0.8333  \u001b[0m | \u001b[0m 0.5437  \u001b[0m | \u001b[0m 0.1     \u001b[0m | \u001b[0m 17.85   \u001b[0m |\n",
      "| \u001b[0m 25      \u001b[0m | \u001b[0m 0.7083  \u001b[0m | \u001b[0m 0.1013  \u001b[0m | \u001b[0m 0.1514  \u001b[0m | \u001b[0m 17.99   \u001b[0m |\n",
      "| \u001b[0m 26      \u001b[0m | \u001b[0m 0.75    \u001b[0m | \u001b[0m 0.7829  \u001b[0m | \u001b[0m 0.1     \u001b[0m | \u001b[0m 18.28   \u001b[0m |\n",
      "| \u001b[0m 27      \u001b[0m | \u001b[0m 0.8333  \u001b[0m | \u001b[0m 0.5214  \u001b[0m | \u001b[0m 0.277   \u001b[0m | \u001b[0m 19.1    \u001b[0m |\n",
      "| \u001b[0m 28      \u001b[0m | \u001b[0m 0.75    \u001b[0m | \u001b[0m 0.1563  \u001b[0m | \u001b[0m 0.7246  \u001b[0m | \u001b[0m 18.22   \u001b[0m |\n",
      "| \u001b[0m 29      \u001b[0m | \u001b[0m 0.7917  \u001b[0m | \u001b[0m 0.2383  \u001b[0m | \u001b[0m 0.1     \u001b[0m | \u001b[0m 18.64   \u001b[0m |\n",
      "| \u001b[0m 30      \u001b[0m | \u001b[0m 0.8333  \u001b[0m | \u001b[0m 0.2966  \u001b[0m | \u001b[0m 0.1068  \u001b[0m | \u001b[0m 13.16   \u001b[0m |\n",
      "| \u001b[0m 31      \u001b[0m | \u001b[0m 0.8333  \u001b[0m | \u001b[0m 0.6387  \u001b[0m | \u001b[0m 0.2209  \u001b[0m | \u001b[0m 19.67   \u001b[0m |\n",
      "| \u001b[0m 32      \u001b[0m | \u001b[0m 0.75    \u001b[0m | \u001b[0m 0.6217  \u001b[0m | \u001b[0m 0.5801  \u001b[0m | \u001b[0m 13.24   \u001b[0m |\n",
      "| \u001b[0m 33      \u001b[0m | \u001b[0m 0.6667  \u001b[0m | \u001b[0m 0.9     \u001b[0m | \u001b[0m 0.1     \u001b[0m | \u001b[0m 11.48   \u001b[0m |\n",
      "| \u001b[0m 34      \u001b[0m | \u001b[0m 0.75    \u001b[0m | \u001b[0m 0.6488  \u001b[0m | \u001b[0m 0.617   \u001b[0m | \u001b[0m 17.68   \u001b[0m |\n",
      "| \u001b[0m 35      \u001b[0m | \u001b[0m 0.625   \u001b[0m | \u001b[0m 0.1189  \u001b[0m | \u001b[0m 0.1104  \u001b[0m | \u001b[0m 12.56   \u001b[0m |\n",
      "=============================================================\n",
      "\n",
      "\n",
      "Final result: The optimal model's score is 0.9166666666666666 and the optimal parameters are n_estimators=18, min_samples_split=0.14650198414895155 and max_features=0.36906444184976817\n"
     ]
    }
   ],
   "source": [
    "# Get the time that the optimization started\n",
    "start_time = datetime.now().strftime(\"%H:%M:%S\")\n",
    "\n",
    "# Boundaries of the hyperparameters\n",
    "params = {\"n_estimators\": (6,20), \"min_samples_split\": (0.1,0.9), \"max_features\": (0.1, 0.9)}\n",
    "\n",
    "# Optimization\n",
    "rf_optimum = bo.optimize_rf(params)\n",
    "\n",
    "# Get the time that the optimization ended\n",
    "end_time = datetime.now().strftime(\"%H:%M:%S\")"
   ]
  },
  {
   "cell_type": "code",
   "execution_count": 8,
   "metadata": {
    "scrolled": true
   },
   "outputs": [
    {
     "name": "stdout",
     "output_type": "stream",
     "text": [
      "Minutes to execute: 0.07\n"
     ]
    }
   ],
   "source": [
    "print('Minutes to execute:', \n",
    "      round((datetime.strptime(end_time, '%H:%M:%S') - datetime.strptime(start_time, '%H:%M:%S')).seconds/60,2))"
   ]
  },
  {
   "cell_type": "markdown",
   "metadata": {},
   "source": [
    "Test model's performance on the traning set"
   ]
  },
  {
   "cell_type": "code",
   "execution_count": 9,
   "metadata": {},
   "outputs": [],
   "source": [
    "# Declare the model\n",
    "clf = RandomForestClassifier(n_estimators=rf_optimum['params']['n_estimators'], max_features=rf_optimum['params']['max_features'], min_samples_split=rf_optimum['params']['min_samples_split'],  random_state=42)\n",
    "\n",
    "# Train the model on training data\n",
    "clf.fit(train, train_labels);"
   ]
  },
  {
   "cell_type": "markdown",
   "metadata": {},
   "source": [
    "###### Metrics on the Training set"
   ]
  },
  {
   "cell_type": "code",
   "execution_count": 10,
   "metadata": {},
   "outputs": [],
   "source": [
    "# Use the model's predict method \n",
    "predictions = clf.predict(train)"
   ]
  },
  {
   "cell_type": "code",
   "execution_count": 11,
   "metadata": {},
   "outputs": [
    {
     "name": "stdout",
     "output_type": "stream",
     "text": [
      "RF's training accuracy: 1.0\n"
     ]
    }
   ],
   "source": [
    "# Print the training accuracy\n",
    "print(\"RF's training accuracy:\", accuracy_score(train_labels, predictions))"
   ]
  },
  {
   "cell_type": "code",
   "execution_count": 12,
   "metadata": {},
   "outputs": [
    {
     "name": "stdout",
     "output_type": "stream",
     "text": [
      "              precision    recall  f1-score   support\n",
      "\n",
      "           0       1.00      1.00      1.00         5\n",
      "           1       1.00      1.00      1.00         5\n",
      "\n",
      "    accuracy                           1.00        10\n",
      "   macro avg       1.00      1.00      1.00        10\n",
      "weighted avg       1.00      1.00      1.00        10\n",
      "\n"
     ]
    }
   ],
   "source": [
    "# Print the classification report\n",
    "print(classification_report(train_labels,predictions))"
   ]
  },
  {
   "cell_type": "code",
   "execution_count": 13,
   "metadata": {},
   "outputs": [
    {
     "name": "stdout",
     "output_type": "stream",
     "text": [
      "Confusion Matrix:\n",
      "5 | 0\n",
      "-----\n",
      "0 | 5\n"
     ]
    }
   ],
   "source": [
    "cm = confusion_matrix(train_labels,predictions)\n",
    "print('Confusion Matrix:')\n",
    "print(cm[0][0],'|',cm[0][1])\n",
    "print('-----')\n",
    "print(cm[1][0],'|',cm[1][1])"
   ]
  },
  {
   "cell_type": "code",
   "execution_count": 14,
   "metadata": {},
   "outputs": [
    {
     "name": "stdout",
     "output_type": "stream",
     "text": [
      "Specificity: 1.0\n",
      "Sensitivity: 1.0\n"
     ]
    }
   ],
   "source": [
    "tn, fp, fn, tp = confusion_matrix(train_labels,predictions).ravel()\n",
    "specificity = tn / (tn + fp)\n",
    "sensitivity = tp / (tp + fn)\n",
    "print('Specificity:',specificity)\n",
    "print('Sensitivity:',sensitivity)"
   ]
  },
  {
   "cell_type": "code",
   "execution_count": 15,
   "metadata": {},
   "outputs": [
    {
     "name": "stdout",
     "output_type": "stream",
     "text": [
      "MCC: 1.0\n"
     ]
    }
   ],
   "source": [
    "# Print the MCC\n",
    "print('MCC:', matthews_corrcoef(train_labels,predictions))"
   ]
  },
  {
   "cell_type": "code",
   "execution_count": 16,
   "metadata": {},
   "outputs": [
    {
     "name": "stdout",
     "output_type": "stream",
     "text": [
      "List of scores: [1.         0.66666667 1.         1.        ]\n",
      "Mean of Cross Validtation: 0.9166666666666666\n"
     ]
    }
   ],
   "source": [
    "#Print the Cross-Validation Score\n",
    "scores = cross_val_score(clf, train, train_labels, cv=4)\n",
    "\n",
    "print('List of scores:', scores)\n",
    "print('Mean of Cross Validtation:', scores.mean())"
   ]
  },
  {
   "cell_type": "markdown",
   "metadata": {},
   "source": [
    "#### 2nd iteration"
   ]
  },
  {
   "cell_type": "markdown",
   "metadata": {},
   "source": [
    "Get the features' importance"
   ]
  },
  {
   "cell_type": "code",
   "execution_count": 17,
   "metadata": {
    "scrolled": false
   },
   "outputs": [
    {
     "name": "stdout",
     "output_type": "stream",
     "text": [
      "Variable: Length ave. (nm)     Importance: 0.311\n",
      "Variable: Purity (%)           Importance: 0.2\n",
      "Variable: Zave (12.5 ug/ml)    Importance: 0.198\n",
      "Variable: Zave  (200 ug/ml)    Importance: 0.135\n",
      "Variable: ROS                  Importance: 0.09\n",
      "Variable: Endotoxins (EU/mg)   Importance: 0.047\n",
      "Variable: PdI  (12.5 ug/ml)    Importance: 0.02\n",
      "Variable: Diameter max. (nm)   Importance: 0.0\n"
     ]
    }
   ],
   "source": [
    "# Get numerical feature importances and feature names\n",
    "importances = list(clf.feature_importances_)\n",
    "feature_list = list(train.columns)\n",
    "\n",
    "# List of tuples with variable and importance\n",
    "feature_importances = [(feature, round(importance, 3)) for feature, importance in zip(feature_list, importances)]\n",
    "\n",
    "# Sort the feature importances by most important first\n",
    "feature_importances = sorted(feature_importances, key = lambda x: x[1], reverse = True)\n",
    "\n",
    "# Print out the feature and importances \n",
    "[print('Variable: {:20} Importance: {}'.format(*pair)) for pair in feature_importances];"
   ]
  },
  {
   "cell_type": "markdown",
   "metadata": {},
   "source": [
    "Exclude features with zero importance"
   ]
  },
  {
   "cell_type": "code",
   "execution_count": 18,
   "metadata": {
    "scrolled": true
   },
   "outputs": [
    {
     "data": {
      "text/html": [
       "<div>\n",
       "<style scoped>\n",
       "    .dataframe tbody tr th:only-of-type {\n",
       "        vertical-align: middle;\n",
       "    }\n",
       "\n",
       "    .dataframe tbody tr th {\n",
       "        vertical-align: top;\n",
       "    }\n",
       "\n",
       "    .dataframe thead th {\n",
       "        text-align: right;\n",
       "    }\n",
       "</style>\n",
       "<table border=\"1\" class=\"dataframe\">\n",
       "  <thead>\n",
       "    <tr style=\"text-align: right;\">\n",
       "      <th></th>\n",
       "      <th>Length ave. (nm)</th>\n",
       "      <th>Purity (%)</th>\n",
       "      <th>Zave (12.5 ug/ml)</th>\n",
       "      <th>PdI  (12.5 ug/ml)</th>\n",
       "      <th>Zave  (200 ug/ml)</th>\n",
       "      <th>ROS</th>\n",
       "      <th>Endotoxins (EU/mg)</th>\n",
       "    </tr>\n",
       "  </thead>\n",
       "  <tbody>\n",
       "    <tr>\n",
       "      <th>2</th>\n",
       "      <td>0.039432</td>\n",
       "      <td>1.000000</td>\n",
       "      <td>0.014556</td>\n",
       "      <td>0.097879</td>\n",
       "      <td>0.031408</td>\n",
       "      <td>0.103896</td>\n",
       "      <td>0.50</td>\n",
       "    </tr>\n",
       "    <tr>\n",
       "      <th>3</th>\n",
       "      <td>0.048716</td>\n",
       "      <td>0.923913</td>\n",
       "      <td>0.000000</td>\n",
       "      <td>0.000000</td>\n",
       "      <td>0.013171</td>\n",
       "      <td>0.298701</td>\n",
       "      <td>0.48</td>\n",
       "    </tr>\n",
       "    <tr>\n",
       "      <th>4</th>\n",
       "      <td>0.156550</td>\n",
       "      <td>0.934783</td>\n",
       "      <td>0.425036</td>\n",
       "      <td>0.365416</td>\n",
       "      <td>0.241641</td>\n",
       "      <td>0.220779</td>\n",
       "      <td>0.52</td>\n",
       "    </tr>\n",
       "    <tr>\n",
       "      <th>5</th>\n",
       "      <td>0.199591</td>\n",
       "      <td>0.684783</td>\n",
       "      <td>0.278020</td>\n",
       "      <td>0.363785</td>\n",
       "      <td>0.084600</td>\n",
       "      <td>0.194805</td>\n",
       "      <td>0.66</td>\n",
       "    </tr>\n",
       "    <tr>\n",
       "      <th>6</th>\n",
       "      <td>0.038274</td>\n",
       "      <td>0.945652</td>\n",
       "      <td>0.659389</td>\n",
       "      <td>0.407830</td>\n",
       "      <td>0.522290</td>\n",
       "      <td>0.857143</td>\n",
       "      <td>0.36</td>\n",
       "    </tr>\n",
       "  </tbody>\n",
       "</table>\n",
       "</div>"
      ],
      "text/plain": [
       "   Length ave. (nm)   Purity (%)  Zave (12.5 ug/ml)  PdI  (12.5 ug/ml)  \\\n",
       "2           0.039432    1.000000           0.014556           0.097879   \n",
       "3           0.048716    0.923913           0.000000           0.000000   \n",
       "4           0.156550    0.934783           0.425036           0.365416   \n",
       "5           0.199591    0.684783           0.278020           0.363785   \n",
       "6           0.038274    0.945652           0.659389           0.407830   \n",
       "\n",
       "   Zave  (200 ug/ml)       ROS  Endotoxins (EU/mg)  \n",
       "2           0.031408  0.103896                0.50  \n",
       "3           0.013171  0.298701                0.48  \n",
       "4           0.241641  0.220779                0.52  \n",
       "5           0.084600  0.194805                0.66  \n",
       "6           0.522290  0.857143                0.36  "
      ]
     },
     "execution_count": 18,
     "metadata": {},
     "output_type": "execute_result"
    }
   ],
   "source": [
    "for i in range(len(feature_importances)):\n",
    "    if feature_importances[i][1]==0.0:\n",
    "        train.drop(feature_importances[i][0], axis=1, inplace=True)\n",
    "        test.drop(feature_importances[i][0], axis=1, inplace=True)\n",
    "        \n",
    "train.head()"
   ]
  },
  {
   "cell_type": "markdown",
   "metadata": {},
   "source": [
    "Optimize Random Forest"
   ]
  },
  {
   "cell_type": "code",
   "execution_count": 19,
   "metadata": {},
   "outputs": [],
   "source": [
    "bo = BayesOpt(train, train_labels, folds = 4, n_iter=30,log_scaling=False)"
   ]
  },
  {
   "cell_type": "code",
   "execution_count": 21,
   "metadata": {
    "scrolled": false
   },
   "outputs": [
    {
     "name": "stdout",
     "output_type": "stream",
     "text": [
      "|   iter    |  target   | max_fe... | min_sa... | n_esti... |\n",
      "-------------------------------------------------------------\n",
      "| \u001b[0m 1       \u001b[0m | \u001b[0m 0.6667  \u001b[0m | \u001b[0m 0.2498  \u001b[0m | \u001b[0m 0.8606  \u001b[0m | \u001b[0m 16.25   \u001b[0m |\n",
      "| \u001b[95m 2       \u001b[0m | \u001b[95m 0.9167  \u001b[0m | \u001b[95m 0.3395  \u001b[0m | \u001b[95m 0.2248  \u001b[0m | \u001b[95m 8.184   \u001b[0m |\n",
      "| \u001b[0m 3       \u001b[0m | \u001b[0m 0.9167  \u001b[0m | \u001b[0m 0.1232  \u001b[0m | \u001b[0m 0.7929  \u001b[0m | \u001b[0m 14.42   \u001b[0m |\n",
      "| \u001b[0m 4       \u001b[0m | \u001b[0m 0.9167  \u001b[0m | \u001b[0m 0.3832  \u001b[0m | \u001b[0m 0.1165  \u001b[0m | \u001b[0m 19.58   \u001b[0m |\n",
      "| \u001b[0m 5       \u001b[0m | \u001b[0m 0.9167  \u001b[0m | \u001b[0m 0.433   \u001b[0m | \u001b[0m 0.2699  \u001b[0m | \u001b[0m 8.546   \u001b[0m |\n",
      "| \u001b[0m 6       \u001b[0m | \u001b[0m 0.625   \u001b[0m | \u001b[0m 0.1     \u001b[0m | \u001b[0m 0.731   \u001b[0m | \u001b[0m 12.89   \u001b[0m |\n",
      "| \u001b[0m 7       \u001b[0m | \u001b[0m 0.4167  \u001b[0m | \u001b[0m 0.1     \u001b[0m | \u001b[0m 0.9     \u001b[0m | \u001b[0m 18.94   \u001b[0m |\n",
      "| \u001b[0m 8       \u001b[0m | \u001b[0m 0.5     \u001b[0m | \u001b[0m 0.5     \u001b[0m | \u001b[0m 0.8759  \u001b[0m | \u001b[0m 8.257   \u001b[0m |\n",
      "| \u001b[0m 9       \u001b[0m | \u001b[0m 0.8333  \u001b[0m | \u001b[0m 0.1208  \u001b[0m | \u001b[0m 0.1     \u001b[0m | \u001b[0m 8.454   \u001b[0m |\n",
      "| \u001b[0m 10      \u001b[0m | \u001b[0m 0.9167  \u001b[0m | \u001b[0m 0.5     \u001b[0m | \u001b[0m 0.1     \u001b[0m | \u001b[0m 19.99   \u001b[0m |\n",
      "| \u001b[0m 11      \u001b[0m | \u001b[0m 0.9167  \u001b[0m | \u001b[0m 0.412   \u001b[0m | \u001b[0m 0.1     \u001b[0m | \u001b[0m 19.57   \u001b[0m |\n",
      "| \u001b[0m 12      \u001b[0m | \u001b[0m 0.9167  \u001b[0m | \u001b[0m 0.1     \u001b[0m | \u001b[0m 0.1512  \u001b[0m | \u001b[0m 14.61   \u001b[0m |\n",
      "| \u001b[0m 13      \u001b[0m | \u001b[0m 0.9167  \u001b[0m | \u001b[0m 0.4883  \u001b[0m | \u001b[0m 0.6341  \u001b[0m | \u001b[0m 14.99   \u001b[0m |\n",
      "| \u001b[0m 14      \u001b[0m | \u001b[0m 0.9167  \u001b[0m | \u001b[0m 0.4977  \u001b[0m | \u001b[0m 0.3153  \u001b[0m | \u001b[0m 14.2    \u001b[0m |\n",
      "| \u001b[0m 15      \u001b[0m | \u001b[0m 0.9167  \u001b[0m | \u001b[0m 0.5     \u001b[0m | \u001b[0m 0.1     \u001b[0m | \u001b[0m 9.401   \u001b[0m |\n",
      "| \u001b[0m 16      \u001b[0m | \u001b[0m 0.6667  \u001b[0m | \u001b[0m 0.2233  \u001b[0m | \u001b[0m 0.7889  \u001b[0m | \u001b[0m 7.314   \u001b[0m |\n",
      "| \u001b[0m 17      \u001b[0m | \u001b[0m 0.9167  \u001b[0m | \u001b[0m 0.5     \u001b[0m | \u001b[0m 0.1     \u001b[0m | \u001b[0m 10.26   \u001b[0m |\n",
      "| \u001b[0m 18      \u001b[0m | \u001b[0m 0.9167  \u001b[0m | \u001b[0m 0.4942  \u001b[0m | \u001b[0m 0.6357  \u001b[0m | \u001b[0m 15.0    \u001b[0m |\n",
      "| \u001b[0m 19      \u001b[0m | \u001b[0m 0.4167  \u001b[0m | \u001b[0m 0.1     \u001b[0m | \u001b[0m 0.8739  \u001b[0m | \u001b[0m 10.1    \u001b[0m |\n",
      "| \u001b[0m 20      \u001b[0m | \u001b[0m 0.9167  \u001b[0m | \u001b[0m 0.5     \u001b[0m | \u001b[0m 0.1     \u001b[0m | \u001b[0m 11.18   \u001b[0m |\n",
      "| \u001b[0m 21      \u001b[0m | \u001b[0m 0.7917  \u001b[0m | \u001b[0m 0.452   \u001b[0m | \u001b[0m 0.169   \u001b[0m | \u001b[0m 6.028   \u001b[0m |\n",
      "| \u001b[0m 22      \u001b[0m | \u001b[0m 0.9167  \u001b[0m | \u001b[0m 0.1     \u001b[0m | \u001b[0m 0.1     \u001b[0m | \u001b[0m 15.41   \u001b[0m |\n",
      "| \u001b[0m 23      \u001b[0m | \u001b[0m 0.4167  \u001b[0m | \u001b[0m 0.47    \u001b[0m | \u001b[0m 0.88    \u001b[0m | \u001b[0m 11.56   \u001b[0m |\n",
      "| \u001b[0m 24      \u001b[0m | \u001b[0m 0.9167  \u001b[0m | \u001b[0m 0.5     \u001b[0m | \u001b[0m 0.1     \u001b[0m | \u001b[0m 17.42   \u001b[0m |\n",
      "| \u001b[0m 25      \u001b[0m | \u001b[0m 0.6667  \u001b[0m | \u001b[0m 0.486   \u001b[0m | \u001b[0m 0.8622  \u001b[0m | \u001b[0m 17.48   \u001b[0m |\n",
      "| \u001b[0m 26      \u001b[0m | \u001b[0m 0.9167  \u001b[0m | \u001b[0m 0.1081  \u001b[0m | \u001b[0m 0.1052  \u001b[0m | \u001b[0m 16.8    \u001b[0m |\n",
      "| \u001b[0m 27      \u001b[0m | \u001b[0m 0.9167  \u001b[0m | \u001b[0m 0.489   \u001b[0m | \u001b[0m 0.1199  \u001b[0m | \u001b[0m 16.04   \u001b[0m |\n",
      "| \u001b[0m 28      \u001b[0m | \u001b[0m 0.9167  \u001b[0m | \u001b[0m 0.1     \u001b[0m | \u001b[0m 0.1     \u001b[0m | \u001b[0m 13.75   \u001b[0m |\n",
      "| \u001b[0m 29      \u001b[0m | \u001b[0m 0.4167  \u001b[0m | \u001b[0m 0.5     \u001b[0m | \u001b[0m 0.9     \u001b[0m | \u001b[0m 20.0    \u001b[0m |\n",
      "| \u001b[0m 30      \u001b[0m | \u001b[0m 0.4167  \u001b[0m | \u001b[0m 0.5     \u001b[0m | \u001b[0m 0.9     \u001b[0m | \u001b[0m 13.82   \u001b[0m |\n",
      "| \u001b[0m 31      \u001b[0m | \u001b[0m 0.4167  \u001b[0m | \u001b[0m 0.1     \u001b[0m | \u001b[0m 0.9     \u001b[0m | \u001b[0m 15.23   \u001b[0m |\n",
      "| \u001b[0m 32      \u001b[0m | \u001b[0m 0.9167  \u001b[0m | \u001b[0m 0.5     \u001b[0m | \u001b[0m 0.1     \u001b[0m | \u001b[0m 15.02   \u001b[0m |\n",
      "| \u001b[0m 33      \u001b[0m | \u001b[0m 0.8333  \u001b[0m | \u001b[0m 0.1     \u001b[0m | \u001b[0m 0.1     \u001b[0m | \u001b[0m 10.78   \u001b[0m |\n",
      "| \u001b[0m 34      \u001b[0m | \u001b[0m 0.9167  \u001b[0m | \u001b[0m 0.499   \u001b[0m | \u001b[0m 0.1136  \u001b[0m | \u001b[0m 16.67   \u001b[0m |\n",
      "| \u001b[0m 35      \u001b[0m | \u001b[0m 0.9167  \u001b[0m | \u001b[0m 0.1     \u001b[0m | \u001b[0m 0.1     \u001b[0m | \u001b[0m 17.89   \u001b[0m |\n",
      "=============================================================\n",
      "\n",
      "\n",
      "Final result: The optimal model's score is 0.9166666666666666 and the optimal parameters are n_estimators=8, min_samples_split=0.22481491235394924 and max_features=0.3394633936788146\n"
     ]
    }
   ],
   "source": [
    "# Get the time that the optimization started\n",
    "start_time = datetime.now().strftime(\"%H:%M:%S\")\n",
    "\n",
    "# Boundaries of the hyperparameters\n",
    "params = {\"n_estimators\": (6,20), \"min_samples_split\": (0.1,0.9), \"max_features\": (0.1, 0.5)}\n",
    "\n",
    "# Optimization\n",
    "rf_optimum = bo.optimize_rf(params)\n",
    "\n",
    "# Get the time that the optimization ended\n",
    "end_time = datetime.now().strftime(\"%H:%M:%S\")"
   ]
  },
  {
   "cell_type": "code",
   "execution_count": 22,
   "metadata": {
    "scrolled": true
   },
   "outputs": [
    {
     "name": "stdout",
     "output_type": "stream",
     "text": [
      "Minutes to execute: 0.07\n"
     ]
    }
   ],
   "source": [
    "print('Minutes to execute:', \n",
    "      round((datetime.strptime(end_time, '%H:%M:%S') - datetime.strptime(start_time, '%H:%M:%S')).seconds/60,2))"
   ]
  },
  {
   "cell_type": "markdown",
   "metadata": {},
   "source": [
    "Step 5: Test model's performance (on the testing set)"
   ]
  },
  {
   "cell_type": "code",
   "execution_count": 23,
   "metadata": {},
   "outputs": [],
   "source": [
    "# Declare the model\n",
    "clf = RandomForestClassifier(n_estimators=rf_optimum['params']['n_estimators'], max_features=rf_optimum['params']['max_features'], min_samples_split=rf_optimum['params']['min_samples_split'],  random_state=42)\n",
    "\n",
    "# Train the model on training data\n",
    "clf.fit(train, train_labels);"
   ]
  },
  {
   "cell_type": "markdown",
   "metadata": {},
   "source": [
    "###### Metrics on the Training set"
   ]
  },
  {
   "cell_type": "code",
   "execution_count": 24,
   "metadata": {},
   "outputs": [],
   "source": [
    "# Use the model's predict method \n",
    "predictions = clf.predict(train)"
   ]
  },
  {
   "cell_type": "code",
   "execution_count": 25,
   "metadata": {},
   "outputs": [
    {
     "name": "stdout",
     "output_type": "stream",
     "text": [
      "RF's training accuracy: 1.0\n"
     ]
    }
   ],
   "source": [
    "# Print the training accuracy\n",
    "print(\"RF's training accuracy:\", accuracy_score(train_labels, predictions))"
   ]
  },
  {
   "cell_type": "code",
   "execution_count": 26,
   "metadata": {},
   "outputs": [
    {
     "name": "stdout",
     "output_type": "stream",
     "text": [
      "              precision    recall  f1-score   support\n",
      "\n",
      "           0       1.00      1.00      1.00         5\n",
      "           1       1.00      1.00      1.00         5\n",
      "\n",
      "    accuracy                           1.00        10\n",
      "   macro avg       1.00      1.00      1.00        10\n",
      "weighted avg       1.00      1.00      1.00        10\n",
      "\n"
     ]
    }
   ],
   "source": [
    "# Print the classification report\n",
    "print(classification_report(train_labels,predictions))"
   ]
  },
  {
   "cell_type": "code",
   "execution_count": 27,
   "metadata": {},
   "outputs": [
    {
     "name": "stdout",
     "output_type": "stream",
     "text": [
      "Confusion Matrix:\n",
      "5 | 0\n",
      "-----\n",
      "0 | 5\n"
     ]
    }
   ],
   "source": [
    "cm = confusion_matrix(train_labels,predictions)\n",
    "print('Confusion Matrix:')\n",
    "print(cm[0][0],'|',cm[0][1])\n",
    "print('-----')\n",
    "print(cm[1][0],'|',cm[1][1])"
   ]
  },
  {
   "cell_type": "code",
   "execution_count": 28,
   "metadata": {},
   "outputs": [
    {
     "name": "stdout",
     "output_type": "stream",
     "text": [
      "Specificity: 1.0\n",
      "Sensitivity: 1.0\n"
     ]
    }
   ],
   "source": [
    "tn, fp, fn, tp = confusion_matrix(train_labels,predictions).ravel()\n",
    "specificity = tn / (tn + fp)\n",
    "sensitivity = tp / (tp + fn)\n",
    "print('Specificity:',specificity)\n",
    "print('Sensitivity:',sensitivity)"
   ]
  },
  {
   "cell_type": "code",
   "execution_count": 29,
   "metadata": {},
   "outputs": [
    {
     "name": "stdout",
     "output_type": "stream",
     "text": [
      "MCC: 1.0\n"
     ]
    }
   ],
   "source": [
    "# Print the MCC\n",
    "print('MCC:', matthews_corrcoef(train_labels,predictions))"
   ]
  },
  {
   "cell_type": "code",
   "execution_count": 30,
   "metadata": {},
   "outputs": [
    {
     "name": "stdout",
     "output_type": "stream",
     "text": [
      "List of scores: [1.         0.66666667 1.         1.        ]\n",
      "Mean of Cross Validtation: 0.9166666666666666\n"
     ]
    }
   ],
   "source": [
    "#Print the Cross-Validation Score\n",
    "scores = cross_val_score(clf, train, train_labels, cv=4)\n",
    "\n",
    "print('List of scores:', scores)\n",
    "print('Mean of Cross Validtation:', scores.mean())"
   ]
  },
  {
   "cell_type": "markdown",
   "metadata": {},
   "source": [
    "#### 3rd iteration"
   ]
  },
  {
   "cell_type": "markdown",
   "metadata": {},
   "source": [
    "Get the features' importance"
   ]
  },
  {
   "cell_type": "code",
   "execution_count": 31,
   "metadata": {
    "scrolled": false
   },
   "outputs": [
    {
     "name": "stdout",
     "output_type": "stream",
     "text": [
      "Variable: Purity (%)           Importance: 0.302\n",
      "Variable: Length ave. (nm)     Importance: 0.286\n",
      "Variable: Zave (12.5 ug/ml)    Importance: 0.143\n",
      "Variable: ROS                  Importance: 0.143\n",
      "Variable: Endotoxins (EU/mg)   Importance: 0.079\n",
      "Variable: PdI  (12.5 ug/ml)    Importance: 0.048\n",
      "Variable: Zave  (200 ug/ml)    Importance: 0.0\n"
     ]
    }
   ],
   "source": [
    "# Get numerical feature importances and feature names\n",
    "importances = list(clf.feature_importances_)\n",
    "feature_list = list(train.columns)\n",
    "\n",
    "# List of tuples with variable and importance\n",
    "feature_importances = [(feature, round(importance, 3)) for feature, importance in zip(feature_list, importances)]\n",
    "\n",
    "# Sort the feature importances by most important first\n",
    "feature_importances = sorted(feature_importances, key = lambda x: x[1], reverse = True)\n",
    "\n",
    "# Print out the feature and importances \n",
    "[print('Variable: {:20} Importance: {}'.format(*pair)) for pair in feature_importances];"
   ]
  },
  {
   "cell_type": "markdown",
   "metadata": {},
   "source": [
    "Exclude features with zero importance"
   ]
  },
  {
   "cell_type": "code",
   "execution_count": 32,
   "metadata": {
    "scrolled": true
   },
   "outputs": [
    {
     "data": {
      "text/html": [
       "<div>\n",
       "<style scoped>\n",
       "    .dataframe tbody tr th:only-of-type {\n",
       "        vertical-align: middle;\n",
       "    }\n",
       "\n",
       "    .dataframe tbody tr th {\n",
       "        vertical-align: top;\n",
       "    }\n",
       "\n",
       "    .dataframe thead th {\n",
       "        text-align: right;\n",
       "    }\n",
       "</style>\n",
       "<table border=\"1\" class=\"dataframe\">\n",
       "  <thead>\n",
       "    <tr style=\"text-align: right;\">\n",
       "      <th></th>\n",
       "      <th>Length ave. (nm)</th>\n",
       "      <th>Purity (%)</th>\n",
       "      <th>Zave (12.5 ug/ml)</th>\n",
       "      <th>PdI  (12.5 ug/ml)</th>\n",
       "      <th>ROS</th>\n",
       "      <th>Endotoxins (EU/mg)</th>\n",
       "    </tr>\n",
       "  </thead>\n",
       "  <tbody>\n",
       "    <tr>\n",
       "      <th>2</th>\n",
       "      <td>0.039432</td>\n",
       "      <td>1.000000</td>\n",
       "      <td>0.014556</td>\n",
       "      <td>0.097879</td>\n",
       "      <td>0.103896</td>\n",
       "      <td>0.50</td>\n",
       "    </tr>\n",
       "    <tr>\n",
       "      <th>3</th>\n",
       "      <td>0.048716</td>\n",
       "      <td>0.923913</td>\n",
       "      <td>0.000000</td>\n",
       "      <td>0.000000</td>\n",
       "      <td>0.298701</td>\n",
       "      <td>0.48</td>\n",
       "    </tr>\n",
       "    <tr>\n",
       "      <th>4</th>\n",
       "      <td>0.156550</td>\n",
       "      <td>0.934783</td>\n",
       "      <td>0.425036</td>\n",
       "      <td>0.365416</td>\n",
       "      <td>0.220779</td>\n",
       "      <td>0.52</td>\n",
       "    </tr>\n",
       "    <tr>\n",
       "      <th>5</th>\n",
       "      <td>0.199591</td>\n",
       "      <td>0.684783</td>\n",
       "      <td>0.278020</td>\n",
       "      <td>0.363785</td>\n",
       "      <td>0.194805</td>\n",
       "      <td>0.66</td>\n",
       "    </tr>\n",
       "    <tr>\n",
       "      <th>6</th>\n",
       "      <td>0.038274</td>\n",
       "      <td>0.945652</td>\n",
       "      <td>0.659389</td>\n",
       "      <td>0.407830</td>\n",
       "      <td>0.857143</td>\n",
       "      <td>0.36</td>\n",
       "    </tr>\n",
       "  </tbody>\n",
       "</table>\n",
       "</div>"
      ],
      "text/plain": [
       "   Length ave. (nm)   Purity (%)  Zave (12.5 ug/ml)  PdI  (12.5 ug/ml)  \\\n",
       "2           0.039432    1.000000           0.014556           0.097879   \n",
       "3           0.048716    0.923913           0.000000           0.000000   \n",
       "4           0.156550    0.934783           0.425036           0.365416   \n",
       "5           0.199591    0.684783           0.278020           0.363785   \n",
       "6           0.038274    0.945652           0.659389           0.407830   \n",
       "\n",
       "        ROS  Endotoxins (EU/mg)  \n",
       "2  0.103896                0.50  \n",
       "3  0.298701                0.48  \n",
       "4  0.220779                0.52  \n",
       "5  0.194805                0.66  \n",
       "6  0.857143                0.36  "
      ]
     },
     "execution_count": 32,
     "metadata": {},
     "output_type": "execute_result"
    }
   ],
   "source": [
    "for i in range(len(feature_importances)):\n",
    "    if feature_importances[i][1]==0.0:\n",
    "        train.drop(feature_importances[i][0], axis=1, inplace=True)\n",
    "        test.drop(feature_importances[i][0], axis=1, inplace=True)\n",
    "        \n",
    "train.head()"
   ]
  },
  {
   "cell_type": "markdown",
   "metadata": {},
   "source": [
    "Optimize Random Forest"
   ]
  },
  {
   "cell_type": "code",
   "execution_count": 33,
   "metadata": {},
   "outputs": [],
   "source": [
    "bo = BayesOpt(train, train_labels, folds = 4, n_iter=30,log_scaling=False)"
   ]
  },
  {
   "cell_type": "code",
   "execution_count": 34,
   "metadata": {
    "scrolled": false
   },
   "outputs": [
    {
     "name": "stdout",
     "output_type": "stream",
     "text": [
      "|   iter    |  target   | max_fe... | min_sa... | n_esti... |\n",
      "-------------------------------------------------------------\n",
      "| \u001b[0m 1       \u001b[0m | \u001b[0m 0.5     \u001b[0m | \u001b[0m 0.2498  \u001b[0m | \u001b[0m 0.8803  \u001b[0m | \u001b[0m 8.928   \u001b[0m |\n",
      "| \u001b[95m 2       \u001b[0m | \u001b[95m 0.7083  \u001b[0m | \u001b[95m 0.3395  \u001b[0m | \u001b[95m 0.5624  \u001b[0m | \u001b[95m 6.624   \u001b[0m |\n",
      "| \u001b[0m 3       \u001b[0m | \u001b[0m 0.4167  \u001b[0m | \u001b[0m 0.1232  \u001b[0m | \u001b[0m 0.8465  \u001b[0m | \u001b[0m 8.404   \u001b[0m |\n",
      "| \u001b[95m 4       \u001b[0m | \u001b[95m 0.8333  \u001b[0m | \u001b[95m 0.3832  \u001b[0m | \u001b[95m 0.5082  \u001b[0m | \u001b[95m 9.88    \u001b[0m |\n",
      "| \u001b[0m 5       \u001b[0m | \u001b[0m 0.625   \u001b[0m | \u001b[0m 0.433   \u001b[0m | \u001b[0m 0.5849  \u001b[0m | \u001b[0m 6.727   \u001b[0m |\n",
      "| \u001b[0m 6       \u001b[0m | \u001b[0m 0.5     \u001b[0m | \u001b[0m 0.5     \u001b[0m | \u001b[0m 0.835   \u001b[0m | \u001b[0m 10.0    \u001b[0m |\n",
      "| \u001b[0m 7       \u001b[0m | \u001b[0m 0.8333  \u001b[0m | \u001b[0m 0.2881  \u001b[0m | \u001b[0m 0.5     \u001b[0m | \u001b[0m 9.782   \u001b[0m |\n",
      "| \u001b[0m 8       \u001b[0m | \u001b[0m 0.8333  \u001b[0m | \u001b[0m 0.1     \u001b[0m | \u001b[0m 0.5     \u001b[0m | \u001b[0m 10.0    \u001b[0m |\n",
      "| \u001b[0m 9       \u001b[0m | \u001b[0m 0.6667  \u001b[0m | \u001b[0m 0.1     \u001b[0m | \u001b[0m 0.5     \u001b[0m | \u001b[0m 6.133   \u001b[0m |\n",
      "| \u001b[0m 10      \u001b[0m | \u001b[0m 0.5     \u001b[0m | \u001b[0m 0.1     \u001b[0m | \u001b[0m 0.9     \u001b[0m | \u001b[0m 6.482   \u001b[0m |\n",
      "| \u001b[0m 11      \u001b[0m | \u001b[0m 0.8333  \u001b[0m | \u001b[0m 0.5     \u001b[0m | \u001b[0m 0.5     \u001b[0m | \u001b[0m 9.522   \u001b[0m |\n",
      "| \u001b[0m 12      \u001b[0m | \u001b[0m 0.8333  \u001b[0m | \u001b[0m 0.3992  \u001b[0m | \u001b[0m 0.5079  \u001b[0m | \u001b[0m 9.891   \u001b[0m |\n",
      "| \u001b[0m 13      \u001b[0m | \u001b[0m 0.8333  \u001b[0m | \u001b[0m 0.1     \u001b[0m | \u001b[0m 0.5     \u001b[0m | \u001b[0m 9.398   \u001b[0m |\n",
      "| \u001b[0m 14      \u001b[0m | \u001b[0m 0.6667  \u001b[0m | \u001b[0m 0.1289  \u001b[0m | \u001b[0m 0.5071  \u001b[0m | \u001b[0m 7.516   \u001b[0m |\n",
      "| \u001b[0m 15      \u001b[0m | \u001b[0m 0.8333  \u001b[0m | \u001b[0m 0.5     \u001b[0m | \u001b[0m 0.5     \u001b[0m | \u001b[0m 6.0     \u001b[0m |\n",
      "| \u001b[0m 16      \u001b[0m | \u001b[0m 0.4167  \u001b[0m | \u001b[0m 0.2233  \u001b[0m | \u001b[0m 0.8444  \u001b[0m | \u001b[0m 6.375   \u001b[0m |\n",
      "| \u001b[0m 17      \u001b[0m | \u001b[0m 0.5     \u001b[0m | \u001b[0m 0.1005  \u001b[0m | \u001b[0m 0.881   \u001b[0m | \u001b[0m 9.556   \u001b[0m |\n",
      "| \u001b[0m 18      \u001b[0m | \u001b[0m 0.8333  \u001b[0m | \u001b[0m 0.4895  \u001b[0m | \u001b[0m 0.5054  \u001b[0m | \u001b[0m 9.231   \u001b[0m |\n",
      "| \u001b[0m 19      \u001b[0m | \u001b[0m 0.8333  \u001b[0m | \u001b[0m 0.3449  \u001b[0m | \u001b[0m 0.5246  \u001b[0m | \u001b[0m 7.699   \u001b[0m |\n",
      "| \u001b[0m 20      \u001b[0m | \u001b[0m 0.5     \u001b[0m | \u001b[0m 0.5     \u001b[0m | \u001b[0m 0.8909  \u001b[0m | \u001b[0m 7.664   \u001b[0m |\n",
      "| \u001b[0m 21      \u001b[0m | \u001b[0m 0.8333  \u001b[0m | \u001b[0m 0.4856  \u001b[0m | \u001b[0m 0.5201  \u001b[0m | \u001b[0m 8.026   \u001b[0m |\n",
      "| \u001b[0m 22      \u001b[0m | \u001b[0m 0.6667  \u001b[0m | \u001b[0m 0.1939  \u001b[0m | \u001b[0m 0.5103  \u001b[0m | \u001b[0m 7.912   \u001b[0m |\n",
      "| \u001b[0m 23      \u001b[0m | \u001b[0m 0.8333  \u001b[0m | \u001b[0m 0.2345  \u001b[0m | \u001b[0m 0.5233  \u001b[0m | \u001b[0m 9.514   \u001b[0m |\n",
      "| \u001b[0m 24      \u001b[0m | \u001b[0m 0.8333  \u001b[0m | \u001b[0m 0.5     \u001b[0m | \u001b[0m 0.5     \u001b[0m | \u001b[0m 7.486   \u001b[0m |\n",
      "| \u001b[0m 25      \u001b[0m | \u001b[0m 0.6667  \u001b[0m | \u001b[0m 0.1     \u001b[0m | \u001b[0m 0.5     \u001b[0m | \u001b[0m 6.893   \u001b[0m |\n",
      "| \u001b[95m 26      \u001b[0m | \u001b[95m 0.9167  \u001b[0m | \u001b[95m 0.5     \u001b[0m | \u001b[95m 0.5     \u001b[0m | \u001b[95m 8.444   \u001b[0m |\n",
      "| \u001b[0m 27      \u001b[0m | \u001b[0m 0.75    \u001b[0m | \u001b[0m 0.3107  \u001b[0m | \u001b[0m 0.5885  \u001b[0m | \u001b[0m 9.744   \u001b[0m |\n",
      "| \u001b[0m 28      \u001b[0m | \u001b[0m 0.5     \u001b[0m | \u001b[0m 0.1281  \u001b[0m | \u001b[0m 0.8123  \u001b[0m | \u001b[0m 9.49    \u001b[0m |\n",
      "| \u001b[0m 29      \u001b[0m | \u001b[0m 0.9167  \u001b[0m | \u001b[0m 0.5     \u001b[0m | \u001b[0m 0.5     \u001b[0m | \u001b[0m 8.753   \u001b[0m |\n",
      "| \u001b[0m 30      \u001b[0m | \u001b[0m 0.75    \u001b[0m | \u001b[0m 0.2288  \u001b[0m | \u001b[0m 0.5     \u001b[0m | \u001b[0m 8.916   \u001b[0m |\n",
      "| \u001b[0m 31      \u001b[0m | \u001b[0m 0.5833  \u001b[0m | \u001b[0m 0.5     \u001b[0m | \u001b[0m 0.6334  \u001b[0m | \u001b[0m 8.594   \u001b[0m |\n",
      "| \u001b[0m 32      \u001b[0m | \u001b[0m 0.9167  \u001b[0m | \u001b[0m 0.5     \u001b[0m | \u001b[0m 0.5     \u001b[0m | \u001b[0m 8.953   \u001b[0m |\n",
      "| \u001b[0m 33      \u001b[0m | \u001b[0m 0.9167  \u001b[0m | \u001b[0m 0.5     \u001b[0m | \u001b[0m 0.5     \u001b[0m | \u001b[0m 8.261   \u001b[0m |\n",
      "| \u001b[0m 34      \u001b[0m | \u001b[0m 0.8333  \u001b[0m | \u001b[0m 0.5     \u001b[0m | \u001b[0m 0.5     \u001b[0m | \u001b[0m 7.749   \u001b[0m |\n",
      "| \u001b[0m 35      \u001b[0m | \u001b[0m 0.75    \u001b[0m | \u001b[0m 0.331   \u001b[0m | \u001b[0m 0.5     \u001b[0m | \u001b[0m 8.356   \u001b[0m |\n",
      "=============================================================\n",
      "\n",
      "\n",
      "Final result: The optimal model's score is 0.9166666666666666 and the optimal parameters are n_estimators=8, min_samples_split=0.5 and max_features=0.5\n"
     ]
    }
   ],
   "source": [
    "# Get the time that the optimization started\n",
    "start_time = datetime.now().strftime(\"%H:%M:%S\")\n",
    "\n",
    "# Boundaries of the hyperparameters\n",
    "params = {\"n_estimators\": (6,10), \"min_samples_split\": (0.5,0.9), \"max_features\": (0.1, 0.5)}\n",
    "\n",
    "# Optimization\n",
    "rf_optimum = bo.optimize_rf(params)\n",
    "\n",
    "# Get the time that the optimization ended\n",
    "end_time = datetime.now().strftime(\"%H:%M:%S\")"
   ]
  },
  {
   "cell_type": "code",
   "execution_count": 35,
   "metadata": {
    "scrolled": true
   },
   "outputs": [
    {
     "name": "stdout",
     "output_type": "stream",
     "text": [
      "Minutes to execute: 0.07\n"
     ]
    }
   ],
   "source": [
    "print('Minutes to execute:', \n",
    "      round((datetime.strptime(end_time, '%H:%M:%S') - datetime.strptime(start_time, '%H:%M:%S')).seconds/60,2))"
   ]
  },
  {
   "cell_type": "markdown",
   "metadata": {},
   "source": [
    "Step 5: Test model's performance (on the testing set)"
   ]
  },
  {
   "cell_type": "code",
   "execution_count": 36,
   "metadata": {},
   "outputs": [],
   "source": [
    "9# Declare the model\n",
    "clf = RandomForestClassifier(n_estimators=rf_optimum['params']['n_estimators'], max_features=rf_optimum['params']['max_features'], min_samples_split=rf_optimum['params']['min_samples_split'],  random_state=42)\n",
    "\n",
    "# Train the model on training data\n",
    "clf.fit(train, train_labels);"
   ]
  },
  {
   "cell_type": "markdown",
   "metadata": {},
   "source": [
    "###### Metrics on the Training set"
   ]
  },
  {
   "cell_type": "code",
   "execution_count": 37,
   "metadata": {},
   "outputs": [],
   "source": [
    "# Use the model's predict method \n",
    "predictions = clf.predict(train)"
   ]
  },
  {
   "cell_type": "code",
   "execution_count": 38,
   "metadata": {},
   "outputs": [
    {
     "name": "stdout",
     "output_type": "stream",
     "text": [
      "RF's training accuracy: 1.0\n"
     ]
    }
   ],
   "source": [
    "# Print the training accuracy\n",
    "print(\"RF's training accuracy:\", accuracy_score(train_labels, predictions))"
   ]
  },
  {
   "cell_type": "code",
   "execution_count": 39,
   "metadata": {},
   "outputs": [
    {
     "name": "stdout",
     "output_type": "stream",
     "text": [
      "              precision    recall  f1-score   support\n",
      "\n",
      "           0       1.00      1.00      1.00         5\n",
      "           1       1.00      1.00      1.00         5\n",
      "\n",
      "    accuracy                           1.00        10\n",
      "   macro avg       1.00      1.00      1.00        10\n",
      "weighted avg       1.00      1.00      1.00        10\n",
      "\n"
     ]
    }
   ],
   "source": [
    "# Print the classification report\n",
    "print(classification_report(train_labels,predictions))"
   ]
  },
  {
   "cell_type": "code",
   "execution_count": 40,
   "metadata": {},
   "outputs": [
    {
     "name": "stdout",
     "output_type": "stream",
     "text": [
      "Confusion Matrix:\n",
      "5 | 0\n",
      "-----\n",
      "0 | 5\n"
     ]
    }
   ],
   "source": [
    "cm = confusion_matrix(train_labels,predictions)\n",
    "print('Confusion Matrix:')\n",
    "print(cm[0][0],'|',cm[0][1])\n",
    "print('-----')\n",
    "print(cm[1][0],'|',cm[1][1])"
   ]
  },
  {
   "cell_type": "code",
   "execution_count": 41,
   "metadata": {},
   "outputs": [
    {
     "name": "stdout",
     "output_type": "stream",
     "text": [
      "Specificity: 1.0\n",
      "Sensitivity: 1.0\n"
     ]
    }
   ],
   "source": [
    "tn, fp, fn, tp = confusion_matrix(train_labels,predictions).ravel()\n",
    "specificity = tn / (tn + fp)\n",
    "sensitivity = tp / (tp + fn)\n",
    "print('Specificity:',specificity)\n",
    "print('Sensitivity:',sensitivity)"
   ]
  },
  {
   "cell_type": "code",
   "execution_count": 42,
   "metadata": {},
   "outputs": [
    {
     "name": "stdout",
     "output_type": "stream",
     "text": [
      "MCC: 1.0\n"
     ]
    }
   ],
   "source": [
    "# Print the MCC\n",
    "print('MCC:', matthews_corrcoef(train_labels,predictions))"
   ]
  },
  {
   "cell_type": "code",
   "execution_count": 43,
   "metadata": {},
   "outputs": [
    {
     "name": "stdout",
     "output_type": "stream",
     "text": [
      "List of scores: [1.         0.66666667 1.         1.        ]\n",
      "Mean of Cross Validtation: 0.9166666666666666\n"
     ]
    }
   ],
   "source": [
    "#Print the Cross-Validation Score\n",
    "scores = cross_val_score(clf, train, train_labels, cv=4)\n",
    "\n",
    "print('List of scores:', scores)\n",
    "print('Mean of Cross Validtation:', scores.mean())"
   ]
  },
  {
   "cell_type": "markdown",
   "metadata": {},
   "source": [
    "#### 4th iteration"
   ]
  },
  {
   "cell_type": "markdown",
   "metadata": {},
   "source": [
    "Get the features' importance"
   ]
  },
  {
   "cell_type": "code",
   "execution_count": 44,
   "metadata": {
    "scrolled": false
   },
   "outputs": [
    {
     "name": "stdout",
     "output_type": "stream",
     "text": [
      "Variable: Length ave. (nm)     Importance: 0.667\n",
      "Variable: Purity (%)           Importance: 0.167\n",
      "Variable: Zave (12.5 ug/ml)    Importance: 0.167\n",
      "Variable: PdI  (12.5 ug/ml)    Importance: 0.0\n",
      "Variable: ROS                  Importance: 0.0\n",
      "Variable: Endotoxins (EU/mg)   Importance: 0.0\n"
     ]
    }
   ],
   "source": [
    "# Get numerical feature importances and feature names\n",
    "importances = list(clf.feature_importances_)\n",
    "feature_list = list(train.columns)\n",
    "\n",
    "# List of tuples with variable and importance\n",
    "feature_importances = [(feature, round(importance, 3)) for feature, importance in zip(feature_list, importances)]\n",
    "\n",
    "# Sort the feature importances by most important first\n",
    "feature_importances = sorted(feature_importances, key = lambda x: x[1], reverse = True)\n",
    "\n",
    "# Print out the feature and importances \n",
    "[print('Variable: {:20} Importance: {}'.format(*pair)) for pair in feature_importances];"
   ]
  },
  {
   "cell_type": "markdown",
   "metadata": {},
   "source": [
    "Exclude features with zero importance"
   ]
  },
  {
   "cell_type": "code",
   "execution_count": 45,
   "metadata": {
    "scrolled": true
   },
   "outputs": [
    {
     "data": {
      "text/html": [
       "<div>\n",
       "<style scoped>\n",
       "    .dataframe tbody tr th:only-of-type {\n",
       "        vertical-align: middle;\n",
       "    }\n",
       "\n",
       "    .dataframe tbody tr th {\n",
       "        vertical-align: top;\n",
       "    }\n",
       "\n",
       "    .dataframe thead th {\n",
       "        text-align: right;\n",
       "    }\n",
       "</style>\n",
       "<table border=\"1\" class=\"dataframe\">\n",
       "  <thead>\n",
       "    <tr style=\"text-align: right;\">\n",
       "      <th></th>\n",
       "      <th>Length ave. (nm)</th>\n",
       "      <th>Purity (%)</th>\n",
       "      <th>Zave (12.5 ug/ml)</th>\n",
       "    </tr>\n",
       "  </thead>\n",
       "  <tbody>\n",
       "    <tr>\n",
       "      <th>2</th>\n",
       "      <td>0.039432</td>\n",
       "      <td>1.000000</td>\n",
       "      <td>0.014556</td>\n",
       "    </tr>\n",
       "    <tr>\n",
       "      <th>3</th>\n",
       "      <td>0.048716</td>\n",
       "      <td>0.923913</td>\n",
       "      <td>0.000000</td>\n",
       "    </tr>\n",
       "    <tr>\n",
       "      <th>4</th>\n",
       "      <td>0.156550</td>\n",
       "      <td>0.934783</td>\n",
       "      <td>0.425036</td>\n",
       "    </tr>\n",
       "    <tr>\n",
       "      <th>5</th>\n",
       "      <td>0.199591</td>\n",
       "      <td>0.684783</td>\n",
       "      <td>0.278020</td>\n",
       "    </tr>\n",
       "    <tr>\n",
       "      <th>6</th>\n",
       "      <td>0.038274</td>\n",
       "      <td>0.945652</td>\n",
       "      <td>0.659389</td>\n",
       "    </tr>\n",
       "  </tbody>\n",
       "</table>\n",
       "</div>"
      ],
      "text/plain": [
       "   Length ave. (nm)   Purity (%)  Zave (12.5 ug/ml)\n",
       "2           0.039432    1.000000           0.014556\n",
       "3           0.048716    0.923913           0.000000\n",
       "4           0.156550    0.934783           0.425036\n",
       "5           0.199591    0.684783           0.278020\n",
       "6           0.038274    0.945652           0.659389"
      ]
     },
     "execution_count": 45,
     "metadata": {},
     "output_type": "execute_result"
    }
   ],
   "source": [
    "for i in range(len(feature_importances)):\n",
    "    if feature_importances[i][1]==0.0:\n",
    "        train.drop(feature_importances[i][0], axis=1, inplace=True)\n",
    "        test.drop(feature_importances[i][0], axis=1, inplace=True)\n",
    "        \n",
    "train.head()"
   ]
  },
  {
   "cell_type": "markdown",
   "metadata": {},
   "source": [
    "Optimize Random Forest"
   ]
  },
  {
   "cell_type": "code",
   "execution_count": 46,
   "metadata": {},
   "outputs": [],
   "source": [
    "bo = BayesOpt(train, train_labels, folds = 4, n_iter=30,log_scaling=False)"
   ]
  },
  {
   "cell_type": "code",
   "execution_count": 47,
   "metadata": {
    "scrolled": false
   },
   "outputs": [
    {
     "name": "stdout",
     "output_type": "stream",
     "text": [
      "|   iter    |  target   | max_fe... | min_sa... | n_esti... |\n",
      "-------------------------------------------------------------\n",
      "| \u001b[0m 1       \u001b[0m | \u001b[0m 0.6667  \u001b[0m | \u001b[0m 0.3996  \u001b[0m | \u001b[0m 0.8606  \u001b[0m | \u001b[0m 16.25   \u001b[0m |\n",
      "| \u001b[0m 2       \u001b[0m | \u001b[0m 0.625   \u001b[0m | \u001b[0m 0.5789  \u001b[0m | \u001b[0m 0.2248  \u001b[0m | \u001b[0m 8.184   \u001b[0m |\n",
      "| \u001b[95m 3       \u001b[0m | \u001b[95m 0.75    \u001b[0m | \u001b[95m 0.1465  \u001b[0m | \u001b[95m 0.7929  \u001b[0m | \u001b[95m 14.42   \u001b[0m |\n",
      "| \u001b[95m 4       \u001b[0m | \u001b[95m 0.9167  \u001b[0m | \u001b[95m 0.6665  \u001b[0m | \u001b[95m 0.1165  \u001b[0m | \u001b[95m 19.58   \u001b[0m |\n",
      "| \u001b[0m 5       \u001b[0m | \u001b[0m 0.8333  \u001b[0m | \u001b[0m 0.766   \u001b[0m | \u001b[0m 0.2699  \u001b[0m | \u001b[0m 8.546   \u001b[0m |\n",
      "| \u001b[0m 6       \u001b[0m | \u001b[0m 0.8333  \u001b[0m | \u001b[0m 0.8771  \u001b[0m | \u001b[0m 0.6059  \u001b[0m | \u001b[0m 19.8    \u001b[0m |\n",
      "| \u001b[0m 7       \u001b[0m | \u001b[0m 0.5417  \u001b[0m | \u001b[0m 0.2286  \u001b[0m | \u001b[0m 0.4192  \u001b[0m | \u001b[0m 7.211   \u001b[0m |\n",
      "| \u001b[0m 8       \u001b[0m | \u001b[0m 0.5417  \u001b[0m | \u001b[0m 0.3602  \u001b[0m | \u001b[0m 0.4833  \u001b[0m | \u001b[0m 7.999   \u001b[0m |\n",
      "| \u001b[0m 9       \u001b[0m | \u001b[0m 0.9167  \u001b[0m | \u001b[0m 0.1     \u001b[0m | \u001b[0m 0.3515  \u001b[0m | \u001b[0m 19.45   \u001b[0m |\n",
      "| \u001b[0m 10      \u001b[0m | \u001b[0m 0.8333  \u001b[0m | \u001b[0m 0.9     \u001b[0m | \u001b[0m 0.2124  \u001b[0m | \u001b[0m 9.423   \u001b[0m |\n",
      "| \u001b[0m 11      \u001b[0m | \u001b[0m 0.9167  \u001b[0m | \u001b[0m 0.5159  \u001b[0m | \u001b[0m 0.1     \u001b[0m | \u001b[0m 18.71   \u001b[0m |\n",
      "| \u001b[0m 12      \u001b[0m | \u001b[0m 0.4167  \u001b[0m | \u001b[0m 0.1     \u001b[0m | \u001b[0m 0.9     \u001b[0m | \u001b[0m 18.57   \u001b[0m |\n",
      "| \u001b[0m 13      \u001b[0m | \u001b[0m 0.9167  \u001b[0m | \u001b[0m 0.2156  \u001b[0m | \u001b[0m 0.1056  \u001b[0m | \u001b[0m 19.96   \u001b[0m |\n",
      "| \u001b[0m 14      \u001b[0m | \u001b[0m 0.5     \u001b[0m | \u001b[0m 0.1     \u001b[0m | \u001b[0m 0.9     \u001b[0m | \u001b[0m 9.481   \u001b[0m |\n",
      "| \u001b[0m 15      \u001b[0m | \u001b[0m 0.4167  \u001b[0m | \u001b[0m 0.1     \u001b[0m | \u001b[0m 0.8911  \u001b[0m | \u001b[0m 20.0    \u001b[0m |\n",
      "| \u001b[0m 16      \u001b[0m | \u001b[0m 0.4167  \u001b[0m | \u001b[0m 0.3466  \u001b[0m | \u001b[0m 0.7889  \u001b[0m | \u001b[0m 7.314   \u001b[0m |\n",
      "| \u001b[0m 17      \u001b[0m | \u001b[0m 0.8333  \u001b[0m | \u001b[0m 0.8975  \u001b[0m | \u001b[0m 0.3213  \u001b[0m | \u001b[0m 19.07   \u001b[0m |\n",
      "| \u001b[0m 18      \u001b[0m | \u001b[0m 0.8333  \u001b[0m | \u001b[0m 0.3146  \u001b[0m | \u001b[0m 0.3042  \u001b[0m | \u001b[0m 13.06   \u001b[0m |\n",
      "| \u001b[0m 19      \u001b[0m | \u001b[0m 0.9167  \u001b[0m | \u001b[0m 0.5899  \u001b[0m | \u001b[0m 0.1492  \u001b[0m | \u001b[0m 11.95   \u001b[0m |\n",
      "| \u001b[0m 20      \u001b[0m | \u001b[0m 0.8333  \u001b[0m | \u001b[0m 0.9     \u001b[0m | \u001b[0m 0.6257  \u001b[0m | \u001b[0m 12.39   \u001b[0m |\n",
      "| \u001b[0m 21      \u001b[0m | \u001b[0m 0.9167  \u001b[0m | \u001b[0m 0.8566  \u001b[0m | \u001b[0m 0.4611  \u001b[0m | \u001b[0m 18.74   \u001b[0m |\n",
      "| \u001b[0m 22      \u001b[0m | \u001b[0m 0.9167  \u001b[0m | \u001b[0m 0.5651  \u001b[0m | \u001b[0m 0.1145  \u001b[0m | \u001b[0m 11.92   \u001b[0m |\n",
      "| \u001b[0m 23      \u001b[0m | \u001b[0m 0.9167  \u001b[0m | \u001b[0m 0.3691  \u001b[0m | \u001b[0m 0.1465  \u001b[0m | \u001b[0m 18.3    \u001b[0m |\n",
      "| \u001b[0m 24      \u001b[0m | \u001b[0m 0.9167  \u001b[0m | \u001b[0m 0.9     \u001b[0m | \u001b[0m 0.1     \u001b[0m | \u001b[0m 18.06   \u001b[0m |\n",
      "| \u001b[0m 25      \u001b[0m | \u001b[0m 0.5833  \u001b[0m | \u001b[0m 0.1     \u001b[0m | \u001b[0m 0.7764  \u001b[0m | \u001b[0m 11.75   \u001b[0m |\n",
      "| \u001b[0m 26      \u001b[0m | \u001b[0m 0.9167  \u001b[0m | \u001b[0m 0.9     \u001b[0m | \u001b[0m 0.1     \u001b[0m | \u001b[0m 11.23   \u001b[0m |\n",
      "| \u001b[0m 27      \u001b[0m | \u001b[0m 0.9167  \u001b[0m | \u001b[0m 0.9     \u001b[0m | \u001b[0m 0.1     \u001b[0m | \u001b[0m 10.44   \u001b[0m |\n",
      "| \u001b[0m 28      \u001b[0m | \u001b[0m 0.9167  \u001b[0m | \u001b[0m 0.3062  \u001b[0m | \u001b[0m 0.1     \u001b[0m | \u001b[0m 17.39   \u001b[0m |\n",
      "| \u001b[0m 29      \u001b[0m | \u001b[0m 0.75    \u001b[0m | \u001b[0m 0.8978  \u001b[0m | \u001b[0m 0.5882  \u001b[0m | \u001b[0m 17.47   \u001b[0m |\n",
      "| \u001b[0m 30      \u001b[0m | \u001b[0m 0.4167  \u001b[0m | \u001b[0m 0.9     \u001b[0m | \u001b[0m 0.8296  \u001b[0m | \u001b[0m 10.74   \u001b[0m |\n",
      "| \u001b[0m 31      \u001b[0m | \u001b[0m 0.8333  \u001b[0m | \u001b[0m 0.9     \u001b[0m | \u001b[0m 0.1     \u001b[0m | \u001b[0m 13.78   \u001b[0m |\n",
      "| \u001b[0m 32      \u001b[0m | \u001b[0m 0.4167  \u001b[0m | \u001b[0m 0.9     \u001b[0m | \u001b[0m 0.9     \u001b[0m | \u001b[0m 13.42   \u001b[0m |\n",
      "| \u001b[0m 33      \u001b[0m | \u001b[0m 0.8333  \u001b[0m | \u001b[0m 0.9     \u001b[0m | \u001b[0m 0.1     \u001b[0m | \u001b[0m 14.79   \u001b[0m |\n",
      "| \u001b[0m 34      \u001b[0m | \u001b[0m 0.9167  \u001b[0m | \u001b[0m 0.9     \u001b[0m | \u001b[0m 0.1     \u001b[0m | \u001b[0m 12.58   \u001b[0m |\n",
      "| \u001b[0m 35      \u001b[0m | \u001b[0m 0.9167  \u001b[0m | \u001b[0m 0.1144  \u001b[0m | \u001b[0m 0.3567  \u001b[0m | \u001b[0m 19.43   \u001b[0m |\n",
      "=============================================================\n",
      "\n",
      "\n",
      "Final result: The optimal model's score is 0.9166666666666666 and the optimal parameters are n_estimators=19, min_samples_split=0.11646759543664197 and max_features=0.6664580622368363\n"
     ]
    }
   ],
   "source": [
    "# Get the time that the optimization started\n",
    "start_time = datetime.now().strftime(\"%H:%M:%S\")\n",
    "\n",
    "# Boundaries of the hyperparameters\n",
    "params = {\"n_estimators\": (6,20), \"min_samples_split\": (0.1,0.9), \"max_features\": (0.1, 0.9)}\n",
    "\n",
    "# Optimization\n",
    "rf_optimum = bo.optimize_rf(params)\n",
    "\n",
    "# Get the time that the optimization ended\n",
    "end_time = datetime.now().strftime(\"%H:%M:%S\")"
   ]
  },
  {
   "cell_type": "code",
   "execution_count": 48,
   "metadata": {
    "scrolled": true
   },
   "outputs": [
    {
     "name": "stdout",
     "output_type": "stream",
     "text": [
      "Minutes to execute: 0.07\n"
     ]
    }
   ],
   "source": [
    "print('Minutes to execute:', \n",
    "      round((datetime.strptime(end_time, '%H:%M:%S') - datetime.strptime(start_time, '%H:%M:%S')).seconds/60,2))"
   ]
  },
  {
   "cell_type": "markdown",
   "metadata": {},
   "source": [
    "Step 5: Test model's performance (on the testing set)"
   ]
  },
  {
   "cell_type": "code",
   "execution_count": 49,
   "metadata": {},
   "outputs": [],
   "source": [
    "# Declare the model\n",
    "clf = RandomForestClassifier(n_estimators=rf_optimum['params']['n_estimators'], max_features=rf_optimum['params']['max_features'], min_samples_split=rf_optimum['params']['min_samples_split'],  random_state=42)\n",
    "\n",
    "# Train the model on training data\n",
    "clf.fit(train, train_labels);"
   ]
  },
  {
   "cell_type": "markdown",
   "metadata": {},
   "source": [
    "###### Metrics on the Training set"
   ]
  },
  {
   "cell_type": "code",
   "execution_count": 50,
   "metadata": {},
   "outputs": [],
   "source": [
    "# Use the model's predict method \n",
    "predictions = clf.predict(train)"
   ]
  },
  {
   "cell_type": "code",
   "execution_count": 51,
   "metadata": {},
   "outputs": [
    {
     "name": "stdout",
     "output_type": "stream",
     "text": [
      "RF's training accuracy: 1.0\n"
     ]
    }
   ],
   "source": [
    "# Print the training accuracy\n",
    "print(\"RF's training accuracy:\", accuracy_score(train_labels, predictions))"
   ]
  },
  {
   "cell_type": "code",
   "execution_count": 52,
   "metadata": {},
   "outputs": [
    {
     "name": "stdout",
     "output_type": "stream",
     "text": [
      "              precision    recall  f1-score   support\n",
      "\n",
      "           0       1.00      1.00      1.00         5\n",
      "           1       1.00      1.00      1.00         5\n",
      "\n",
      "    accuracy                           1.00        10\n",
      "   macro avg       1.00      1.00      1.00        10\n",
      "weighted avg       1.00      1.00      1.00        10\n",
      "\n"
     ]
    }
   ],
   "source": [
    "# Print the classification report\n",
    "print(classification_report(train_labels,predictions))"
   ]
  },
  {
   "cell_type": "code",
   "execution_count": 53,
   "metadata": {},
   "outputs": [
    {
     "name": "stdout",
     "output_type": "stream",
     "text": [
      "Confusion Matrix:\n",
      "5 | 0\n",
      "-----\n",
      "0 | 5\n"
     ]
    }
   ],
   "source": [
    "cm = confusion_matrix(train_labels,predictions)\n",
    "print('Confusion Matrix:')\n",
    "print(cm[0][0],'|',cm[0][1])\n",
    "print('-----')\n",
    "print(cm[1][0],'|',cm[1][1])"
   ]
  },
  {
   "cell_type": "code",
   "execution_count": 54,
   "metadata": {},
   "outputs": [
    {
     "name": "stdout",
     "output_type": "stream",
     "text": [
      "Specificity: 1.0\n",
      "Sensitivity: 1.0\n"
     ]
    }
   ],
   "source": [
    "tn, fp, fn, tp = confusion_matrix(train_labels,predictions).ravel()\n",
    "specificity = tn / (tn + fp)\n",
    "sensitivity = tp / (tp + fn)\n",
    "print('Specificity:',specificity)\n",
    "print('Sensitivity:',sensitivity)"
   ]
  },
  {
   "cell_type": "code",
   "execution_count": 55,
   "metadata": {},
   "outputs": [
    {
     "name": "stdout",
     "output_type": "stream",
     "text": [
      "MCC: 1.0\n"
     ]
    }
   ],
   "source": [
    "# Print the MCC\n",
    "print('MCC:', matthews_corrcoef(train_labels,predictions))"
   ]
  },
  {
   "cell_type": "code",
   "execution_count": 56,
   "metadata": {},
   "outputs": [
    {
     "name": "stdout",
     "output_type": "stream",
     "text": [
      "List of scores: [1.         0.66666667 1.         1.        ]\n",
      "Mean of Cross Validtation: 0.9166666666666666\n"
     ]
    }
   ],
   "source": [
    "#Print the Cross-Validation Score\n",
    "scores = cross_val_score(clf, train, train_labels, cv=4)\n",
    "\n",
    "print('List of scores:', scores)\n",
    "print('Mean of Cross Validtation:', scores.mean())"
   ]
  },
  {
   "cell_type": "markdown",
   "metadata": {},
   "source": [
    " "
   ]
  },
  {
   "cell_type": "markdown",
   "metadata": {},
   "source": [
    "Below this point of the process the cross validatio score lowers significanlty. Hence, the process terminates here. In the next cells we present some metrics of the final model on the testning set. "
   ]
  },
  {
   "cell_type": "markdown",
   "metadata": {},
   "source": [
    "###### Metrics on the Testing set"
   ]
  },
  {
   "cell_type": "code",
   "execution_count": 57,
   "metadata": {},
   "outputs": [],
   "source": [
    "# Use the model's predict method\n",
    "predictions = clf.predict(test)"
   ]
  },
  {
   "cell_type": "code",
   "execution_count": 58,
   "metadata": {},
   "outputs": [
    {
     "name": "stdout",
     "output_type": "stream",
     "text": [
      "RF's Testing accuracy: 0.8\n"
     ]
    }
   ],
   "source": [
    "# Print the testing accuracy\n",
    "print(\"RF's Testing accuracy:\", accuracy_score(test_labels, predictions))"
   ]
  },
  {
   "cell_type": "code",
   "execution_count": 59,
   "metadata": {},
   "outputs": [
    {
     "name": "stdout",
     "output_type": "stream",
     "text": [
      "              precision    recall  f1-score   support\n",
      "\n",
      "           0       1.00      0.75      0.86         4\n",
      "           1       0.50      1.00      0.67         1\n",
      "\n",
      "    accuracy                           0.80         5\n",
      "   macro avg       0.75      0.88      0.76         5\n",
      "weighted avg       0.90      0.80      0.82         5\n",
      "\n"
     ]
    }
   ],
   "source": [
    "# Print the classification report\n",
    "print(classification_report(test_labels,predictions))"
   ]
  },
  {
   "cell_type": "code",
   "execution_count": 60,
   "metadata": {},
   "outputs": [
    {
     "name": "stdout",
     "output_type": "stream",
     "text": [
      "Confusion Matrix:\n",
      "3 | 1\n",
      "-----\n",
      "0 | 1\n"
     ]
    }
   ],
   "source": [
    "cm = confusion_matrix(test_labels,predictions)\n",
    "print('Confusion Matrix:')\n",
    "print(cm[0][0],'|',cm[0][1])\n",
    "print('-----')\n",
    "print(cm[1][0],'|',cm[1][1])"
   ]
  },
  {
   "cell_type": "code",
   "execution_count": 61,
   "metadata": {},
   "outputs": [
    {
     "name": "stdout",
     "output_type": "stream",
     "text": [
      "Specificity: 0.75\n",
      "Sensitivity: 1.0\n"
     ]
    }
   ],
   "source": [
    "tn, fp, fn, tp = confusion_matrix(test_labels,predictions).ravel()\n",
    "specificity = tn / (tn + fp)\n",
    "sensitivity = tp / (tp + fn)\n",
    "print('Specificity:',specificity)\n",
    "print('Sensitivity:',sensitivity)"
   ]
  },
  {
   "cell_type": "code",
   "execution_count": 62,
   "metadata": {},
   "outputs": [
    {
     "name": "stdout",
     "output_type": "stream",
     "text": [
      "MCC: 0.6123724356957946\n"
     ]
    }
   ],
   "source": [
    "# Print the MCC\n",
    "print('MCC:', matthews_corrcoef(test_labels,predictions))"
   ]
  },
  {
   "cell_type": "markdown",
   "metadata": {},
   "source": [
    "Hence, the final RF model is the above, using 4 features, and the importance of the features is the following "
   ]
  },
  {
   "cell_type": "code",
   "execution_count": 63,
   "metadata": {},
   "outputs": [
    {
     "name": "stdout",
     "output_type": "stream",
     "text": [
      "Variable: Length ave. (nm)     Importance: 0.35670194\n",
      "Variable: Purity (%)           Importance: 0.334766314\n",
      "Variable: Zave (12.5 ug/ml)    Importance: 0.308531746\n"
     ]
    }
   ],
   "source": [
    "# Get numerical feature importances and feature names\n",
    "importances = list(clf.feature_importances_)\n",
    "feature_list = list(train.columns)\n",
    "\n",
    "# List of tuples with variable and importance\n",
    "feature_importances = [(feature, round(importance, 9)) for feature, importance in zip(feature_list, importances)]\n",
    "\n",
    "# Sort the feature importances by most important first\n",
    "feature_importances = sorted(feature_importances, key = lambda x: x[1], reverse = True)\n",
    "\n",
    "# Print out the feature and importances \n",
    "[print('Variable: {:20} Importance: {}'.format(*pair)) for pair in feature_importances];"
   ]
  },
  {
   "cell_type": "markdown",
   "metadata": {},
   "source": [
    "The classification probabilities of the testing samples: "
   ]
  },
  {
   "cell_type": "code",
   "execution_count": 64,
   "metadata": {
    "scrolled": true
   },
   "outputs": [
    {
     "name": "stdout",
     "output_type": "stream",
     "text": [
      "-----------------------------------------------------------------\n",
      "  Sample                                    Prob(0)    Prob(1)\n",
      "-----------------------------------------------------------------\n",
      "NRCWE- 040                               [0.73684211 0.26315789]\n",
      "NRCWE- 041                               [0.73684211 0.26315789]\n",
      "NRCWE- 048                               [0.68421053 0.31578947]\n",
      "NM-401                                   [0.31578947 0.68421053]\n",
      "NM-402                                   [0. 1.]\n"
     ]
    }
   ],
   "source": [
    "print('-----------------------------------------------------------------')\n",
    "print('  Sample                                    Prob(0)    Prob(1)')\n",
    "print('-----------------------------------------------------------------')\n",
    "for i in test.index:\n",
    "    print('{:40} {}'.format(codes[i][:-1],clf.predict_proba(np.array(test.loc[i]).reshape(1, -1))[0]));"
   ]
  },
  {
   "cell_type": "markdown",
   "metadata": {},
   "source": [
    "### Domain of Applicability"
   ]
  },
  {
   "cell_type": "code",
   "execution_count": 65,
   "metadata": {},
   "outputs": [],
   "source": [
    "test_names = [codes[i] for i in test.index]"
   ]
  },
  {
   "cell_type": "code",
   "execution_count": 66,
   "metadata": {},
   "outputs": [
    {
     "name": "stdout",
     "output_type": "stream",
     "text": [
      "The Leverage threshold is: 0.9\n"
     ]
    }
   ],
   "source": [
    "leverage_threshold = 3*train.shape[1]/train.shape[0]\n",
    "print('The Leverage threshold is:', round(leverage_threshold, 2))"
   ]
  },
  {
   "cell_type": "code",
   "execution_count": 67,
   "metadata": {},
   "outputs": [],
   "source": [
    "# Labels are the values we want to predict\n",
    "l_train_labels = np.array(train_labels)\n",
    "l_test_labels = np.array(test_labels)\n",
    "# Convert to numpy array\n",
    "l_test = np.array(test)\n",
    "l_train = np.array(train)"
   ]
  },
  {
   "cell_type": "code",
   "execution_count": 68,
   "metadata": {},
   "outputs": [
    {
     "name": "stdout",
     "output_type": "stream",
     "text": [
      "Sample: NRCWE- 040                               Leverage Value:   0.2    Reliability: reliable            \n",
      "Sample: NRCWE- 041                               Leverage Value:  0.18    Reliability: reliable            \n",
      "Sample: NRCWE- 048                               Leverage Value:  0.33    Reliability: reliable            \n",
      "Sample: NM-401                                   Leverage Value:  0.48    Reliability: reliable            \n",
      "Sample: NM-402                                   Leverage Value:  0.13    Reliability: reliable            \n"
     ]
    }
   ],
   "source": [
    "from numpy.linalg import matrix_power\n",
    "H=list()\n",
    "reliability=list()\n",
    "for i in range(len(l_test)):\n",
    "    H.append(l_test[i].T@(matrix_power(l_train.T@l_train, -1))@l_test[i])\n",
    "    if H[i]<=leverage_threshold:\n",
    "        reliability.append('reliable')\n",
    "    else:\n",
    "        reliability.append('unreliable')\n",
    "\n",
    "LV = [(sample, round(l_val, 2),rely) for sample, l_val, rely in zip(test_codes, H, reliability)]\n",
    "for i in range(len(l_test)):\n",
    "    [print('Sample: {:40} Leverage Value: {:5}    Reliability: {:20}'.format(LV[i][0],LV[i][1],LV[i][2]))];"
   ]
  }
 ],
 "metadata": {
  "kernelspec": {
   "display_name": "Python 3",
   "language": "python",
   "name": "python3"
  },
  "language_info": {
   "codemirror_mode": {
    "name": "ipython",
    "version": 3
   },
   "file_extension": ".py",
   "mimetype": "text/x-python",
   "name": "python",
   "nbconvert_exporter": "python",
   "pygments_lexer": "ipython3",
   "version": "3.8.5"
  }
 },
 "nbformat": 4,
 "nbformat_minor": 2
}
